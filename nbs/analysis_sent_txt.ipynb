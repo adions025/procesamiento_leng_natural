{
 "cells": [
  {
   "cell_type": "markdown",
   "metadata": {},
   "source": [
    "\n",
    "# Procesamiento y análisis de información textual\n",
    "\n",
    "## @author: Adonis González\n",
    "\n",
    "### Index del nb\n",
    "\n",
    "1. **Obtención de datos a partir de información textual**: Búsqueda de términos unipalabra, colocaciones y vectorizaciones de términos.\n",
    "2. **Obtención de datos a partir de recursos externos al texto**: Similitud de significado con Wordnet y ConceptNet.\n",
    "3. **Interpretación de los datos**: Detectar temas.  \n",
    "4. **Predicción**: Clasificación de textos.\n",
    "   "
   ]
  },
  {
   "cell_type": "markdown",
   "metadata": {},
   "source": [
    "## 1. Obtención de datos a partir de información textual\n",
    "\n",
    "Primero, cargamos las librerías necesarias.\n"
   ]
  },
  {
   "cell_type": "code",
   "execution_count": 1,
   "metadata": {},
   "outputs": [
    {
     "name": "stderr",
     "output_type": "stream",
     "text": [
      "[nltk_data] Downloading package stopwords to\n",
      "[nltk_data]     C:\\Users\\adion\\AppData\\Roaming\\nltk_data...\n",
      "[nltk_data]   Package stopwords is already up-to-date!\n"
     ]
    }
   ],
   "source": [
    "import nltk\n",
    "from nltk.corpus import stopwords\n",
    "import pandas as pd\n",
    "import gensim\n",
    "from sklearn.cluster import KMeans\n",
    "import numpy as np\n",
    "import os\n",
    "\n",
    "nltk.download('stopwords')\n",
    "stopwords = stopwords.words('english')"
   ]
  },
  {
   "cell_type": "markdown",
   "metadata": {},
   "source": [
    "Utilizaremos el siguiente dataset ArticlesMarch2018.csv en el directorio /data. Si lo abrís veréis que tiene 15 campos.\n",
    "\n",
    "El contenido principal:\n",
    "\n",
    "<ul><b>Headline</b>: titulares</ul>\n",
    "<ul><b>Snippet</b>: contenido de las noticias encabezadas por los titulares</ul>\n",
    "<ul><b>Keywords</b>: palabras más relevantes de las noticias según sus redactores</ul>\n"
   ]
  },
  {
   "cell_type": "markdown",
   "metadata": {},
   "source": [
    "## Preparación de los datos"
   ]
  },
  {
   "cell_type": "code",
   "execution_count": 2,
   "metadata": {},
   "outputs": [],
   "source": [
    "# cargamos los paths necearios \n",
    "ROOT_DIR = os.path.abspath(\"../\")\n",
    "data_dir = os.path.join(ROOT_DIR, \"data\")\n",
    "\n",
    "article_file = os.path.join(data_dir, \"ArticlesMarch2018.csv\")"
   ]
  },
  {
   "cell_type": "code",
   "execution_count": 3,
   "metadata": {},
   "outputs": [
    {
     "data": {
      "text/html": [
       "<div>\n",
       "<style scoped>\n",
       "    .dataframe tbody tr th:only-of-type {\n",
       "        vertical-align: middle;\n",
       "    }\n",
       "\n",
       "    .dataframe tbody tr th {\n",
       "        vertical-align: top;\n",
       "    }\n",
       "\n",
       "    .dataframe thead th {\n",
       "        text-align: right;\n",
       "    }\n",
       "</style>\n",
       "<table border=\"1\" class=\"dataframe\">\n",
       "  <thead>\n",
       "    <tr style=\"text-align: right;\">\n",
       "      <th></th>\n",
       "      <th>articleID</th>\n",
       "      <th>byline</th>\n",
       "      <th>documentType</th>\n",
       "      <th>headline</th>\n",
       "      <th>keywords</th>\n",
       "      <th>multimedia</th>\n",
       "      <th>newDesk</th>\n",
       "      <th>printPage</th>\n",
       "      <th>pubDate</th>\n",
       "      <th>sectionName</th>\n",
       "      <th>snippet</th>\n",
       "      <th>source</th>\n",
       "      <th>typeOfMaterial</th>\n",
       "      <th>webURL</th>\n",
       "      <th>articleWordCount</th>\n",
       "    </tr>\n",
       "  </thead>\n",
       "  <tbody>\n",
       "    <tr>\n",
       "      <th>0</th>\n",
       "      <td>5a974697410cf7000162e8a4</td>\n",
       "      <td>By BINYAMIN APPELBAUM</td>\n",
       "      <td>article</td>\n",
       "      <td>Virtual Coins, Real Resources</td>\n",
       "      <td>['Bitcoin (Currency)', 'Electric Light and Pow...</td>\n",
       "      <td>1</td>\n",
       "      <td>Business</td>\n",
       "      <td>1</td>\n",
       "      <td>2018-03-01 00:17:22</td>\n",
       "      <td>Economy</td>\n",
       "      <td>America has a productivity problem. One explan...</td>\n",
       "      <td>The New York Times</td>\n",
       "      <td>News</td>\n",
       "      <td>https://www.nytimes.com/2018/02/28/business/ec...</td>\n",
       "      <td>1207</td>\n",
       "    </tr>\n",
       "  </tbody>\n",
       "</table>\n",
       "</div>"
      ],
      "text/plain": [
       "                  articleID                 byline documentType  \\\n",
       "0  5a974697410cf7000162e8a4  By BINYAMIN APPELBAUM      article   \n",
       "\n",
       "                        headline  \\\n",
       "0  Virtual Coins, Real Resources   \n",
       "\n",
       "                                            keywords  multimedia   newDesk  \\\n",
       "0  ['Bitcoin (Currency)', 'Electric Light and Pow...           1  Business   \n",
       "\n",
       "   printPage              pubDate sectionName  \\\n",
       "0          1  2018-03-01 00:17:22     Economy   \n",
       "\n",
       "                                             snippet              source  \\\n",
       "0  America has a productivity problem. One explan...  The New York Times   \n",
       "\n",
       "  typeOfMaterial                                             webURL  \\\n",
       "0           News  https://www.nytimes.com/2018/02/28/business/ec...   \n",
       "\n",
       "   articleWordCount  \n",
       "0              1207  "
      ]
     },
     "execution_count": 3,
     "metadata": {},
     "output_type": "execute_result"
    }
   ],
   "source": [
    "#Transformamos el dataset en un dataframe\n",
    "\n",
    "df= pd.read_csv(article_file)\n",
    "df.head(1)"
   ]
  },
  {
   "cell_type": "code",
   "execution_count": 4,
   "metadata": {},
   "outputs": [
    {
     "name": "stdout",
     "output_type": "stream",
     "text": [
      "========= KEYWORDS ========\n",
      "['bitcoin (currency)', 'electric light and power', 'united states economy', 'labor and jobs', 'productivity', 'united states defense and military forces', 'north korea', 'united states international relations', 'united states politics and government', 'embargoes and sanctions']\n"
     ]
    }
   ],
   "source": [
    "#Concatenemos los valores de los campos headline y snippet para \n",
    "#obtener un texto plano.\n",
    "headline_texts = \" \".join(df.headline.tolist()) #text plano\n",
    "snippet_texts = \" \".join(df.snippet.tolist()) #text plano\n",
    "\n",
    "#Preparamos las keywords\n",
    "keywords = []\n",
    "\n",
    "todelete = ['[', ']', '\\'']\n",
    "\n",
    "for l in df.keywords.tolist():\n",
    "    for td in todelete:\n",
    "        l = l.lower().replace(td, '')\n",
    "    keywords = keywords + l.split(', ')\n",
    "\n",
    "print(\"========= KEYWORDS ========\")\n",
    "print(keywords[:10])\n",
    "\n",
    "#Creamos un corpus a partir del cual haremos entrenamiento de modelos. \n",
    "#Es la unión de los textos del campo \n",
    "#headlines y los textos del campo snippets\n",
    "\n",
    "sentences_for_modelling = df.headline.tolist() + df.headline.tolist() # lista\n"
   ]
  },
  {
   "cell_type": "markdown",
   "metadata": {},
   "source": [
    "## 1.1 Encontramos términos unipalabra\n",
    "\n",
    "Consideramos términos unipalabra a los tokens que empiezan y acaban con un caracter alfabético (e.g: 'casa' (SÍ), @casa (NO), casa26 (NO))</b>"
   ]
  },
  {
   "cell_type": "code",
   "execution_count": 5,
   "metadata": {},
   "outputs": [
    {
     "name": "stderr",
     "output_type": "stream",
     "text": [
      "[nltk_data] Downloading package punkt to\n",
      "[nltk_data]     C:\\Users\\adion\\AppData\\Roaming\\nltk_data...\n",
      "[nltk_data]   Package punkt is already up-to-date!\n"
     ]
    }
   ],
   "source": [
    "import  re\n",
    "from nltk import word_tokenize\n",
    "from collections import Counter\n",
    "nltk.download('punkt')\n",
    "tokens_headline = [w for w in word_tokenize(headline_texts.lower()) if re.match(\"^[a-z]+.*\", w)]\n",
    "tokens_headline = [w for w in tokens_headline if w not in stopwords]\n",
    "\n",
    "tokens_snippet = [w for w in word_tokenize(snippet_texts.lower()) if re.match(\"^[a-z]+.*\", w)]\n",
    "tokens_snippet = [w for w in tokens_snippet if w not in stopwords]\n",
    "\n",
    "# en caso de ser los términos más comunes de headlines o snippet\n",
    "# usamos el método most_common()\n",
    "\n",
    "# hundred_headlines = Counter(tokens_headline).most_common(100)\n",
    "# hundred_snippet = Counter(tokens_snippet).most_common(100)"
   ]
  },
  {
   "cell_type": "code",
   "execution_count": 6,
   "metadata": {},
   "outputs": [
    {
     "name": "stdout",
     "output_type": "stream",
     "text": [
      "['virtual', 'coins', 'real', 'resources', 'u.s.', 'advances', 'military', 'plans', 'north', 'korea', 'mr.', 'trump', 'bad', 'judge', 'erase', 'dissent', 'china', 'bans', 'pooh', 'bear', 'n', 'loans', 'flowed', 'kushner', 'cos.', 'visits', 'white', 'house', 'china', 'envoy', 'intends', 'ease', 'trade', 'tensions', 'president', 'trump', 'contradictory', 'sometimes', 'false', 'comments', 'gun', 'policy', 'lawmakers', 'classic', 'letter', 'puzzle', 'silicon', 'valley', 'disruption', 'australian', 'school', 'assassination', 'gianni', 'versace', 'episode', 'nothing', 'man', 'graduate', 'trevor', 'noah', 'stunned', 'trump', 'turnabout', 'gun', 'control', 'black', 'panther', 'defining', 'moment', 'united', 'states', 'particularly', 'black', 'america', 'unknown', 'pension', 'pensionize', 'savings', 'goodbye', 'pay-as-you-wish', 'u.s.', 'closes', 'door', 'christians', 'fled', 'iran', 'gang', 'fearsome', 'reputation', 'inflated', 'president', 'trial', 'killer', 'widow', 'scared', 'victim', 'abuse', 'cunning', 'accomplice', 'scintillating']\n"
     ]
    }
   ],
   "source": [
    "# imprimimos 100 tokens de headline\n",
    "print(tokens_headline[:100])"
   ]
  },
  {
   "cell_type": "code",
   "execution_count": 7,
   "metadata": {},
   "outputs": [
    {
     "name": "stdout",
     "output_type": "stream",
     "text": [
      "['america', 'productivity', 'problem', 'one', 'explanation', 'may', 'growing', 'use', 'real', 'resources', 'make', 'virtual', 'products', 'american', 'military', 'looking', 'everything', 'troop', 'rotations', 'surveillance', 'casualty', 'evacuations', 'ordered', 'take', 'action', 'north', 'korea', 'guess', 'man', 'model', 'public', 'servant', 'censors', 'swung', 'action', 'mr.', 'xi', 'bid', 'become', 'leader', 'life', 'resurrected', 'memories', 'mao', 'personality', 'cult', 'feverish', 'emotions', 'created', 'apollo', 'private', 'equity', 'firm', 'citigroup', 'made', 'large', 'loans', 'last', 'year', 'family', 'real', 'estate', 'business', 'jared', 'kushner', 'president', 'trump', 'senior', 'adviser', 'china', 'sent', 'top', 'economic', 'adviser', 'united', 'states', 'restore', 'dialogue', 'quash', 'trade', 'war', 'faces', 'long', 'odds', 'president', 'mixed', 'facts', 'falsehoods', 'discussing', 'gun', 'policy', 'potential', 'solutions', 'legislators', 'timothy', 'polin', 'gives', 'us', 'choices', 'susan']\n"
     ]
    }
   ],
   "source": [
    "#imprimimos 100 tokens de snippet\n",
    "print(tokens_snippet[:100])"
   ]
  },
  {
   "cell_type": "code",
   "execution_count": 8,
   "metadata": {},
   "outputs": [
    {
     "name": "stdout",
     "output_type": "stream",
     "text": [
      "Porcentaje de términos unipalabra 31.109051590979302\n"
     ]
    }
   ],
   "source": [
    "# common = []\n",
    "# for i in tokens_headline:\n",
    "#     if i in tokens_snippet:\n",
    "#         common.append(i)\n",
    "# a, b, c = len(tokens_headline), len(tokens_snippet), len(common)\n",
    "# res = c * 100 / (a + b )\n",
    "# print(\"Porcentaje de terminos unipalabra\", res)\n",
    "\n",
    "# usamos el método intersection para calcular el porcentaje de términos\n",
    "# unipalabras que aparecen en el campo snippet y headline.\n",
    "num_snipets = set(tokens_snippet)\n",
    "num_headline = set(tokens_headline)\n",
    "result = num_snipets.intersection(num_headline)\n",
    "result = len(result)/ len(num_snipets)\n",
    "print(\"Porcentaje de términos unipalabra\", result*100)"
   ]
  },
  {
   "cell_type": "markdown",
   "metadata": {},
   "source": [
    "### Conclusiones\n",
    "\n",
    "- Se podría extraer conclusiones pero serían demasiado simples, se debería considerar más términos si se quiere obtener mejores resultados y conclusiones.\n",
    "\n",
    "- Añadiremos la palabra \"us\" ya que además de ser pronombre \"nosotros\" podría causar controversia con \"u.s.\" por lo que las añadiría a la lista de stopwords esta palabra.\n",
    "\n",
    "- La palabra unknown también puede confundirse con un adjetivo/nombre pero parece que corresponde una entrada deconocido en el dataset.\n"
   ]
  },
  {
   "cell_type": "code",
   "execution_count": 9,
   "metadata": {},
   "outputs": [],
   "source": [
    "# añadimos a la lista unknown\n",
    "stopwords.append('unknown')"
   ]
  },
  {
   "cell_type": "markdown",
   "metadata": {},
   "source": [
    "## 1.2 Encontramos colocaciones"
   ]
  },
  {
   "cell_type": "markdown",
   "metadata": {},
   "source": [
    "Calcularemos las colocaciones más relevantes de los <b>snippets</b> según las métricas: <b>PMI</b> y <b>Likehood Ratio</b>"
   ]
  },
  {
   "cell_type": "markdown",
   "metadata": {},
   "source": [
    "Para este apartado, habrá que cargar las librerías siguientes:"
   ]
  },
  {
   "cell_type": "code",
   "execution_count": 10,
   "metadata": {},
   "outputs": [],
   "source": [
    "from nltk import pos_tag, word_tokenize\n",
    "from nltk.collocations import *\n",
    "import re"
   ]
  },
  {
   "cell_type": "code",
   "execution_count": 11,
   "metadata": {},
   "outputs": [
    {
     "name": "stdout",
     "output_type": "stream",
     "text": [
      "Help on class BigramAssocMeasures in module nltk.metrics.association:\n",
      "\n",
      "class BigramAssocMeasures(NgramAssocMeasures)\n",
      " |  A collection of bigram association measures. Each association measure\n",
      " |  is provided as a function with three arguments::\n",
      " |  \n",
      " |      bigram_score_fn(n_ii, (n_ix, n_xi), n_xx)\n",
      " |  \n",
      " |  The arguments constitute the marginals of a contingency table, counting\n",
      " |  the occurrences of particular events in a corpus. The letter i in the\n",
      " |  suffix refers to the appearance of the word in question, while x indicates\n",
      " |  the appearance of any word. Thus, for example:\n",
      " |  \n",
      " |      n_ii counts (w1, w2), i.e. the bigram being scored\n",
      " |      n_ix counts (w1, *)\n",
      " |      n_xi counts (*, w2)\n",
      " |      n_xx counts (*, *), i.e. any bigram\n",
      " |  \n",
      " |  This may be shown with respect to a contingency table::\n",
      " |  \n",
      " |              w1    ~w1\n",
      " |           ------ ------\n",
      " |       w2 | n_ii | n_oi | = n_xi\n",
      " |           ------ ------\n",
      " |      ~w2 | n_io | n_oo |\n",
      " |           ------ ------\n",
      " |           = n_ix        TOTAL = n_xx\n",
      " |  \n",
      " |  Method resolution order:\n",
      " |      BigramAssocMeasures\n",
      " |      NgramAssocMeasures\n",
      " |      builtins.object\n",
      " |  \n",
      " |  Class methods defined here:\n",
      " |  \n",
      " |  chi_sq(n_ii, n_ix_xi_tuple, n_xx) from abc.ABCMeta\n",
      " |      Scores bigrams using chi-square, i.e. phi-sq multiplied by the number\n",
      " |      of bigrams, as in Manning and Schutze 5.3.3.\n",
      " |  \n",
      " |  fisher(*marginals) from abc.ABCMeta\n",
      " |      Scores bigrams using Fisher's Exact Test (Pedersen 1996).  Less\n",
      " |      sensitive to small counts than PMI or Chi Sq, but also more expensive\n",
      " |      to compute. Requires scipy.\n",
      " |  \n",
      " |  phi_sq(*marginals) from abc.ABCMeta\n",
      " |      Scores bigrams using phi-square, the square of the Pearson correlation\n",
      " |      coefficient.\n",
      " |  \n",
      " |  ----------------------------------------------------------------------\n",
      " |  Static methods defined here:\n",
      " |  \n",
      " |  dice(n_ii, n_ix_xi_tuple, n_xx)\n",
      " |      Scores bigrams using Dice's coefficient.\n",
      " |  \n",
      " |  ----------------------------------------------------------------------\n",
      " |  Data and other attributes defined here:\n",
      " |  \n",
      " |  __abstractmethods__ = frozenset()\n",
      " |  \n",
      " |  ----------------------------------------------------------------------\n",
      " |  Class methods inherited from NgramAssocMeasures:\n",
      " |  \n",
      " |  jaccard(*marginals) from abc.ABCMeta\n",
      " |      Scores ngrams using the Jaccard index.\n",
      " |  \n",
      " |  likelihood_ratio(*marginals) from abc.ABCMeta\n",
      " |      Scores ngrams using likelihood ratios as in Manning and Schutze 5.3.4.\n",
      " |  \n",
      " |  pmi(*marginals) from abc.ABCMeta\n",
      " |      Scores ngrams by pointwise mutual information, as in Manning and\n",
      " |      Schutze 5.4.\n",
      " |  \n",
      " |  poisson_stirling(*marginals) from abc.ABCMeta\n",
      " |      Scores ngrams using the Poisson-Stirling measure.\n",
      " |  \n",
      " |  student_t(*marginals) from abc.ABCMeta\n",
      " |      Scores ngrams using Student's t test with independence hypothesis\n",
      " |      for unigrams, as in Manning and Schutze 5.3.1.\n",
      " |  \n",
      " |  ----------------------------------------------------------------------\n",
      " |  Static methods inherited from NgramAssocMeasures:\n",
      " |  \n",
      " |  mi_like(*marginals, **kwargs)\n",
      " |      Scores ngrams using a variant of mutual information. The keyword\n",
      " |      argument power sets an exponent (default 3) for the numerator. No\n",
      " |      logarithm of the result is calculated.\n",
      " |  \n",
      " |  raw_freq(*marginals)\n",
      " |      Scores ngrams by their frequency\n",
      " |  \n",
      " |  ----------------------------------------------------------------------\n",
      " |  Data descriptors inherited from NgramAssocMeasures:\n",
      " |  \n",
      " |  __dict__\n",
      " |      dictionary for instance variables (if defined)\n",
      " |  \n",
      " |  __weakref__\n",
      " |      list of weak references to the object (if defined)\n",
      "\n"
     ]
    }
   ],
   "source": [
    "help(nltk.collocations.BigramAssocMeasures)"
   ]
  },
  {
   "cell_type": "markdown",
   "metadata": {},
   "source": [
    "Computamos los mil mejores bigramas y trigramas a partir de los términos unipalabra."
   ]
  },
  {
   "cell_type": "code",
   "execution_count": 12,
   "metadata": {},
   "outputs": [],
   "source": [
    "from nltk import word_tokenize\n",
    "from nltk.collocations import *\n",
    "\n",
    "bigram_measures = nltk.collocations.BigramAssocMeasures()\n",
    "trigram_measures = nltk.collocations.TrigramAssocMeasures()"
   ]
  },
  {
   "cell_type": "code",
   "execution_count": 13,
   "metadata": {},
   "outputs": [],
   "source": [
    "# se definen las funciones a usar, para dar respuesta tanto a los bigramas como a los \n",
    "# trigramas, se usa la medida PMI para obtener los mejores bi/tri gramas.\n",
    "\n",
    "def get_coll_candidates(tokens):\n",
    "    bigramcandidates = BigramCollocationFinder.from_words(tokens)\n",
    "    trigramcandidates = TrigramCollocationFinder.from_words(tokens)\n",
    "    return bigramcandidates , trigramcandidates\n",
    "\n",
    "def re_filter_candidates(bigram_coll_candidates, trigram_coll_candidates):\n",
    "    bigram_coll_candidates.apply_word_filter(lambda w: (re.match(r'\\W', w)))\n",
    "    trigram_coll_candidates.apply_word_filter(lambda w: (re.match(r'\\W',w)))\n",
    "    return bigram_coll_candidates, trigram_coll_candidates\n",
    "\n",
    "def get_n_best_candidates_pmi(bigram_candidates, trigram_candidates, n_best_collocations):\n",
    "    nbest_bigram_candidates = bigram_candidates.nbest(bigram_measures.pmi,n_best_collocations)\n",
    "    nbest_trigram_candidates = trigram_candidates.nbest(trigram_measures.pmi,n_best_collocations)\n",
    "    return nbest_bigram_candidates, nbest_trigram_candidates\n",
    "\n",
    "def get_best_big_trig_pmi(text, n_best_collocations):\n",
    "    tokens = text\n",
    "    bigram_coll_candidates, trigram_coll_candidates = get_coll_candidates(tokens)\n",
    "    bigram_coll_candidates_filtered, trigram_coll_candidates_filtered = re_filter_candidates(bigram_coll_candidates, \n",
    "                                                                                            trigram_coll_candidates)    \n",
    "    \n",
    "    best_bigrams_cand, best_trigrams_cand = get_n_best_candidates_pmi(bigram_coll_candidates_filtered, \n",
    "                                                                 trigram_coll_candidates_filtered,\n",
    "                                                                 n_best_collocations)\n",
    "    return best_bigrams_cand, best_trigrams_cand"
   ]
  },
  {
   "cell_type": "code",
   "execution_count": 14,
   "metadata": {},
   "outputs": [],
   "source": [
    "# como se comentó la función devuelve dos lista, para los bi/tri gramas\n",
    "# son una listas de tuplas con los valores, se pasa por parametro los 1000 \n",
    "# para obtener esta candidad de nbest.\n",
    "best_bigrams, best_trigrams = get_best_big_trig_pmi(tokens_snippet, 1000)"
   ]
  },
  {
   "cell_type": "code",
   "execution_count": 15,
   "metadata": {},
   "outputs": [
    {
     "name": "stdout",
     "output_type": "stream",
     "text": [
      "num bigrams 1000\n",
      "[('a.r', 'gurney'), ('abbey', 'trappist'), ('abdel', 'fattah'), ('abe', 'cultivated'), ('abloh', 'louis'), ('abusive', 'harassing'), ('accepting', 'bribes'), ('accessible', 'cogent'), ('accounts', 'fake'), ('accusations', 'forthcoming'), ('acknowledge', 'sexting'), ('activity', 'picking'), ('adapted', 'distinguish'), ('add', 'springlike'), ('adhiambo', 'mitchell'), ('adjustment', 'period.'), ('admitted', 'bear'), ('adoption', 'day.'), ('adults', 'inaction'), ('adventure', 'meandering'), ('adversaries', 'eventually'), ('adélie', 'penguins'), ('african-americans', 'heroin'), ('agriculture', 'preventive'), ('aid', 'environment'), ('ailing', 'gianni'), ('aiming', 'roll'), ('aired', 'o.j'), ('airline', 'emphasizing'), ('alan', 'hollinghurst'), ('albert', 'kahn'), ('alberto', 'carvalho'), ('alejandro', 'jodorowsky'), ('alexa', 'katie'), ('alexander', 'nix'), ('allergies', 'eczema'), ('alluring', 'seasonless'), ('aloof', 'uninspiring'), ('amassed', 'autographs'), ('amsterdam', 'explores'), ('andrea', 'carla'), ('angela', 'merkel'), ('ann', 'arbor'), ('anti-anxiety', 'sleep'), ('antihero', 'whistle-blower'), ('antiques', 'dealer'), ('anya', 'kamenetz'), ('appeals', 'friendship'), ('applauding', 'star-spangled'), ('appropriate', 'symbol'), ('arab', 'emirates'), ('arbor', 'renovated'), ('arena-circuit', 'headliner'), ('arguing', 'relaxation'), ('arnaud', 'beltrame'), ('arrange', 'meetings'), ('aspect', 'teen'), ('assumptions', 'suppositions'), ('asylum', 'seekers'), ('atrocious', 'crime.'), ('attempts', 'curtail'), ('attention-seeking', 'antics'), ('au', 'haut'), ('autobiographical', 'memory'), ('autocrat', 'kansas'), ('autographs', 'dating'), ('ava', 'duvernay'), ('avalanches', 'slam'), ('avid', 'bird-watchers'), ('awaiting', 'clue'), ('awol', 'despots'), ('azad', 'politically'), ('b.m.i', 'dust'), ('baby-led', 'weaning'), ('backhand', 'uncorking'), ('backyard', 'rinks'), ('baghdad', 'strained'), ('bait', 'switch'), ('bake', 'bread'), ('balkrishna', 'doshi'), ('banning', 'fur'), ('barbara', 'haskell'), ('barbecue', 'await'), ('barnes', 'covers'), ('bars', 'michelin-starred'), ('bashar', 'al-assad'), ('basing', 'assertion'), ('basked', 'applause'), ('baths', 'judges'), ('beans', 'oxtail'), ('bedford', 'stuyvesant'), ('bedtime', 'throw'), ('behemoth', 'accessible'), ('beltrame', 'traded'), ('benjamin', 'netanyahu'), ('bentley', 'cars'), ('berkeley', 'telegraph'), ('besieged', 'eastern'), ('big-ticket', 'home-improvement'), ('billionaire', 'koch'), ('billions', 'strides'), ('binge', 'borrow'), ('biometric', 'boarding'), ('birthplace', 'blues'), ('blackrock', 'preached'), ('blames', 'low-level'), ('blank', 'check.'), ('blazingly', 'reimagined'), ('blockbusters', 'disappointments'), ('blocking', 'significant'), ('blues', 'timing'), ('boards', 'guides'), ('boasted', 'improvising'), ('bobby', 'vs.'), ('bon', 'jovi'), ('booooring', 'fastball'), ('borrowing', 'binge'), ('boutiques', 'enticing'), ('bouts', 'mountain'), ('bowl', 'porridge'), ('bowlful', 'udon'), ('braintree', 'bermuda'), ('brazilian', 'amassed'), ('breakfast', 'tiffany'), ('breathtaking', 'gamble'), ('bricks', 'mud'), ('broadcom', 'singapore-based'), ('broker', 'repeatedly'), ('brooks', 'barnes'), ('brother', 'rahiem'), ('browser', 'extensions'), ('brushes', 'monastic'), ('bryant', 'neal'), ('buda', 'castle'), ('budding', 'bookworms'), ('buffett', 'jukebox'), ('bump', 'stocks'), ('bumped', 'pre-orders'), ('bunch', 'princesses'), ('bundt', 'scented'), ('bunny', 'bumped'), ('buoyed', 'strengthening'), ('butter', 'cooked'), ('butterscotch', 'dessert'), ('cajoling', 'coercing'), ('calming', 'soul-filling'), ('candidly', 'racist'), ('candor', 'fireable'), ('canker', 'sores'), ('capacity', 'absorb'), ('carefully', 'tread'), ('carla', 'michaels'), ('carles', 'puigdemont'), ('carmen', 'fariña'), ('carrington', 'alejandro'), ('cars', 'royalty'), ('carvalho', 'renounced'), ('carvey', 'impression'), ('carwile', 'viewed'), ('castle', 'turkish-era'), ('castles', 'imposing'), ('casualty', 'evacuations'), ('catalan', 'secession'), ('categories', 'hispanics'), ('caught', 'heartland'), ('caused', 'chilean'), ('cay', 'johnston'), ('celebrations', 'careforce'), ('cells', 'grown-up'), ('centuries', 'full-length'), ('championed', 'manufacturers'), ('chapter', 'long-running'), ('charleston', 'hilltop'), ('charlie', 'morton'), ('chefs', 'embracing'), ('chilling', 'prelude'), ('chinese-americans', 'birthplace'), ('chirlane', 'mccray'), ('christine', 'beshar'), ('christmas', 'wreaths'), ('chunk', 'monthly'), ('citizen', 'rebellions'), ('citrusy', 'flavor'), ('civic', 'engagement.'), ('claes', 'oldenburg'), ('claire', 'muscat'), ('clayton', 'custer'), ('clearance', 'revoked'), ('clem', 'labine'), ('clicks', 'sally'), ('climate-change', 'visionary'), ('clique', 'evangelicals'), ('clocking', 'wearing'), ('clocks', 'whack'), ('clogged', 'roadways'), ('closes', 'banning'), ('cluster', 'munitions'), ('co-workers', 'robot'), ('coal', 'alternative-energy'), ('coals', 'scorn'), ('col.', 'arnaud'), ('cold-weather', 'sunburn'), ('collapses', 'robyn'), ('colleague', 'nods'), ('collections', 'shrink'), ('collisions', 'entanglements'), ('colonial', 'picaresque'), ('coltrane', 'bunion'), ('combination', 'parsnips'), ('comey', 'memoir'), ('comforting', 'shrimp'), ('commemorates', 'agricultural'), ('community.', 'eleven'), ('compassionate', 'release.'), ('competing', 'websites'), ('competitive', 'rocket'), ('competitors', 'airline'), ('complain', 'inconsistency'), ('completed', 'reversal'), ('condition', 'onset'), ('conferring', 'instant'), ('confidante', 'dinner'), ('confirmation', 'drives'), ('connecting', 'mundanities'), ('consistent', 'scheduling'), ('constitute', 'witness'), ('consumed', 'discussions'), ('consuming', 'problematic'), ('contained', 'anticipation'), ('contemporary', 'residences'), ('contenders', 'chockablock'), ('context', 'analysis'), ('controversies', 'surrounding'), ('cooked', 'unsweetened'), ('corbyn', 'left-wing'), ('corporations', 'entrepreneurs'), ('corps', 'tanker'), ('così', 'fan'), ('counselors', 'instructors'), ('cove', 'n.y.'), ('cozy', 'weeknight'), ('crack', 'oscar'), ('crackdowns', 'terrify'), ('cranks', 'nationalists'), ('crashed', 'shortly'), ('creations', 'innovations'), ('criminals', 'born'), ('criticism', 'excitedly'), ('crop', 'contemporary'), ('crossing', 'aegean'), ('crosswords', 'outbreak'), ('cruise', 'skeptic'), ('cult', 'feverish'), ('cupboards', 'cuernavaca'), ('curriculum', 'urges'), ('custom', 'closets'), ('custom-made', 'furniture'), ('damon', 'gulczynski'), ('danced', 'giselle'), ('danger', 'islands'), ('daniel', 'raymon'), ('daring', 'risky'), ('darkest', 'hour.'), ('day.', 'megachurches'), ('deadliest', 'fires'), ('dean', 'supervised'), ('dear', 'madam'), ('dearly.', 'perished'), ('debunking', 'logic'), ('deception', 'betrayal'), ('deepened', 'dubious'), ('deepwater', 'horizon'), ('defamation', 'silencing'), ('defenses', 'rarely'), ('defensiveness', 'terror'), ('deferment', 'yale'), ('del', 'toro'), ('delaine', 'eastin'), ('delays', 'recall'), ('delusional', 'narcissism'), ('demographics', 'violates'), ('denigrated', 'crazy'), ('depart', 'disagreements'), ('deployed', 'iron'), ('deport', 'criminals'), ('deputize', 'jail'), ('der', 'weaves'), ('descended', 'quickly'), ('descending', 'earth'), ('desert', 'merely'), ('designs', 'shoppers'), ('dessert', 'decided'), ('determined', 'lay'), ('devastating', 'blow'), ('device', 'fedex'), ('dharma', 'bums'), ('dictator', 'demands'), ('difficulty', 'breathing'), ('diffuse', 'farther'), ('digenova', 'serve'), ('dine', 'dime'), ('dire', 'existence'), ('directions', 'repaying'), ('dirt-floor', 'schoolhouse'), ('discipline', 'arguing'), ('disclosures', 'improper'), ('discredit', 'complainant'), ('discuss', 'pediatrician'), ('disembodied', 'intellect'), ('disenfranchisement', 'combined'), ('disguised', 'everlasting'), ('disillusionment', 'disenfranchisement'), ('distant', 'conflicts'), ('distinguish', 'retailers'), ('distinguishing', 'low-cost'), ('distressing', 'lessons'), ('distributing', 'performance-enhancing'), ('ditch', 'blew'), ('diversify', 'runways'), ('divisive', 'antihero'), ('donatella', 'larger'), ('doses', 'painkillers'), ('double', 'crosses'), ('dozen', 'venture'), ('drags', 'rolls-royce'), ('dramatically', 'reduced'), ('drawbacks', 'wu-tang'), ('drawn', 'generational'), ('dreamlike', 'sequences'), ('drilling', 'rigs'), ('drinkers', 'cocktails'), ('drove', 'ditch'), ('drunk', 'uncle'), ('dubious', 'mural'), ('dust', 'settled'), ('e.', 'digenova'), ('e.p.a', 'considering'), ('ear', 'horst'), ('earlier', 'incarnations'), ('earnestness', 'salvage'), ('earning', 'wanting'), ('earth', 'second-highest'), ('eastern', 'ghouta'), ('eating', 'poorly'), ('eb-1', 'visa'), ('edouardo', 'jordan'), ('edward', 'albee'), ('effectively', 'motivate'), ('el-sisi', 'cajoling'), ('elitism', 'sexism'), ('elon', 'musk'), ('eluded', 'predecessors'), ('emblem', 'bilingual'), ('embraces', 'sport'), ('emergency', 'fuel'), ('emitting', 'high-decibel'), ('emphasizing', 'in-flight'), ('empower', 'bullies'), ('enclave', 'target'), ('endured', 'evenings'), ('engage', 'dirty'), ('engineered', 'yeast'), ('enjoying', 'radical'), ('enquirer', 'showcase'), ('ensemble', 'piece'), ('entanglements', 'fishing'), ('enterprise', 'commitment'), ('environmental', 'regulations'), ('evangelicals', 'advising'), ('evanston', 'two-bedroom'), ('event', 'interrupted'), ('eventually', 'tire'), ('ever-ebullient', 'arts'), ('everlasting', 'hope'), ('ex-dean', 'michigan'), ('ex-wives', 'girlfriends'), ('excite', 'panic'), ('exclusion', 'whites-only'), ('exercising', 'youngster'), ('exhilarates', 'invigorates'), ('exhilaration', 'ache'), ('expands', 'fandom'), ('expatriate', 'murder'), ('explores', 'fascination'), ('exporter', 'aerospace'), ('exposure', 'bright'), ('express', 'dislike'), ('expressly', 'provision'), ('extensive', 'examination'), ('extra', 'hurdles'), ('exxon', 'mobil'), ('ezersky', 'handily'), ('f.d.a', 'paved'), ('faas', 'longest-serving'), ('facebookland', 'elementary'), ('facial', 'reconstruction'), ('faction', 'fatah'), ('fake', 'made-for-television'), ('famously', 'fickle'), ('fan', 'tutte'), ('fargo', 'equifax'), ('fast-casual', 'lunch'), ('fattah', 'el-sisi'), ('feared', 'twisting'), ('feature', 'innovative'), ('federally', 'subsidized'), ('federica', 'armstrong'), ('federico', 'garcía'), ('fedex', 'shipping'), ('femininity', 'self-image'), ('fennel', 'add'), ('ferry', 'fleet'), ('fields', 'tweak'), ('figure', 'communist'), ('fink', 'blackrock'), ('finn', 'vigeland'), ('first-grade', 'christmas'), ('fisticuffs', 'tough-talking'), ('fit', 'neatly'), ('fits', 'pattern'), ('flavor', 'beer'), ('floods', 'landslides'), ('floor', 'md'), ('flying', 'v'), ('fogarty', 'doug'), ('fool', 'eating'), ('footsteps', 'firearms'), ('for-hire', 'vehicles'), ('forcing', 'ouster'), ('formal', 'announcements'), ('forum', 'firsthand'), ('four-bedroom', 'glen'), ('foxes', 'dramatically'), ('frances', 'mcdormand'), ('fraudulent', 'no-shows'), ('freeman', 'behemoth'), ('freeze', 'oligarchs'), ('frenchette', 'tribeca'), ('fruit', 'pork'), ('fuel', 'shut-off'), ('full-time', 'gig'), ('fully', 'merging'), ('fundamental', 'differences.'), ('fungus', 'vanquished'), ('furious', 'speculation'), ('gaining', 'recognition'), ('gamelike', 'methods'), ('garcía', 'lorca'), ('garfield', 'billions'), ('gas-guzzling', 'commutes'), ('gatekeepers', 'grandparent'), ('gates', 'pleaded'), ('gen', 'z.'), ('gen.', 'h.r'), ('genuine', 'self'), ('geothermal', 'heat'), ('gerald', 'murnane'), ('gianni', 'versace'), ('gibson', 'self-published'), ('gig', 'antithetical'), ('gina', 'kolata'), ('giselle', 'bolshoi'), ('givenchy', 'dressed'), ('glen', 'cove'), ('glory', 'everest'), ('gothic', 'fables'), ('grandmothers', 'molded'), ('gratification', 'long-serving'), ('greenwich', 'conn.'), ('grip', 'predictions'), ('grounded', 'trains'), ('grow', 'smash-mouth'), ('grunt', 'squeal'), ('guaranteed', 'cranks'), ('guardia', 'newark'), ('guillermo', 'del'), ('gun-friendly', 'montana'), ('h', 'zara'), ('h.', 'walsh'), ('h.r', 'mcmaster'), ('hair', 'staub'), ('handily', 'expands'), ('handing', 'automakers'), ('harness', 'passenger'), ('haskell', 'marks'), ('haut', 'maine'), ('hawaii', 'sustainable'), ('heads', 'mouths'), ('healthier', 'biologically'), ('heaping', 'piles'), ('hear', 'feedback'), ('heart-muscle', 'cells'), ('heartland', 'bug'), ('hedge', 'fund'), ('hefty', 'chunk'), ('heightening', 'suspicions'), ('helicopters', 'unnecessary'), ('hell', 'hath'), ('hepburn', 'breakfast'), ('herman', 'bell'), ('heroin', 'cruise'), ('high-decibel', 'grunt'), ('hinder', 'quest'), ('hindi', 'hip-hop'), ('hinton', 'writes'), ('hints', 'retrograde'), ('hip-hop', 'hallucinatory'), ('hispanics', 'arab-americans'), ('historically', 'distant'), ('hoda', 'katebi'), ('hog', 'maw'), ('holocaust', 'nazi'), ('homer', 'repeating'), ('homes', 'corporations'), ('homey', 'combination'), ('honchos', 'nope'), ('honey', 'stuff'), ('hoodie', 'extra-personal'), ('horrific', 'discovery'), ('horse', 'walks'), ('horst', 'faas'), ('hospitals', 'clinics'), ('however', 'fearing'), ('huget', 'double'), ('hummingbird', 'noise'), ('ian', 'austen'), ('idealized', 'simplistic'), ('ignorance', 'mattered'), ('ignore', 'naysayers'), ('ilene', 'rosen'), ('illegally', 'exhumed'), ('illegitimate', 'look-alike'), ('illicitly', 'purchased'), ('imagines', 'climate-change'), ('import', 'quotas'), ('imposing', 'surcharge'), ('impostor', 'cedar-shingled'), ('imprisoned', 'abusing'), ('in-demand', 'reservations'), ('in-flight', 'perks'), ('in-n-out', 'impostor'), ('inaccurate', 'count'), ('inbreeding', 'isolated'), ('incident', 'communists'), ('indecisiveness', 'staffing'), ('indian', 'descent'), ('indie', 'boutiques'), ('individual', 'morality'), ('indoor', 'garden'), ('inequities', 'incarceration'), ('infant', 'infant-mother'), ('inferno', 'valencia'), ('inflation', 'bubble'), ('inflicted', 'burmese'), ('inheritances', 'stepparent'), ('ink', 'paper'), ('inkwell', 'quilled'), ('innovations', 'inspires'), ('innovative', 'submissions'), ('insanity', 'defenses'), ('insect', 'genome'), ('insiders', 'documenting'), ('inspires', 'delights'), ('installment', 'ken'), ('integrated', 'establishments'), ('interconnected', 'delivering'), ('interrupted', 'sweet'), ('invites', 'wallow'), ('involuntary', 'confinement'), ('involves', 'hallmarks'), ('iranians', 'mainly'), ('irresistibly', 'homey'), ('isis', 'militants'), ('islamist', 'terrorism'), ('isolation', 'empower'), ('italian', 'riviera'), ('italians', 'opt'), ('jailed', 'prostitute'), ('jed', 'shafer'), ('jennifer', 'palmieri'), ('jeremy', 'corbyn'), ('jew', 'haters'), ('jewish', 'presence'), ('jim', 'quinlan'), ('jimenez', 'recalls'), ('joan', 'baez'), ('jon', 'bon'), ('jonathan', 'weisman'), ('joojoo', 'azad'), ('jordan', 'locates'), ('josé', 'padilha'), ('journal', 'bought'), ('jovi', 'seth'), ('judged', 'terms'), ('judges', 'appoint'), ('jules', 'woodson'), ('justify', 'inequity'), ('k2', 'keen'), ('kahn', 'endure'), ('ken', 'frazier'), ('kenneth', 'lonergan'), ('kills', 'african-americans'), ('kinder', 'deeply'), ('knack', 'connecting'), ('kurdish', 'militias'), ('l.a.', 'supervisor'), ('l.g.b.t.q', 'africans'), ('laid-back', 'outdoorsy'), ('languish', 'deplorable'), ('larry', 'fink'), ('lars', 'kepler'), ('las', 'vegas'), ('latter-day', 'riff'), ('launch', 'snap'), ('laura', 'braunstein'), ('leak', 'compromised'), ('leaves', 'hungry'), ('legacy', 'drinkers'), ('legend', 'wakefield'), ('legislators', 'timothy'), ('lemon-sugar', 'syrup'), ('length', 'inevitable'), ('lennon', 'twin'), ('leo', 'varadkar'), ('leonora', 'carrington'), ('lever', 'jonathan'), ('lie', 'surface'), ('liev', 'schreiber'), ('limitations', 'hinder'), ('limiting', 'doses'), ('listen', 'silences'), ('lloyd', 'wright'), ('load', 'abuse'), ('lobbying', 'frenzy'), ('lola', 'flash'), ('long-percolating', 'situations'), ('looting', 'kickbacks'), ('lorca', 'poetic'), ('loud', 'drumbeat'), ('louis', 'vuitton'), ('low-cost', 'competitors'), ('lucia', 'relaxing'), ('lucille', 'lush'), ('ludicrous', 'careful'), ('lures', 'well-worn'), ('luxurious', 'conventional'), ('m.r', 'rajagopal'), ('machine', 'co-workers'), ('maddow', 'veteran'), ('madison', 'ind'), ('magda', 'saleh'), ('maida', 'heatter'), ('maine', 'undone'), ('maio', 'meteoric'), ('maligned', 'causing'), ('malts', 'decline'), ('mama', 'satellite'), ('managing', 'partner'), ('mann', 'thousand'), ('manor', 'evanston'), ('manufacturing', 'exporter'), ('marathon', 'soccer'), ('mariachi', 'masquerading'), ('marine', 'corps'), ('martyna', 'majok'), ('martyr', 'deferment'), ('masquerading', 'superintendent.'), ('massive', 'manufacturing'), ('masterpieces', 'spectacle'), ('masterwork', 'blazingly'), ('mastery', 'back-room'), ('matthew', 'sewell'), ('maw', 'pigs'), ('mccann', 'charlie'), ('mechanism', 'josé'), ('medications', 'putting'), ('mediterranean', 'tuna'), ('melissa', 'rosenberg'), ('memories', 'mao'), ('mepkin', 'abbey'), ('merchant', 'codes'), ('merkel', 'pledged'), ('meryl', 'meisler'), ('meteoric', 'improbable'), ('methods', 'effectively'), ('meyer', 'battery'), ('mickey', 'bunch'), ('midwestern', 'earnestness'), ('migrants', 'melissa'), ('mikael', 'owunna'), ('militias', 'tens'), ('mindful', 'washing'), ('minor', 'adventure'), ('minorities', 'applied'), ('mireille', 'knoll'), ('misogyny', 'endured'), ('mitch', 'landrieu'), ('mo.', 'focused'), ('mode', 'monetary'), ('modesto', 'jimenez'), ('mohammed', 'bin'), ('montreal', 'curly'), ('moon', 'jae-in'), ('morton', 'careers'), ('mothers', 'scrambling'), ('muffin', 'doughnut'), ('mull', 'crackdown'), ('multitude', 'environments'), ('mundane', 'movements'), ('mundanities', 'day-to-day'), ('muslims', 'secular'), ('mysterious', 'mendocino'), ('n.r.a', 'ship'), ('n.y.', 'three-bedroom'), ('nadeau-dubois', 'charismatic'), ('nader', 'january'), ('naomi', 'schaefer'), ('narcissism', 'outright'), ('nathan', 'lane'), ('nationalists', 'ascendant'), ('nbc', 'broadcasts'), ('neal', 'vinas'), ('negan', 'attitude'), ('neither', 'idealized'), ('nell', 'scovell'), ('nepal', 'begun'), ('nerddom', 'hell'), ('neville', 'fogarty'), ('newark', 'airports'), ('newman', 'sophomore'), ('nicknamed', 'le'), ('nina', 'riggs'), ('nordic', 'youth'), ('not-too-distant', 'future.'), ('notorious', 'sharply'), ('nursery', 'adoption'), ('o.', 'brennan'), ('o.j', 'simpson'), ('oats', 'toasted'), ('obstacle', 'privatization'), ('offended', 'grown-ups'), ('offload', 'platform'), ('oh', 'tangled'), ('old-house', 'journal'), ('oldenburg', 'pasadena'), ('oligarchs', 'assets'), ('oliver', 'parody'), ('omega-3s', 'probiotics'), ('onassis', 'grace'), ('oodles', 'noodle'), ('openness', 'sober'), ('opens', 'door'), ('opinion', 'antitrust'), ('opt', 'illiberal'), ('opted', 'pursue'), ('orange-inflected', 'sauce'), ('oratory', 'punch'), ('orban', 'hero.'), ('organics', 'pickup'), ('organizational', 'muscle'), ('outdoor', 'hockey'), ('outgrow', 'spaces'), ('outlaw', 'abortion'), ('outlet', 'nbc'), ('overstated', 'contradicted'), ('overstuffed', 'one-man'), ('owed', 'pensions'), ('oxtail', 'plantains'), ('pace', 'manatee'), ('pack', 'upset'), ('paddock', 'las'), ('padilha', 'tackles'), ('paean', 'nerddom'), ('page', 'portraits'), ('pages', 'correspondence'), ('painful', 'limbo'), ('painted', 'lemon-sugar'), ('panic', 'fizzle'), ('pantsuits', 'gowns'), ('papagayo', 'ultrarich'), ('paper', 'loyola'), ('parade', 'win-a-trip'), ('parenting', 'emitting'), ('parsnips', 'potatoes'), ('passenger', 'underneath'), ('passport', 'applicants'), ('pastor', 'highpoint'), ('pattern', 'cronyism'), ('payday', 'lenders'), ('peacefulness', 'tolerance'), ('peculiar', 'painful'), ('pelican', 'spiders'), ('pelosi', 'emboldened'), ('peninsula', 'papagayo'), ('percentage', 'accounts'), ('perfect', 'seasonal'), ('periods', 'involuntary'), ('permanent', 'reduction'), ('picture', 'avalanches'), ('piece', 'baxter'), ('pilot', 'survivor'), ('pine', 'royal'), ('pint-sized', 'appliances'), ('plaintiffs', 'scrutinize'), ('planets', 'orbiting'), ('platforms', 'drilling'), ('plays', 'tug-of-war'), ('pleasantville', 'greek'), ('poetic', 'tragedy'), ('pole', 'soar'), ('politicized', 'backdrop'), ('pompeo', 'currently'), ('poorly', 'fortunately'), ('portraits', 'undergo'), ('possession', 'bump'), ('possessions', 'wondering'), ('possibility', 'overarching'), ('post-christian', 'spirituality'), ('posts', 'lame'), ('pothole', 'epidemic'), ('powerful', 'omega-3s'), ('pre-emptive', 'footsteps'), ('pre-orders', 'james'), ('predatory', 'studio'), ('predictions', 'inches'), ('presented', 'electric-car'), ('prevailing', 'mood'), ('prevented', 'bendelacreme'), ('preventing', 'cold-weather'), ('pride', 'defensiveness'), ('principles', 'germans'), ('prisons', 'skyrocketing'), ('probiotics', 'pregnancy'), ('problematic', 'pop'), ('productive', 'efficient'), ('profoundly', 'pleasurable'), ('prohibiting', 'broadcom'), ('prolific', 'queen'), ('propaganda', 'opportunities'), ('propublica', 'tally'), ('protesters', 'outraged'), ('provided', 'propaganda'), ('provides', 'heaping'), ('psychiatric', 'beds'), ('publishers', 'grappling'), ('punctuated', 'sharp'), ('pure', 'turkishness'), ('pursued', 'false'), ('quebecers', 'newest'), ('quinlan', 'drawls'), ('rabe', 'dramedy'), ('ralph', 'gibson'), ('rania', 'abouzeid'), ('ransomware', 'crippled'), ('rape', 'razed'), ('rapidly', 'evolving'), ('reacquainted', 'uptown'), ('reactions', 'facebookland'), ('reads', 'nina'), ('reality-based', 'portraiture'), ('receive', 'clot-busting'), ('reconstruction', 'fusing'), ('rediscovering', 'juice'), ('reduced', 'inbreeding'), ('reducing', 'railway'), ('refused', 'relinquish'), ('registration', 'database'), ('reimbursed', 'fraudulent'), ('relentless', 'remolding'), ('relentlessly', 'discredit'), ('relies', 'judgment'), ('relinquish', 'grip'), ('renowned', 'albert'), ('rents', 'rising'), ('repeating', 'phrases'), ('representative', 'k.'), ('reputation', 'nickname'), ('requires', 'punishment'), ('reservations', 'adelaide'), ('respects', 'avoiding'), ('restaurateur', 'testified'), ('restrict', 'transactions'), ('resulted', 'seesawing'), ('results', 'shattering'), ('resurrected', 'memories'), ('revelation', 'rocks'), ('revelations', 'deletion'), ('revenge', 'stymied'), ('revered', 'specialties'), ('reviewing', 'recommendation'), ('reviving', 'fading'), ('riad', 'nasr'), ('richardson', 'clayton'), ('ride', 'cozy'), ('riff', 'federico'), ('rigatoni', 'bucatini'), ('rigs', 'gulf'), ('rising', 'vacancies'), ('roasted', 'cauliflower'), ('robyn', 'weintraub'), ('rocket', 'launch'), ('rocks', 'bayer-boatwright'), ('rojava', 'northern'), ('roland', 'huget'), ('rolls-royce', 'bentley'), ('ron', 'goldman'), ('rosselli', 'antiques'), ('rub', 'shoulders'), ('ruin', 'lets'), ('saifullah', 'khan'), ('sake', 'brewery'), ('saladish', 'redefines'), ('saleh', 'danced'), ('sally', 'mann'), ('samuel', 'rodriguez'), ('sanjeev', 'kapoor'), ('sasto', 'contestant'), ('satisfaction', 'self-righteousness'), ('saudis', 'blank'), ('savage', 'pastor'), ('savannah', 'sparrow.'), ('savoring', 'newfound'), ('savvy', 'midwestern'), ('schaefer', 'riley'), ('scheduling', 'produced'), ('scissors', 'bricks'), ('scrap', 'emmanuel'), ('sculptures', 'antiquarian'), ('seeing', 'weaponry'), ('seekers', 'crossing'), ('segregation', 'federally'), ('self', 'simon'), ('self-piloted', 'electric'), ('sellers', 'smoother'), ('sells', 'triplex'), ('separated', 'hundred'), ('sequenced', 'variety'), ('servant', 'censors'), ('setting', 'furious'), ('sewell', 'pup-zle'), ('sexism', 'sixty-one'), ('sexting', 'aspect'), ('shafer', 'october'), ('shandling', 'influential'), ('shanks', 'simmered'), ('shattering', 'myth'), ('sheriffs', 'objection'), ('sheryl', 'sandberg'), ('shinzo', 'abe'), ('ship', 'collisions'), ('shoestring', 'budgets'), ('shortly', 'takeoff'), ('shoulders', 'geniuses'), ('showcase', 'connections'), ('showiness', 'frowned'), ('shrimp', 'grits'), ('shrink', 'bookends'), ('shut', 'eye'), ('shutter', 'june'), ('sickened', 'sergei'), ('sideshow', 'burlesque'), ('sidewalks', 'underheated'), ('sierra', 'nevada'), ('signaling', 'carve-outs'), ('silences', 'awaiting'), ('silencing', 'shouting'), ('simmered', 'paired'), ('simplistic', 'endeavored'), ('siren', 'seduces'), ('size', 'preferences'), ('skies', 'self-piloted'), ('skips', 'debates'), ('slaughter', 'rape'), ('sleep', 'medications'), ('slices', 'fennel'), ('slip', 'cracks'), ('slipping', 'irretrievably'), ('smile', 'pat'), ('smith', 'documented'), ('sneaks', 'diets'), ('sober', 'parenting'), ('soccer', 'match'), ('solution', 'nasa'), ('songwriter', 'major-label'), ('sounding', 'boards'), ('soured', 'additional'), ('spacecraft', 'launched'), ('spark', 'translate'), ('specialty', 'corona'), ('spiders', 'madagascar'), ('spirit', 'patriotic'), ('spiro', 'agnew'), ('sporadic', 'spurts'), ('spot', 'avid'), ('spotting', 'antineutrinos'), ('spouse', 'therapist'), ('springlike', 'crunch'), ('spry', 'winning'), ('staffing', 'mistakes'), ('staggering', 'caseloads')]\n"
     ]
    }
   ],
   "source": [
    "# se imprimen los 1000 mejores bigramas (se entiende que se tiene que imprimir aunque\n",
    "# el documento resultante del jupyter N. pueda quedar extenso)\n",
    "\n",
    "print(\"num bigrams\", len(best_bigrams))\n",
    "print(best_bigrams)"
   ]
  },
  {
   "cell_type": "code",
   "execution_count": 16,
   "metadata": {},
   "outputs": [
    {
     "name": "stdout",
     "output_type": "stream",
     "text": [
      "num bigrams 1000\n",
      "[('abdel', 'fattah', 'el-sisi'), ('abloh', 'louis', 'vuitton'), ('accounts', 'fake', 'made-for-television'), ('acknowledge', 'sexting', 'aspect'), ('adapted', 'distinguish', 'retailers'), ('add', 'springlike', 'crunch'), ('adoption', 'day.', 'megachurches'), ('adversaries', 'eventually', 'tire'), ('african-americans', 'heroin', 'cruise'), ('ailing', 'gianni', 'versace'), ('aired', 'o.j', 'simpson'), ('airline', 'emphasizing', 'in-flight'), ('albert', 'kahn', 'endure'), ('alberto', 'carvalho', 'renounced'), ('amassed', 'autographs', 'dating'), ('amsterdam', 'explores', 'fascination'), ('andrea', 'carla', 'michaels'), ('angela', 'merkel', 'pledged'), ('ann', 'arbor', 'renovated'), ('anti-anxiety', 'sleep', 'medications'), ('arnaud', 'beltrame', 'traded'), ('asylum', 'seekers', 'crossing'), ('au', 'haut', 'maine'), ('b.m.i', 'dust', 'settled'), ('backhand', 'uncorking', 'swirling'), ('barbara', 'haskell', 'marks'), ('baths', 'judges', 'appoint'), ('beans', 'oxtail', 'plantains'), ('behemoth', 'accessible', 'cogent'), ('beltrame', 'traded', 'hostage'), ('bentley', 'cars', 'royalty'), ('besieged', 'eastern', 'ghouta'), ('birthplace', 'blues', 'timing'), ('bobby', 'vs.', 'chuck'), ('bon', 'jovi', 'seth'), ('borrowing', 'binge', 'borrow'), ('bowlful', 'udon', 'noodles'), ('brazilian', 'amassed', 'autographs'), ('breakfast', 'tiffany', 's.'), ('brooks', 'barnes', 'covers'), ('bryant', 'neal', 'vinas'), ('buda', 'castle', 'turkish-era'), ('bumped', 'pre-orders', 'james'), ('bunny', 'bumped', 'pre-orders'), ('butter', 'cooked', 'unsweetened'), ('butterscotch', 'dessert', 'decided'), ('carrington', 'alejandro', 'jodorowsky'), ('castle', 'turkish-era', 'thermal'), ('castles', 'imposing', 'surcharge'), ('categories', 'hispanics', 'arab-americans'), ('caught', 'heartland', 'bug'), ('charlie', 'morton', 'careers'), ('chinese-americans', 'birthplace', 'blues'), ('citrusy', 'flavor', 'beer'), ('claes', 'oldenburg', 'pasadena'), ('clicks', 'sally', 'mann'), ('clique', 'evangelicals', 'advising'), ('clocking', 'wearing', 'mask'), ('closes', 'banning', 'fur'), ('col.', 'arnaud', 'beltrame'), ('cold-weather', 'sunburn', 'rendezvous'), ('collapses', 'robyn', 'weintraub'), ('collections', 'shrink', 'bookends'), ('collisions', 'entanglements', 'fishing'), ('combination', 'parsnips', 'potatoes'), ('comforting', 'shrimp', 'grits'), ('competitive', 'rocket', 'launch'), ('competitors', 'airline', 'emphasizing'), ('connecting', 'mundanities', 'day-to-day'), ('consistent', 'scheduling', 'produced'), ('constitute', 'witness', 'tampering'), ('consuming', 'problematic', 'pop'), ('cooked', 'unsweetened', 'cocoa'), ('corps', 'tanker', 'remembers'), ('così', 'fan', 'tutte'), ('cove', 'n.y.', 'three-bedroom'), ('cozy', 'weeknight', 'supper'), ('cranks', 'nationalists', 'ascendant'), ('crashed', 'shortly', 'takeoff'), ('creations', 'innovations', 'inspires'), ('crop', 'contemporary', 'residences'), ('danced', 'giselle', 'bolshoi'), ('dean', 'supervised', 'disgraced'), ('deepened', 'dubious', 'mural'), ('defamation', 'silencing', 'shouting'), ('defensiveness', 'terror', 'american-style'), ('delusional', 'narcissism', 'outright'), ('deport', 'criminals', 'born'), ('descending', 'earth', 'second-highest'), ('device', 'fedex', 'shipping'), ('discipline', 'arguing', 'relaxation'), ('disguised', 'everlasting', 'hope'), ('disillusionment', 'disenfranchisement', 'combined'), ('distinguishing', 'low-cost', 'competitors'), ('divisive', 'antihero', 'whistle-blower'), ('dozen', 'venture', 'capitalists'), ('drags', 'rolls-royce', 'bentley'), ('dramatically', 'reduced', 'inbreeding'), ('drawbacks', 'wu-tang', 'clan'), ('drilling', 'rigs', 'gulf'), ('drove', 'ditch', 'blew'), ('e.', 'digenova', 'serve'), ('ear', 'horst', 'faas'), ('eating', 'poorly', 'fortunately'), ('edouardo', 'jordan', 'locates'), ('el-sisi', 'cajoling', 'coercing'), ('elitism', 'sexism', 'sixty-one'), ('emergency', 'fuel', 'shut-off'), ('emitting', 'high-decibel', 'grunt'), ('emphasizing', 'in-flight', 'perks'), ('enclave', 'target', 'two-month'), ('engineered', 'yeast', 'produce'), ('enquirer', 'showcase', 'connections'), ('ensemble', 'piece', 'baxter'), ('event', 'interrupted', 'sweet'), ('excite', 'panic', 'fizzle'), ('ezersky', 'handily', 'expands'), ('facial', 'reconstruction', 'fusing'), ('fattah', 'el-sisi', 'cajoling'), ('feature', 'innovative', 'submissions'), ('federico', 'garcía', 'lorca'), ('fennel', 'add', 'springlike'), ('fields', 'tweak', 'mating'), ('fink', 'blackrock', 'preached'), ('finn', 'vigeland', 'rises'), ('first-grade', 'christmas', 'wreaths'), ('fits', 'pattern', 'cronyism'), ('flying', 'v', 'ropes'), ('fool', 'eating', 'poorly'), ('four-bedroom', 'glen', 'cove'), ('foxes', 'dramatically', 'reduced'), ('freeman', 'behemoth', 'accessible'), ('freeze', 'oligarchs', 'assets'), ('frenchette', 'tribeca', 'riad'), ('full-time', 'gig', 'antithetical'), ('fungus', 'vanquished', 'amphibians'), ('gamelike', 'methods', 'effectively'), ('garcía', 'lorca', 'poetic'), ('garfield', 'billions', 'strides'), ('gen.', 'h.r', 'mcmaster'), ('genuine', 'self', 'simon'), ('glen', 'cove', 'n.y.'), ('grip', 'predictions', 'inches'), ('grounded', 'trains', 'canceled'), ('guaranteed', 'cranks', 'nationalists'), ('guardia', 'newark', 'airports'), ('guillermo', 'del', 'toro'), ('h', 'zara', 'hiring'), ('h.', 'walsh', 'knack'), ('handily', 'expands', 'fandom'), ('harness', 'passenger', 'underneath'), ('haut', 'maine', 'undone'), ('heart-muscle', 'cells', 'grown-up'), ('hefty', 'chunk', 'monthly'), ('helicopters', 'unnecessary', 'pollutants'), ('hepburn', 'breakfast', 'tiffany'), ('heroin', 'cruise', 'skeptic'), ('high-decibel', 'grunt', 'squeal'), ('hindi', 'hip-hop', 'hallucinatory'), ('historically', 'distant', 'conflicts'), ('hog', 'maw', 'pigs'), ('homer', 'repeating', 'phrases'), ('homes', 'corporations', 'entrepreneurs'), ('homey', 'combination', 'parsnips'), ('horst', 'faas', 'longest-serving'), ('huget', 'double', 'crosses'), ('idealized', 'simplistic', 'endeavored'), ('imagines', 'climate-change', 'visionary'), ('imposing', 'surcharge', 'per'), ('in-demand', 'reservations', 'adelaide'), ('in-n-out', 'impostor', 'cedar-shingled'), ('indecisiveness', 'staffing', 'mistakes'), ('indie', 'boutiques', 'enticing'), ('inheritances', 'stepparent', 'arkansas'), ('ink', 'paper', 'loyola'), ('innovations', 'inspires', 'delights'), ('insanity', 'defenses', 'rarely'), ('installment', 'ken', 'frazier'), ('interrupted', 'sweet', 'smile'), ('irresistibly', 'homey', 'combination'), ('isolation', 'empower', 'bullies'), ('italians', 'opt', 'illiberal'), ('jed', 'shafer', 'october'), ('jeremy', 'corbyn', 'left-wing'), ('jim', 'quinlan', 'drawls'), ('jon', 'bon', 'jovi'), ('jonathan', 'weisman', 'semitism'), ('joojoo', 'azad', 'politically'), ('josé', 'padilha', 'tackles'), ('jules', 'woodson', 'reacts'), ('kills', 'african-americans', 'heroin'), ('knack', 'connecting', 'mundanities'), ('kurdish', 'militias', 'tens'), ('l.a.', 'supervisor', 'relents'), ('larry', 'fink', 'blackrock'), ('latter-day', 'riff', 'federico'), ('legacy', 'drinkers', 'cocktails'), ('legislators', 'timothy', 'polin'), ('lemon-sugar', 'syrup', 'maida'), ('lennon', 'twin', 'brother'), ('leonora', 'carrington', 'alejandro'), ('lever', 'jonathan', 'weisman'), ('lie', 'surface', 'world-class'), ('limitations', 'hinder', 'quest'), ('limiting', 'doses', 'painkillers'), ('listen', 'silences', 'awaiting'), ('lorca', 'poetic', 'tragedy'), ('low-cost', 'competitors', 'airline'), ('machine', 'co-workers', 'robot'), ('magda', 'saleh', 'danced'), ('maio', 'meteoric', 'improbable'), ('mann', 'thousand', 'crossings'), ('manor', 'evanston', 'two-bedroom'), ('manufacturing', 'exporter', 'aerospace'), ('marathon', 'soccer', 'match'), ('mariachi', 'masquerading', 'superintendent.'), ('marine', 'corps', 'tanker'), ('martyr', 'deferment', 'yale'), ('massive', 'manufacturing', 'exporter'), ('masterwork', 'blazingly', 'reimagined'), ('matthew', 'sewell', 'pup-zle'), ('mccann', 'charlie', 'morton'), ('mechanism', 'josé', 'padilha'), ('mepkin', 'abbey', 'trappist'), ('methods', 'effectively', 'motivate'), ('mickey', 'bunch', 'princesses'), ('midwestern', 'earnestness', 'salvage'), ('migrants', 'melissa', 'rosenberg'), ('minor', 'adventure', 'meandering'), ('misogyny', 'endured', 'evenings'), ('modesto', 'jimenez', 'recalls'), ('n.r.a', 'ship', 'collisions'), ('naomi', 'schaefer', 'riley'), ('neither', 'idealized', 'simplistic'), ('nerddom', 'hell', 'hath'), ('neville', 'fogarty', 'doug'), ('nursery', 'adoption', 'day.'), ('old-house', 'journal', 'bought'), ('omega-3s', 'probiotics', 'pregnancy'), ('openness', 'sober', 'parenting'), ('outlet', 'nbc', 'broadcasts'), ('paddock', 'las', 'vegas'), ('paean', 'nerddom', 'hell'), ('page', 'portraits', 'undergo'), ('painted', 'lemon-sugar', 'syrup'), ('parenting', 'emitting', 'high-decibel'), ('passenger', 'underneath', 'lever'), ('peculiar', 'painful', 'limbo'), ('pelican', 'spiders', 'madagascar'), ('peninsula', 'papagayo', 'ultrarich'), ('percentage', 'accounts', 'fake'), ('periods', 'involuntary', 'confinement'), ('picture', 'avalanches', 'slam'), ('platforms', 'drilling', 'rigs'), ('possession', 'bump', 'stocks'), ('powerful', 'omega-3s', 'probiotics'), ('pre-emptive', 'footsteps', 'firearms'), ('predatory', 'studio', 'honchos'), ('preventing', 'cold-weather', 'sunburn'), ('pride', 'defensiveness', 'terror'), ('prohibiting', 'broadcom', 'singapore-based'), ('provided', 'propaganda', 'opportunities'), ('provides', 'heaping', 'piles'), ('ralph', 'gibson', 'self-published'), ('reactions', 'facebookland', 'elementary'), ('reads', 'nina', 'riggs'), ('reduced', 'inbreeding', 'isolated'), ('refused', 'relinquish', 'grip'), ('reimbursed', 'fraudulent', 'no-shows'), ('relentlessly', 'discredit', 'complainant'), ('relinquish', 'grip', 'predictions'), ('renowned', 'albert', 'kahn'), ('rents', 'rising', 'vacancies'), ('results', 'shattering', 'myth'), ('resurrected', 'memories', 'mao'), ('revelation', 'rocks', 'bayer-boatwright'), ('richardson', 'clayton', 'custer'), ('ride', 'cozy', 'weeknight'), ('riff', 'federico', 'garcía'), ('robyn', 'weintraub', 'plays'), ('rocket', 'launch', 'snap'), ('roland', 'huget', 'double'), ('rolls-royce', 'bentley', 'cars'), ('rosselli', 'antiques', 'dealer'), ('rub', 'shoulders', 'geniuses'), ('saleh', 'danced', 'giselle'), ('sally', 'mann', 'thousand'), ('saudis', 'blank', 'check.'), ('savage', 'pastor', 'highpoint'), ('savvy', 'midwestern', 'earnestness'), ('scissors', 'bricks', 'mud'), ('seekers', 'crossing', 'aegean'), ('segregation', 'federally', 'subsidized'), ('setting', 'furious', 'speculation'), ('sexting', 'aspect', 'teen'), ('shanks', 'simmered', 'paired'), ('shinzo', 'abe', 'cultivated'), ('ship', 'collisions', 'entanglements'), ('silences', 'awaiting', 'clue'), ('skies', 'self-piloted', 'electric'), ('slaughter', 'rape', 'razed'), ('sleep', 'medications', 'putting'), ('slices', 'fennel', 'add'), ('sober', 'parenting', 'emitting'), ('sounding', 'boards', 'guides'), ('spark', 'translate', 'seamlessly'), ('spot', 'avid', 'bird-watchers'), ('spouse', 'therapist', 'urge'), ('stanley', 'broker', 'repeatedly'), ('statue', 'commemorates', 'agricultural'), ('steel-cut', 'oats', 'toasted'), ('stretches', 'sporadic', 'spurts'), ('studio', 'honchos', 'nope'), ('summed', 'prevailing', 'mood'), ('supper', 'roasted', 'cauliflower'), ('sweet', 'smile', 'pat'), ('syrup', 'maida', 'heatter'), ('tart', 'verve', 'depth'), ('tend', 'gatekeepers', 'grandparent'), ('tesla', 'woes', 'coffee'), ('thermal', 'baths', 'judges'), ('thriller', 'lars', 'kepler'), ('tin-pot', 'dictator', 'demands'), ('titles', 'shoestring', 'budgets'), ('treasures', 'lie', 'surface'), ('tribeca', 'riad', 'nasr'), ('trips', 'exercising', 'youngster'), ('trusty', 'lucille', 'lush'), ('tumors', 'damon', 'gulczynski'), ('tunnels', 'mysterious', 'mendocino'), ('turkish-era', 'thermal', 'baths'), ('twin', 'brother', 'rahiem'), ('uncorking', 'swirling', 'roundhouse'), ('underneath', 'lever', 'jonathan'), ('uniquely', 'powerful', 'omega-3s'), ('unpredictable', 'length', 'inevitable'), ('unshakable', 'peacefulness', 'tolerance'), ('unshoveled', 'sidewalks', 'underheated'), ('unto', 'hospitals', 'clinics'), ('upheld', 'showiness', 'frowned'), ('usually', 'involves', 'hallmarks'), ('vainglorious', 'vandalistic', 'vulgar'), ('viktor', 'orban', 'hero.'), ('voices', 'uniquely', 'powerful'), ('volatility', 'contained', 'anticipation'), ('walsh', 'knack', 'connecting'), ('weekiversary', 'posts', 'lame'), ('weeknight', 'supper', 'roasted'), ('weintraub', 'plays', 'tug-of-war'), ('wiesenberg', 'andrea', 'carla'), ('winners', 'rania', 'abouzeid'), ('wisely', 'dozen', 'venture'), ('would-be', 'blockbusters', 'disappointments'), ('wrestled', 'bouts', 'mountain'), ('writings', 'leonora', 'carrington'), ('yulia', 'heightening', 'suspicions'), ('zest', 'painted', 'lemon-sugar'), ('abbey', 'trappist', 'monastery'), ('abortions', 'chancellor', 'angela'), ('absence', 'formal', 'announcements'), ('accepting', 'bribes', 'executives'), ('achieve', 'eluded', 'predecessors'), ('adhiambo', 'mitchell', 'bonded'), ('adopted', 'deepwater', 'horizon'), ('advertise', 'perform', 'abortions'), ('agriculture', 'preventive', 'medicine'), ('al', 'smith', 'documented'), ('alert', 'potentially', 'catastrophic'), ('alexa', 'katie', 'block'), ('alice', 'coltrane', 'bunion'), ('alike', 'tips', 'dine'), ('alluring', 'seasonless', 'vegetarian'), ('animals', 'varying', 'behaviors'), ('anthony', 'conditt', 'drove'), ('antithetical', 'creative', 'pursuits'), ('anxiously', 'worrying', 'criticism'), ('appeal', 'tourists', 'romans'), ('appeal', 'whomever', 'planting'), ('applauding', 'star-spangled', 'banner'), ('appropriation', 'feminist', 'theme'), ('archive', 'vintage', 'slides'), ('argue', 'publishers', 'grappling'), ('arguments', 'individual', 'morality'), ('arms', 'jew', 'haters'), ('ascribing', 'characteristics', 'entire'), ('audrey', 'hepburn', 'breakfast'), ('autocrat', 'kansas', 'courtroom'), ('ava', 'duvernay', 'polarizing'), ('average', 'bowl', 'porridge'), ('baffling', 'diminished', 'suitor'), ('bald', 'eagles', 'crowd'), ('barbecue', 'await', 'visitors'), ('bargaining', 'table', 'opens'), ('barrier', 'creating', 'seminal'), ('based', 'interests', 'demographics'), ('basing', 'assertion', 'inside'), ('battered', 'disclosures', 'improper'), ('bay', 'historically', 'distant'), ('ben', 'richardson', 'clayton'), ('berkeley', 'telegraph', 'avenue'), ('big-ticket', 'home-improvement', 'purchases'), ('billionaire', 'koch', 'brothers'), ('bitter', 'citrusy', 'flavor'), ('blank', 'check.', 'michael'), ('blocked', 'joining', 'nato'), ('bob', 'honey', 'stuff'), ('bob', 'savannah', 'sparrow.'), ('bombings', 'nepal', 'begun'), ('bookends', 'becoming', 'essential'), ('bouts', 'mountain', 'villages'), ('bowl', 'porridge', 'sophisticated'), ('braces', 'surge', 'random'), ('brand', 'overstuffed', 'one-man'), ('breakdown', 'steven', 'spielberg'), ('breed', 'isolation', 'empower'), ('brian', 'mccann', 'charlie'), ('bricks', 'mud', 'pits'), ('bright', 'light', 'bedtime'), ('brilliant', 'rub', 'shoulders'), ('broadcom', 'singapore-based', 'chip'), ('bump', 'stocks', 'funds'), ('bundt', 'scented', 'lemon'), ('candidly', 'racist', 'theories'), ('candor', 'fireable', 'offense'), ('carolina', 'brushes', 'monastic'), ('catastrophic', 'crane', 'accidents'), ('cauliflower', 'meets', 'pasta'), ('celebrating', 'alice', 'coltrane'), ('chancellor', 'alberto', 'carvalho'), ('chancellor', 'angela', 'merkel'), ('characters', 'martyna', 'majok'), ('chased', 'patterns', 'none'), ('check.', 'michael', 'wiesenberg'), ('chemical', 'weapon', 'sickened'), ('chilling', 'prelude', 'massacre'), ('chocolate', 'tart', 'verve'), ('christian', 'minorities', 'applied'), ('christmas', 'wreaths', 'crafted'), ('citing', 'fundamental', 'differences.'), ('claiming', 'gina', 'kolata'), ('clayton', 'custer', 'grew'), ('client', 'secretly', 'filmed'), ('cluster', 'munitions', 'agent'), ('co-op', 'owner', 'wonders'), ('coltrane', 'bunion', 'derby'), ('commemorates', 'agricultural', 'guest'), ('conditt', 'drove', 'ditch'), ('condominium', 'charleston', 'hilltop'), ('consequences', 'mechanism', 'josé'), ('contraception', 'style', 'sparkling'), ('corn', 'grows', 'starchier'), ('corporate', 'structure', 'remembered'), ('crack', 'oscar', 'ceremony'), ('crashes', 'clogged', 'roadways'), ('creative', 'alluring', 'seasonless'), ('crime', 'walt', 'whitman'), ('crimes', 'guillermo', 'del'), ('criticism', 'excitedly', 'welcomed'), ('cross', 'renovation', 'disasters'), ('crowds', 'relatives', 'gathered'), ('cuisine', 'india', 'best-known'), ('cult', 'feverish', 'emotions'), ('curator', 'barbara', 'haskell'), ('curly', 'red', 'hair'), ('damian', 'berlin', 'german'), ('database', 'reveals', 'size'), ('daughter-in-law', 'filed', 'uncontested'), ('davos', 'booooring', 'fastball'), ('dead', 'inferno', 'valencia'), ('deadliest', 'fires', 'meyers'), ('deadlines', 'cost', 'overruns'), ('deals', 'unqualified', 'appointees'), ('deft', 'busy', 'neurosurgeon'), ('delivers', 'profoundly', 'pleasurable'), ('deplorable', 'conditions', 'lesbos'), ('depth', 'hint', 'spice'), ('der', 'weaves', 'bail'), ('descent', 'tries', 'nudge'), ('desert', 'merely', 'brilliant'), ('determined', 'lay', 'waste'), ('dieting', 'organic', 'agriculture'), ('differently', 'finn', 'vigeland'), ('diffuse', 'farther', 'faster'), ('direction', 'laura', 'braunstein'), ('discussion', 'ava', 'duvernay'), ('diseases', 'genes', 'lifestyle'), ('disinformation', 'sustain', 'commercial'), ('dissolving', 'prey', 'catches'), ('door', 'negotiations', 'unpredictable'), ('doses', 'painkillers', 'doctors'), ('drawings', 'creations', 'innovations'), ('drawn', 'generational', 'drama'), ('duke', 'advanced', 'matchup'), ('eager', 'hear', 'feedback'), ('earth', 'second-highest', 'peak'), ('electric', 'planes', 'financed'), ('embattled', 'cabinet', 'secretaries'), ('emblem', 'bilingual', 'multicultural'), ('empowerment', 'post-christian', 'spirituality'), ('empowerment', 'standing', 'indigenous'), ('endangered', 'animals', 'worldwide'), ('endured', 'evenings', 'lively'), ('engage', 'dirty', 'tricks'), ('engaged', 'trolls', 'nobody'), ('environmental', 'regulations', 'adopted'), ('epic', 'borrowing', 'binge'), ('evanston', 'two-bedroom', 'condominium'), ('ex-wives', 'girlfriends', 'bank'), ('exclusive', 'three-day', 'conference'), ('expatriate', 'murder', 'helicopter'), ('experienced', 'organizational', 'muscle'), ('experimental', 'theater', 'negan'), ('explores', 'fascination', 'shaped'), ('exposure', 'bright', 'light'), ('faction', 'fatah', 'blamed'), ('fading', 'domestic', 'industries'), ('farm', 'rows', 'bursting'), ('farther', 'faster', 'broadly'), ('fast-casual', 'lunch', 'counter'), ('featured', 'sumptuous', 'feasts'), ('fedex', 'shipping', 'facility'), ('ferguson', 'mo.', 'focused'), ('fiery', 'essay', 'collection'), ('figure-skating', 'olympic', 'bronze'), ('fireable', 'offense', 'f.b.i.'), ('firearm', 'purchases', 'possession'), ('fleeing', 'slaughter', 'rape'), ('floor', 'md', 'anderson'), ('florentina', 'kosovo', 'damian'), ('flurry', 'exemptions', 'revisions'), ('fogarty', 'doug', 'peterson'), ('formal', 'announcements', 'suggested'), ('frank', 'lloyd', 'wright'), ('frenzy', 'risked', 'undermining'), ('frogs', 'returning', 'decimated'), ('frustration', 'adults', 'inaction'), ('fuel', 'shut-off', 'tripped'), ('fully', 'merging', 'source'), ('gabriel', 'nadeau-dubois', 'charismatic'), ('garbage', 'appropriate', 'symbol'), ('gate', 'biometric', 'boarding'), ('gen', 'z.', 'breakdown'), ('gig', 'antithetical', 'creative'), ('ginger', 'chocolate', 'tart'), ('giving', 'saudis', 'blank'), ('grappling', 'respond', 'cascade'), ('greater', 'capacity', 'absorb'), ('grow', 'smash-mouth', 'liberalism'), ('grows', 'starchier', 'stronger'), ('grunt', 'squeal', 'striking'), ('guards', 'ben', 'richardson'), ('gun-friendly', 'montana', 'walkouts'), ('healthier', 'biologically', 'younger'), ('healthy', 'thoughtfully', 'priced'), ('heaping', 'piles', 'rice'), ('helicopter', 'crashed', 'shortly'), ('highly', 'politicized', 'backdrop'), ('historians', 'fish', 'clearly'), ('hits', 'sierra', 'nevada'), ('holocaust', 'nazi', 'crimes'), ('homemade', 'vegetarian', 'broth'), ('hopes', 'reviving', 'fading'), ('horn', 'africa', 'bracketology'), ('horse', 'walks', 'onto'), ('hour', 'alan', 'hollinghurst'), ('ian', 'austen', 'correspondent'), ('ii', 'victorious', 'powers'), ('illegally', 'exhumed', 'smuggled'), ('imaginative', 'drawings', 'creations'), ('imprisoned', 'abusing', 'gymnasts'), ('inaccurate', 'count', 'cuts'), ('include', 'four-bedroom', 'glen'), ('income', 'segregation', 'federally'), ('increases', 'civic', 'engagement.'), ('indian', 'descent', 'tries'), ('individual', 'morality', 'equation'), ('infected', 'multiple', 'germs'), ('integrate', 'muslims', 'secular'), ('interests', 'demographics', 'violates'), ('internal', 'discussion', 'taliban'), ('interpretation', 'reputation', 'nickname'), ('invites', 'wallow', 'beautiful'), ('involve', 'missed', 'deadlines'), ('involved', 'allowing', 'amateurs'), ('irvine', 'counting', 'bald'), ('isis', 'militants', 'previously'), ('jayhawks', 'beat', 'duke'), ('jazz', 'integrated', 'establishments'), ('jews', 'pilot', 'survivor'), ('jimmy', 'buffett', 'jukebox'), ('jordan', 'locates', 'pleasure'), ('jovi', 'seth', 'meyers'), ('joyful', 'opportunity', 'homer'), ('judged', 'terms', 'characteristics'), ('k.', 'michael', 'conaway'), ('kevin', 'carwile', 'viewed'), ('kevin', 'der', 'weaves'), ('kinder', 'deeply', 'dangerous'), ('koch', 'brothers', 'respite'), ('la', 'guardia', 'newark'), ('la', 'mama', 'satellite'), ('laid-back', 'outdoorsy', 'sophistication'), ('languish', 'deplorable', 'conditions'), ('lars', 'kepler', 'pen'), ('laureate', 'studying', 'oxford'), ('leads', 'pack', 'upset'), ('legally', 'accountable', 'mayhem'), ('lemon', 'zest', 'painted'), ('lempel', 'prolific', 'queen'), ('light', 'bedtime', 'throw'), ('light', 'orange-inflected', 'sauce'), ('linchpin', 'marvel', 'avengers'), ('literary', 'event', 'interrupted'), ('lobbying', 'frenzy', 'risked'), ('loud', 'drumbeat', 'transit'), ('loyola', 'poetry', 'workshop'), ('lt.', 'col.', 'arnaud'), ('lt.', 'gen.', 'h.r'), ('ludicrous', 'careful', 'touch'), ('lures', 'well-worn', 'phrase'), ('madagascar', 'starcity', 'invented'), ('maddow', 'veteran', 'constructor'), ('maine', 'undone', 'moments'), ('majority', 'satisfaction', 'self-righteousness'), ('maligned', 'causing', 'overdoses'), ('mao', 'personality', 'cult'), ('marianne', 'elliott', 'london-born'), ('masterpieces', 'spectacle', 'appeal'), ('maw', 'pigs', 'ears'), ('melissa', 'rosenberg', 'screenwriter'), ('memorably', 'audrey', 'hepburn'), ('memories', 'mao', 'personality'), ('mercy', 'dementia', 'mom'), ('merely', 'brilliant', 'rub'), ('mess', 'jim', 'quinlan'), ('method', 'spotting', 'antineutrinos'), ('michael', 'wiesenberg', 'andrea'), ('mike', 'pompeo', 'currently'), ('militants', 'previously', 'undisclosed'), ('ministers', 'gather', 'argentina'), ('minorities', 'applied', 'refugee'), ('mission', 'ralph', 'gibson'), ('mix', 'pride', 'defensiveness'), ('mixed', 'appeals', 'friendship'), ('monks', 'mepkin', 'abbey'), ('montana', 'walkouts', 'stirred'), ('montreal', 'curly', 'red'), ('mounts', 'moscow', 'interfered'), ('mouth', 'mindful', 'washing'), ('mozart', 'così', 'fan'), ('mud', 'pits', 'drillers'), ('murder', 'helicopter', 'crashed'), ('murray', 'liev', 'schreiber'), ('myth', 'racially', 'pure'), ('narcissism', 'outright', 'winner'), ('nassar', 'imprisoned', 'abusing'), ('negotiations', 'unpredictable', 'length'), ('nell', 'scovell', 'crafted'), ('newman', 'sophomore', 'scored'), ('newsom', 'skips', 'debates'), ('nina', 'riggs', 'essay'), ('noodles', 'quick', 'homemade'), ('notorious', 'sharply', 'increasing'), ('nourishing', 'satisfying', 'meals'), ('obit', 'unsubscribing', 'unwanted'), ('occupation', 'destruction', 'motion'), ('ocean', 'garbage', 'appropriate'), ('offensive', 'designs', 'shoppers'), ('oh', 'tangled', 'web'), ('oliver', 'parody', 'pence'), ('online-grocery', 'sector', 'rivals'), ('opens', 'door', 'negotiations'), ('opportunity', 'homer', 'repeating'), ('organic', 'agriculture', 'preventive'), ('organic', 'youthful', 'grass-roots'), ('organization', 'overstated', 'contradicted'), ('outgrow', 'spaces', 'faster'), ('owed', 'pensions', 'retire'), ('paired', 'light', 'orange-inflected'), ('paper', 'loyola', 'poetry'), ('parsnips', 'potatoes', 'duck'), ('peak', 'k2', 'keen'), ('peek', 'frenchette', 'tribeca'), ('pelosi', 'emboldened', 'moderate'), ('pensions', 'retire', 'fisher'), ('perfect', 'seasonal', 'variation'), ('permanent', 'reduction', 'income'), ('personality', 'cult', 'feverish'), ('pet', 'bunny', 'bumped'), ('photographed', 'l.g.b.t.q', 'africans'), ('phrases', 'seemingly', 'inexorable'), ('physical', 'limitations', 'hinder'), ('piece', 'baxter', 'theater'), ('piles', 'rice', 'beans'), ('planes', 'grounded', 'trains'), ('planets', 'orbiting', 'stars'), ('poet', 'lures', 'well-worn'), ('poetry', 'workshop', 'energized'), ('polarizing', 'paean', 'nerddom'), ('polling', 'surge', 'faded'), ('port', 'authority', 'oversees'), ('portend', 'potentially', 'ominous'), ('portraits', 'undergo', 'interactive'), ('possibly', 'distressing', 'lessons'), ('pot', 'roxanne', 'shante'), ('potatoes', 'duck', 'legs'), ('prints', 'paris', 'dutch'), ('prisons', 'skyrocketing', 'costs'), ('probiotics', 'pregnancy', 'breast-feeding'), ('produce', 'bitter', 'citrusy'), ('productive', 'efficient', 'fun'), ('promoting', 'enterprise', 'commitment'), ('prosecutors', 'declined', 'file'), ('proudly', 'competition', 'steve'), ('publishers', 'grappling', 'respond'), ('purchases', 'possession', 'bump'), ('pure', 'turkishness', 'blue'), ('rachel', 'maddow', 'veteran'), ('racially', 'pure', 'turkishness'), ('ransomware', 'crippled', 'computer'), ('rape', 'razed', 'villages'), ('recipes', 'passover', 'feast'), ('red', 'hair', 'staub'), ('regional', 'revered', 'specialties'), ('registration', 'database', 'reveals'), ('regulations', 'adopted', 'deepwater'), ('relievers', 'relief', 'arthritic'), ('reminded', 'drunk', 'uncle'), ('removing', 'arguments', 'individual'), ('renegotiate', 'nafta', 'sitting'), ('repeating', 'phrases', 'seemingly'), ('representative', 'k.', 'michael'), ('requires', 'punishment', 'equally'), ('reserve', 'buoyed', 'strengthening'), ('respiratory', 'therapy', 'singing'), ('restore', 'dialogue', 'quash'), ('restrict', 'transactions', 'locations'), ('retrospective', 'lola', 'flash'), ('rev', 'samuel', 'rodriguez'), ('reveals', 'size', 'preferences'), ('reviewing', 'recommendation', 'fired'), ('reviving', 'fading', 'domestic'), ('rice', 'beans', 'oxtail'), ('rick', 'gates', 'pleaded'), ('rico', 'word-of-mouth', 'destination'), ('riley', 'parent', 'please'), ('risking', 'swift', 'rejection'), ('roasted', 'cauliflower', 'meets'), ('rodriguez', 'represents', 'singular'), ('rojava', 'northern', 'syria'), ('rotations', 'surveillance', 'casualty'), ('roxanne', 'revenge', 'stymied'), ('sacred', 'sites', 'electronic'), ('safe', 'ride', 'cozy'), ('saladish', 'redefines', 'salad'), ('sam', 'ezersky', 'handily'), ('samuel', 'rodriguez', 'represents'), ('sangiovese', 'wines', 'tuscany'), ('saving', 'glory', 'everest'), ('savoring', 'newfound', 'leverage'), ('scented', 'lemon', 'zest'), ('schaefer', 'riley', 'parent'), ('scovell', 'crafted', 'jokes'), ('scrap', 'emmanuel', 'macron'), ('second-guessing', 'literary', 'event'), ('second-highest', 'peak', 'k2'), ('self', 'simon', 'stone'), ('self-piloted', 'electric', 'planes'), ('sells', 'triplex', 'heritage'), ('sequenced', 'variety', 'genes'), ('servant', 'censors', 'swung'), ('settling', 'seemingly', 'attuned'), ('sexism', 'sixty-one', 'weeks'), ('shady', 'deals', 'incompetence'), ('shandling', 'influential', 'comedian'), ('shattering', 'myth', 'racially'), ('sheriffs', 'objection', 'sanctuary'), ('shifts', 'proved', 'ephemeral'), ('shortly', 'takeoff', 'according'), ('shoulders', 'geniuses', 'anonymous'), ('shrink', 'bookends', 'becoming'), ('shut-off', 'tripped', 'harness'), ('sickened', 'sergei', 'skripal'), ('simmered', 'paired', 'light'), ('simon', 'stone', 'latter-day'), ('simplify', 'corporate', 'structure'), ('singer', 'songwriter', 'major-label'), ('sister', 'donatella', 'larger'), ('slip', 'cracks', 'coordinated'), ('smartphone', 'packed', 'gimmicky'), ('smile', 'pat', 'knee'), ('smith', 'documented', 'heroic'), ('sneak', 'peek', 'frenchette'), ('snowfall', 'hits', 'sierra'), ('soi', 'colorful', 'nook'), ('spain', 'treatment', 'catalan'), ('spectacle', 'appeal', 'tourists'), ('spiders', 'madagascar', 'starcity'), ('spoiler-filled', 'discussion', 'ava'), ('squeal', 'striking', 'backhand'), ('standoff', 'disillusionment', 'disenfranchisement'), ('stereotypes', 'hijab-wearing', 'muslim'), ('steven', 'spielberg', 'epic'), ('stone', 'latter-day', 'riff'), ('strampel', 'ex-dean', 'michigan'), ('strict', 'obama-era', 'pollution'), ('striking', 'backhand', 'uncorking'), ('suitor', 'examples', 'libya'), ('sumptuous', 'uninvolving', 'encores'), ('supplementing', 'breast-feeding', 'formula'), ('surcharge', 'per', 'hour'), ('surveillance', 'casualty', 'evacuations'), ('swirling', 'roundhouse', 'kick'), ('table', 'opens', 'door'), ('tale', 'magda', 'saleh'), ('tangerine', 'ginger', 'chocolate'), ('tenants', 'bigoted', 'neighbors'), ('theater', 'negan', 'attitude'), ('thin', 'slices', 'fennel'), ('threw', 'aside', 'caution'), ('tips', 'dine', 'dime'), ('topic', 'candidly', 'racist'), ('traditions', 'rapidly', 'evolving'), ('train', 'featured', 'sumptuous'), ('transition', 'unsettled', 'utility'), ('treatment', 'catalan', 'secession'), ('tripped', 'harness', 'passenger'), ('tripping', 'arms', 'jew'), ('triumphs', 'organic', 'youthful'), ('trolls', 'nobody', 'reasonably'), ('troop', 'rotations', 'surveillance'), ('trowe', 'adhiambo', 'mitchell'), ('turkeys', 'stir', 'divisions'), ('tweak', 'mating', 'calls'), ('two-bedroom', 'condominium', 'charleston'), ('two-term', 'incumbent', 'tall'), ('types', 'frogs', 'returning'), ('udon', 'noodles', 'quick'), ('unconventional', 'sort', 'respiratory'), ('undergo', 'interactive', 'transformation'), ('underground', 'celebrating', 'alice'), ('undermined', 'indecisiveness', 'staffing'), ('undone', 'moments', 'bolts'), ('unexpected', 'suspicious', 'packages'), ('unwanted', 'physical', 'mail'), ('unwittingly', 'engaged', 'trolls'), ('upended', 'basic', 'principle'), ('uses', 'sideshow', 'burlesque'), ('usual', 'greg', 'puts'), ('v', 'ropes', 'sustain'), ('vacuum', 'mix', 'pride'), ('variation', 'butterscotch', 'dessert'), ('verve', 'depth', 'hint'), ('victorious', 'powers', 'promoted'), ('violating', 'constitution', 'refusing'), ('walks', 'onto', 'freeway'), ('wallow', 'beautiful', 'damned'), ('warn', 'consumers', 'dangers'), ('waters', 'deployed', 'iron'), ('weaken', 'strict', 'obama-era'), ('weapon', 'sickened', 'sergei'), ('weaves', 'bail', 'grown'), ('wells', 'fargo', 'equifax'), ('wield', 'embarked', 'overlooked'), ('willful', 'neglect', 'duty'), ('wilson', 'deft', 'busy'), ('wines', 'tuscany', 'illustrate'), ('wisconsin', 'pending', 'swedish'), ('woes', 'coffee', 'warnings'), ('woodson', 'reacts', 'apology'), ('worrying', 'criticism', 'excitedly'), ('yeast', 'produce', 'bitter'), ('yotam', 'ottolenghi', 'transforms'), ('z.', 'breakdown', 'steven'), ('abusive', 'harassing', 'conduct'), ('accusations', 'forthcoming', 'f.b.i'), ('actor', 'darkest', 'hour.'), ('actual', 'fisticuffs', 'tough-talking'), ('alexander', 'nix', 'immediate'), ('appears', 'soured', 'additional'), ('approach', 'colleague', 'nods'), ('approach', 'prisons', 'skyrocketing'), ('arizona', 'distributing', 'performance-enhancing'), ('artist', 'genuine', 'self'), ('ask', 'compassionate', 'release.'), ('attempts', 'curtail', 'racial'), ('autographs', 'dating', 'morgan'), ('available', 'neville', 'fogarty'), ('awakened', 'farid', 'possibility'), ('b.', 'comey', 'memoir'), ('b.', 'freeman', 'behemoth'), ('bake', 'bread', 'writer'), ('bar', 'e.p.a', 'considering'), ('benjamin', 'netanyahu', 'israel'), ('bit', 'ludicrous', 'careful'), ('boasted', 'improvising', 'insisted'), ('boatyard', 'apps', 'promising'), ('boutiques', 'enticing', 'age-old'), ('boy', 'coastal', 'greenland'), ('bravo', 'supermarket', 'provides'), ('carnival', 'st.', 'lucia'), ('carvey', 'impression', 'late'), ('cash', 'signals', 'revised'), ('casualty', 'evacuations', 'ordered'), ('changing', 'irresistibly', 'homey'), ('choices', 'susan', 'wu'), ('civic', 'engagement.', 'agree'), ('clientele', 'included', 'pro'), ('colleague', 'nods', 'couple'), ('collective', 'yearning', 'freedom'), ('colonial', 'picaresque', 'reminds'), ('combinations', 'ingredients', 'textures'), ('commemoration', 'anniversary', 'assassination'), ('complicates', 'already', 'contentious'), ('conduct', 'willful', 'neglect'), ('conflicts', 'difficult', 'analyze'), ('constituents', 'assignment', 'advance'), ('contenders', 'chockablock', 'potential'), ('continue', 'wreak', 'havoc'), ('cruise', 'skeptic', 'enjoy'), ('cut', 'asylum', 'seekers'), ('cut', 'mikael', 'owunna'), ('daring', 'risky', 'diplomatic'), ('dating', 'morgan', 'library'), ('deepwater', 'horizon', 'disaster'), ('defended', 'jeremy', 'corbyn'), ('defenses', 'rarely', 'succeed'), ('deployed', 'iron', 'egg'), ('described', 'mariachi', 'masquerading'), ('destination', 'draws', 'loyal'), ('di', 'maio', 'meteoric'), ('directions', 'repaying', 'favor'), ('disaster', 'floods', 'landslides'), ('discover', 'links', 'diseases'), ('discovering', 'quiet', 'ever-noisier'), ('disenfranchisement', 'combined', 'undermine'), ('distant', 'conflicts', 'difficult'), ('disturbing', 'revelation', 'rocks'), ('dog', 'registration', 'database'), ('dressed', 'likes', 'jacqueline'), ('drillers', 'seek', 'gain'), ('dubious', 'mural', 'defended'), ('earning', 'wanting', 'earn'), ('elite', 'eb-1', 'visa'), ('empire', 'roads', 'embarrassing'), ('entanglements', 'fishing', 'gear'), ('enticing', 'age-old', 'attractions'), ('entire', 'generations', 'silly'), ('eventually', 'tire', 'turkey'), ('ever-ebullient', 'arts', 'scene'), ('exhibition', 'amsterdam', 'explores'), ('expensive', 'form', 'representation'), ('explore', 'reality-based', 'portraiture'), ('falling', 'rents', 'rising'), ('famously', 'fickle', 'appears'), ('farid', 'possibility', 'overarching'), ('federica', 'armstrong', 'discovered'), ('ferdous', 'afghanistan', 'florentina'), ('fickle', 'appears', 'soured'), ('filled', 'dreamlike', 'sequences'), ('fishing', 'gear', 'endanger'), ('flower', 'closing', 'rikers'), ('followed', 'percentage', 'accounts'), ('fox', 'aired', 'o.j'), ('fronts', 'keeps', 'presenting'), ('fundamental', 'differences.', 'judge'), ('funeral', 'tesla', 'woes'), ('funeral', 'usually', 'involves'), ('fused', 'form', 'wings'), ('garden', 'joe', 'sasto'), ('gates', 'pleaded', 'guilty'), ('gibson', 'self-published', 'photo'), ('gifted', 'artist', 'genuine'), ('givenchy', 'dressed', 'likes'), ('glimpse', 'potential', 'gen'), ('goods', 'illicitly', 'purchased'), ('grace', 'kelly', 'memorably'), ('hell', 'hath', 'fury'), ('hubris', 'guilty', 'naïveté'), ('ice', 'outdoor', 'hockey'), ('iconic', 'french', 'pastry'), ('illiberal', 'chaos', 'splitting'), ('impartial', 'judge', 'excused'), ('import', 'quotas', 'prevent'), ('in-flight', 'perks', 'included'), ('independent', 'titles', 'shoestring'), ('indoor', 'garden', 'joe'), ('inflation', 'bubble', 'task'), ('inform', 'prospective', 'tenants'), ('ingredients', 'dire', 'existence'), ('initiative', 'planning', 'red-carpet'), ('insisted', 'illegitimate', 'look-alike'), ('inspectors', 'visited', 'platforms'), ('inspire', 'budding', 'bookworms'), ('integrated', 'establishments', 'jackson'), ('interconnected', 'delivering', 'immediate'), ('isle', 'au', 'haut'), ('jacqueline', 'kennedy', 'onassis'), ('james', 'b.', 'comey'), ('jennifer', 'palmieri', 'tells')]\n"
     ]
    }
   ],
   "source": [
    "print(\"num bigrams\", len(best_trigrams))\n",
    "print(best_trigrams)"
   ]
  },
  {
   "cell_type": "markdown",
   "metadata": {},
   "source": [
    "Computamos los mil mejores bigramas y trigramas a partir de los términos unipalabra, pero con la <b>Likehood Ratio</b>"
   ]
  },
  {
   "cell_type": "code",
   "execution_count": 17,
   "metadata": {},
   "outputs": [],
   "source": [
    "# se modifica la funcion para obtener los mejores bi/tri gramas pero usando la medida\n",
    "# likelihood,  los métodos devuelven igual que en el apartado anterior dos listas.\n",
    "\n",
    "def get_n_best_candidates_lkr(bigram_candidates, trigram_candidates, n_best_collocations):\n",
    "    nbest_bigram_candidates = bigram_candidates.nbest(bigram_measures.likelihood_ratio,n_best_collocations)\n",
    "    nbest_trigram_candidates = trigram_candidates.nbest(trigram_measures.likelihood_ratio,n_best_collocations)\n",
    "    return nbest_bigram_candidates, nbest_trigram_candidates\n",
    "\n",
    "def get_best_big_trig_likr(text, n_best_collocations):\n",
    "    tokens = text\n",
    "    bigram_coll_candidates, trigram_coll_candidates = get_coll_candidates(tokens)\n",
    "    bigram_coll_candidates_filtered, trigram_coll_candidates_filtered = re_filter_candidates(bigram_coll_candidates, \n",
    "                                                                                            trigram_coll_candidates)    \n",
    "    \n",
    "    best_bigrams_cand, best_trigrams_cand = get_n_best_candidates_lkr(bigram_coll_candidates_filtered, \n",
    "                                                                 trigram_coll_candidates_filtered,\n",
    "                                                                 n_best_collocations)\n",
    "    return best_bigrams_cand, best_trigrams_cand"
   ]
  },
  {
   "cell_type": "code",
   "execution_count": 18,
   "metadata": {},
   "outputs": [],
   "source": [
    "# se obtiene resultado para los 1000 mejores bi/tri gramas pero usando la medida\n",
    "# likehood\n",
    "best_bigrams_lkr, best_trigrams_lkr = get_best_big_trig_likr(tokens_snippet, 1000) "
   ]
  },
  {
   "cell_type": "code",
   "execution_count": 19,
   "metadata": {},
   "outputs": [
    {
     "name": "stdout",
     "output_type": "stream",
     "text": [
      "[('new', 'york'), ('united', 'states'), ('president', 'trump'), ('white', 'house'), ('prime', 'minister'), ('york', 'times'), ('cambridge', 'analytica'), ('steel', 'aluminum'), ('york', 'city'), ('special', 'counsel'), ('kim', 'jong-un'), ('chief', 'executive'), ('north', 'korea'), ('attorney', 'general'), ('de', 'blasio'), ('last', 'year'), ('social', 'media'), ('gun', 'control'), ('m.', 'cuomo'), ('conor', 'lamb'), ('trump', 'administration'), ('last', 'week'), ('residential', 'sales'), ('join', 'moderated'), ('moderated', 'conversation'), ('mr.', 'trump'), ('years', 'ago'), ('andrew', 'm.'), ('revealed', 'entries'), ('silicon', 'valley'), ('stripped', 'caption'), ('gov', 'andrew'), ('san', 'francisco'), ('metoo', 'movement'), ('caption', 'join'), ('recent', 'residential'), ('supreme', 'court'), ('mark', 'zuckerberg'), ('week', 'properties'), ('times', 'crossword'), ('parkland', 'fla.'), ('image', 'tell'), ('andrew', 'cunanan'), ('high', 'school'), ('look', 'closely'), ('cox', 'henry'), ('emily', 'cox'), ('henry', 'rathvon'), ('leopoldo', 'lópez'), ('los', 'angeles'), ('luther', 'king'), ('prompts', 'invitation'), ('writing', 'prompts'), ('law', 'enforcement'), ('young', 'people'), ('pornographic', 'film'), ('south', 'korea'), ('west', 'virginia'), ('west', 'wing'), ('conversation', 'students'), ('jeff', 'sessions'), ('metropolitan', 'opera'), ('stephon', 'clark'), ('stormy', 'daniels'), ('march', 'lives'), ('donald', 'trump'), ('experts', 'say'), ('cynthia', 'nixon'), ('european', 'union'), ('martin', 'luther'), ('image', 'stripped'), ('students', 'see'), ('ethicist', 'columnist'), ('magazine', 'ethicist'), ('places', 'traveler'), ('term', 'limits'), ('nuclear', 'weapons'), ('joseph', 'percoco'), ('fifty', 'years'), ('john', 'bolton'), ('teenage', 'comments'), ('closely', 'image'), ('city', 'region'), ('invitation', 'join'), ('north', 'korean'), ('undermine', 'democracy'), ('korean', 'leader'), ('around', 'world'), ('porn', 'star'), ('sexual', 'harassment'), ('sales', 'new'), ('border', 'wall'), ('gun', 'violence'), ('aiding', 'abetting'), ('betsy', 'devos'), ('comment', 'send'), ('dan', 'bilefsky'), ('erik', 'agard'), ('g.', 'nassar'), ('gavin', 'newsom'), ('lawrence', 'g.'), ('lynn', 'lempel'), ('nakesha', 'williams'), ('nobel', 'laureate'), ('omar', 'mateen'), ('stephanie', 'clifford'), ('stoneman', 'douglas'), ('triggered', 'tripwire'), ('ups', 'downs'), ('billion', 'worth'), ('raises', 'questions'), ('one', 'revealed'), ('congressional', 'district'), ('crossword', 'puzzles'), ('david', 'shulkin'), ('crossword', 'debut'), ('best', 'teenage'), ('story', 'could'), ('bill', 'de'), ('wall', 'street'), ('john', 'r.'), ('a.', 'carranza'), ('ably', 'assisted'), ('byron', 'walden'), ('credit', 'card'), ('crown', 'prince'), ('di', 'montalcino'), ('falls', 'short'), ('full', 'circle'), ('joe', 'dipietro'), ('justin', 'trudeau'), ('lyndon', 'johnson'), ('modest', 'amount'), ('pedestrian', 'walkway'), ('raise', 'minimum'), ('ronny', 'jackson'), ('could', 'image'), ('vietnam', 'war'), ('week', 'writing'), ('intelligence', 'committee'), ('house', 'arrest'), ('abetting', 'husband'), ('andy', 'kravis'), ('annie', 'hall'), ('chip', 'maker'), ('husband', 'omar'), ('increase', 'benchmark'), ('pass', 'along'), ('post', 'comment'), ('print', 'section'), ('puerto', 'rico'), ('rex', 'w.'), ('saudi', 'arabia'), ('new', 'generation'), ('friends', 'acquaintances'), ('millions', 'dollars'), ('oscars', 'preview'), ('properties', 'flatiron'), ('serial', 'killer'), ('xi', 'jinping'), ('week', 'episode'), ('join', 'conversation'), ('harvey', 'weinstein'), ('king', 'jr.'), ('operating', 'officer'), ('richard', 'a.'), ('benchmark', 'interest'), ('communications', 'director'), ('coney', 'island'), ('interest', 'rate'), ('lives', 'demonstrations'), ('private', 'equity'), ('veterans', 'affairs'), ('walkway', 'florida'), ('film', 'actress'), ('artificial', 'intelligence'), ('korean', 'envoys'), ('near', 'shore'), ('peaceful', 'protests'), ('image', 'saying'), ('police', 'officers'), ('boys', 'club'), ('expulsion', 'diplomats'), ('gary', 'd.'), ('hotel', 'panama'), ('relatively', 'modest'), ('section', 'april'), ('vladimir', 'v.'), ('comments', 'last'), ('facebook', 'chief'), ('mr.', 'mccabe'), ('tariffs', 'billion'), ('united', 'nations'), ('brooklyn', 'thursday'), ('dr.', 'kreizler'), ('dr.', 'lawrence'), ('minister', 'theresa'), ('ms.', 'mcdougal'), ('invasion', 'iraq'), ('martin', 'shkreli'), ('n.c.a.a', 'tournament'), ('taking', 'step'), ('traditional', 'dish'), ('whole', 'foods'), ('next', 'steps'), ('second', 'amendment'), ('national', 'security'), ('killed', 'least'), ('d.', 'cohn'), ('heart', 'disease'), ('trial', 'joseph'), ('w.', 'tillerson'), ('fatal', 'shooting'), ('secretary', 'betsy'), ('common', 'elements'), ('david', 'steinberg'), ('douglas', 'high'), ('government', 'shutdown'), ('mateen', 'killed'), ('weakened', 'government'), ('take', 'action'), ('tariffs', 'steel'), ('monastery', 'south'), ('police', 'brutality'), ('south', 'carolina'), ('mr.', 'xi'), ('v.', 'putin'), ('charged', 'criminal'), ('responded', 'article'), ('stage', 'musical'), ('federal', 'reserve'), ('announcing', 'tariffs'), ('john', 'eligon'), ('middle', 'class'), ('salman', 'accused'), ('sexual', 'conduct'), ('history', 'photography'), ('r.', 'bolton'), ('shape', 'water'), ('someone', 'else'), ('war', 'ii'), ('may', 'help'), ('building', 'boom'), ('oval', 'office'), ('decides', 'whether'), ('latin', 'america'), ('resisted', 'help'), ('chinese', 'imports'), ('record', 'numbers'), ('look', 'mirror'), ('interior', 'department'), ('early', 'childhood'), ('general', 'jeff'), ('loved', 'ones'), ('vladimir', 'putin'), ('secretary', 'state'), ('car', 'crash'), ('florida', 'international'), ('criminal', 'justice'), ('criminal', 'sexual'), ('toxic', 'culture'), ('years', 'later'), ('send', 'us'), ('well', 'normal'), ('men', 'women'), ('asked', 'dismissed'), ('international', 'university'), ('personal', 'information'), ('final', 'four'), ('offer', 'advice'), ('senior', 'adviser'), ('mental', 'health'), ('trump', 'campaign'), ('answers', 'question'), ('lamb', 'democrat'), ('iran', 'nuclear'), ('set', 'photograph'), ('south', 'vietnamese'), ('times', 'print'), ('affair', 'donald'), ('affordable', 'apartment'), ('certain', 'countries'), ('wanted', 'feel'), ('video', 'shows'), ('like', 'gift'), ('executive', 'spoke'), ('film', 'festival'), ('theresa', 'may'), ('conversation', 'week'), ('house', 'panel'), ('presidential', 'term'), ('west', 'village'), ('economic', 'report'), ('readers', 'responded'), ('leader', 'leopoldo'), ('mr.', 'nunberg'), ('daily', 'show'), ('late', 'show'), ('show', 'host'), ('david', 'j.'), ('new', 'study'), ('dr.', 'martin'), ('ms.', 'nixon'), ('zuckerberg', 'facebook'), ('effort', 'win'), ('convinced', 'could'), ('think', 'image'), ('former', 'spy'), ('rule', 'law'), ('tax', 'law'), ('people', 'orlando'), ('east', 'side'), ('look', 'one'), ('puzzles', 'monday'), ('end', 'paying'), ('entries', 'past'), ('nuclear', 'arsenal'), ('nuclear', 'talks'), ('increased', 'risk'), ('real', 'estate'), ('black', 'leaders'), ('education', 'secretary'), ('shooting', 'sacramento'), ('workers', 'friends'), ('legal', 'team'), ('tech', 'companies'), ('image', 'answers'), ('obama', 'administration'), ('run', 'play'), ('spending', 'plan'), ('opposition', 'leader'), ('a.r', 'gurney'), ('abbey', 'trappist'), ('abdel', 'fattah'), ('abe', 'cultivated'), ('abloh', 'louis'), ('abusive', 'harassing'), ('accepting', 'bribes'), ('accessible', 'cogent'), ('accounts', 'fake'), ('accusations', 'forthcoming'), ('acknowledge', 'sexting'), ('activity', 'picking'), ('adapted', 'distinguish'), ('add', 'springlike'), ('adhiambo', 'mitchell'), ('adjustment', 'period.'), ('admitted', 'bear'), ('adoption', 'day.'), ('adults', 'inaction'), ('adventure', 'meandering'), ('adversaries', 'eventually'), ('adélie', 'penguins'), ('african-americans', 'heroin'), ('agriculture', 'preventive'), ('aid', 'environment'), ('ailing', 'gianni'), ('aiming', 'roll'), ('aired', 'o.j'), ('airline', 'emphasizing'), ('alan', 'hollinghurst'), ('albert', 'kahn'), ('alberto', 'carvalho'), ('alejandro', 'jodorowsky'), ('alexa', 'katie'), ('alexander', 'nix'), ('allergies', 'eczema'), ('alluring', 'seasonless'), ('aloof', 'uninspiring'), ('amassed', 'autographs'), ('amsterdam', 'explores'), ('andrea', 'carla'), ('angela', 'merkel'), ('ann', 'arbor'), ('anti-anxiety', 'sleep'), ('antihero', 'whistle-blower'), ('antiques', 'dealer'), ('anya', 'kamenetz'), ('appeals', 'friendship'), ('applauding', 'star-spangled'), ('appropriate', 'symbol'), ('arab', 'emirates'), ('arbor', 'renovated'), ('arena-circuit', 'headliner'), ('arguing', 'relaxation'), ('arnaud', 'beltrame'), ('arrange', 'meetings'), ('aspect', 'teen'), ('assumptions', 'suppositions'), ('asylum', 'seekers'), ('atrocious', 'crime.'), ('attempts', 'curtail'), ('attention-seeking', 'antics'), ('au', 'haut'), ('autobiographical', 'memory'), ('autocrat', 'kansas'), ('autographs', 'dating'), ('ava', 'duvernay'), ('avalanches', 'slam'), ('avid', 'bird-watchers'), ('awaiting', 'clue'), ('awol', 'despots'), ('azad', 'politically'), ('b.m.i', 'dust'), ('baby-led', 'weaning'), ('backhand', 'uncorking'), ('backyard', 'rinks'), ('baghdad', 'strained'), ('bait', 'switch'), ('bake', 'bread'), ('balkrishna', 'doshi'), ('banning', 'fur'), ('barbara', 'haskell'), ('barbecue', 'await'), ('barnes', 'covers'), ('bars', 'michelin-starred'), ('bashar', 'al-assad'), ('basing', 'assertion'), ('basked', 'applause'), ('baths', 'judges'), ('beans', 'oxtail'), ('bedford', 'stuyvesant'), ('bedtime', 'throw'), ('behemoth', 'accessible'), ('beltrame', 'traded'), ('benjamin', 'netanyahu'), ('bentley', 'cars'), ('berkeley', 'telegraph'), ('besieged', 'eastern'), ('big-ticket', 'home-improvement'), ('billionaire', 'koch'), ('billions', 'strides'), ('binge', 'borrow'), ('biometric', 'boarding'), ('birthplace', 'blues'), ('blackrock', 'preached'), ('blames', 'low-level'), ('blank', 'check.'), ('blazingly', 'reimagined'), ('blockbusters', 'disappointments'), ('blocking', 'significant'), ('blues', 'timing'), ('boards', 'guides'), ('boasted', 'improvising'), ('bobby', 'vs.'), ('bon', 'jovi'), ('booooring', 'fastball'), ('borrowing', 'binge'), ('boutiques', 'enticing'), ('bouts', 'mountain'), ('bowl', 'porridge'), ('bowlful', 'udon'), ('braintree', 'bermuda'), ('brazilian', 'amassed'), ('breakfast', 'tiffany'), ('breathtaking', 'gamble'), ('bricks', 'mud'), ('broadcom', 'singapore-based'), ('broker', 'repeatedly'), ('brooks', 'barnes'), ('brother', 'rahiem'), ('browser', 'extensions'), ('brushes', 'monastic'), ('bryant', 'neal'), ('buda', 'castle'), ('budding', 'bookworms'), ('buffett', 'jukebox'), ('bump', 'stocks'), ('bumped', 'pre-orders'), ('bunch', 'princesses'), ('bundt', 'scented'), ('bunny', 'bumped'), ('buoyed', 'strengthening'), ('butter', 'cooked'), ('butterscotch', 'dessert'), ('cajoling', 'coercing'), ('calming', 'soul-filling'), ('candidly', 'racist'), ('candor', 'fireable'), ('canker', 'sores'), ('capacity', 'absorb'), ('carefully', 'tread'), ('carla', 'michaels'), ('carles', 'puigdemont'), ('carmen', 'fariña'), ('carrington', 'alejandro'), ('cars', 'royalty'), ('carvalho', 'renounced'), ('carvey', 'impression'), ('carwile', 'viewed'), ('castle', 'turkish-era'), ('castles', 'imposing'), ('casualty', 'evacuations'), ('catalan', 'secession'), ('categories', 'hispanics'), ('caught', 'heartland'), ('caused', 'chilean'), ('cay', 'johnston'), ('celebrations', 'careforce'), ('cells', 'grown-up'), ('centuries', 'full-length'), ('championed', 'manufacturers'), ('chapter', 'long-running'), ('charleston', 'hilltop'), ('charlie', 'morton'), ('chefs', 'embracing'), ('chilling', 'prelude'), ('chinese-americans', 'birthplace'), ('chirlane', 'mccray'), ('christine', 'beshar'), ('christmas', 'wreaths'), ('chunk', 'monthly'), ('citizen', 'rebellions'), ('citrusy', 'flavor'), ('civic', 'engagement.'), ('claes', 'oldenburg'), ('claire', 'muscat'), ('clayton', 'custer'), ('clearance', 'revoked'), ('clem', 'labine'), ('clicks', 'sally'), ('climate-change', 'visionary'), ('clique', 'evangelicals'), ('clocking', 'wearing'), ('clocks', 'whack'), ('clogged', 'roadways'), ('closes', 'banning'), ('cluster', 'munitions'), ('co-workers', 'robot'), ('coal', 'alternative-energy'), ('coals', 'scorn'), ('col.', 'arnaud'), ('cold-weather', 'sunburn'), ('collapses', 'robyn'), ('colleague', 'nods'), ('collections', 'shrink'), ('collisions', 'entanglements'), ('colonial', 'picaresque'), ('coltrane', 'bunion'), ('combination', 'parsnips'), ('comey', 'memoir'), ('comforting', 'shrimp'), ('commemorates', 'agricultural'), ('community.', 'eleven'), ('compassionate', 'release.'), ('competing', 'websites'), ('competitive', 'rocket'), ('competitors', 'airline'), ('complain', 'inconsistency'), ('completed', 'reversal'), ('condition', 'onset'), ('conferring', 'instant'), ('confidante', 'dinner'), ('confirmation', 'drives'), ('connecting', 'mundanities'), ('consistent', 'scheduling'), ('constitute', 'witness'), ('consumed', 'discussions'), ('consuming', 'problematic'), ('contained', 'anticipation'), ('contemporary', 'residences'), ('contenders', 'chockablock'), ('context', 'analysis'), ('controversies', 'surrounding'), ('cooked', 'unsweetened'), ('corbyn', 'left-wing'), ('corporations', 'entrepreneurs'), ('corps', 'tanker'), ('così', 'fan'), ('counselors', 'instructors'), ('cove', 'n.y.'), ('cozy', 'weeknight'), ('crack', 'oscar'), ('crackdowns', 'terrify'), ('cranks', 'nationalists'), ('crashed', 'shortly'), ('creations', 'innovations'), ('criminals', 'born'), ('criticism', 'excitedly'), ('crop', 'contemporary'), ('crossing', 'aegean'), ('crosswords', 'outbreak'), ('cruise', 'skeptic'), ('cult', 'feverish'), ('cupboards', 'cuernavaca'), ('curriculum', 'urges'), ('custom', 'closets'), ('custom-made', 'furniture'), ('damon', 'gulczynski'), ('danced', 'giselle'), ('danger', 'islands'), ('daniel', 'raymon'), ('daring', 'risky'), ('darkest', 'hour.'), ('day.', 'megachurches'), ('deadliest', 'fires'), ('dean', 'supervised'), ('dear', 'madam'), ('dearly.', 'perished'), ('debunking', 'logic'), ('deception', 'betrayal'), ('deepened', 'dubious'), ('deepwater', 'horizon'), ('defamation', 'silencing'), ('defenses', 'rarely'), ('defensiveness', 'terror'), ('deferment', 'yale'), ('del', 'toro'), ('delaine', 'eastin'), ('delays', 'recall'), ('delusional', 'narcissism'), ('demographics', 'violates'), ('denigrated', 'crazy'), ('depart', 'disagreements'), ('deployed', 'iron'), ('deport', 'criminals'), ('deputize', 'jail'), ('der', 'weaves'), ('descended', 'quickly'), ('descending', 'earth'), ('desert', 'merely'), ('designs', 'shoppers'), ('dessert', 'decided'), ('determined', 'lay'), ('devastating', 'blow'), ('device', 'fedex'), ('dharma', 'bums'), ('dictator', 'demands'), ('difficulty', 'breathing'), ('diffuse', 'farther'), ('digenova', 'serve'), ('dine', 'dime'), ('dire', 'existence'), ('directions', 'repaying'), ('dirt-floor', 'schoolhouse'), ('discipline', 'arguing'), ('disclosures', 'improper'), ('discredit', 'complainant'), ('discuss', 'pediatrician'), ('disembodied', 'intellect'), ('disenfranchisement', 'combined'), ('disguised', 'everlasting'), ('disillusionment', 'disenfranchisement'), ('distant', 'conflicts'), ('distinguish', 'retailers'), ('distinguishing', 'low-cost'), ('distressing', 'lessons'), ('distributing', 'performance-enhancing'), ('ditch', 'blew'), ('diversify', 'runways'), ('divisive', 'antihero'), ('donatella', 'larger'), ('doses', 'painkillers'), ('double', 'crosses'), ('dozen', 'venture'), ('drags', 'rolls-royce'), ('dramatically', 'reduced'), ('drawbacks', 'wu-tang'), ('drawn', 'generational'), ('dreamlike', 'sequences'), ('drilling', 'rigs'), ('drinkers', 'cocktails'), ('drove', 'ditch'), ('drunk', 'uncle'), ('dubious', 'mural'), ('dust', 'settled'), ('e.', 'digenova'), ('e.p.a', 'considering'), ('ear', 'horst'), ('earlier', 'incarnations'), ('earnestness', 'salvage'), ('earning', 'wanting'), ('earth', 'second-highest'), ('eastern', 'ghouta'), ('eating', 'poorly'), ('eb-1', 'visa'), ('edouardo', 'jordan'), ('edward', 'albee'), ('effectively', 'motivate'), ('el-sisi', 'cajoling'), ('elitism', 'sexism'), ('elon', 'musk'), ('eluded', 'predecessors'), ('emblem', 'bilingual'), ('embraces', 'sport'), ('emergency', 'fuel'), ('emitting', 'high-decibel'), ('emphasizing', 'in-flight'), ('empower', 'bullies'), ('enclave', 'target'), ('endured', 'evenings'), ('engage', 'dirty'), ('engineered', 'yeast'), ('enjoying', 'radical'), ('enquirer', 'showcase'), ('ensemble', 'piece'), ('entanglements', 'fishing'), ('enterprise', 'commitment'), ('environmental', 'regulations'), ('evangelicals', 'advising'), ('evanston', 'two-bedroom'), ('event', 'interrupted'), ('eventually', 'tire'), ('ever-ebullient', 'arts'), ('everlasting', 'hope'), ('ex-dean', 'michigan'), ('ex-wives', 'girlfriends'), ('excite', 'panic'), ('exclusion', 'whites-only'), ('exercising', 'youngster'), ('exhilarates', 'invigorates'), ('exhilaration', 'ache'), ('expands', 'fandom'), ('expatriate', 'murder'), ('explores', 'fascination'), ('exporter', 'aerospace'), ('exposure', 'bright'), ('express', 'dislike'), ('expressly', 'provision'), ('extensive', 'examination'), ('extra', 'hurdles'), ('exxon', 'mobil'), ('ezersky', 'handily'), ('f.d.a', 'paved'), ('faas', 'longest-serving'), ('facebookland', 'elementary'), ('facial', 'reconstruction'), ('faction', 'fatah'), ('fake', 'made-for-television'), ('famously', 'fickle'), ('fan', 'tutte'), ('fargo', 'equifax'), ('fast-casual', 'lunch'), ('fattah', 'el-sisi'), ('feared', 'twisting'), ('feature', 'innovative'), ('federally', 'subsidized'), ('federica', 'armstrong'), ('federico', 'garcía'), ('fedex', 'shipping'), ('femininity', 'self-image'), ('fennel', 'add'), ('ferry', 'fleet'), ('fields', 'tweak'), ('figure', 'communist'), ('fink', 'blackrock'), ('finn', 'vigeland'), ('first-grade', 'christmas'), ('fisticuffs', 'tough-talking'), ('fit', 'neatly'), ('fits', 'pattern'), ('flavor', 'beer'), ('floods', 'landslides'), ('floor', 'md'), ('flying', 'v'), ('fogarty', 'doug'), ('fool', 'eating'), ('footsteps', 'firearms'), ('for-hire', 'vehicles'), ('forcing', 'ouster'), ('formal', 'announcements'), ('forum', 'firsthand'), ('four-bedroom', 'glen'), ('foxes', 'dramatically'), ('frances', 'mcdormand'), ('fraudulent', 'no-shows'), ('freeman', 'behemoth'), ('freeze', 'oligarchs'), ('frenchette', 'tribeca'), ('fruit', 'pork'), ('fuel', 'shut-off'), ('full-time', 'gig'), ('fully', 'merging'), ('fundamental', 'differences.'), ('fungus', 'vanquished'), ('furious', 'speculation'), ('gaining', 'recognition'), ('gamelike', 'methods'), ('garcía', 'lorca'), ('garfield', 'billions'), ('gas-guzzling', 'commutes'), ('gatekeepers', 'grandparent'), ('gates', 'pleaded'), ('gen', 'z.'), ('gen.', 'h.r'), ('genuine', 'self'), ('geothermal', 'heat'), ('gerald', 'murnane'), ('gianni', 'versace'), ('gibson', 'self-published'), ('gig', 'antithetical'), ('gina', 'kolata'), ('giselle', 'bolshoi'), ('givenchy', 'dressed'), ('glen', 'cove'), ('glory', 'everest'), ('gothic', 'fables'), ('grandmothers', 'molded'), ('gratification', 'long-serving'), ('greenwich', 'conn.'), ('grip', 'predictions'), ('grounded', 'trains'), ('grow', 'smash-mouth'), ('grunt', 'squeal'), ('guaranteed', 'cranks'), ('guardia', 'newark'), ('guillermo', 'del'), ('gun-friendly', 'montana'), ('h', 'zara'), ('h.', 'walsh'), ('h.r', 'mcmaster'), ('hair', 'staub'), ('handily', 'expands'), ('handing', 'automakers'), ('harness', 'passenger'), ('haskell', 'marks'), ('haut', 'maine'), ('hawaii', 'sustainable'), ('heads', 'mouths'), ('healthier', 'biologically'), ('heaping', 'piles'), ('hear', 'feedback'), ('heart-muscle', 'cells'), ('heartland', 'bug'), ('hedge', 'fund'), ('hefty', 'chunk'), ('heightening', 'suspicions'), ('helicopters', 'unnecessary'), ('hell', 'hath'), ('hepburn', 'breakfast'), ('herman', 'bell'), ('heroin', 'cruise'), ('high-decibel', 'grunt'), ('hinder', 'quest'), ('hindi', 'hip-hop'), ('hinton', 'writes'), ('hints', 'retrograde'), ('hip-hop', 'hallucinatory'), ('hispanics', 'arab-americans'), ('historically', 'distant'), ('hoda', 'katebi'), ('hog', 'maw'), ('holocaust', 'nazi'), ('homer', 'repeating'), ('homes', 'corporations'), ('homey', 'combination'), ('honchos', 'nope'), ('honey', 'stuff'), ('hoodie', 'extra-personal'), ('horrific', 'discovery'), ('horse', 'walks'), ('horst', 'faas'), ('hospitals', 'clinics'), ('however', 'fearing'), ('huget', 'double'), ('hummingbird', 'noise'), ('ian', 'austen'), ('idealized', 'simplistic'), ('ignorance', 'mattered'), ('ignore', 'naysayers'), ('ilene', 'rosen'), ('illegally', 'exhumed'), ('illegitimate', 'look-alike'), ('illicitly', 'purchased'), ('imagines', 'climate-change'), ('import', 'quotas'), ('imposing', 'surcharge'), ('impostor', 'cedar-shingled'), ('imprisoned', 'abusing'), ('in-demand', 'reservations'), ('in-flight', 'perks'), ('in-n-out', 'impostor'), ('inaccurate', 'count'), ('inbreeding', 'isolated'), ('incident', 'communists'), ('indecisiveness', 'staffing'), ('indian', 'descent'), ('indie', 'boutiques'), ('individual', 'morality'), ('indoor', 'garden'), ('inequities', 'incarceration'), ('infant', 'infant-mother'), ('inferno', 'valencia'), ('inflation', 'bubble'), ('inflicted', 'burmese'), ('inheritances', 'stepparent'), ('ink', 'paper'), ('inkwell', 'quilled'), ('innovations', 'inspires'), ('innovative', 'submissions'), ('insanity', 'defenses'), ('insect', 'genome'), ('insiders', 'documenting'), ('inspires', 'delights'), ('installment', 'ken'), ('integrated', 'establishments'), ('interconnected', 'delivering'), ('interrupted', 'sweet'), ('invites', 'wallow'), ('involuntary', 'confinement'), ('involves', 'hallmarks'), ('iranians', 'mainly'), ('irresistibly', 'homey'), ('isis', 'militants'), ('islamist', 'terrorism'), ('isolation', 'empower'), ('italian', 'riviera'), ('italians', 'opt'), ('jailed', 'prostitute'), ('jed', 'shafer'), ('jennifer', 'palmieri'), ('jeremy', 'corbyn'), ('jew', 'haters'), ('jewish', 'presence'), ('jim', 'quinlan'), ('jimenez', 'recalls'), ('joan', 'baez'), ('jon', 'bon'), ('jonathan', 'weisman'), ('joojoo', 'azad'), ('jordan', 'locates'), ('josé', 'padilha'), ('journal', 'bought'), ('jovi', 'seth'), ('judged', 'terms'), ('judges', 'appoint'), ('jules', 'woodson'), ('justify', 'inequity'), ('k2', 'keen'), ('kahn', 'endure'), ('ken', 'frazier'), ('kenneth', 'lonergan'), ('kills', 'african-americans'), ('kinder', 'deeply'), ('knack', 'connecting'), ('kurdish', 'militias'), ('l.a.', 'supervisor'), ('l.g.b.t.q', 'africans'), ('laid-back', 'outdoorsy'), ('languish', 'deplorable'), ('larry', 'fink'), ('lars', 'kepler'), ('las', 'vegas'), ('latter-day', 'riff'), ('launch', 'snap'), ('laura', 'braunstein'), ('leak', 'compromised'), ('leaves', 'hungry'), ('legacy', 'drinkers'), ('legend', 'wakefield'), ('legislators', 'timothy'), ('lemon-sugar', 'syrup'), ('length', 'inevitable'), ('lennon', 'twin'), ('leo', 'varadkar'), ('leonora', 'carrington'), ('lever', 'jonathan'), ('lie', 'surface'), ('liev', 'schreiber'), ('limitations', 'hinder'), ('limiting', 'doses'), ('listen', 'silences'), ('lloyd', 'wright'), ('load', 'abuse'), ('lobbying', 'frenzy'), ('lola', 'flash'), ('long-percolating', 'situations'), ('looting', 'kickbacks'), ('lorca', 'poetic'), ('loud', 'drumbeat'), ('louis', 'vuitton'), ('low-cost', 'competitors'), ('lucia', 'relaxing'), ('lucille', 'lush'), ('ludicrous', 'careful'), ('lures', 'well-worn'), ('luxurious', 'conventional'), ('m.r', 'rajagopal'), ('machine', 'co-workers'), ('maddow', 'veteran'), ('madison', 'ind'), ('magda', 'saleh'), ('maida', 'heatter'), ('maine', 'undone'), ('maio', 'meteoric'), ('maligned', 'causing'), ('malts', 'decline'), ('mama', 'satellite'), ('managing', 'partner'), ('mann', 'thousand'), ('manor', 'evanston'), ('manufacturing', 'exporter'), ('marathon', 'soccer'), ('mariachi', 'masquerading'), ('marine', 'corps'), ('martyna', 'majok'), ('martyr', 'deferment'), ('masquerading', 'superintendent.'), ('massive', 'manufacturing'), ('masterpieces', 'spectacle')]\n"
     ]
    }
   ],
   "source": [
    "print(best_bigrams_lkr)"
   ]
  },
  {
   "cell_type": "code",
   "execution_count": 20,
   "metadata": {},
   "outputs": [
    {
     "name": "stdout",
     "output_type": "stream",
     "text": [
      "[('new', 'york', 'times'), ('new', 'york', 'city'), ('sales', 'new', 'york'), ('obituaries', 'new', 'york'), ('makes', 'new', 'york'), ('spoke', 'new', 'york'), ('brewery', 'new', 'york'), ('closure', 'new', 'york'), ('dive', 'new', 'york'), ('edit', 'new', 'york'), ('fables', 'new', 'york'), ('it.', 'new', 'york'), ('new', 'york', 'academy'), ('new', 'york', 'angels'), ('new', 'york', 'edit'), ('profile', 'new', 'york'), ('unprotected', 'new', 'york'), ('new', 'york', 'places'), ('passengers', 'new', 'york'), ('solo', 'new', 'york'), ('new', 'york', 'retrospective'), ('assignment', 'new', 'york'), ('felt', 'new', 'york'), ('new', 'york', 'fed'), ('obtained', 'new', 'york'), ('entries', 'new', 'york'), ('hollywood', 'new', 'york'), ('new', 'york', 'period'), ('seen', 'new', 'york'), ('new', 'york', 'beyond'), ('streets', 'new', 'york'), ('toward', 'new', 'york'), ('one', 'new', 'york'), ('affair', 'president', 'trump'), ('governor', 'new', 'york'), ('new', 'york', 'state'), ('pennsylvania', 'new', 'york'), ('project', 'new', 'york'), ('aluminum', 'new', 'york'), ('mayor', 'new', 'york'), ('politics', 'new', 'york'), ('new', 'york', 'new'), ('become', 'new', 'york'), ('canada', 'new', 'york'), ('want', 'new', 'york'), ('new', 'york', 'women'), ('way', 'new', 'york'), ('first', 'new', 'york'), ('new', 'york', 'first'), ('week', 'new', 'york'), ('president', 'trump', 'prepares'), ('election', 'president', 'trump'), ('argentina', 'united', 'states'), ('beds', 'united', 'states'), ('caring', 'united', 'states'), ('comparison', 'united', 'states'), ('concentrating', 'united', 'states'), ('fees', 'united', 'states'), ('fizzle', 'united', 'states'), ('necessity', 'united', 'states'), ('nudge', 'united', 'states'), ('united', 'states', 'allies'), ('united', 'states', 'complicates'), ('united', 'states', 'enters'), ('united', 'states', 'full-time'), ('united', 'states', 'passport'), ('united', 'states', 'restore'), ('shows', 'president', 'trump'), ('achieve', 'united', 'states'), ('air', 'united', 'states'), ('flooding', 'united', 'states'), ('injuries', 'united', 'states'), ('landscape', 'united', 'states'), ('negotiate', 'united', 'states'), ('negotiations', 'united', 'states'), ('photography', 'united', 'states'), ('united', 'states', 'abandoning'), ('united', 'states', 'confident'), ('united', 'states', 'protectionist'), ('united', 'states', 'economics'), ('united', 'states', 'largest'), ('united', 'states', 'looks'), ('united', 'states', 'rejected'), ('personnel', 'united', 'states'), ('relations', 'united', 'states'), ('vietnamese', 'united', 'states'), ('fill', 'president', 'trump'), ('president', 'trump', 'largely'), ('tweets', 'president', 'trump'), ('investment', 'united', 'states'), ('united', 'states', 'article'), ('united', 'states', 'nowhere'), ('united', 'states', 'taxes'), ('united', 'states', 'market'), ('united', 'states', 'started'), ('adviser', 'united', 'states'), ('outside', 'united', 'states'), ('something', 'united', 'states'), ('united', 'states', 'tech'), ('age', 'united', 'states'), ('united', 'states', 'sent'), ('across', 'united', 'states'), ('always', 'united', 'states'), ('united', 'states', 'justice'), ('britain', 'united', 'states'), ('united', 'states', 'million'), ('security', 'united', 'states'), ('united', 'states', 'researchers'), ('advising', 'president', 'trump'), ('avenger', 'president', 'trump'), ('bullies', 'president', 'trump'), ('demands', 'president', 'trump'), ('faulted', 'president', 'trump'), ('invited', 'president', 'trump'), ('jousting', 'president', 'trump'), ('makers', 'president', 'trump'), ('mcentee', 'president', 'trump'), ('neatly', 'president', 'trump'), ('poverty', 'president', 'trump'), ('predecessor', 'president', 'trump'), ('president', 'trump', 'bypassed'), ('president', 'trump', 'championed'), ('president', 'trump', 'completed'), ('president', 'trump', 'crack'), ('president', 'trump', 'curious'), ('president', 'trump', 'dignitaries'), ('president', 'trump', 'head-spinning'), ('president', 'trump', 'issued'), ('president', 'trump', 'landslide'), ('president', 'trump', 'naming'), ('president', 'trump', 'relent'), ('president', 'trump', 'setting'), ('president', 'trump', 'string'), ('president', 'trump', 'studied'), ('president', 'trump', 'threw'), ('president', 'trump', 'unleashes'), ('president', 'trump', 'visiting'), ('president', 'trump', 'well-regarded'), ('princesses', 'president', 'trump'), ('replied', 'president', 'trump'), ('strain', 'president', 'trump'), ('terrorism', 'president', 'trump'), ('united', 'states', 'decades'), ('company', 'united', 'states'), ('president', 'trump', 'personal'), ('united', 'states', 'also'), ('united', 'states', 'used'), ('china', 'united', 'states'), ('plan', 'united', 'states'), ('united', 'states', 'nuclear'), ('united', 'states', 'change'), ('united', 'states', 'recent'), ('united', 'states', 'women'), ('president', 'trump', 'wants'), ('win', 'president', 'trump'), ('united', 'states', 'back'), ('alienating', 'president', 'trump'), ('alleged', 'president', 'trump'), ('break', 'president', 'trump'), ('disagreement', 'president', 'trump'), ('knee', 'president', 'trump'), ('language', 'president', 'trump'), ('november', 'president', 'trump'), ('president', 'trump', 'abandoning'), ('president', 'trump', 'behalf'), ('president', 'trump', 'chosen'), ('president', 'trump', 'discussed'), ('president', 'trump', 'insistence'), ('president', 'trump', 'welcomed'), ('pressure', 'president', 'trump'), ('salad', 'president', 'trump'), ('standards', 'president', 'trump'), ('united', 'states', 'could'), ('well', 'president', 'trump'), ('controversy', 'president', 'trump'), ('delivered', 'president', 'trump'), ('goods', 'president', 'trump'), ('kushner', 'president', 'trump'), ('president', 'trump', 'appears'), ('president', 'trump', 'cited'), ('president', 'trump', 'claimed'), ('president', 'trump', 'insisted'), ('president', 'trump', 'replaced'), ('president', 'trump', 'stephon'), ('reflects', 'president', 'trump'), ('supermarket', 'president', 'trump'), ('ties', 'president', 'trump'), ('president', 'trump', 'public'), ('hours', 'president', 'trump'), ('president', 'trump', 'announcement'), ('president', 'trump', 'influence'), ('president', 'trump', 'named'), ('despite', 'president', 'trump'), ('information', 'president', 'trump'), ('numbers', 'president', 'trump'), ('president', 'trump', 'increasingly'), ('president', 'trump', 'meet'), ('president', 'trump', 'responded'), ('president', 'trump', 'return'), ('tournament', 'president', 'trump'), ('among', 'president', 'trump'), ('fight', 'president', 'trump'), ('president', 'trump', 'certain'), ('president', 'trump', 'following'), ('president', 'trump', 'likely'), ('president', 'trump', 'senior'), ('president', 'trump', 'struggling'), ('president', 'trump', 'view'), ('weapons', 'president', 'trump'), ('call', 'president', 'trump'), ('president', 'trump', 'changes'), ('president', 'trump', 'finally'), ('behind', 'president', 'trump'), ('president', 'trump', 'told'), ('president', 'trump', 'party'), ('puzzle', 'president', 'trump'), ('region', 'president', 'trump'), ('president', 'trump', 'experts'), ('order', 'president', 'trump'), ('deal', 'president', 'trump'), ('monday', 'president', 'trump'), ('woman', 'president', 'trump'), ('president', 'trump', 'california'), ('control', 'president', 'trump'), ('president', 'trump', 'found'), ('administration', 'president', 'trump'), ('president', 'trump', 'whether'), ('state', 'president', 'trump'), ('president', 'trump', 'school'), ('trade', 'president', 'trump'), ('president', 'trump', 'first'), ('house', 'president', 'trump'), ('president', 'trump', 'said'), ('ascendant', 'white', 'house'), ('dinner', 'white', 'house'), ('pulls', 'white', 'house'), ('tenure', 'white', 'house'), ('white', 'house', 'fully'), ('white', 'house', 'physician'), ('white', 'house', 'portends'), ('white', 'house', 'readying'), ('metals', 'white', 'house'), ('weeks', 'white', 'house'), ('white', 'house', 'connecticut'), ('white', 'house', 'shifting'), ('chaotic', 'white', 'house'), ('departure', 'white', 'house'), ('jackson', 'white', 'house'), ('white', 'house', 'changing'), ('white', 'house', 'chaos'), ('shulkin', 'white', 'house'), ('white', 'house', 'doctor'), ('white', 'house', 'expulsion'), ('white', 'house', 'aides'), ('cast', 'white', 'house'), ('markets', 'white', 'house'), ('strategy', 'white', 'house'), ('relationship', 'white', 'house'), ('trump', 'white', 'house'), ('white', 'house', 'tell'), ('white', 'house', 'three'), ('month', 'white', 'house'), ('white', 'house', 'helped'), ('day', 'white', 'house'), ('top', 'white', 'house'), ('white', 'house', 'come'), ('white', 'house', 'john'), ('white', 'house', 'even'), ('white', 'house', 'may'), ('white', 'house', 'president'), ('york', 'times', 'crossword'), ('prime', 'minister', 'theresa'), ('york', 'city', 'region'), ('hosting', 'prime', 'minister'), ('hungary', 'prime', 'minister'), ('implicating', 'prime', 'minister'), ('nope', 'prime', 'minister'), ('prime', 'minister', 'benjamin'), ('prime', 'minister', 'faction'), ('prime', 'minister', 'retaliated'), ('prime', 'minister', 'shinzo'), ('prime', 'minister', 'viktor'), ('prime', 'minister', 'justin'), ('tariffs', 'steel', 'aluminum'), ('insisted', 'prime', 'minister'), ('activism', 'prime', 'minister'), ('met', 'prime', 'minister'), ('prime', 'minister', 'wife'), ('jong-un', 'prime', 'minister'), ('prime', 'minister', 'visit'), ('district', 'prime', 'minister'), ('well', 'prime', 'minister'), ('andrew', 'm.', 'cuomo'), ('york', 'times', 'readers'), ('york', 'times', 'newsletter'), ('join', 'moderated', 'conversation'), ('steel', 'aluminum', 'tariffs'), ('cambridge', 'analytica', 'aided'), ('cambridge', 'analytica', 'damage'), ('cambridge', 'analytica', 'specifically'), ('filmed', 'cambridge', 'analytica'), ('york', 'times', 'chronicles'), ('york', 'times', 'discussed'), ('relent', 'steel', 'aluminum'), ('revisions', 'steel', 'aluminum'), ('steel', 'aluminum', 'makers'), ('york', 'times', 'display'), ('cambridge', 'analytica', 'harvested'), ('involving', 'cambridge', 'analytica'), ('york', 'times', 'debut'), ('users', 'cambridge', 'analytica'), ('details', 'cambridge', 'analytica'), ('hired', 'cambridge', 'analytica'), ('york', 'times', 'lawsuit'), ('imported', 'steel', 'aluminum'), ('steel', 'aluminum', 'hopes'), ('york', 'times', 'data'), ('york', 'times', 'thursday'), ('york', 'times', 'long'), ('cambridge', 'analytica', 'mark'), ('steel', 'aluminum', 'protections'), ('north', 'korea', 'leader'), ('question', 'cambridge', 'analytica'), ('opposition', 'steel', 'aluminum'), ('facebook', 'cambridge', 'analytica'), ('caption', 'join', 'moderated'), ('cambridge', 'analytica', 'company'), ('cambridge', 'analytica', 'data'), ('steel', 'aluminum', 'imports'), ('recent', 'residential', 'sales'), ('cambridge', 'analytica', 'chief'), ('steel', 'aluminum', 'kim'), ('gov', 'andrew', 'm.'), ('foreign', 'steel', 'aluminum'), ('moderated', 'conversation', 'students'), ('world', 'cambridge', 'analytica'), ('help', 'steel', 'aluminum'), ('steel', 'aluminum', 'could'), ('york', 'city', 'deadliest'), ('steel', 'aluminum', 'new'), ('facebook', 'chief', 'executive'), ('york', 'city', 'dog'), ('york', 'city', 'experiencing'), ('cooperation', 'special', 'counsel'), ('york', 'city', 'subway'), ('york', 'city', 'space'), ('york', 'city', 'next'), ('alienating', 'special', 'counsel'), ('interviewed', 'special', 'counsel'), ('special', 'counsel', 'demanded'), ('york', 'city', 'federal'), ('york', 'city', 'public'), ('middle', 'special', 'counsel'), ('special', 'counsel', 'suit'), ('stripped', 'caption', 'join'), ('york', 'city', 'could'), ('york', 'city', 'new'), ('special', 'counsel', 'interview'), ('give', 'special', 'counsel'), ('investigation', 'special', 'counsel'), ('tell', 'special', 'counsel'), ('special', 'counsel', 'asked'), ('chief', 'executive', 'spoke'), ('special', 'counsel', 'decision'), ('deal', 'special', 'counsel'), ('special', 'counsel', 'five'), ('special', 'counsel', 'russian'), ('bill', 'de', 'blasio'), ('special', 'counsel', 'recent'), ('conversation', 'students', 'see'), ('time', 'special', 'counsel'), ('image', 'stripped', 'caption'), ('residential', 'sales', 'new'), ('special', 'counsel', 'trump'), ('last', 'week', 'writing'), ('charms', 'kim', 'jong-un'), ('kim', 'jong-un', 'daring'), ('kim', 'jong-un', 'provided'), ('fifty', 'years', 'ago'), ('attorney', 'general', 'jeff'), ('chief', 'executive', 'alexander'), ('chief', 'executive', 'exxon'), ('chief', 'executive', 'sheryl'), ('suspending', 'chief', 'executive'), ('oil', 'kim', 'jong-un'), ('meet', 'kim', 'jong-un'), ('comments', 'last', 'week'), ('kim', 'jong-un', 'meeting'), ('could', 'image', 'tell'), ('aluminum', 'kim', 'jong-un'), ('new', 'zealand', 'city'), ('kim', 'jong-un', 'prime'), ('chief', 'executive', 'blood-testing'), ('holmes', 'chief', 'executive'), ('korea', 'kim', 'jong-un'), ('kim', 'jong-un', 'government'), ('kim', 'jong-un', 'voters'), ('closely', 'image', 'stripped'), ('cox', 'henry', 'rathvon'), ('emily', 'cox', 'henry'), ('writing', 'prompts', 'invitation'), ('obsessed', 'chief', 'executive'), ('leader', 'kim', 'jong-un'), ('chief', 'executive', 'dark'), ('chief', 'executive', 'offering'), ('one', 'revealed', 'entries'), ('analytica', 'chief', 'executive'), ('confront', 'north', 'korea'), ('north', 'korea', 'rock'), ('social', 'media', 'giant'), ('former', 'chief', 'executive'), ('north', 'korea', 'guess'), ('north', 'korea', 'raising'), ('sidelined', 'north', 'korea'), ('entries', 'last', 'week'), ('martin', 'luther', 'king'), ('look', 'closely', 'image'), ('attorney', 'general', 'resulted'), ('backlash', 'attorney', 'general'), ('contacts', 'attorney', 'general'), ('louisiana', 'attorney', 'general'), ('responsible', 'attorney', 'general'), ('imports', 'north', 'korea'), ('meet', 'north', 'korea'), ('north', 'korea', 'brutal'), ('de', 'blasio', 'pressed'), ('dispute', 'north', 'korea'), ('north', 'korea', 'kim'), ('north', 'korea', 'offer'), ('conor', 'lamb', 'democrat'), ('story', 'could', 'image'), ('north', 'korean', 'leader'), ('action', 'north', 'korea'), ('china', 'north', 'korea'), ('cyberassaults', 'last', 'year'), ('executions', 'last', 'year'), ('last', 'year', 'defrauding'), ('last', 'year', 'ferocious'), ('last', 'year', 'hurricanes'), ('last', 'year', 'navel-gazing'), ('loans', 'last', 'year'), ('rebuilding', 'last', 'year'), ('recovering', 'last', 'year'), ('de', 'blasio', 'value'), ('cellphones', 'social', 'media'), ('social', 'media', 'alight'), ('social', 'media', 'wits'), ('surrounding', 'social', 'media'), ('son-in-law', 'attorney', 'general'), ('much', 'north', 'korea'), ('gun', 'control', 'horse'), ('gun', 'control', 'plotting'), ('gun', 'control', 'proponents'), ('thuggery', 'gun', 'control'), ('tune', 'gun', 'control'), ('attorney', 'general', 'announced'), ('attorney', 'general', 'taken'), ('prompts', 'invitation', 'join'), ('north', 'korea', 'may'), ('de', 'blasio', 'wife'), ('m.', 'cuomo', 'political'), ('seven', 'last', 'year'), ('pet', 'social', 'media'), ('attorney', 'general', 'decision'), ('de', 'blasio', 'knew'), ('california', 'attorney', 'general'), ('expansive', 'gun', 'control'), ('mayor', 'de', 'blasio'), ('times', 'crossword', 'debut'), ('last', 'year', 'worst'), ('opponents', 'gun', 'control'), ('social', 'media', 'student'), ('convicted', 'last', 'year'), ('last', 'year', 'leaving'), ('last', 'year', 'sick'), ('easy', 'social', 'media'), ('social', 'media', 'whole'), ('diversity', 'gun', 'control'), ('away', 'last', 'year'), ('gun', 'control', 'policies'), ('magazine', 'ethicist', 'columnist'), ('office', 'last', 'year'), ('social', 'media', 'star'), ('create', 'gun', 'control'), ('de', 'blasio', 'first'), ('times', 'crossword', 'puzzles'), ('takes', 'social', 'media'), ('last', 'year', 'russian'), ('mr.', 'de', 'blasio'), ('gun', 'control', 'immigration'), ('plan', 'last', 'year'), ('news', 'social', 'media'), ('last', 'year', 'family'), ('gun', 'control', 'march'), ('monday', 'gun', 'control'), ('accidents', 'conor', 'lamb'), ('conor', 'lamb', 'express'), ('supported', 'conor', 'lamb'), ('last', 'year', 'even'), ('gun', 'control', 'need'), ('whether', 'social', 'media'), ('real', 'gun', 'control'), ('pornographic', 'film', 'actress'), ('defeat', 'trump', 'administration'), ('request', 'trump', 'administration'), ('trump', 'administration', 'handing'), ('gun', 'control', 'president'), ('helping', 'conor', 'lamb'), ('m.', 'cuomo', 'tried'), ('graph', 'join', 'moderated'), ('died', 'last', 'week'), ('week', 'writing', 'prompts'), ('conducted', 'last', 'week'), ('last', 'week', 'alert'), ('last', 'week', 'delightful'), ('last', 'week', 'drew'), ('week', 'properties', 'flatiron'), ('day', 'last', 'week'), ('m.', 'cuomo', 'democratic'), ('trump', 'administration', 'joined'), ('trump', 'administration', 'protectionist'), ('look', 'one', 'revealed'), ('revealed', 'entries', 'past'), ('conor', 'lamb', 'victory'), ('democrat', 'conor', 'lamb'), ('civilians', 'trump', 'administration'), ('rights', 'trump', 'administration'), ('sides', 'trump', 'administration'), ('trump', 'administration', 'surprisingly'), ('call', 'conor', 'lamb'), ('fill', 'mr.', 'trump'), ('invitation', 'join', 'conversation'), ('trump', 'administration', 'aggressive'), ('trump', 'administration', 'seems'), ('trump', 'administration', 'sell'), ('words', 'trump', 'administration'), ('cheney', 'years', 'ago'), ('extinction', 'years', 'ago'), ('years', 'ago', 'archaeological'), ('luther', 'king', 'jr.'), ('trump', 'administration', 'proposal'), ('trump', 'administration', 'result'), ('trump', 'administration', 'saw'), ('got', 'mr.', 'trump'), ('chance', 'trump', 'administration'), ('trump', 'administration', 'career'), ('obtained', 'last', 'week'), ('gamble', 'mr.', 'trump'), ('mr.', 'trump', 'purposely'), ('reports', 'mr.', 'trump'), ('tell', 'trump', 'administration'), ('m.', 'cuomo', 'said'), ('helped', 'trump', 'administration'), ('love', 'trump', 'administration'), ('last', 'week', 'virginia'), ('conor', 'lamb', 'year'), ('mr.', 'trump', 'personal'), ('best', 'teenage', 'comments'), ('founded', 'years', 'ago'), ('years', 'ago', 'evolution'), ('years', 'ago', 'measure'), ('last', 'week', 'keep'), ('mexico', 'last', 'week'), ('time', 'trump', 'administration'), ('march', 'lives', 'demonstrations'), ('douglas', 'high', 'school'), ('animated', 'mr.', 'trump'), ('mr.', 'trump', 'expressed'), ('mr.', 'trump', 'regards'), ('mr.', 'trump', 'younger'), ('refuses', 'mr.', 'trump'), ('reinforce', 'mr.', 'trump'), ('silicon', 'valley', 'entrepreneur'), ('wu', 'silicon', 'valley'), ('last', 'week', 'california'), ('man', 'last', 'week'), ('mr.', 'trump', 'agree'), ('mr.', 'trump', 'instincts'), ('challenging', 'andrew', 'm.'), ('millions', 'years', 'ago'), ('mark', 'zuckerberg', 'facebook'), ('activism', 'mr.', 'trump'), ('influence', 'mr.', 'trump'), ('mr.', 'trump', 'extreme'), ('years', 'ago', 'today'), ('side', 'years', 'ago'), ('years', 'ago', 'keep'), ('mr.', 'trump', 'making'), ('claims', 'mr.', 'trump'), ('though', 'mr.', 'trump'), ('mr.', 'trump', 'plans'), ('silicon', 'valley', 'multiple'), ('mr.', 'trump', 'presidential'), ('mr.', 'trump', 'turned'), ('last', 'week', 'new'), ('teenage', 'comments', 'last'), ('years', 'ago', 'david'), ('concerns', 'silicon', 'valley'), ('even', 'years', 'ago'), ('tariffs', 'mr.', 'trump'), ('neurosurgeon', 'san', 'francisco'), ('san', 'francisco', 'sinking'), ('affair', 'donald', 'trump'), ('whether', 'mr.', 'trump'), ('mr.', 'trump', 'former'), ('mr.', 'trump', 'still'), ('unseating', 'gov', 'andrew'), ('years', 'ago', 'two'), ('hit', 'silicon', 'valley'), ('general', 'jeff', 'sessions'), ('leader', 'leopoldo', 'lópez'), ('tariffs', 'billion', 'worth'), ('silicon', 'valley', 'technology'), ('said', 'mr.', 'trump'), ('lawrence', 'g.', 'nassar'), ('fifty', 'years', 'later'), ('trial', 'joseph', 'percoco'), ('condominium', 'san', 'francisco'), ('san', 'francisco', 'frank'), ('equation', 'gov', 'andrew'), ('refer', 'metoo', 'movement'), ('san', 'francisco', 'middle'), ('think', 'image', 'saying'), ('revealed', 'entries', 'last'), ('leopoldo', 'lópez', 'house'), ('aide', 'gov', 'andrew'), ('replace', 'gov', 'andrew'), ('grid', 'recent', 'residential'), ('dr.', 'martin', 'luther'), ('presidential', 'term', 'limits'), ('visit', 'san', 'francisco'), ('silicon', 'valley', 'could'), ('honor', 'parkland', 'fla.'), ('rampage', 'parkland', 'fla.'), ('boroughs', 'week', 'properties'), ('conn.', 'week', 'properties'), ('period.', 'week', 'properties'), ('week', 'properties', 'chelsea'), ('one', 'silicon', 'valley'), ('metoo', 'movement', 'literary'), ('metoo', 'movement', 'mixes'), ('metoo', 'movement', 'supporters'), ('challenge', 'gov', 'andrew'), ('gov', 'andrew', 'cuomo'), ('wrong', 'san', 'francisco'), ('image', 'tell', 'carvey'), ('image', 'tell', 'consumer'), ('image', 'tell', 'reno'), ('andrew', 'cunanan', 'pursues'), ('los', 'angeles', 'byword'), ('unwinds', 'leopoldo', 'lópez'), ('revealed', 'entries', 'new'), ('abetting', 'husband', 'omar'), ('aiding', 'abetting', 'husband'), ('husband', 'omar', 'mateen'), ('post', 'comment', 'send'), ('look', 'closely', 'graph'), ('distance', 'recent', 'residential'), ('sky', 'recent', 'residential'), ('german', 'high', 'school'), ('supreme', 'court', 'justices'), ('mark', 'zuckerberg', 'reckoning'), ('mark', 'zuckerberg', 'testify'), ('young', 'people', 'realized'), ('secession', 'law', 'enforcement'), ('san', 'francisco', 'still'), ('massacre', 'parkland', 'fla.'), ('week', 'properties', 'include'), ('image', 'tell', 'think'), ('metoo', 'movement', 'calling'), ('andrew', 'cunanan', 'hides'), ('loves', 'andrew', 'cunanan'), ('activism', 'recent', 'residential'), ('treat', 'recent', 'residential'), ('henry', 'rathvon', 'brian'), ('richard', 'a.', 'carranza'), ('benchmark', 'interest', 'rate'), ('woman', 'metoo', 'movement'), ('parkland', 'fla.', 'spoke'), ('race', 'metoo', 'movement'), ('led', 'supreme', 'court'), ('high', 'school', 'junior'), ('high', 'school', 'poet'), ('los', 'angeles', 'looks'), ('changing', 'emily', 'cox'), ('high', 'school', 'students'), ('law', 'enforcement', 'agencies'), ('tournament', 'week', 'properties'), ('manhattan', 'supreme', 'court'), ('friday', 'metoo', 'movement'), ('andrew', 'cunanan', 'childhood'), ('supreme', 'court', 'case'), ('supreme', 'court', 'justice'), ('analytica', 'mark', 'zuckerberg'), ('protests', 'mark', 'zuckerberg'), ('times', 'crossword', 'george'), ('disapprove', 'young', 'people'), ('young', 'people', 'ought'), ('young', 'people', 'seized'), ('leopoldo', 'lópez', 'opposition'), ('print', 'section', 'april'), ('relatively', 'modest', 'amount'), ('jeff', 'sessions', 'reviewing'), ('jeff', 'sessions', 'teases'), ('levine', 'metropolitan', 'opera'), ('stephon', 'clark', 'reignited'), ('april', 'look', 'closely'), ('truth', 'look', 'closely'), ('saturday', 'high', 'school'), ('andrew', 'cunanan', 'increasingly'), ('killer', 'andrew', 'cunanan'), ('anxiety', 'west', 'wing'), ('mood', 'west', 'wing'), ('west', 'wing', 'enforced'), ('week', 'properties', 'washington'), ('parkland', 'fla.', 'lawyer'), ('jae-in', 'south', 'korea'), ('pact', 'south', 'korea'), ('business', 'week', 'properties'), ('board', 'emily', 'cox'), ('home', 'west', 'virginia'), ('republicans', 'mark', 'zuckerberg'), ('dr.', 'lawrence', 'g.'), ('supreme', 'court', 'thursday'), ('election', 'donald', 'trump'), ('march', 'lives', 'rally'), ('role', 'andrew', 'cunanan'), ('parkland', 'fla.', 'left'), ('public', 'mark', 'zuckerberg'), ('museum', 'los', 'angeles'), ('parkland', 'fla.', 'shooting'), ('county', 'law', 'enforcement'), ('rex', 'w.', 'tillerson'), ('join', 'conversation', 'week'), ('secretary', 'betsy', 'devos'), ('war', 'supreme', 'court'), ('florida', 'high', 'school'), ('high', 'school', 'parkland'), ('former', 'supreme', 'court'), ('puzzle', 'emily', 'cox'), ('pedestrian', 'walkway', 'florida'), ('omar', 'mateen', 'killed'), ('stoneman', 'douglas', 'high'), ('los', 'angeles', 'wednesday'), ('cynthia', 'nixon', 'considers'), ('european', 'union', 'greece'), ('fairly', 'european', 'union'), ('nato', 'european', 'union'), ('high', 'school', 'class'), ('residences', 'experts', 'say'), ('monastery', 'south', 'carolina'), ('luther', 'king', 'killed'), ('young', 'people', 'broke'), ('brilliant', 'young', 'people'), ('law', 'enforcement', 'intelligence'), ('law', 'enforcement', 'matter'), ('flowers', 'metropolitan', 'opera'), ('party', 'look', 'closely'), ('donald', 'trump', 'dose'), ('knows', 'donald', 'trump'), ('men', 'los', 'angeles'), ('resignation', 'west', 'wing'), ('west', 'virginia', 'exposed'), ('west', 'wing', 'duty'), ('west', 'wing', 'god'), ('lópez', 'house', 'arrest'), ('old', 'high', 'school'), ('henry', 'rathvon', 'take'), ('school', 'parkland', 'fla.'), ('policy', 'high', 'school'), ('see', 'look', 'closely'), ('companies', 'law', 'enforcement'), ('upside', 'south', 'korea'), ('bar', 'pornographic', 'film'), ('germany', 'pornographic', 'film'), ('look', 'andrew', 'cunanan'), ('law', 'enforcement', 'says'), ('century', 'young', 'people'), ('difference', 'young', 'people'), ('kill', 'young', 'people'), ('mark', 'zuckerberg', 'said'), ('another', 'look', 'closely'), ('increase', 'benchmark', 'interest'), ('stephon', 'clark', 'funeral'), ('abolish', 'term', 'limits'), ('ethicist', 'columnist', 'spouse'), ('surprise', 'magazine', 'ethicist'), ('steps', 'march', 'lives'), ('secret', 'west', 'wing'), ('students', 'see', 'anti-communism'), ('students', 'see', 'removing'), ('henry', 'rathvon', 'two'), ('capital', 'pornographic', 'film'), ('former', 'law', 'enforcement'), ('eliminating', 'nuclear', 'weapons'), ('nuclear', 'weapons', 'bargaining'), ('walkway', 'florida', 'international'), ('twitter', 'stormy', 'daniels'), ('edge', 'european', 'union'), ('house', 'los', 'angeles'), ('young', 'people', 'shootings'), ('ended', 'west', 'virginia'), ('shape', 'jeff', 'sessions'), ('jeff', 'sessions', 'visit'), ('metropolitan', 'opera', 'struggling'), ('stormy', 'daniels', 'claim'), ('experts', 'say', 'conversations'), ('experts', 'say', 'maintaining'), ('gary', 'd.', 'cohn'), ('john', 'r.', 'bolton'), ('pornographic', 'film', 'star'), ('comment', 'send', 'us'), ('south', 'korea', 'got'), ('donald', 'trump', 'appeared'), ('stormy', 'daniels', 'biggest'), ('west', 'virginia', 'teachers'), ('high', 'school', 'years'), ('young', 'people', 'wrong'), ('weapons', 'south', 'korea'), ('remember', 'cynthia', 'nixon'), ('began', 'west', 'virginia'), ('rude', 'john', 'bolton'), ('mayor', 'stephon', 'clark'), ('months', 'stormy', 'daniels'), ('cynthia', 'nixon', 'challenging'), ('right', 'young', 'people'), ('image', 'tell', 'trump'), ('shooting', 'stephon', 'clark'), ('stephon', 'clark', 'shooting'), ('troops', 'cynthia', 'nixon'), ('behind', 'march', 'lives'), ('west', 'virginia', 'come'), ('south', 'korea', 'monday'), ('deal', 'south', 'korea'), ('friday', 'young', 'people'), ('hundreds', 'march', 'lives'), ('south', 'korea', 'says'), ('half', 'places', 'traveler'), ('term', 'limits', 'bid'), ('former', 'pornographic', 'film'), ('abandoning', 'nuclear', 'weapons'), ('introducing', 'nuclear', 'weapons'), ('take', 'stormy', 'daniels'), ('west', 'wing', 'federal'), ('state', 'metropolitan', 'opera'), ('donald', 'trump', 'magazine'), ('young', 'people', 'make'), ('places', 'traveler', 'puerto'), ('vladimir', 'v.', 'putin'), ('families', 'experts', 'say'), ('combined', 'undermine', 'democracy'), ('misinformation', 'undermine', 'democracy'), ('undermine', 'democracy', 'palliative'), ('undermine', 'democracy', 'salvation'), ('education', 'secretary', 'betsy'), ('workers', 'friends', 'acquaintances'), ('go', 'march', 'lives'), ('city', 'region', 'briton'), ('experts', 'say', 'parents'), ('affairs', 'fifty', 'years'), ('turned', 'donald', 'trump'), ('march', 'lives', 'another'), ('ethicist', 'columnist', 'employee'), ('luxury', 'magazine', 'ethicist'), ('term', 'limits', 'showed'), ('works', 'magazine', 'ethicist'), ('stormy', 'daniels', 'many'), ('incarnations', 'north', 'korean'), ('criminal', 'sexual', 'conduct'), ('aide', 'joseph', 'percoco'), ('cynthia', 'nixon', 'trying'), ('european', 'union', 'officials'), ('house', 'intelligence', 'committee'), ('visit', 'places', 'traveler'), ('founded', 'john', 'bolton'), ('students', 'see', 'daughter'), ('experts', 'say', 'wednesday'), ('crossword', 'puzzles', 'monday'), ('joseph', 'percoco', 'convicted'), ('european', 'union', 'plan'), ('metropolitan', 'opera', 'may'), ('children', 'experts', 'say'), ('west', 'virginia', 'may'), ('south', 'korea', 'week'), ('places', 'traveler', 'trip'), ('home', 'cynthia', 'nixon'), ('family', 'experts', 'say'), ('korean', 'leader', 'invited'), ('korean', 'leader', 'train'), ('entries', 'past', 'week'), ('porn', 'star', 'payoff'), ('one', 'west', 'virginia'), ('places', 'traveler', 'love'), ('experts', 'say', 'whether'), ('joseph', 'percoco', 'asked'), ('fifty', 'years', 'martin'), ('happened', 'fifty', 'years'), ('else', 'john', 'bolton'), ('john', 'bolton', 'hired'), ('zuckerberg', 'facebook', 'chief'), ('tips', 'undermine', 'democracy'), ('put', 'nuclear', 'weapons'), ('nuclear', 'weapons', 'died'), ('amphibians', 'around', 'world'), ('around', 'world', 'alexa'), ('around', 'world', 'bryant'), ('donald', 'trump', 'would'), ('finds', 'fifty', 'years'), ('wall', 'fifty', 'years'), ('south', 'korean', 'envoys'), ('years', 'martin', 'luther'), ('students', 'see', 'end'), ('donald', 'trump', 'house'), ('trump', 'stephon', 'clark'), ('environment', 'border', 'wall'), ('metropolitan', 'opera', 'new'), ('charged', 'criminal', 'sexual'), ('announcing', 'tariffs', 'billion'), ('ethicist', 'columnist', 'whether'), ('betsy', 'devos', 'defend'), ('competitor', 'erik', 'agard'), ('dan', 'bilefsky', 'forget'), ('erik', 'agard', 'starts'), ('g.', 'nassar', 'imprisoned'), ('gavin', 'newsom', 'skips'), ('lynn', 'lempel', 'dresses'), ('lynn', 'lempel', 'prolific'), ('nobel', 'laureate', 'studying'), ('ups', 'downs', 'detours'), ('yousafzai', 'nobel', 'laureate'), ('south', 'korea', 'trump'), ('times', 'print', 'section'), ('said', 'donald', 'trump'), ('donald', 'trump', 'president'), ('students', 'see', 'campaign'), ('nuclear', 'weapons', 'south'), ('gun', 'violence', 'federica'), ('gun', 'violence', 'honor'), ('gun', 'violence', 'nippy'), ('joseph', 'percoco', 'former'), ('think', 'illustration', 'saying'), ('readers', 'responded', 'article'), ('opposition', 'leader', 'leopoldo'), ('york', 'places', 'traveler'), ('john', 'bolton', 'next'), ('silence', 'porn', 'star'), ('allegations', 'sexual', 'harassment'), ('sexual', 'harassment', 'authors'), ('sexual', 'harassment', 'expand'), ('florida', 'international', 'university'), ('term', 'limits', 'may'), ('met', 'north', 'korean'), ('john', 'bolton', 'go'), ('trump', 'experts', 'say'), ('city', 'region', 'advocates'), ('around', 'world', 'amazing'), ('photographed', 'around', 'world'), ('present', 'north', 'korean'), ('curb', 'sexual', 'harassment'), ('prevent', 'sexual', 'harassment'), ('eighth', 'congressional', 'district'), ('maryland', 'congressional', 'district'), ('vietnam', 'war', 'would'), ('limbo', 'david', 'shulkin'), ('issues', 'border', 'wall'), ('whether', 'john', 'bolton'), ('undermine', 'democracy', 'let'), ('erik', 'agard', 'leads'), ('g.', 'nassar', 'boss'), ('gavin', 'newsom', 'fights'), ('nakesha', 'williams', 'resisted'), ('chronicles', 'ups', 'downs'), ('correspondent', 'dan', 'bilefsky'), ('hits', 'erik', 'agard'), ('socal', 'gavin', 'newsom'), ('surprised', 'stephanie', 'clifford'), ('killed', 'people', 'orlando'), ('mateen', 'killed', 'people'), ('resisted', 'help', 'social'), ('a.', 'lynn', 'lempel'), ('betsy', 'devos', 'defended'), ('painter', 'ups', 'downs'), ('shines', 'lynn', 'lempel'), ('ably', 'assisted', 'natan'), ('admit', 'falls', 'short'), ('brunello', 'di', 'montalcino'), ('collapse', 'pedestrian', 'walkway'), ('crown', 'prince', 'mohammed'), ('falls', 'short', 'farm'), ('joe', 'dipietro', 'deliver'), ('justin', 'trudeau', 'algonquin'), ('modest', 'amount', 'backbone'), ('money', 'porn', 'star'), ('crossword', 'debut', 'italians'), ('city', 'region', 'men'), ('news', 'north', 'korean'), ('men', 'women', 'served'), ('testified', 'bill', 'de'), ('border', 'wall', 'fifty'), ('walkout', 'gun', 'violence')]\n"
     ]
    }
   ],
   "source": [
    "print(best_trigrams_lkr)"
   ]
  },
  {
   "cell_type": "markdown",
   "metadata": {},
   "source": [
    "Calcularemos las colocaciones más relevantes de los <b>snippets</b> pero con el módulo <b>Phrases</b> de Gensim"
   ]
  },
  {
   "cell_type": "markdown",
   "metadata": {},
   "source": [
    "Previamente cargaremos el módulo Phrases."
   ]
  },
  {
   "cell_type": "code",
   "execution_count": 21,
   "metadata": {},
   "outputs": [],
   "source": [
    "from gensim.models.phrases import Phrases\n",
    "from gensim.models import Phrases"
   ]
  },
  {
   "cell_type": "markdown",
   "metadata": {},
   "source": [
    "Preprocesamos el texto que utilizaremos para entrenar el modelo de detección de phrases. Al resultado le llamaremos <b><i>stream</i></b>. Como vimos en el apartado 3.3, el stream tiene que ser una lista de listas. Cada lista contiene los términos de una frase: e.g. [['virtual', 'coins', 'real', 'resources'],  ['u.s', 'advances', 'military', 'plans', 'for', 'north', 'korea'],  ['mr', 'trump', 'and', 'the', 'very', 'bad', 'judge']]"
   ]
  },
  {
   "cell_type": "markdown",
   "metadata": {},
   "source": [
    "No queremos considerar la palabra <b>unknown</b>"
   ]
  },
  {
   "cell_type": "code",
   "execution_count": 22,
   "metadata": {},
   "outputs": [
    {
     "name": "stdout",
     "output_type": "stream",
     "text": [
      "[['america', 'has', 'a', 'productivity', 'problem', '.', 'one', 'explanation', 'may', 'be', 'the', 'growing', 'use', 'of', 'real', 'resources', 'to', 'make', 'virtual', 'products', '.'], ['the', 'american', 'military', 'is', 'looking', 'at', 'everything', 'from', 'troop', 'rotations', 'to', 'surveillance', 'to', 'casualty', 'evacuations', 'should', 'it', 'be', 'ordered', 'to', 'take', 'action', 'against', 'north', 'korea', '.'], ['can', 'you', 'guess', 'which', 'man', 'is', 'the', 'model', 'public', 'servant', '?'], ['censors', 'swung', 'into', 'action', 'after', 'mr.', 'xi', '’', 's', 'bid', 'to', 'become', 'leader', 'for', 'life', 'resurrected', 'memories', 'of', 'mao', '’', 's', 'personality', 'cult', 'and', 'the', 'feverish', 'emotions', 'that', 'it', 'created', '.'], ['apollo', ',', 'the', 'private', 'equity', 'firm', ',', 'and', 'citigroup', 'made', 'large', 'loans', 'last', 'year', 'to', 'the', 'family', 'real', 'estate', 'business', 'of', 'jared', 'kushner', ',', 'president', 'trump', '’', 's', 'senior', 'adviser', '.']]\n"
     ]
    }
   ],
   "source": [
    "# stream = [word_tokenize(d.lower()) for d in tokens_snippet if d != \"Unknown\"]\n",
    "\n",
    "# Se entiende que se tiene que preprocesar convirtiendo la columna snippets a listas\n",
    "stream = [word_tokenize(d.lower()) for d in df.snippet.tolist() if d != \"Unknown\"]\n",
    "print(stream[:5])"
   ]
  },
  {
   "cell_type": "markdown",
   "metadata": {},
   "source": [
    "<b>\n",
    "Entrenamos el modelo para detectar phrases.\n",
    "</b>"
   ]
  },
  {
   "cell_type": "code",
   "execution_count": 23,
   "metadata": {},
   "outputs": [],
   "source": [
    "# phrases = Phrases(stream, min_count=1, threshold=2, delimiter=b'_')\n",
    "phrases = Phrases(stream, min_count=1, threshold=2, delimiter=B' ')"
   ]
  },
  {
   "cell_type": "markdown",
   "metadata": {},
   "source": [
    "Utilizamos el modelo para detectar las phrases de los snippets. Presentamos las phrases que contienen más de una palabra (el caracter delimitador de Phrases por defecto es '_')"
   ]
  },
  {
   "cell_type": "code",
   "execution_count": 24,
   "metadata": {
    "scrolled": true
   },
   "outputs": [
    {
     "name": "stdout",
     "output_type": "stream",
     "text": [
      "['America', 'has', 'a', 'productivity', 'problem .', 'One', 'explanation', 'may be', 'the growing', 'use of', 'real', 'resources', 'to make', 'virtual', 'products']\n"
     ]
    }
   ],
   "source": [
    "doc_tokens = word_tokenize(snippet_texts)\n",
    "text_phrases = phrases[doc_tokens]\n",
    "\n",
    "print(text_phrases[:15])"
   ]
  },
  {
   "cell_type": "markdown",
   "metadata": {},
   "source": [
    "<b>Evaluación de los métodos de extracción de colocaciones</b>"
   ]
  },
  {
   "cell_type": "markdown",
   "metadata": {},
   "source": [
    "Compararamos los resultados de cada método (PMI, Log Likehood y Phrase) con las <b>Keywords</b>."
   ]
  },
  {
   "cell_type": "markdown",
   "metadata": {},
   "source": [
    "Primer paso: Encontramos la intersección entre la suma de bigramas y trigramas calculados con el método PMI y la lista de keywords"
   ]
  },
  {
   "cell_type": "code",
   "execution_count": 25,
   "metadata": {},
   "outputs": [],
   "source": [
    "# a continuación se muestra los bigramas y trigramas con su respectivo score tanto \n",
    "# para pmi y likeh para proceder a comprar resultados.\n",
    "bigram_coll_candidates, trigram_coll_candidates = get_coll_candidates(tokens_snippet)\n",
    "bigram_coll_candidates_filtered, trigram_coll_candidates_filtered = re_filter_candidates(bigram_coll_candidates, \n",
    "                                                                                        trigram_coll_candidates)    "
   ]
  },
  {
   "cell_type": "code",
   "execution_count": 26,
   "metadata": {},
   "outputs": [
    {
     "data": {
      "text/html": [
       "<div>\n",
       "<style scoped>\n",
       "    .dataframe tbody tr th:only-of-type {\n",
       "        vertical-align: middle;\n",
       "    }\n",
       "\n",
       "    .dataframe tbody tr th {\n",
       "        vertical-align: top;\n",
       "    }\n",
       "\n",
       "    .dataframe thead th {\n",
       "        text-align: right;\n",
       "    }\n",
       "</style>\n",
       "<table border=\"1\" class=\"dataframe\">\n",
       "  <thead>\n",
       "    <tr style=\"text-align: right;\">\n",
       "      <th></th>\n",
       "      <th>bigram</th>\n",
       "      <th>pmi</th>\n",
       "    </tr>\n",
       "  </thead>\n",
       "  <tbody>\n",
       "    <tr>\n",
       "      <th>0</th>\n",
       "      <td>(a.r, gurney)</td>\n",
       "      <td>13.981478</td>\n",
       "    </tr>\n",
       "    <tr>\n",
       "      <th>1</th>\n",
       "      <td>(abbey, trappist)</td>\n",
       "      <td>13.981478</td>\n",
       "    </tr>\n",
       "    <tr>\n",
       "      <th>2</th>\n",
       "      <td>(abdel, fattah)</td>\n",
       "      <td>13.981478</td>\n",
       "    </tr>\n",
       "    <tr>\n",
       "      <th>3</th>\n",
       "      <td>(abe, cultivated)</td>\n",
       "      <td>13.981478</td>\n",
       "    </tr>\n",
       "    <tr>\n",
       "      <th>4</th>\n",
       "      <td>(abloh, louis)</td>\n",
       "      <td>13.981478</td>\n",
       "    </tr>\n",
       "    <tr>\n",
       "      <th>...</th>\n",
       "      <td>...</td>\n",
       "      <td>...</td>\n",
       "    </tr>\n",
       "    <tr>\n",
       "      <th>995</th>\n",
       "      <td>(spouse, therapist)</td>\n",
       "      <td>13.981478</td>\n",
       "    </tr>\n",
       "    <tr>\n",
       "      <th>996</th>\n",
       "      <td>(springlike, crunch)</td>\n",
       "      <td>13.981478</td>\n",
       "    </tr>\n",
       "    <tr>\n",
       "      <th>997</th>\n",
       "      <td>(spry, winning)</td>\n",
       "      <td>13.981478</td>\n",
       "    </tr>\n",
       "    <tr>\n",
       "      <th>998</th>\n",
       "      <td>(staffing, mistakes)</td>\n",
       "      <td>13.981478</td>\n",
       "    </tr>\n",
       "    <tr>\n",
       "      <th>999</th>\n",
       "      <td>(staggering, caseloads)</td>\n",
       "      <td>13.981478</td>\n",
       "    </tr>\n",
       "  </tbody>\n",
       "</table>\n",
       "<p>1000 rows × 2 columns</p>\n",
       "</div>"
      ],
      "text/plain": [
       "                      bigram        pmi\n",
       "0              (a.r, gurney)  13.981478\n",
       "1          (abbey, trappist)  13.981478\n",
       "2            (abdel, fattah)  13.981478\n",
       "3          (abe, cultivated)  13.981478\n",
       "4             (abloh, louis)  13.981478\n",
       "..                       ...        ...\n",
       "995      (spouse, therapist)  13.981478\n",
       "996     (springlike, crunch)  13.981478\n",
       "997          (spry, winning)  13.981478\n",
       "998     (staffing, mistakes)  13.981478\n",
       "999  (staggering, caseloads)  13.981478\n",
       "\n",
       "[1000 rows x 2 columns]"
      ]
     },
     "execution_count": 26,
     "metadata": {},
     "output_type": "execute_result"
    }
   ],
   "source": [
    "# def nbest(self, score_fn, n):\n",
    "#     \"\"\"Returns the top n ngrams when scored by the given function.\"\"\"\n",
    "#     return [p for p, s in self.score_ngrams(score_fn)[:n]]\n",
    "\n",
    "#la definicion de la funcion devuelve n elementos de la lista\n",
    "\n",
    "# se muestra los mejores bigrama con el score pmi\n",
    "# bigram_coll_candidates_filtered.score_ngrams(bigram_measures.pmi)[:1000]\n",
    "pd.DataFrame(list(bigram_coll_candidates_filtered.score_ngrams(bigram_measures.pmi)[:1000]), columns=['bigram','pmi'])"
   ]
  },
  {
   "cell_type": "code",
   "execution_count": 27,
   "metadata": {},
   "outputs": [
    {
     "data": {
      "text/html": [
       "<div>\n",
       "<style scoped>\n",
       "    .dataframe tbody tr th:only-of-type {\n",
       "        vertical-align: middle;\n",
       "    }\n",
       "\n",
       "    .dataframe tbody tr th {\n",
       "        vertical-align: top;\n",
       "    }\n",
       "\n",
       "    .dataframe thead th {\n",
       "        text-align: right;\n",
       "    }\n",
       "</style>\n",
       "<table border=\"1\" class=\"dataframe\">\n",
       "  <thead>\n",
       "    <tr style=\"text-align: right;\">\n",
       "      <th></th>\n",
       "      <th>trigram</th>\n",
       "      <th>pmi</th>\n",
       "    </tr>\n",
       "  </thead>\n",
       "  <tbody>\n",
       "    <tr>\n",
       "      <th>0</th>\n",
       "      <td>(abdel, fattah, el-sisi)</td>\n",
       "      <td>27.962956</td>\n",
       "    </tr>\n",
       "    <tr>\n",
       "      <th>1</th>\n",
       "      <td>(abloh, louis, vuitton)</td>\n",
       "      <td>27.962956</td>\n",
       "    </tr>\n",
       "    <tr>\n",
       "      <th>2</th>\n",
       "      <td>(accounts, fake, made-for-television)</td>\n",
       "      <td>27.962956</td>\n",
       "    </tr>\n",
       "    <tr>\n",
       "      <th>3</th>\n",
       "      <td>(acknowledge, sexting, aspect)</td>\n",
       "      <td>27.962956</td>\n",
       "    </tr>\n",
       "    <tr>\n",
       "      <th>4</th>\n",
       "      <td>(adapted, distinguish, retailers)</td>\n",
       "      <td>27.962956</td>\n",
       "    </tr>\n",
       "    <tr>\n",
       "      <th>...</th>\n",
       "      <td>...</td>\n",
       "      <td>...</td>\n",
       "    </tr>\n",
       "    <tr>\n",
       "      <th>995</th>\n",
       "      <td>(interconnected, delivering, immediate)</td>\n",
       "      <td>26.377994</td>\n",
       "    </tr>\n",
       "    <tr>\n",
       "      <th>996</th>\n",
       "      <td>(isle, au, haut)</td>\n",
       "      <td>26.377994</td>\n",
       "    </tr>\n",
       "    <tr>\n",
       "      <th>997</th>\n",
       "      <td>(jacqueline, kennedy, onassis)</td>\n",
       "      <td>26.377994</td>\n",
       "    </tr>\n",
       "    <tr>\n",
       "      <th>998</th>\n",
       "      <td>(james, b., comey)</td>\n",
       "      <td>26.377994</td>\n",
       "    </tr>\n",
       "    <tr>\n",
       "      <th>999</th>\n",
       "      <td>(jennifer, palmieri, tells)</td>\n",
       "      <td>26.377994</td>\n",
       "    </tr>\n",
       "  </tbody>\n",
       "</table>\n",
       "<p>1000 rows × 2 columns</p>\n",
       "</div>"
      ],
      "text/plain": [
       "                                     trigram        pmi\n",
       "0                   (abdel, fattah, el-sisi)  27.962956\n",
       "1                    (abloh, louis, vuitton)  27.962956\n",
       "2      (accounts, fake, made-for-television)  27.962956\n",
       "3             (acknowledge, sexting, aspect)  27.962956\n",
       "4          (adapted, distinguish, retailers)  27.962956\n",
       "..                                       ...        ...\n",
       "995  (interconnected, delivering, immediate)  26.377994\n",
       "996                         (isle, au, haut)  26.377994\n",
       "997           (jacqueline, kennedy, onassis)  26.377994\n",
       "998                       (james, b., comey)  26.377994\n",
       "999              (jennifer, palmieri, tells)  26.377994\n",
       "\n",
       "[1000 rows x 2 columns]"
      ]
     },
     "execution_count": 27,
     "metadata": {},
     "output_type": "execute_result"
    }
   ],
   "source": [
    "# se muestra los mejores trigramas con el score pmi\n",
    "# trigram_coll_candidates_filtered.score_ngrams(trigram_measures.pmi)[:1000]\n",
    "pd.DataFrame(list(trigram_coll_candidates_filtered.score_ngrams(trigram_measures.pmi)[:1000]), columns=['trigram','pmi'])"
   ]
  },
  {
   "cell_type": "code",
   "execution_count": 28,
   "metadata": {},
   "outputs": [],
   "source": [
    "#Se hace la union de los mejores 1000 bigramas y trigramas obtenidos con PMI\n",
    "collocation_candidates = best_bigrams + best_trigrams\n",
    "collocations = [\" \".join(cc) for cc in collocation_candidates]\n",
    "# print(collocations)"
   ]
  },
  {
   "cell_type": "markdown",
   "metadata": {},
   "source": [
    "Encontramos la intersección entre la suma de bigramas y trigramas calculados con el método Log Likehood y la lista de keywords"
   ]
  },
  {
   "cell_type": "code",
   "execution_count": 29,
   "metadata": {},
   "outputs": [
    {
     "data": {
      "text/html": [
       "<div>\n",
       "<style scoped>\n",
       "    .dataframe tbody tr th:only-of-type {\n",
       "        vertical-align: middle;\n",
       "    }\n",
       "\n",
       "    .dataframe tbody tr th {\n",
       "        vertical-align: top;\n",
       "    }\n",
       "\n",
       "    .dataframe thead th {\n",
       "        text-align: right;\n",
       "    }\n",
       "</style>\n",
       "<table border=\"1\" class=\"dataframe\">\n",
       "  <thead>\n",
       "    <tr style=\"text-align: right;\">\n",
       "      <th></th>\n",
       "      <th>bigram</th>\n",
       "      <th>lkr</th>\n",
       "    </tr>\n",
       "  </thead>\n",
       "  <tbody>\n",
       "    <tr>\n",
       "      <th>0</th>\n",
       "      <td>(new, york)</td>\n",
       "      <td>431.906488</td>\n",
       "    </tr>\n",
       "    <tr>\n",
       "      <th>1</th>\n",
       "      <td>(united, states)</td>\n",
       "      <td>416.698266</td>\n",
       "    </tr>\n",
       "    <tr>\n",
       "      <th>2</th>\n",
       "      <td>(president, trump)</td>\n",
       "      <td>411.422648</td>\n",
       "    </tr>\n",
       "    <tr>\n",
       "      <th>3</th>\n",
       "      <td>(white, house)</td>\n",
       "      <td>212.397242</td>\n",
       "    </tr>\n",
       "    <tr>\n",
       "      <th>4</th>\n",
       "      <td>(prime, minister)</td>\n",
       "      <td>154.362692</td>\n",
       "    </tr>\n",
       "    <tr>\n",
       "      <th>...</th>\n",
       "      <td>...</td>\n",
       "      <td>...</td>\n",
       "    </tr>\n",
       "    <tr>\n",
       "      <th>995</th>\n",
       "      <td>(martyna, majok)</td>\n",
       "      <td>21.382382</td>\n",
       "    </tr>\n",
       "    <tr>\n",
       "      <th>996</th>\n",
       "      <td>(martyr, deferment)</td>\n",
       "      <td>21.382382</td>\n",
       "    </tr>\n",
       "    <tr>\n",
       "      <th>997</th>\n",
       "      <td>(masquerading, superintendent.)</td>\n",
       "      <td>21.382382</td>\n",
       "    </tr>\n",
       "    <tr>\n",
       "      <th>998</th>\n",
       "      <td>(massive, manufacturing)</td>\n",
       "      <td>21.382382</td>\n",
       "    </tr>\n",
       "    <tr>\n",
       "      <th>999</th>\n",
       "      <td>(masterpieces, spectacle)</td>\n",
       "      <td>21.382382</td>\n",
       "    </tr>\n",
       "  </tbody>\n",
       "</table>\n",
       "<p>1000 rows × 2 columns</p>\n",
       "</div>"
      ],
      "text/plain": [
       "                              bigram         lkr\n",
       "0                        (new, york)  431.906488\n",
       "1                   (united, states)  416.698266\n",
       "2                 (president, trump)  411.422648\n",
       "3                     (white, house)  212.397242\n",
       "4                  (prime, minister)  154.362692\n",
       "..                               ...         ...\n",
       "995                 (martyna, majok)   21.382382\n",
       "996              (martyr, deferment)   21.382382\n",
       "997  (masquerading, superintendent.)   21.382382\n",
       "998         (massive, manufacturing)   21.382382\n",
       "999        (masterpieces, spectacle)   21.382382\n",
       "\n",
       "[1000 rows x 2 columns]"
      ]
     },
     "execution_count": 29,
     "metadata": {},
     "output_type": "execute_result"
    }
   ],
   "source": [
    "# bigram_coll_candidates_filtered.score_ngrams(bigram_measures.likelihood_ratio)[:1000]\n",
    "pd.DataFrame(list(bigram_coll_candidates_filtered.score_ngrams(bigram_measures.likelihood_ratio)[:1000]), columns=['bigram','lkr'])"
   ]
  },
  {
   "cell_type": "code",
   "execution_count": 30,
   "metadata": {},
   "outputs": [
    {
     "data": {
      "text/html": [
       "<div>\n",
       "<style scoped>\n",
       "    .dataframe tbody tr th:only-of-type {\n",
       "        vertical-align: middle;\n",
       "    }\n",
       "\n",
       "    .dataframe tbody tr th {\n",
       "        vertical-align: top;\n",
       "    }\n",
       "\n",
       "    .dataframe thead th {\n",
       "        text-align: right;\n",
       "    }\n",
       "</style>\n",
       "<table border=\"1\" class=\"dataframe\">\n",
       "  <thead>\n",
       "    <tr style=\"text-align: right;\">\n",
       "      <th></th>\n",
       "      <th>trigram</th>\n",
       "      <th>lkr</th>\n",
       "    </tr>\n",
       "  </thead>\n",
       "  <tbody>\n",
       "    <tr>\n",
       "      <th>0</th>\n",
       "      <td>(new, york, times)</td>\n",
       "      <td>859.724936</td>\n",
       "    </tr>\n",
       "    <tr>\n",
       "      <th>1</th>\n",
       "      <td>(new, york, city)</td>\n",
       "      <td>839.316024</td>\n",
       "    </tr>\n",
       "    <tr>\n",
       "      <th>2</th>\n",
       "      <td>(sales, new, york)</td>\n",
       "      <td>729.264851</td>\n",
       "    </tr>\n",
       "    <tr>\n",
       "      <th>3</th>\n",
       "      <td>(obituaries, new, york)</td>\n",
       "      <td>683.440035</td>\n",
       "    </tr>\n",
       "    <tr>\n",
       "      <th>4</th>\n",
       "      <td>(makes, new, york)</td>\n",
       "      <td>678.509300</td>\n",
       "    </tr>\n",
       "    <tr>\n",
       "      <th>...</th>\n",
       "      <td>...</td>\n",
       "      <td>...</td>\n",
       "    </tr>\n",
       "    <tr>\n",
       "      <th>995</th>\n",
       "      <td>(news, north, korean)</td>\n",
       "      <td>81.772889</td>\n",
       "    </tr>\n",
       "    <tr>\n",
       "      <th>996</th>\n",
       "      <td>(men, women, served)</td>\n",
       "      <td>81.557156</td>\n",
       "    </tr>\n",
       "    <tr>\n",
       "      <th>997</th>\n",
       "      <td>(testified, bill, de)</td>\n",
       "      <td>81.518175</td>\n",
       "    </tr>\n",
       "    <tr>\n",
       "      <th>998</th>\n",
       "      <td>(border, wall, fifty)</td>\n",
       "      <td>81.499270</td>\n",
       "    </tr>\n",
       "    <tr>\n",
       "      <th>999</th>\n",
       "      <td>(walkout, gun, violence)</td>\n",
       "      <td>81.439778</td>\n",
       "    </tr>\n",
       "  </tbody>\n",
       "</table>\n",
       "<p>1000 rows × 2 columns</p>\n",
       "</div>"
      ],
      "text/plain": [
       "                      trigram         lkr\n",
       "0          (new, york, times)  859.724936\n",
       "1           (new, york, city)  839.316024\n",
       "2          (sales, new, york)  729.264851\n",
       "3     (obituaries, new, york)  683.440035\n",
       "4          (makes, new, york)  678.509300\n",
       "..                        ...         ...\n",
       "995     (news, north, korean)   81.772889\n",
       "996      (men, women, served)   81.557156\n",
       "997     (testified, bill, de)   81.518175\n",
       "998     (border, wall, fifty)   81.499270\n",
       "999  (walkout, gun, violence)   81.439778\n",
       "\n",
       "[1000 rows x 2 columns]"
      ]
     },
     "execution_count": 30,
     "metadata": {},
     "output_type": "execute_result"
    }
   ],
   "source": [
    "# trigram_coll_candidates_filtered.score_ngrams(trigram_measures.likelihood_ratio)[:1000]\n",
    "pd.DataFrame(list(trigram_coll_candidates_filtered.score_ngrams(trigram_measures.likelihood_ratio)[:1000]), columns=['trigram','lkr'])"
   ]
  },
  {
   "cell_type": "code",
   "execution_count": 31,
   "metadata": {},
   "outputs": [],
   "source": [
    "# se realiza la suma de los mejores bigramas y trigramas usando la medida likehood\n",
    "collocation_candidates_lkr = best_bigrams_lkr + best_trigrams_lkr\n",
    "collocations_lkr = [\" \".join(cc) for cc in collocation_candidates_lkr]"
   ]
  },
  {
   "cell_type": "markdown",
   "metadata": {},
   "source": [
    "### Conclusiones"
   ]
  },
  {
   "cell_type": "markdown",
   "metadata": {},
   "source": [
    "- Los resultados de Phrase no se puede evaluar comparándolos con los resultados del método PMI y Log Likehood, la clase Phrases tiene un threshold que simplemente representa la puntuación de las frases, se acepta una frase si la puntuación es mayor que este umbral.\n",
    "\n",
    "\n",
    "- Al parecer __Phrases__ es más adecuado para obtener resultados de colaciones ya que la interseccioón obtenida es mayor usando esta clase. Usando la medida Likehood también se obtienen mejores resultados si comparamos con los resultados obtenidos con la medida PMI."
   ]
  },
  {
   "cell_type": "markdown",
   "metadata": {},
   "source": [
    "## Métodos de extracción de colocaciones con <b>información lingüística</b>"
   ]
  },
  {
   "cell_type": "markdown",
   "metadata": {},
   "source": [
    "Mejoramos la gramática  detectar n-gramas añadiendo otros patrones sintácticos, por ejemplo patrones que combinen adjetivos y nombres."
   ]
  },
  {
   "cell_type": "markdown",
   "metadata": {},
   "source": [
    "Recordemos la clasificación de etiquetas PoS.\n",
    "\n",
    "<b>Etiquetas PoS</b>\n",
    "\n",
    "<ul>\n",
    "<li>DT: Determinante</li>\n",
    "<li>JJ: Adjetivo</li>\n",
    "<li>NN: Nombre en singular</li>\n",
    "<li>NNS: Nombre en plural</li>\n",
    "<li>VBD: Verbo en pasado</li>\n",
    "<li>VBG: Verbo en gerundio</li>\n",
    "<li>MD: Verbo modal</li>\n",
    "<li>IN: Preposición</li>\n",
    "<li>PRP: Pronombre</li>\n",
    "<li>RB: Adverbio</li>\n",
    "<li>CC: Conjunción coordinada</li>\n",
    "<li>CD: Numeral</li>\n",
    "</ul>"
   ]
  },
  {
   "cell_type": "code",
   "execution_count": 32,
   "metadata": {},
   "outputs": [],
   "source": [
    "def patterns_and_parser():\n",
    "#Definición de los patterns sintácticos de un nodo N. La hoja de un nodo N es un nombre en singular (NN) \n",
    "#o en plural (NNS)\n",
    "    n_patterns = \"\"\"\n",
    "              N: {<NN>|<NNS>}\n",
    "              \"\"\"\n",
    "#Definición de los patterns sintácticos de un nodo CN. Las hojas de un nodo CN son dos nombres en singular\n",
    "    cn_patterns = \"\"\"\n",
    "              CN: {<NN> <NN>}\n",
    "              \"\"\"\n",
    "#Definición de los patterns sintácticos de un nodo NV. Las hojas de un nodo NV es un nombre y un verbo en pasado\n",
    "    nv_patterns = \"\"\"\n",
    "              NV: {<NN> <VBG>}\n",
    "              \"\"\"\n",
    "#Definición del parser que creará los nodos N del árbol\n",
    "    n_parser = nltk.RegexpParser(n_patterns)\n",
    "#Definición del parser que creará los nodos CN del árbol    \n",
    "    cn_parser = nltk.RegexpParser(cn_patterns)\n",
    "#Definición del parser que creará los nodos NV del árbol    \n",
    "    nv_parser = nltk.RegexpParser(nv_patterns)\n",
    "    return n_patterns, cn_patterns, nv_patterns, n_parser, cn_parser, nv_parser"
   ]
  },
  {
   "cell_type": "code",
   "execution_count": 33,
   "metadata": {},
   "outputs": [],
   "source": [
    "def get_string_form(tuple_list):\n",
    "    words = [cti[0] for cti in tuple_list]\n",
    "    string_form = \"_\".join(words)\n",
    "    return string_form"
   ]
  },
  {
   "cell_type": "code",
   "execution_count": 34,
   "metadata": {},
   "outputs": [],
   "source": [
    "def get_n_and_cn_nv(tagged_tokens):\n",
    "    #Definición de patterns sintácticos y parser\n",
    "    n_patterns, cn_patterns, nv_patterns, n_parser, cn_parser, nv_parser = patterns_and_parser()\n",
    "    #Creación de los árboles con los nodos N\n",
    "    n_tree = n_parser.parse(tagged_tokens)\n",
    "    #Creación de los árboles con los nodos CN\n",
    "    cn_tree = cn_parser.parse(tagged_tokens)\n",
    "    #Creación de los árboles con los nodos nv\n",
    "    nv_tree = nv_parser.parse(tagged_tokens)\n",
    "    #Listado de las hojas de los nodos N\n",
    "    n_leaves = [s.leaves() for s in n_tree.subtrees() if s.label() == 'N'] # Lista de hojas N. Una hoja es una lista\n",
    "                                                                           # de tuplas (token, PoS)\n",
    "                                                                           #(e.g: [[('philosophers', 'NNS')],...])\n",
    "    #Listado de las hojas de los nodos CN\n",
    "    cn_leaves = [s.leaves() for s in cn_tree.subtrees() if s.label() == 'CN'] # Lista de hojas CN\n",
    "                                                                              # (e.g: [('world', 'NN'), \n",
    "                                                                              #        ('event', 'NN')],...])\n",
    "        #Listado de las hojas de los nodos CN\n",
    "    nv_leaves = [s.leaves() for s in nv_tree.subtrees() if s.label() == 'NV'] # Lista de hojas nv\n",
    "                                                                              # (e.g: [('world', 'NV'), \n",
    "                                                                              #        ('event', 'NV')],...])\n",
    "    #Unión de los dos listados\n",
    "    n_cn_tuples = n_leaves + cn_leaves + nv_leaves  \n",
    "    #Conversión de las tuplas que representan las hojas al término\n",
    "    n_and_cn_nv = [get_string_form(c) for c in n_cn_tuples]#e.g: [('world', 'NN'), ('event', 'NN')] -> world_event                                                                       \n",
    "    \n",
    "    return n_and_cn_nv"
   ]
  },
  {
   "cell_type": "markdown",
   "metadata": {},
   "source": [
    "### 1.3 Vectorizamos términos "
   ]
  },
  {
   "cell_type": "markdown",
   "metadata": {},
   "source": [
    "Entrenamos un modelo word2vec de los titulares con los snippets (text_for_modelling)"
   ]
  },
  {
   "cell_type": "markdown",
   "metadata": {},
   "source": [
    "Primer paso: preprocesamos el texto que utilizaremos para entrenar el modelo."
   ]
  },
  {
   "cell_type": "code",
   "execution_count": 35,
   "metadata": {},
   "outputs": [
    {
     "name": "stdout",
     "output_type": "stream",
     "text": [
      "[['america', 'has', 'a', 'productivity', 'problem', '.', 'one', 'explanation', 'may', 'be', 'the', 'growing', 'use', 'of', 'real', 'resources', 'to', 'make', 'virtual', 'products', '.'], ['the', 'american', 'military', 'is', 'looking', 'at', 'everything', 'from', 'troop', 'rotations', 'to', 'surveillance', 'to', 'casualty', 'evacuations', 'should', 'it', 'be', 'ordered', 'to', 'take', 'action', 'against', 'north', 'korea', '.'], ['can', 'you', 'guess', 'which', 'man', 'is', 'the', 'model', 'public', 'servant', '?'], ['censors', 'swung', 'into', 'action', 'after', 'mr.', 'xi', '’', 's', 'bid', 'to', 'become', 'leader', 'for', 'life', 'resurrected', 'memories', 'of', 'mao', '’', 's', 'personality', 'cult', 'and', 'the', 'feverish', 'emotions', 'that', 'it', 'created', '.'], ['apollo', ',', 'the', 'private', 'equity', 'firm', ',', 'and', 'citigroup', 'made', 'large', 'loans', 'last', 'year', 'to', 'the', 'family', 'real', 'estate', 'business', 'of', 'jared', 'kushner', ',', 'president', 'trump', '’', 's', 'senior', 'adviser', '.']]\n"
     ]
    }
   ],
   "source": [
    "# stream_w2 = [word_tokenize(d.lower()) for d in df.headline.tolist() if d != \"Unknown\"]\n",
    "stream_w2 = [word_tokenize(d.lower()) for d in df.snippet.tolist() if d != \"Unknown\"]\n",
    "print(stream_w2[:5])"
   ]
  },
  {
   "cell_type": "markdown",
   "metadata": {},
   "source": [
    "Entrenamos un modelo Word2Vec a partir del texto preprocesado. Recordemos que el paquete <b>gensim</b> implementa un método para entrenar modelos Word2Vec."
   ]
  },
  {
   "cell_type": "code",
   "execution_count": 36,
   "metadata": {},
   "outputs": [
    {
     "data": {
      "text/plain": [
       "(169391, 323480)"
      ]
     },
     "execution_count": 36,
     "metadata": {},
     "output_type": "execute_result"
    }
   ],
   "source": [
    "w2vnyt = gensim.models.Word2Vec(\n",
    "        stream_w2,\n",
    "        size=150, \n",
    "        window=10, \n",
    "        min_count= 3, \n",
    "        workers= 1,\n",
    "        seed=1 \n",
    ")\n",
    "w2vnyt.train(stream_w2, total_examples=len(stream_w2), epochs=10)\n"
   ]
  },
  {
   "cell_type": "markdown",
   "metadata": {},
   "source": [
    "Mostramos los vectores de los términos según el modelo Word2Vec mediante TSNE"
   ]
  },
  {
   "cell_type": "markdown",
   "metadata": {},
   "source": [
    "Cargamos los paquetes necesarios. Recuerda que tienes que obtener el vocabulario"
   ]
  },
  {
   "cell_type": "code",
   "execution_count": 37,
   "metadata": {},
   "outputs": [],
   "source": [
    "import matplotlib.pyplot as plt\n",
    "import seaborn as sns\n",
    "from sklearn.manifold import TSNE"
   ]
  },
  {
   "cell_type": "code",
   "execution_count": 38,
   "metadata": {},
   "outputs": [],
   "source": [
    "# def tsne_plot(model):\n",
    "#     labels, tokens = [], []\n",
    "#     for word in model.wv.vocab:\n",
    "#         tokens.append(model[word])\n",
    "#         labels.append(word)\n",
    "    \n",
    "#     tsne_model = TSNE(n_components=2, random_state=1)\n",
    "#     new_values = tsne_model.fit_transform(tokens)\n",
    "\n",
    "#     x, y = [], []\n",
    "#     for value in new_values:\n",
    "#         x.append(value[0])\n",
    "#         y.append(value[1])\n",
    "        \n",
    "#     plt.figure(figsize=(16, 16)) \n",
    "#     for i in range(len(x)):\n",
    "#         plt.scatter(x[i],y[i])\n",
    "#         plt.annotate(labels[i],xy=(x[i], y[i]),xytext=(5, 2),textcoords='offset points',ha='right',va='bottom')\n",
    "#     plt.show()\n",
    "# tsne_plot(w2vnyt)"
   ]
  },
  {
   "cell_type": "code",
   "execution_count": 39,
   "metadata": {},
   "outputs": [],
   "source": [
    "def good_candidate(t,postag):\n",
    "    v = False\n",
    "    #Si es multipalabra\n",
    "    if ' ' in t:\n",
    "        tl = t.split(' ') #Generamos una lista de tokens\n",
    "        #el token inicial y el token final deben ser alfabéticos y no pueden estar en la lista de stopwords..\n",
    "        if re.match(\"^[a-z]+.*\", tl[0]) and re.match(\"^[a-z]+.*\", tl[-1]) and \\\n",
    "           tl[0] not in stopwords and tl[1] not in stopwords:\n",
    "            #... ni su PoS puede estar en la lista no_pos_in\n",
    "            if postag[0][1] not in no_pos_in and postag[-1][1] not in no_pos_in:\n",
    "                v = True\n",
    "    #Si es monopalabra\n",
    "    else:\n",
    "        #debe ser alfabético, y no estar en la lista de stopwords\n",
    "        if t not in stopwords and re.match(\"^[a-z]+.*\", t):\n",
    "            #y su PoS no puede estar en la lista no_pos_in\n",
    "            if postag[0][1] not in no_pos_in:\n",
    "                v = True\n",
    "    return v"
   ]
  },
  {
   "cell_type": "code",
   "execution_count": 40,
   "metadata": {},
   "outputs": [],
   "source": [
    "phrases_vocabulary = list(w2vnyt.wv.vocab)\n",
    "postag = {}\n",
    "text_phrases_stripped = [tp.strip('\".,;:-():!?-‘’ ') for tp in text_phrases]\n",
    "for tps in text_phrases_stripped:\n",
    "    postag[tps] = nltk.pos_tag(word_tokenize(tps))\n",
    "    \n",
    "def phrase_is_term(phrase):\n",
    "    test = False\n",
    "    if phrase not in postag:\n",
    "        pos = nltk.pos_tag(word_tokenize(phrase))\n",
    "    else:\n",
    "        pos = postag[phrase]\n",
    "    if good_candidate(phrase,pos):\n",
    "        test = True\n",
    "    return test\n",
    "\n",
    "no_pos_in = ['DT', 'IN', 'PRP', 'CC', 'CD','MD', 'VBG', 'VBD', 'RP']\n",
    "terms_vocabulary = [pv for pv in phrases_vocabulary if phrase_is_term(pv) == True]"
   ]
  },
  {
   "cell_type": "code",
   "execution_count": 41,
   "metadata": {},
   "outputs": [
    {
     "name": "stderr",
     "output_type": "stream",
     "text": [
      "<ipython-input-41-ecf1f6605428>:1: DeprecationWarning: Call to deprecated `__getitem__` (Method will be removed in 4.0.0, use self.wv.__getitem__() instead).\n",
      "  X = w2vnyt[terms_vocabulary]\n"
     ]
    },
    {
     "data": {
      "image/png": "[encoded data removed]",
      "text/plain": [
       "<Figure size 1080x720 with 1 Axes>"
      ]
     },
     "metadata": {
      "needs_background": "light"
     },
     "output_type": "display_data"
    }
   ],
   "source": [
    "X = w2vnyt[terms_vocabulary]\n",
    "tsne = TSNE(n_components=2, random_state=1)\n",
    "X_tsne = tsne.fit_transform(X)\n",
    "df = pd.DataFrame(X_tsne, index=terms_vocabulary, columns=['x', 'y'])\n",
    "fig = plt.figure(figsize=(15,10))\n",
    "ax = fig.add_subplot(1, 1, 1)\n",
    "ax.scatter(df['x'], df['y'])\n",
    "for word, pos in df.iterrows():\n",
    "    ax.annotate(word, pos)\n",
    "plt.show()\n"
   ]
  },
  {
   "cell_type": "markdown",
   "metadata": {},
   "source": [
    "Obtenemos los 10 términos similares al término 'president', que no sean stopwords, según el modelo Word2Vec. Utiliza el método <b>most_similar</b> de la clase Word2Vec, que veréis en <a>https://radimrehurek.com/gensim/models/word2vec.html</a> y en <a>https://stackoverflow.com/questions/50275623/difference-between-most-similar-and-similar-by-vector-in-gensim-word2vec</a>. El parámetro de las n palabras más similares es topn (e.g: topn = 50)"
   ]
  },
  {
   "cell_type": "code",
   "execution_count": 42,
   "metadata": {},
   "outputs": [
    {
     "name": "stderr",
     "output_type": "stream",
     "text": [
      "<ipython-input-42-d8edb6a5d493>:5: DeprecationWarning: Call to deprecated `most_similar` (Method will be removed in 4.0.0, use self.wv.most_similar() instead).\n",
      "  sims = w2vnyt.most_similar(term, topn=100)\n"
     ]
    },
    {
     "data": {
      "text/html": [
       "<div>\n",
       "<style scoped>\n",
       "    .dataframe tbody tr th:only-of-type {\n",
       "        vertical-align: middle;\n",
       "    }\n",
       "\n",
       "    .dataframe tbody tr th {\n",
       "        vertical-align: top;\n",
       "    }\n",
       "\n",
       "    .dataframe thead th {\n",
       "        text-align: right;\n",
       "    }\n",
       "</style>\n",
       "<table border=\"1\" class=\"dataframe\">\n",
       "  <thead>\n",
       "    <tr style=\"text-align: right;\">\n",
       "      <th></th>\n",
       "      <th>term</th>\n",
       "      <th>distance</th>\n",
       "    </tr>\n",
       "  </thead>\n",
       "  <tbody>\n",
       "    <tr>\n",
       "      <th>0</th>\n",
       "      <td>trump</td>\n",
       "      <td>0.999330</td>\n",
       "    </tr>\n",
       "    <tr>\n",
       "      <th>1</th>\n",
       "      <td>mr.</td>\n",
       "      <td>0.999158</td>\n",
       "    </tr>\n",
       "    <tr>\n",
       "      <th>2</th>\n",
       "      <td>affair</td>\n",
       "      <td>0.998479</td>\n",
       "    </tr>\n",
       "    <tr>\n",
       "      <th>3</th>\n",
       "      <td>campaign</td>\n",
       "      <td>0.998445</td>\n",
       "    </tr>\n",
       "    <tr>\n",
       "      <th>4</th>\n",
       "      <td>white</td>\n",
       "      <td>0.998417</td>\n",
       "    </tr>\n",
       "    <tr>\n",
       "      <th>5</th>\n",
       "      <td>administration</td>\n",
       "      <td>0.998349</td>\n",
       "    </tr>\n",
       "    <tr>\n",
       "      <th>6</th>\n",
       "      <td>counsel</td>\n",
       "      <td>0.998313</td>\n",
       "    </tr>\n",
       "    <tr>\n",
       "      <th>7</th>\n",
       "      <td>xi</td>\n",
       "      <td>0.998266</td>\n",
       "    </tr>\n",
       "    <tr>\n",
       "      <th>8</th>\n",
       "      <td>north</td>\n",
       "      <td>0.998253</td>\n",
       "    </tr>\n",
       "    <tr>\n",
       "      <th>9</th>\n",
       "      <td>leader</td>\n",
       "      <td>0.998253</td>\n",
       "    </tr>\n",
       "  </tbody>\n",
       "</table>\n",
       "</div>"
      ],
      "text/plain": [
       "             term  distance\n",
       "0           trump  0.999330\n",
       "1             mr.  0.999158\n",
       "2          affair  0.998479\n",
       "3        campaign  0.998445\n",
       "4           white  0.998417\n",
       "5  administration  0.998349\n",
       "6         counsel  0.998313\n",
       "7              xi  0.998266\n",
       "8           north  0.998253\n",
       "9          leader  0.998253"
      ]
     },
     "execution_count": 42,
     "metadata": {},
     "output_type": "execute_result"
    }
   ],
   "source": [
    "# con el argumento topn inicializado en más de 10, en concreto 100 se obtiene los términos\n",
    "# despues añadimos solo los que no se encuentran en stopwords ni signos.\n",
    "# Finalmente de la lista resultante mostramos los 10 similares\n",
    "term = 'president'\n",
    "sims = w2vnyt.most_similar(term, topn=100)\n",
    "result_terms = [sims[w] for w in range(0, len(sims)) if sims[w][0] not in stopwords and re.match(\"^[a-z]+.*\", sims[w][0])]\n",
    "\n",
    "pd.DataFrame(list(result_terms[:10]), columns=['term','distance'])"
   ]
  },
  {
   "cell_type": "markdown",
   "metadata": {},
   "source": [
    "También mostramos los terminos con el método similarity"
   ]
  },
  {
   "cell_type": "code",
   "execution_count": 43,
   "metadata": {},
   "outputs": [
    {
     "name": "stderr",
     "output_type": "stream",
     "text": [
      "<ipython-input-43-bc13f25c4d78>:9: DeprecationWarning: Call to deprecated `similarity` (Method will be removed in 4.0.0, use self.wv.similarity() instead).\n",
      "  if feature_names[i] != term and w2vnyt.similarity(term, feature_names[i]) > 0:\n",
      "<ipython-input-43-bc13f25c4d78>:10: DeprecationWarning: Call to deprecated `similarity` (Method will be removed in 4.0.0, use self.wv.similarity() instead).\n",
      "  w2v_tuples.append((feature_names[i], w2vnyt.similarity(term, feature_names[i])))\n"
     ]
    },
    {
     "data": {
      "text/html": [
       "<div>\n",
       "<style scoped>\n",
       "    .dataframe tbody tr th:only-of-type {\n",
       "        vertical-align: middle;\n",
       "    }\n",
       "\n",
       "    .dataframe tbody tr th {\n",
       "        vertical-align: top;\n",
       "    }\n",
       "\n",
       "    .dataframe thead th {\n",
       "        text-align: right;\n",
       "    }\n",
       "</style>\n",
       "<table border=\"1\" class=\"dataframe\">\n",
       "  <thead>\n",
       "    <tr style=\"text-align: right;\">\n",
       "      <th></th>\n",
       "      <th>term</th>\n",
       "      <th>distance</th>\n",
       "    </tr>\n",
       "  </thead>\n",
       "  <tbody>\n",
       "    <tr>\n",
       "      <th>0</th>\n",
       "      <td>trump</td>\n",
       "      <td>0.999330</td>\n",
       "    </tr>\n",
       "    <tr>\n",
       "      <th>1</th>\n",
       "      <td>mr.</td>\n",
       "      <td>0.999158</td>\n",
       "    </tr>\n",
       "    <tr>\n",
       "      <th>2</th>\n",
       "      <td>affair</td>\n",
       "      <td>0.998479</td>\n",
       "    </tr>\n",
       "    <tr>\n",
       "      <th>3</th>\n",
       "      <td>campaign</td>\n",
       "      <td>0.998445</td>\n",
       "    </tr>\n",
       "    <tr>\n",
       "      <th>4</th>\n",
       "      <td>white</td>\n",
       "      <td>0.998417</td>\n",
       "    </tr>\n",
       "    <tr>\n",
       "      <th>5</th>\n",
       "      <td>administration</td>\n",
       "      <td>0.998349</td>\n",
       "    </tr>\n",
       "    <tr>\n",
       "      <th>6</th>\n",
       "      <td>counsel</td>\n",
       "      <td>0.998313</td>\n",
       "    </tr>\n",
       "    <tr>\n",
       "      <th>7</th>\n",
       "      <td>xi</td>\n",
       "      <td>0.998266</td>\n",
       "    </tr>\n",
       "    <tr>\n",
       "      <th>8</th>\n",
       "      <td>north</td>\n",
       "      <td>0.998253</td>\n",
       "    </tr>\n",
       "    <tr>\n",
       "      <th>9</th>\n",
       "      <td>leader</td>\n",
       "      <td>0.998253</td>\n",
       "    </tr>\n",
       "  </tbody>\n",
       "</table>\n",
       "</div>"
      ],
      "text/plain": [
       "             term  distance\n",
       "0           trump  0.999330\n",
       "1             mr.  0.999158\n",
       "2          affair  0.998479\n",
       "3        campaign  0.998445\n",
       "4           white  0.998417\n",
       "5  administration  0.998349\n",
       "6         counsel  0.998313\n",
       "7              xi  0.998266\n",
       "8           north  0.998253\n",
       "9          leader  0.998253"
      ]
     },
     "execution_count": 43,
     "metadata": {},
     "output_type": "execute_result"
    }
   ],
   "source": [
    "# just test and how to plot different 10 best\n",
    "w2v_tuples = []\n",
    "\n",
    "feature_names = terms_vocabulary\n",
    "\n",
    "#Para cada feature name, calculamos su distancia respecto al término de referencia con el método model.similarity.\n",
    "#Si la distancia es superior a 0, la tupla se pone en la lista de tuplas\n",
    "for i in range(0, len(feature_names)):\n",
    "    if feature_names[i] != term and w2vnyt.similarity(term, feature_names[i]) > 0:\n",
    "        w2v_tuples.append((feature_names[i], w2vnyt.similarity(term, feature_names[i])))\n",
    "    \n",
    "#Se ordenan las tuplas\n",
    "w2v_sorted_tuples = sorted(w2v_tuples, key=lambda tup: tup[1], reverse=True)\n",
    "\n",
    "pd.DataFrame(list(w2v_sorted_tuples[:10:]), columns=['term','distance'])"
   ]
  },
  {
   "cell_type": "markdown",
   "metadata": {},
   "source": [
    "Cargamos un modelo w2vec pre-entrenado: </ul>"
   ]
  },
  {
   "cell_type": "markdown",
   "metadata": {},
   "source": [
    "Cargamos un modelo Word2Vec entrenado previamente con todo el Google News dataset, con aproximadamente cien mil millones de palabras. <b>Atención: ¡el modelo ocupa casi 2 GB! y la carga puede tardar unos minutos.</b>"
   ]
  },
  {
   "cell_type": "code",
   "execution_count": 44,
   "metadata": {},
   "outputs": [],
   "source": [
    "import gensim.downloader as api\n",
    "wv = api.load('word2vec-google-news-300')"
   ]
  },
  {
   "cell_type": "markdown",
   "metadata": {},
   "source": [
    "Obtenemos los términos similares al término 'president' según el modelo pre-entrenado, que no sean stopwords. Como en el punto 7, utilizamos el método <b>most_similar</b>"
   ]
  },
  {
   "cell_type": "code",
   "execution_count": 45,
   "metadata": {},
   "outputs": [
    {
     "data": {
      "text/html": [
       "<div>\n",
       "<style scoped>\n",
       "    .dataframe tbody tr th:only-of-type {\n",
       "        vertical-align: middle;\n",
       "    }\n",
       "\n",
       "    .dataframe tbody tr th {\n",
       "        vertical-align: top;\n",
       "    }\n",
       "\n",
       "    .dataframe thead th {\n",
       "        text-align: right;\n",
       "    }\n",
       "</style>\n",
       "<table border=\"1\" class=\"dataframe\">\n",
       "  <thead>\n",
       "    <tr style=\"text-align: right;\">\n",
       "      <th></th>\n",
       "      <th>term</th>\n",
       "      <th>distance</th>\n",
       "    </tr>\n",
       "  </thead>\n",
       "  <tbody>\n",
       "    <tr>\n",
       "      <th>0</th>\n",
       "      <td>chairman</td>\n",
       "      <td>0.670874</td>\n",
       "    </tr>\n",
       "    <tr>\n",
       "      <th>1</th>\n",
       "      <td>vice_president</td>\n",
       "      <td>0.670023</td>\n",
       "    </tr>\n",
       "    <tr>\n",
       "      <th>2</th>\n",
       "      <td>chief_executive</td>\n",
       "      <td>0.669127</td>\n",
       "    </tr>\n",
       "    <tr>\n",
       "      <th>3</th>\n",
       "      <td>pesident</td>\n",
       "      <td>0.626521</td>\n",
       "    </tr>\n",
       "    <tr>\n",
       "      <th>4</th>\n",
       "      <td>executive</td>\n",
       "      <td>0.618248</td>\n",
       "    </tr>\n",
       "    <tr>\n",
       "      <th>5</th>\n",
       "      <td>prez</td>\n",
       "      <td>0.576191</td>\n",
       "    </tr>\n",
       "    <tr>\n",
       "      <th>6</th>\n",
       "      <td>vicepresident</td>\n",
       "      <td>0.567255</td>\n",
       "    </tr>\n",
       "    <tr>\n",
       "      <th>7</th>\n",
       "      <td>presidents</td>\n",
       "      <td>0.559636</td>\n",
       "    </tr>\n",
       "    <tr>\n",
       "      <th>8</th>\n",
       "      <td>chairperson</td>\n",
       "      <td>0.555838</td>\n",
       "    </tr>\n",
       "    <tr>\n",
       "      <th>9</th>\n",
       "      <td>chief</td>\n",
       "      <td>0.550743</td>\n",
       "    </tr>\n",
       "  </tbody>\n",
       "</table>\n",
       "</div>"
      ],
      "text/plain": [
       "              term  distance\n",
       "0         chairman  0.670874\n",
       "1   vice_president  0.670023\n",
       "2  chief_executive  0.669127\n",
       "3         pesident  0.626521\n",
       "4        executive  0.618248\n",
       "5             prez  0.576191\n",
       "6    vicepresident  0.567255\n",
       "7       presidents  0.559636\n",
       "8      chairperson  0.555838\n",
       "9            chief  0.550743"
      ]
     },
     "execution_count": 45,
     "metadata": {},
     "output_type": "execute_result"
    }
   ],
   "source": [
    "sims = wv.most_similar(term, topn=100)\n",
    "result_terms = [sims[w] for w in range(0, len(sims)) if sims[w][0] not in stopwords and re.match(\"^[a-z]+.*\", sims[w][0])]\n",
    "\n",
    "pd.DataFrame(list(result_terms[:10]), columns=['term','distance'])"
   ]
  },
  {
   "cell_type": "markdown",
   "metadata": {},
   "source": [
    "A partir del modelo de Google News,  se demuestra el sentido de la palabra 'apple' comprobando las palabras con las cuales comparte contexto\n",
    "\n",
    "¿Es posible vincular un apple con Steve Jobs?"
   ]
  },
  {
   "cell_type": "code",
   "execution_count": 46,
   "metadata": {},
   "outputs": [
    {
     "data": {
      "text/html": [
       "<div>\n",
       "<style scoped>\n",
       "    .dataframe tbody tr th:only-of-type {\n",
       "        vertical-align: middle;\n",
       "    }\n",
       "\n",
       "    .dataframe tbody tr th {\n",
       "        vertical-align: top;\n",
       "    }\n",
       "\n",
       "    .dataframe thead th {\n",
       "        text-align: right;\n",
       "    }\n",
       "</style>\n",
       "<table border=\"1\" class=\"dataframe\">\n",
       "  <thead>\n",
       "    <tr style=\"text-align: right;\">\n",
       "      <th></th>\n",
       "      <th>term</th>\n",
       "      <th>distance</th>\n",
       "    </tr>\n",
       "  </thead>\n",
       "  <tbody>\n",
       "    <tr>\n",
       "      <th>0</th>\n",
       "      <td>apples</td>\n",
       "      <td>0.720360</td>\n",
       "    </tr>\n",
       "    <tr>\n",
       "      <th>1</th>\n",
       "      <td>pear</td>\n",
       "      <td>0.645070</td>\n",
       "    </tr>\n",
       "    <tr>\n",
       "      <th>2</th>\n",
       "      <td>fruit</td>\n",
       "      <td>0.641015</td>\n",
       "    </tr>\n",
       "    <tr>\n",
       "      <th>3</th>\n",
       "      <td>berry</td>\n",
       "      <td>0.630230</td>\n",
       "    </tr>\n",
       "    <tr>\n",
       "      <th>4</th>\n",
       "      <td>pears</td>\n",
       "      <td>0.613396</td>\n",
       "    </tr>\n",
       "    <tr>\n",
       "      <th>5</th>\n",
       "      <td>strawberry</td>\n",
       "      <td>0.605826</td>\n",
       "    </tr>\n",
       "    <tr>\n",
       "      <th>6</th>\n",
       "      <td>peach</td>\n",
       "      <td>0.602587</td>\n",
       "    </tr>\n",
       "    <tr>\n",
       "      <th>7</th>\n",
       "      <td>potato</td>\n",
       "      <td>0.596093</td>\n",
       "    </tr>\n",
       "    <tr>\n",
       "      <th>8</th>\n",
       "      <td>grape</td>\n",
       "      <td>0.593586</td>\n",
       "    </tr>\n",
       "    <tr>\n",
       "      <th>9</th>\n",
       "      <td>blueberry</td>\n",
       "      <td>0.586667</td>\n",
       "    </tr>\n",
       "  </tbody>\n",
       "</table>\n",
       "</div>"
      ],
      "text/plain": [
       "         term  distance\n",
       "0      apples  0.720360\n",
       "1        pear  0.645070\n",
       "2       fruit  0.641015\n",
       "3       berry  0.630230\n",
       "4       pears  0.613396\n",
       "5  strawberry  0.605826\n",
       "6       peach  0.602587\n",
       "7      potato  0.596093\n",
       "8       grape  0.593586\n",
       "9   blueberry  0.586667"
      ]
     },
     "execution_count": 46,
     "metadata": {},
     "output_type": "execute_result"
    }
   ],
   "source": [
    "term_apple = \"apple\"\n",
    "sims = wv.most_similar(term_apple, topn=100)\n",
    "result_terms = [sims[w] for w in range(0, len(sims)) if sims[w][0] not in stopwords and re.match(\"^[a-z]+.*\", sims[w][0])]\n",
    "\n",
    "pd.DataFrame(list(result_terms[:10]), columns=['term','distance'])"
   ]
  },
  {
   "cell_type": "markdown",
   "metadata": {},
   "source": [
    "Si miramos los términos similares de la palabra apple esta muy relacionados los resultados con la fruta y no con Apple, el método most_similar tiene dos argumentos en concreto dos listas con valores positivos y negativos. En los positivos podremos incluir sinónimos de Apple, por ejemplo \"computers\", \"founder\" lo que es Steve jobs mientras que en los negativos pondremos las frutas ya que no queremos estas como relación."
   ]
  },
  {
   "cell_type": "code",
   "execution_count": 47,
   "metadata": {},
   "outputs": [
    {
     "data": {
      "text/html": [
       "<div>\n",
       "<style scoped>\n",
       "    .dataframe tbody tr th:only-of-type {\n",
       "        vertical-align: middle;\n",
       "    }\n",
       "\n",
       "    .dataframe tbody tr th {\n",
       "        vertical-align: top;\n",
       "    }\n",
       "\n",
       "    .dataframe thead th {\n",
       "        text-align: right;\n",
       "    }\n",
       "</style>\n",
       "<table border=\"1\" class=\"dataframe\">\n",
       "  <thead>\n",
       "    <tr style=\"text-align: right;\">\n",
       "      <th></th>\n",
       "      <th>term</th>\n",
       "      <th>distance</th>\n",
       "    </tr>\n",
       "  </thead>\n",
       "  <tbody>\n",
       "    <tr>\n",
       "      <th>0</th>\n",
       "      <td>iPhone</td>\n",
       "      <td>0.581832</td>\n",
       "    </tr>\n",
       "    <tr>\n",
       "      <th>1</th>\n",
       "      <td>Iphone</td>\n",
       "      <td>0.566979</td>\n",
       "    </tr>\n",
       "    <tr>\n",
       "      <th>2</th>\n",
       "      <td>HyperCard</td>\n",
       "      <td>0.561142</td>\n",
       "    </tr>\n",
       "    <tr>\n",
       "      <th>3</th>\n",
       "      <td>Ipod_Touch</td>\n",
       "      <td>0.561122</td>\n",
       "    </tr>\n",
       "    <tr>\n",
       "      <th>4</th>\n",
       "      <td>Apple_IIe</td>\n",
       "      <td>0.558276</td>\n",
       "    </tr>\n",
       "    <tr>\n",
       "      <th>5</th>\n",
       "      <td>ipod</td>\n",
       "      <td>0.553949</td>\n",
       "    </tr>\n",
       "    <tr>\n",
       "      <th>6</th>\n",
       "      <td>ipod_touch</td>\n",
       "      <td>0.549559</td>\n",
       "    </tr>\n",
       "    <tr>\n",
       "      <th>7</th>\n",
       "      <td>ipad</td>\n",
       "      <td>0.545539</td>\n",
       "    </tr>\n",
       "    <tr>\n",
       "      <th>8</th>\n",
       "      <td>Ipad</td>\n",
       "      <td>0.543395</td>\n",
       "    </tr>\n",
       "    <tr>\n",
       "      <th>9</th>\n",
       "      <td>Jef_Raskin</td>\n",
       "      <td>0.543322</td>\n",
       "    </tr>\n",
       "  </tbody>\n",
       "</table>\n",
       "</div>"
      ],
      "text/plain": [
       "         term  distance\n",
       "0      iPhone  0.581832\n",
       "1      Iphone  0.566979\n",
       "2   HyperCard  0.561142\n",
       "3  Ipod_Touch  0.561122\n",
       "4   Apple_IIe  0.558276\n",
       "5        ipod  0.553949\n",
       "6  ipod_touch  0.549559\n",
       "7        ipad  0.545539\n",
       "8        Ipad  0.543395\n",
       "9  Jef_Raskin  0.543322"
      ]
     },
     "execution_count": 47,
     "metadata": {},
     "output_type": "execute_result"
    }
   ],
   "source": [
    "term_apple = \"apple\"\n",
    "sims = wv.most_similar(positive=[\"apple\", \"computer\", \"founder\", \"iphone\"], negative=[\"fruit\"])\n",
    "pd.DataFrame(list(sims), columns=['term','distance'])"
   ]
  },
  {
   "cell_type": "markdown",
   "metadata": {},
   "source": [
    "## 2. Obtención de datos a partir de recursos externos al texto"
   ]
  },
  {
   "cell_type": "markdown",
   "metadata": {},
   "source": [
    "En este apartado obtendremos datos de similitud semántica con los recursos <b>Wordnet</b> y <b>ConceptNet</b>"
   ]
  },
  {
   "cell_type": "markdown",
   "metadata": {},
   "source": [
    "### 2.1 WordNet\n"
   ]
  },
  {
   "cell_type": "markdown",
   "metadata": {},
   "source": [
    "Accederemos a Wordnet a través de la librería nltk."
   ]
  },
  {
   "cell_type": "code",
   "execution_count": 48,
   "metadata": {},
   "outputs": [],
   "source": [
    "from nltk.corpus import wordnet as wn"
   ]
  },
  {
   "cell_type": "markdown",
   "metadata": {},
   "source": [
    "El método de wordnet wup_similarity utiliza la métrica de similitud definida por la Wu and Palmer score en que el score (valor) depende de la distancia entre términos dentro del grafo de jerarquías de la ontología, que es el grafo que relaciona términos con sus hiperónimos e hipónimos.\n",
    "\n",
    "Además de la distancia entre dos nodos a través del grafo, la distancia también tiene en cuenta el nivel de jerarquía (más abstracto o menos abstracto), asignando más similitud entre nodos de niveles más bajos (menos abstracto) que entre nodos de niveles más altos (más abstracto)."
   ]
  },
  {
   "cell_type": "markdown",
   "metadata": {},
   "source": [
    "Comprobaremos que efectivamente la similitud de Wu and Palmer tiene el comportamiento esperado comparando las distancias entre pares de sinónimos en diferentes niveles de jerarquía (e.g. person vs human y kid vs child) y entre un término con un hipónimo y un hiperónimo (e.g: chair y table vs furniture)."
   ]
  },
  {
   "cell_type": "code",
   "execution_count": 49,
   "metadata": {},
   "outputs": [
    {
     "name": "stdout",
     "output_type": "stream",
     "text": [
      "LA DIST SEMÁNTICA ENTRE 'person' Y 'human' ES 0.5714285714285714\n"
     ]
    }
   ],
   "source": [
    "person = wn.synset('person.n.01')\n",
    "human = wn.synset('human.n.01')\n",
    "print(\"LA DIST SEMÁNTICA ENTRE 'person' Y 'human' ES\", person.wup_similarity(human))"
   ]
  },
  {
   "cell_type": "code",
   "execution_count": 50,
   "metadata": {},
   "outputs": [
    {
     "data": {
      "text/plain": [
       "False"
      ]
     },
     "execution_count": 50,
     "metadata": {},
     "output_type": "execute_result"
    }
   ],
   "source": [
    "person in human.hypernyms()"
   ]
  },
  {
   "cell_type": "code",
   "execution_count": 51,
   "metadata": {},
   "outputs": [
    {
     "name": "stdout",
     "output_type": "stream",
     "text": [
      "LA DIST SEMÁNTICA ENTRE 'kid' Y 'child' ES 1.0\n"
     ]
    }
   ],
   "source": [
    "kid = wn.synset('kid.n.01')\n",
    "child = wn.synset('child.n.01')\n",
    "print(\"LA DIST SEMÁNTICA ENTRE 'kid' Y 'child' ES\", kid.wup_similarity(child))"
   ]
  },
  {
   "cell_type": "code",
   "execution_count": 52,
   "metadata": {},
   "outputs": [
    {
     "name": "stdout",
     "output_type": "stream",
     "text": [
      "LA DIST SEMÁNTICA ENTRE 'furniture' Y 'table' ES 0.14285714285714285\n"
     ]
    }
   ],
   "source": [
    "table = wn.synset('table.n.01')\n",
    "furniture = wn.synset('furniture.n.01')\n",
    "print(\"LA DIST SEMÁNTICA ENTRE 'furniture' Y 'table' ES\", table.wup_similarity(furniture))"
   ]
  },
  {
   "cell_type": "code",
   "execution_count": 53,
   "metadata": {},
   "outputs": [],
   "source": [
    "tables = wn.synset('table.n.01')\n",
    "furniture = wn.synset('furniture.n.01')"
   ]
  },
  {
   "cell_type": "code",
   "execution_count": 54,
   "metadata": {},
   "outputs": [
    {
     "name": "stdout",
     "output_type": "stream",
     "text": [
      "False\n",
      "False\n"
     ]
    }
   ],
   "source": [
    "chair = wn.synset('chair.n.01')\n",
    "# print(chair.definition())\n",
    "print(chair in furniture.hypernyms())\n",
    "print(chair in tables.hypernyms())"
   ]
  },
  {
   "cell_type": "code",
   "execution_count": 55,
   "metadata": {},
   "outputs": [
    {
     "data": {
      "text/plain": [
       "True"
      ]
     },
     "execution_count": 55,
     "metadata": {},
     "output_type": "execute_result"
    }
   ],
   "source": [
    "hypournitures = set([i for i in furniture.closure(lambda s:s.hyponyms())])\n",
    "chair in hypournitures"
   ]
  },
  {
   "cell_type": "code",
   "execution_count": 56,
   "metadata": {},
   "outputs": [
    {
     "data": {
      "text/plain": [
       "[Synset('seat.n.03')]"
      ]
     },
     "execution_count": 56,
     "metadata": {},
     "output_type": "execute_result"
    }
   ],
   "source": [
    "chair = wn.synset('chair.n.01')\n",
    "chair.hypernyms()"
   ]
  },
  {
   "cell_type": "code",
   "execution_count": 57,
   "metadata": {},
   "outputs": [],
   "source": [
    "# import nltk.corpus as corpus\n",
    "# import itertools as IT\n",
    "# wordnet = corpus.wordnet\n",
    "# list1 = [\"chair\"]\n",
    "# list2 = [\"table\", \"furniture\"]\n",
    "# for word1, word2 in IT.product(list1, list2):\n",
    "#     wordFromList1 = wn.synsets(word1)[0]\n",
    "#     wordFromList2 = wn.synsets(word2)[0]\n",
    "#     print('{w1}, {w2}: {s}'.format(w1 = wordFromList1.name,\n",
    "#                                    w2 = wordFromList2.name,\n",
    "#                                     s = wordFromList1.wup_similarity(wordFromList2)))"
   ]
  },
  {
   "cell_type": "markdown",
   "metadata": {},
   "source": [
    "Se ha mostrado como comparar synsets, se entiende que se puede usar las palabras del enuniciado. En el código se muestra chair esta en los hiperónimos de furnitures. Además se muestra las distancias de las palabras del enunciado."
   ]
  },
  {
   "cell_type": "markdown",
   "metadata": {},
   "source": [
    "### 2.2 ConceptNet"
   ]
  },
  {
   "cell_type": "markdown",
   "metadata": {},
   "source": [
    "A partir de la relación IsA de ConceptNet (http://api.conceptnet.io/r/IsA) extraemos hiperónimos de los términos que hemos utilizado en el punto anterior y comparamos sus distancias con los extraidos por WordNet. Exploramos también casos de phrases como 'United States' que con WordNet no se pueden explorar."
   ]
  },
  {
   "cell_type": "code",
   "execution_count": 58,
   "metadata": {},
   "outputs": [],
   "source": [
    "import requests"
   ]
  },
  {
   "cell_type": "code",
   "execution_count": 59,
   "metadata": {},
   "outputs": [
    {
     "name": "stdout",
     "output_type": "stream",
     "text": [
      "LA DISTANCIA SEMÁNTICA ENTRE 'person' Y 'human' SEGÚN CONCEPTNET ES  0.261\n"
     ]
    }
   ],
   "source": [
    "obj = requests.get('http://api.conceptnet.io/related/c/en/person?filter=/c/en/human').json()\n",
    "print(\"LA DISTANCIA SEMÁNTICA ENTRE 'person' Y 'human' SEGÚN CONCEPTNET ES \", \\\n",
    "      obj['related'][0]['weight'])"
   ]
  },
  {
   "cell_type": "code",
   "execution_count": 60,
   "metadata": {},
   "outputs": [
    {
     "name": "stdout",
     "output_type": "stream",
     "text": [
      "LA DISTANCIA SEMÁNTICA ENTRE 'kid' Y 'child' SEGÚN CONCEPTNET ES  0.693\n"
     ]
    }
   ],
   "source": [
    "obj = requests.get('http://api.conceptnet.io/related/c/en/kid?filter=/c/en/child').json()\n",
    "print(\"LA DISTANCIA SEMÁNTICA ENTRE 'kid' Y 'child' SEGÚN CONCEPTNET ES \", \\\n",
    "      obj['related'][0]['weight'])"
   ]
  },
  {
   "cell_type": "code",
   "execution_count": 61,
   "metadata": {},
   "outputs": [
    {
     "name": "stdout",
     "output_type": "stream",
     "text": [
      "LA DISTANCIA SEMÁNTICA ENTRE 'table' Y 'furniture' SEGÚN CONCEPTNET ES  0.332\n"
     ]
    }
   ],
   "source": [
    "obj = requests.get('http://api.conceptnet.io/related/c/en/table?filter=/c/en/furniture').json()\n",
    "print(\"LA DISTANCIA SEMÁNTICA ENTRE 'table' Y 'furniture' SEGÚN CONCEPTNET ES \", \\\n",
    "      obj['related'][0]['weight'])"
   ]
  },
  {
   "cell_type": "markdown",
   "metadata": {},
   "source": [
    "Wornet está orientada para categarizar lógicamente y determinar similitud de palabras, mientras que ConcepNet esta diseñada para realizar inferencias prácticas basadas en el contexto sobre textos del mundo real. ConceptNet amplía la idea de WordNet de un nodo en la red semántica desde elementos puramente léxicos para incluir conceptos de order superior.\n",
    "\n"
   ]
  },
  {
   "cell_type": "markdown",
   "metadata": {},
   "source": [
    "## 3. Interpretación de los datos: detección de temas.\n",
    "\n",
    "En este apartado exploraremos cómo detectar temas en los documentos. Primero veremos cómo el clustering de las keywords de las noticias perfilan los temas. Utilizaremos el método de K-means, vectorizando las keywords con un vectorizador tf.idf."
   ]
  },
  {
   "cell_type": "markdown",
   "metadata": {},
   "source": [
    "En primer lugar, recogemos, para cada noticia, una lista de sus keywords."
   ]
  },
  {
   "cell_type": "code",
   "execution_count": 62,
   "metadata": {},
   "outputs": [
    {
     "data": {
      "text/plain": [
       "[['Bitcoin (Currency)',\n",
       "  'Electric Light and Power',\n",
       "  'United States Economy',\n",
       "  'Labor and Jobs',\n",
       "  'Productivity'],\n",
       " ['United States Defense and Military Forces',\n",
       "  'North Korea',\n",
       "  'United States International Relations',\n",
       "  'United States Politics and Government',\n",
       "  'Embargoes and Sanctions',\n",
       "  'Civilian Casualties',\n",
       "  'Defense Department',\n",
       "  'Joint Chiefs of Staff'],\n",
       " ['Trump',\n",
       "  'Donald J',\n",
       "  'Curiel',\n",
       "  'Gonzalo P',\n",
       "  'United States Politics and Government',\n",
       "  'Decisions and Verdicts',\n",
       "  'Courts and the Judiciary',\n",
       "  'Mexico',\n",
       "  'Border Barriers']]"
      ]
     },
     "execution_count": 62,
     "metadata": {},
     "output_type": "execute_result"
    }
   ],
   "source": [
    "df = pd.read_csv(article_file)\n",
    "keywords_lists = df.keywords.tolist() #lista de keywords por noticia\n",
    "\n",
    "keywords_lists = list(map(lambda x: list(map(lambda y: y.strip(' \\'[]\\''), x.split(','))), keywords_lists))\n",
    "\n",
    "keywords_lists[:3]"
   ]
  },
  {
   "cell_type": "markdown",
   "metadata": {},
   "source": [
    "Convertimos cada lista de keywords en una cadena de palabras; es decir, en un documento"
   ]
  },
  {
   "cell_type": "code",
   "execution_count": 63,
   "metadata": {},
   "outputs": [
    {
     "name": "stdout",
     "output_type": "stream",
     "text": [
      "['Bitcoin (Currency) Electric Light and Power United States Economy Labor and Jobs Productivity', 'United States Defense and Military Forces North Korea United States International Relations United States Politics and Government Embargoes and Sanctions Civilian Casualties Defense Department Joint Chiefs of Staff', 'Trump Donald J Curiel Gonzalo P United States Politics and Government Decisions and Verdicts Courts and the Judiciary Mexico Border Barriers']\n"
     ]
    }
   ],
   "source": [
    "keywords_docs = [\" \".join(l) for l in keywords_lists ]\n",
    "\n",
    "print(keywords_docs[:3])"
   ]
  },
  {
   "cell_type": "markdown",
   "metadata": {},
   "source": [
    "### 3.1 K-means"
   ]
  },
  {
   "cell_type": "markdown",
   "metadata": {},
   "source": [
    "Clusterizamos las keywords en 4 clusters"
   ]
  },
  {
   "cell_type": "markdown",
   "metadata": {},
   "source": [
    "Vectorizamos los documentos con un tf.idf vectorizer, que tiene 'word' como tokenizador"
   ]
  },
  {
   "cell_type": "code",
   "execution_count": 64,
   "metadata": {},
   "outputs": [],
   "source": [
    "# tfidf_vectorizer = TfidfVectorizer(analyzer=\"word\") ## word is in default constructor\n",
    "from sklearn.feature_extraction.text import TfidfVectorizer\n",
    "tfidf_vectorizer = TfidfVectorizer()\n",
    "tfidf = tfidf_vectorizer.fit_transform(keywords_docs)"
   ]
  },
  {
   "cell_type": "code",
   "execution_count": 65,
   "metadata": {},
   "outputs": [],
   "source": [
    "num_clusters = 4\n",
    "km = KMeans(n_clusters=num_clusters, n_init=10) \n",
    "km.fit(tfidf)\n",
    "labels = km.labels_.tolist()"
   ]
  },
  {
   "cell_type": "code",
   "execution_count": 66,
   "metadata": {},
   "outputs": [],
   "source": [
    "#example\n",
    "# print(keywords_docs[0:2])\n",
    "# print(km.predict(tfidf_vectorizer.transform(keywords_docs))[0:2])"
   ]
  },
  {
   "cell_type": "markdown",
   "metadata": {},
   "source": [
    "Vemos las keywords en 4 clusters. Ten en cuenta que, en el paso anterior, los vectores ya están en una matriz"
   ]
  },
  {
   "cell_type": "code",
   "execution_count": 67,
   "metadata": {},
   "outputs": [
    {
     "data": {
      "image/png": "[encoded data removed]",
      "text/plain": [
       "<Figure size 432x288 with 1 Axes>"
      ]
     },
     "metadata": {
      "needs_background": "light"
     },
     "output_type": "display_data"
    }
   ],
   "source": [
    "import matplotlib.pyplot as plt\n",
    "from sklearn.decomposition import PCA\n",
    "x = tfidf.todense()\n",
    "reduced_data = PCA(n_components=2).fit_transform(x)\n",
    "\n",
    "labels_color_map = {0: 'yellow', 1: 'red' , 2: 'blue', 3 : 'green'}\n",
    "\n",
    "fig, ax = plt.subplots()\n",
    "for index, instance in enumerate(reduced_data):        \n",
    "    pca_comp_1, pca_comp_2 = reduced_data[index]\n",
    "    color = labels_color_map[labels[index]]\n",
    "    ax.scatter(pca_comp_1,pca_comp_2, c=color)\n",
    "plt.show()"
   ]
  },
  {
   "cell_type": "markdown",
   "metadata": {},
   "source": [
    "La gráfica es suficientemente clara, pero hay algunos clusters que están visualmente bien definidos. Si aumentamos el número de clusters empeoaría la visión."
   ]
  },
  {
   "cell_type": "markdown",
   "metadata": {},
   "source": [
    "### 3.2 LDA\n",
    "\n",
    "Aplicación del método LDA para extraer temas de documentos"
   ]
  },
  {
   "cell_type": "markdown",
   "metadata": {},
   "source": [
    "Utilizando el método LDA, extrae temas a partir de los conjuntos de keywords de las noticias. Experimentaremos con el parámetro num_topics hasta encontrar un conjunto de temas que encuentres informativo, y asignaremos nombres a los temas encontrados. La construcción del modelo LDA puede tardar más de 10 minutos para algunos casos."
   ]
  },
  {
   "cell_type": "markdown",
   "metadata": {},
   "source": [
    "Preparamos, por cada noticia, la lista de sus keywords (keywords lists). Ver introducción apartado 3."
   ]
  },
  {
   "cell_type": "markdown",
   "metadata": {},
   "source": [
    "Cargamos el módulo necesario para utilizar el método LDA."
   ]
  },
  {
   "cell_type": "code",
   "execution_count": 68,
   "metadata": {},
   "outputs": [],
   "source": [
    "import gensim.corpora as corpora\n",
    "\n",
    "def lda(terms):\n",
    "    dictionary = corpora.Dictionary(terms)\n",
    "\n",
    "    texts = terms\n",
    "\n",
    "    corpus = [dictionary.doc2bow(text) for text in texts]\n",
    "\n",
    "    ldamodel = gensim.models.ldamodel.LdaModel(corpus, \n",
    "                                               num_topics=10, \n",
    "                                               random_state=1,\n",
    "                                               id2word = dictionary, \n",
    "                                               passes=500)\n",
    "\n",
    "    return ldamodel\n",
    "\n"
   ]
  },
  {
   "cell_type": "markdown",
   "metadata": {},
   "source": [
    "Partiendo de la función LDA anterior explora modelos de temas a partir de la lista de keywords de las noticias. Utiliza diferentes valores para el campo num_topics."
   ]
  },
  {
   "cell_type": "code",
   "execution_count": 69,
   "metadata": {},
   "outputs": [],
   "source": [
    "def lda_modi(terms, num_topics):\n",
    "    dictionary = corpora.Dictionary(terms)\n",
    "\n",
    "    texts = terms\n",
    "\n",
    "    corpus = [dictionary.doc2bow(text) for text in texts]\n",
    "\n",
    "    ldamodel = gensim.models.ldamodel.LdaModel(corpus, \n",
    "                                               num_topics=num_topics, \n",
    "                                               random_state=1,\n",
    "                                               id2word = dictionary, \n",
    "                                               passes=500)\n",
    "\n",
    "    return ldamodel\n"
   ]
  },
  {
   "cell_type": "code",
   "execution_count": 70,
   "metadata": {},
   "outputs": [],
   "source": [
    "# ldamodels = []\n",
    "# for i in range (5, 15):\n",
    "#     ldamodels.append(lda_modi(keywords_lists, i))"
   ]
  },
  {
   "cell_type": "code",
   "execution_count": 71,
   "metadata": {},
   "outputs": [],
   "source": [
    "ldamodel = lda_modi(keywords_lists, 7)"
   ]
  },
  {
   "cell_type": "code",
   "execution_count": 72,
   "metadata": {},
   "outputs": [],
   "source": [
    "ldamodel1 = lda_modi(keywords_lists, 10)"
   ]
  },
  {
   "cell_type": "code",
   "execution_count": 73,
   "metadata": {},
   "outputs": [],
   "source": [
    "ldamodel2 = lda_modi(keywords_lists, 15)"
   ]
  },
  {
   "cell_type": "code",
   "execution_count": 74,
   "metadata": {},
   "outputs": [
    {
     "name": "stdout",
     "output_type": "stream",
     "text": [
      "7\n",
      "[(0, '0.016*\"Facebook Inc\" + 0.015*\"Social Media\" + 0.013*\"Presidential Election of 2016\" + 0.010*\"Cambridge Analytica\" + 0.010*\"Politics and Government\" + 0.009*\"Data-Mining and Database Marketing\" + 0.009*\"United States Politics and Government\" + 0.007*\"United States\" + 0.006*\"Women and Girls\" + 0.006*\"Zuckerberg\"'), (1, '0.024*\"Gun Control\" + 0.017*\"Fla\" + 0.017*\"School Shootings and Armed Attacks\" + 0.016*\"Parkland\" + 0.016*\"Shooting (2018)\" + 0.013*\"Demonstrations\" + 0.013*\"Protests and Riots\" + 0.010*\"Politics and Government\" + 0.007*\"National Rifle Assn\" + 0.006*\"Firearms\"'), (2, '0.031*\"New York City\" + 0.024*\"Television\" + 0.012*\"Vietnam War\" + 0.007*\"Diet and Nutrition\" + 0.006*\"Vietnam\" + 0.006*\"NCAA Basketball Championships (Men)\" + 0.006*\"Photography\" + 0.006*\"Bill\" + 0.005*\"Cooking and Cookbooks\" + 0.005*\"de Blasio\"'), (3, '0.067*\"\" + 0.022*\"New York Times\" + 0.014*\"Photography\" + 0.009*\"Race and Ethnicity\" + 0.009*\"News and News Media\" + 0.008*\"Reading and Writing Skills (Education)\" + 0.008*\"Education (K-12)\" + 0.008*\"Blacks\" + 0.007*\"Real Estate and Housing (Residential)\" + 0.007*\"Books and Literature\"'), (4, '0.054*\"Trump\" + 0.051*\"Donald J\" + 0.043*\"United States Politics and Government\" + 0.023*\"United States International Relations\" + 0.014*\"Russian Interference in 2016 US Elections and Ties to Trump Associates\" + 0.011*\"Real Estate and Housing (Residential)\" + 0.011*\"Appointments and Executive Changes\" + 0.011*\"North Korea\" + 0.008*\"Kim Jong-un\" + 0.008*\"Russia\"'), (5, '0.055*\"Trump\" + 0.053*\"Donald J\" + 0.047*\"United States Politics and Government\" + 0.026*\"International Trade and World Market\" + 0.017*\"Customs (Tariff)\" + 0.015*\"House of Representatives\" + 0.014*\"Republican Party\" + 0.011*\"United States Economy\" + 0.010*\"Elections\" + 0.010*\"Democratic Party\"'), (6, '0.026*\"Crossword Puzzles\" + 0.013*\"NY\" + 0.011*\"Jimmy\" + 0.011*\"Restaurant)\" + 0.010*\"Restaurants\" + 0.009*\"Skripal\" + 0.009*\"New York State\" + 0.009*\"Politics and Government\" + 0.008*\"Great Britain\" + 0.008*\"NY)\"')]\n"
     ]
    }
   ],
   "source": [
    "#Visualización del LDA\n",
    "#Librería para crear matrices\n",
    "import numpy as np\n",
    "\n",
    "import pandas as pd\n",
    "from IPython.display import display, HTML\n",
    "\n",
    "# Matriz donde se muestran los diez términos del vocabulario más probables de pertenecer a un topic.\n",
    "K = ldamodel.num_topics\n",
    "print(K)\n",
    "topicWordProbMat = ldamodel.print_topics(num_topics=K, num_words=10)\n",
    "print(topicWordProbMat)"
   ]
  },
  {
   "cell_type": "code",
   "execution_count": 75,
   "metadata": {},
   "outputs": [
    {
     "name": "stdout",
     "output_type": "stream",
     "text": [
      "10\n",
      "[(0, '0.012*\"United States\" + 0.012*\"NY)\" + 0.008*\"Television\" + 0.006*\"Krim\" + 0.006*\"War Crimes\" + 0.006*\"Genocide and Crimes Against Humanity\" + 0.006*\"Blacks\" + 0.006*\"Politics and Government\" + 0.005*\"Real Estate and Housing (Residential)\" + 0.005*\"Travel and Vacations\"'), (1, '0.039*\"Trump\" + 0.036*\"Donald J\" + 0.022*\"United States International Relations\" + 0.019*\"United States Politics and Government\" + 0.014*\"Politics and Government\" + 0.012*\"Clifford\" + 0.011*\"Jimmy\" + 0.010*\"Adultery\" + 0.010*\"Stephanie (1979- )\" + 0.010*\"Russia\"'), (2, '0.021*\"Television\" + 0.009*\"NCAA Basketball Championships (Men)\" + 0.008*\"Photography\" + 0.007*\"Heart\" + 0.007*\"Basketball (College)\" + 0.007*\"Theater\" + 0.007*\"Real Estate and Housing (Residential)\" + 0.006*\"Exercise\" + 0.006*\"Weight\" + 0.006*\"Diet and Nutrition\"'), (3, '0.063*\"\" + 0.053*\"International Trade and World Market\" + 0.039*\"Donald J\" + 0.039*\"Trump\" + 0.035*\"Customs (Tariff)\" + 0.026*\"United States Politics and Government\" + 0.024*\"New York Times\" + 0.022*\"United States International Relations\" + 0.017*\"China\" + 0.016*\"Protectionism (Trade)\"'), (4, '0.030*\"Trump\" + 0.028*\"Donald J\" + 0.027*\"United States Politics and Government\" + 0.025*\"Gun Control\" + 0.018*\"School Shootings and Armed Attacks\" + 0.017*\"Parkland\" + 0.017*\"Shooting (2018)\" + 0.016*\"Fla\" + 0.011*\"Real Estate and Housing (Residential)\" + 0.010*\"Demonstrations\"'), (5, '0.024*\"NY)\" + 0.023*\"Donald J\" + 0.023*\"Trump\" + 0.022*\"United States Politics and Government\" + 0.020*\"Real Estate and Housing (Residential)\" + 0.015*\"United States Economy\" + 0.010*\"Labor and Jobs\" + 0.010*\"Gary D\" + 0.010*\"Cohn\" + 0.007*\"Tax Cuts and Jobs Act (2017)\"'), (6, '0.055*\"New York City\" + 0.039*\"Crossword Puzzles\" + 0.019*\"NY\" + 0.018*\"NY)\" + 0.018*\"Restaurant)\" + 0.017*\"Restaurants\" + 0.013*\"New York State\" + 0.011*\"Andrew M\" + 0.011*\"Cuomo\" + 0.010*\"de Blasio\"'), (7, '0.016*\"Trump\" + 0.015*\"Donald J\" + 0.014*\"Vietnam War\" + 0.012*\"United States Politics and Government\" + 0.007*\"Travel and Vacations\" + 0.007*\"Vietnam\" + 0.007*\"Colleges and Universities\" + 0.006*\"Presidential Election of 2016\" + 0.006*\"Cooking and Cookbooks\" + 0.006*\"Movies\"'), (8, '0.022*\"Politics and Government\" + 0.019*\"Great Britain\" + 0.014*\"Russia\" + 0.014*\"Skripal\" + 0.009*\"Vladimir V\" + 0.009*\"Putin\" + 0.009*\"Sergei V\" + 0.009*\"Assassinations and Attempted Assassinations\" + 0.008*\"Poisoning and Poisons\" + 0.008*\"Bombs and Explosives\"'), (9, '0.054*\"United States Politics and Government\" + 0.045*\"Trump\" + 0.043*\"Donald J\" + 0.020*\"House of Representatives\" + 0.018*\"Russian Interference in 2016 US Elections and Ties to Trump Associates\" + 0.016*\"Republican Party\" + 0.015*\"Democratic Party\" + 0.015*\"Elections\" + 0.014*\"Facebook Inc\" + 0.012*\"Presidential Election of 2016\"')]\n"
     ]
    }
   ],
   "source": [
    "# Matriz donde se muestran los diez términos del vocabulario más probables de pertenecer a un topic.\n",
    "K = ldamodel1.num_topics\n",
    "print(K)\n",
    "topicWordProbMat = ldamodel1.print_topics(num_topics=K, num_words=10)\n",
    "print(topicWordProbMat)"
   ]
  },
  {
   "cell_type": "code",
   "execution_count": 76,
   "metadata": {},
   "outputs": [
    {
     "name": "stdout",
     "output_type": "stream",
     "text": [
      "15\n",
      "[(0, '0.010*\"Krim\" + 0.008*\"Art\" + 0.007*\"Europe\" + 0.006*\"Supreme Court (US)\" + 0.006*\"NY)\" + 0.006*\"Politics and Government\" + 0.005*\"Kennedy\" + 0.005*\"Scalia\" + 0.005*\"Antonin\" + 0.005*\"Samuel A Jr\"'), (1, '0.020*\"Politics and Government\" + 0.009*\"Academy Awards (Oscars)\" + 0.009*\"United States International Relations\" + 0.008*\"Regulation and Deregulation of Industry\" + 0.007*\"Helicopters\" + 0.007*\"Arms Control and Limitation and Disarmament\" + 0.007*\"Putin\" + 0.007*\"Vladimir V\" + 0.006*\"Aviation Accidents\" + 0.006*\"Safety and Disasters\"'), (2, '0.020*\"Vietnam War\" + 0.015*\"Television\" + 0.013*\"Vietnam\" + 0.012*\"Xi Jinping\" + 0.011*\"Politics and Government\" + 0.010*\"Exercise\" + 0.010*\"China\" + 0.009*\"Weight\" + 0.007*\"Photography\" + 0.007*\"Roman Catholic Church\"'), (3, '0.032*\"Photography\" + 0.030*\"Cooking and Cookbooks\" + 0.025*\"New York Times\" + 0.011*\"Italy)\" + 0.011*\"Recipes\" + 0.009*\"Quebec Province (Canada)\" + 0.009*\"Wines\" + 0.009*\"Canada\" + 0.008*\"Montreal (Quebec)\" + 0.008*\"New York State\"'), (4, '0.104*\"\" + 0.016*\"Parenting\" + 0.015*\"Children and Childhood\" + 0.014*\"Women and Girls\" + 0.013*\"United States Politics and Government\" + 0.012*\"Discrimination\" + 0.010*\"Carson\" + 0.008*\"Real Estate and Housing (Residential)\" + 0.008*\"Benjamin S\" + 0.006*\"Housing and Urban Development Department\"'), (5, '0.060*\"International Trade and World Market\" + 0.047*\"Donald J\" + 0.047*\"Trump\" + 0.041*\"Customs (Tariff)\" + 0.034*\"United States Politics and Government\" + 0.030*\"United States Economy\" + 0.018*\"Protectionism (Trade)\" + 0.017*\"China\" + 0.016*\"United States International Relations\" + 0.010*\"Labor and Jobs\"'), (6, '0.074*\"Crossword Puzzles\" + 0.013*\"New York City\" + 0.013*\"NY\" + 0.011*\"Police Officer)\" + 0.008*\"NY)\" + 0.007*\"Police Department (NYC)\" + 0.005*\"Acrostic Puzzles\" + 0.005*\"Moby-Dick (Book)\" + 0.005*\"Whales and Whaling\" + 0.005*\"Pennsylvania Station (Manhattan\"'), (7, '0.035*\"Gun Control\" + 0.031*\"Fla\" + 0.030*\"School Shootings and Armed Attacks\" + 0.028*\"Shooting (2018)\" + 0.028*\"Parkland\" + 0.019*\"Jimmy\" + 0.015*\"Travel and Vacations\" + 0.012*\"National Rifle Assn\" + 0.011*\"Stephen\" + 0.011*\"Colbert\"'), (8, '0.024*\"Blacks\" + 0.018*\"Politics and Government\" + 0.015*\"Demonstrations\" + 0.015*\"Protests and Riots\" + 0.013*\"Bombs and Explosives\" + 0.012*\"Austin (Tex)\" + 0.012*\"Mark Anthony (1994-2018)\" + 0.012*\"Conditt\" + 0.012*\"Race and Ethnicity\" + 0.011*\"Italy\"'), (9, '0.051*\"Trump\" + 0.049*\"United States Politics and Government\" + 0.047*\"Donald J\" + 0.018*\"Clifford\" + 0.016*\"Adultery\" + 0.015*\"Stephanie (1979- )\" + 0.013*\"Books and Literature\" + 0.012*\"Russian Interference in 2016 US Elections and Ties to Trump Associates\" + 0.011*\"Cohen\" + 0.011*\"Michael D (1966- )\"'), (10, '0.036*\"Elections\" + 0.029*\"Democratic Party\" + 0.026*\"House of Representatives\" + 0.024*\"NY)\" + 0.022*\"United States Politics and Government\" + 0.019*\"News and News Media\" + 0.019*\"Midterm Elections (2018)\" + 0.017*\"Republican Party\" + 0.017*\"Education (K-12)\" + 0.014*\"Lamb\"'), (11, '0.101*\"Trump\" + 0.095*\"Donald J\" + 0.071*\"United States Politics and Government\" + 0.033*\"United States International Relations\" + 0.016*\"Appointments and Executive Changes\" + 0.016*\"North Korea\" + 0.013*\"Russian Interference in 2016 US Elections and Ties to Trump Associates\" + 0.012*\"Kim Jong-un\" + 0.010*\"Steel and Iron\" + 0.009*\"United States\"'), (12, '0.062*\"Real Estate and Housing (Residential)\" + 0.018*\"NY)\" + 0.013*\"Television\" + 0.010*\"Women and Girls\" + 0.009*\"New York City\" + 0.009*\"United States\" + 0.008*\"Interior Design and Furnishings\" + 0.006*\"Books and Literature\" + 0.005*\"Theater\" + 0.005*\"Race and Ethnicity\"'), (13, '0.030*\"Restaurant)\" + 0.027*\"Restaurants\" + 0.022*\"NY\" + 0.017*\"Television\" + 0.014*\"NCAA Basketball Championships (Men)\" + 0.013*\"NY)\" + 0.011*\"Basketball (College)\" + 0.010*\"Manhattan (NYC)\" + 0.008*\"#MeToo Movement\" + 0.007*\"Women and Girls\"'), (14, '0.030*\"New York City\" + 0.027*\"Social Media\" + 0.025*\"Facebook Inc\" + 0.025*\"Russia\" + 0.021*\"Putin\" + 0.021*\"Vladimir V\" + 0.017*\"Great Britain\" + 0.016*\"Cambridge Analytica\" + 0.015*\"Skripal\" + 0.015*\"Data-Mining and Database Marketing\"')]\n"
     ]
    }
   ],
   "source": [
    "# Matriz donde se muestran los diez términos del vocabulario más probables de pertenecer a un topic.\n",
    "K = ldamodel2.num_topics\n",
    "print(K)\n",
    "topicWordProbMat = ldamodel2.print_topics(num_topics=K, num_words=10)\n",
    "print(topicWordProbMat)"
   ]
  },
  {
   "cell_type": "markdown",
   "metadata": {},
   "source": [
    "## 4. Predicciones\n",
    "\n",
    "La empresa S&S hizo la clasificación de los titulares TOP y NOTOP con titulares del New York Times durante la época Trump. Aquí comprobaremos si el clasificador es útil para clasificar titulares publicados ya en la era Biden. \n"
   ]
  },
  {
   "cell_type": "markdown",
   "metadata": {},
   "source": [
    "Creamos un modelo de clasificación de titulares a partir de los titulares del fichero 'NYT-Comment-Headlines.csv'"
   ]
  },
  {
   "cell_type": "markdown",
   "metadata": {},
   "source": [
    "Preparamos los titulares y las etiquetas TOP y NOTOP para emparejarlos para hacer el entrenamiento"
   ]
  },
  {
   "cell_type": "code",
   "execution_count": 77,
   "metadata": {},
   "outputs": [],
   "source": [
    "import pandas as pd\n",
    "\n",
    "ny_headlines_file = os.path.join(data_dir, \"NYT-Comment-Headlines.csv\")\n",
    "df = pd.read_csv(ny_headlines_file, sep='\\t')\n",
    "\n",
    "data_headlines = []\n",
    "data_labels = []\n",
    "\n",
    "headlines = df['Headline'].tolist()\n",
    "tags = df['Tag'].tolist()\n",
    "\n",
    "for i in range(len(headlines)): \n",
    "    data_headlines.append(headlines[i]) \n",
    "    data_labels.append(tags[i])"
   ]
  },
  {
   "cell_type": "markdown",
   "metadata": {},
   "source": [
    "Volvemos a entrenar un modelo de predicción para TOP o NO TOP a partir de la vectorización TfIdf de los titulares. Utiliza los términos detectados por el modelo de detección de phrases."
   ]
  },
  {
   "cell_type": "markdown",
   "metadata": {},
   "source": [
    "Cargamos las librerías necesarias para el entrenamiento y la utilización del modelo. Además, cargamos el modelo de detección de phrases.\n"
   ]
  },
  {
   "cell_type": "code",
   "execution_count": 78,
   "metadata": {},
   "outputs": [
    {
     "ename": "FileNotFoundError",
     "evalue": "[Errno 2] No such file or directory: 'model_phrases'",
     "output_type": "error",
     "traceback": [
      "\u001b[1;31m---------------------------------------------------------------------------\u001b[0m",
      "\u001b[1;31mFileNotFoundError\u001b[0m                         Traceback (most recent call last)",
      "\u001b[1;32m<ipython-input-78-85f297eb7011>\u001b[0m in \u001b[0;36m<module>\u001b[1;34m\u001b[0m\n\u001b[0;32m      8\u001b[0m \u001b[1;32mfrom\u001b[0m \u001b[0mgensim\u001b[0m\u001b[1;33m.\u001b[0m\u001b[0mmodels\u001b[0m\u001b[1;33m.\u001b[0m\u001b[0mphrases\u001b[0m \u001b[1;32mimport\u001b[0m \u001b[0mPhrases\u001b[0m\u001b[1;33m\u001b[0m\u001b[1;33m\u001b[0m\u001b[0m\n\u001b[0;32m      9\u001b[0m \u001b[1;33m\u001b[0m\u001b[0m\n\u001b[1;32m---> 10\u001b[1;33m \u001b[0mmodel_phrases\u001b[0m \u001b[1;33m=\u001b[0m \u001b[0mPhrases\u001b[0m\u001b[1;33m.\u001b[0m\u001b[0mload\u001b[0m\u001b[1;33m(\u001b[0m\u001b[1;34m'model_phrases'\u001b[0m\u001b[1;33m)\u001b[0m\u001b[1;33m\u001b[0m\u001b[1;33m\u001b[0m\u001b[0m\n\u001b[0m",
      "\u001b[1;32mB:\\software\\miniConda\\envs\\models\\lib\\site-packages\\gensim\\models\\phrases.py\u001b[0m in \u001b[0;36mload\u001b[1;34m(cls, *args, **kwargs)\u001b[0m\n\u001b[0;32m    432\u001b[0m \u001b[1;33m\u001b[0m\u001b[0m\n\u001b[0;32m    433\u001b[0m         \"\"\"\n\u001b[1;32m--> 434\u001b[1;33m         \u001b[0mmodel\u001b[0m \u001b[1;33m=\u001b[0m \u001b[0msuper\u001b[0m\u001b[1;33m(\u001b[0m\u001b[0mPhrases\u001b[0m\u001b[1;33m,\u001b[0m \u001b[0mcls\u001b[0m\u001b[1;33m)\u001b[0m\u001b[1;33m.\u001b[0m\u001b[0mload\u001b[0m\u001b[1;33m(\u001b[0m\u001b[1;33m*\u001b[0m\u001b[0margs\u001b[0m\u001b[1;33m,\u001b[0m \u001b[1;33m**\u001b[0m\u001b[0mkwargs\u001b[0m\u001b[1;33m)\u001b[0m\u001b[1;33m\u001b[0m\u001b[1;33m\u001b[0m\u001b[0m\n\u001b[0m\u001b[0;32m    435\u001b[0m         \u001b[1;32mif\u001b[0m \u001b[1;32mnot\u001b[0m \u001b[0mhasattr\u001b[0m\u001b[1;33m(\u001b[0m\u001b[0mmodel\u001b[0m\u001b[1;33m,\u001b[0m \u001b[1;34m'corpus_word_count'\u001b[0m\u001b[1;33m)\u001b[0m\u001b[1;33m:\u001b[0m\u001b[1;33m\u001b[0m\u001b[1;33m\u001b[0m\u001b[0m\n\u001b[0;32m    436\u001b[0m             \u001b[0mlogger\u001b[0m\u001b[1;33m.\u001b[0m\u001b[0minfo\u001b[0m\u001b[1;33m(\u001b[0m\u001b[1;34m'older version of %s loaded without corpus_word_count'\u001b[0m\u001b[1;33m,\u001b[0m \u001b[0mcls\u001b[0m\u001b[1;33m.\u001b[0m\u001b[0m__name__\u001b[0m\u001b[1;33m)\u001b[0m\u001b[1;33m\u001b[0m\u001b[1;33m\u001b[0m\u001b[0m\n",
      "\u001b[1;32mB:\\software\\miniConda\\envs\\models\\lib\\site-packages\\gensim\\models\\phrases.py\u001b[0m in \u001b[0;36mload\u001b[1;34m(cls, *args, **kwargs)\u001b[0m\n\u001b[0;32m    227\u001b[0m \u001b[1;33m\u001b[0m\u001b[0m\n\u001b[0;32m    228\u001b[0m         \"\"\"\n\u001b[1;32m--> 229\u001b[1;33m         \u001b[0mmodel\u001b[0m \u001b[1;33m=\u001b[0m \u001b[0msuper\u001b[0m\u001b[1;33m(\u001b[0m\u001b[0mPhrasesTransformation\u001b[0m\u001b[1;33m,\u001b[0m \u001b[0mcls\u001b[0m\u001b[1;33m)\u001b[0m\u001b[1;33m.\u001b[0m\u001b[0mload\u001b[0m\u001b[1;33m(\u001b[0m\u001b[1;33m*\u001b[0m\u001b[0margs\u001b[0m\u001b[1;33m,\u001b[0m \u001b[1;33m**\u001b[0m\u001b[0mkwargs\u001b[0m\u001b[1;33m)\u001b[0m\u001b[1;33m\u001b[0m\u001b[1;33m\u001b[0m\u001b[0m\n\u001b[0m\u001b[0;32m    230\u001b[0m         \u001b[1;31m# update older models\u001b[0m\u001b[1;33m\u001b[0m\u001b[1;33m\u001b[0m\u001b[1;33m\u001b[0m\u001b[0m\n\u001b[0;32m    231\u001b[0m         \u001b[1;31m# if value in phrasegrams dict is a tuple, load only the scores.\u001b[0m\u001b[1;33m\u001b[0m\u001b[1;33m\u001b[0m\u001b[1;33m\u001b[0m\u001b[0m\n",
      "\u001b[1;32mB:\\software\\miniConda\\envs\\models\\lib\\site-packages\\gensim\\utils.py\u001b[0m in \u001b[0;36mload\u001b[1;34m(cls, fname, mmap)\u001b[0m\n\u001b[0;32m    433\u001b[0m         \u001b[0mcompress\u001b[0m\u001b[1;33m,\u001b[0m \u001b[0msubname\u001b[0m \u001b[1;33m=\u001b[0m \u001b[0mSaveLoad\u001b[0m\u001b[1;33m.\u001b[0m\u001b[0m_adapt_by_suffix\u001b[0m\u001b[1;33m(\u001b[0m\u001b[0mfname\u001b[0m\u001b[1;33m)\u001b[0m\u001b[1;33m\u001b[0m\u001b[1;33m\u001b[0m\u001b[0m\n\u001b[0;32m    434\u001b[0m \u001b[1;33m\u001b[0m\u001b[0m\n\u001b[1;32m--> 435\u001b[1;33m         \u001b[0mobj\u001b[0m \u001b[1;33m=\u001b[0m \u001b[0munpickle\u001b[0m\u001b[1;33m(\u001b[0m\u001b[0mfname\u001b[0m\u001b[1;33m)\u001b[0m\u001b[1;33m\u001b[0m\u001b[1;33m\u001b[0m\u001b[0m\n\u001b[0m\u001b[0;32m    436\u001b[0m         \u001b[0mobj\u001b[0m\u001b[1;33m.\u001b[0m\u001b[0m_load_specials\u001b[0m\u001b[1;33m(\u001b[0m\u001b[0mfname\u001b[0m\u001b[1;33m,\u001b[0m \u001b[0mmmap\u001b[0m\u001b[1;33m,\u001b[0m \u001b[0mcompress\u001b[0m\u001b[1;33m,\u001b[0m \u001b[0msubname\u001b[0m\u001b[1;33m)\u001b[0m\u001b[1;33m\u001b[0m\u001b[1;33m\u001b[0m\u001b[0m\n\u001b[0;32m    437\u001b[0m         \u001b[0mlogger\u001b[0m\u001b[1;33m.\u001b[0m\u001b[0minfo\u001b[0m\u001b[1;33m(\u001b[0m\u001b[1;34m\"loaded %s\"\u001b[0m\u001b[1;33m,\u001b[0m \u001b[0mfname\u001b[0m\u001b[1;33m)\u001b[0m\u001b[1;33m\u001b[0m\u001b[1;33m\u001b[0m\u001b[0m\n",
      "\u001b[1;32mB:\\software\\miniConda\\envs\\models\\lib\\site-packages\\gensim\\utils.py\u001b[0m in \u001b[0;36munpickle\u001b[1;34m(fname)\u001b[0m\n\u001b[0;32m   1393\u001b[0m \u001b[1;33m\u001b[0m\u001b[0m\n\u001b[0;32m   1394\u001b[0m     \"\"\"\n\u001b[1;32m-> 1395\u001b[1;33m     \u001b[1;32mwith\u001b[0m \u001b[0mopen\u001b[0m\u001b[1;33m(\u001b[0m\u001b[0mfname\u001b[0m\u001b[1;33m,\u001b[0m \u001b[1;34m'rb'\u001b[0m\u001b[1;33m)\u001b[0m \u001b[1;32mas\u001b[0m \u001b[0mf\u001b[0m\u001b[1;33m:\u001b[0m\u001b[1;33m\u001b[0m\u001b[1;33m\u001b[0m\u001b[0m\n\u001b[0m\u001b[0;32m   1396\u001b[0m         \u001b[1;31m# Because of loading from S3 load can't be used (missing readline in smart_open)\u001b[0m\u001b[1;33m\u001b[0m\u001b[1;33m\u001b[0m\u001b[1;33m\u001b[0m\u001b[0m\n\u001b[0;32m   1397\u001b[0m         \u001b[1;32mif\u001b[0m \u001b[0msys\u001b[0m\u001b[1;33m.\u001b[0m\u001b[0mversion_info\u001b[0m \u001b[1;33m>\u001b[0m \u001b[1;33m(\u001b[0m\u001b[1;36m3\u001b[0m\u001b[1;33m,\u001b[0m \u001b[1;36m0\u001b[0m\u001b[1;33m)\u001b[0m\u001b[1;33m:\u001b[0m\u001b[1;33m\u001b[0m\u001b[1;33m\u001b[0m\u001b[0m\n",
      "\u001b[1;32mB:\\software\\miniConda\\envs\\models\\lib\\site-packages\\smart_open\\smart_open_lib.py\u001b[0m in \u001b[0;36mopen\u001b[1;34m(uri, mode, buffering, encoding, errors, newline, closefd, opener, ignore_ext, transport_params)\u001b[0m\n\u001b[0;32m    178\u001b[0m         \u001b[0mtransport_params\u001b[0m \u001b[1;33m=\u001b[0m \u001b[1;33m{\u001b[0m\u001b[1;33m}\u001b[0m\u001b[1;33m\u001b[0m\u001b[1;33m\u001b[0m\u001b[0m\n\u001b[0;32m    179\u001b[0m \u001b[1;33m\u001b[0m\u001b[0m\n\u001b[1;32m--> 180\u001b[1;33m     fobj = _shortcut_open(\n\u001b[0m\u001b[0;32m    181\u001b[0m         \u001b[0muri\u001b[0m\u001b[1;33m,\u001b[0m\u001b[1;33m\u001b[0m\u001b[1;33m\u001b[0m\u001b[0m\n\u001b[0;32m    182\u001b[0m         \u001b[0mmode\u001b[0m\u001b[1;33m,\u001b[0m\u001b[1;33m\u001b[0m\u001b[1;33m\u001b[0m\u001b[0m\n",
      "\u001b[1;32mB:\\software\\miniConda\\envs\\models\\lib\\site-packages\\smart_open\\smart_open_lib.py\u001b[0m in \u001b[0;36m_shortcut_open\u001b[1;34m(uri, mode, ignore_ext, buffering, encoding, errors, newline)\u001b[0m\n\u001b[0;32m    285\u001b[0m         \u001b[0mopen_kwargs\u001b[0m\u001b[1;33m[\u001b[0m\u001b[1;34m'errors'\u001b[0m\u001b[1;33m]\u001b[0m \u001b[1;33m=\u001b[0m \u001b[0merrors\u001b[0m\u001b[1;33m\u001b[0m\u001b[1;33m\u001b[0m\u001b[0m\n\u001b[0;32m    286\u001b[0m \u001b[1;33m\u001b[0m\u001b[0m\n\u001b[1;32m--> 287\u001b[1;33m     \u001b[1;32mreturn\u001b[0m \u001b[0m_builtin_open\u001b[0m\u001b[1;33m(\u001b[0m\u001b[0mlocal_path\u001b[0m\u001b[1;33m,\u001b[0m \u001b[0mmode\u001b[0m\u001b[1;33m,\u001b[0m \u001b[0mbuffering\u001b[0m\u001b[1;33m=\u001b[0m\u001b[0mbuffering\u001b[0m\u001b[1;33m,\u001b[0m \u001b[1;33m**\u001b[0m\u001b[0mopen_kwargs\u001b[0m\u001b[1;33m)\u001b[0m\u001b[1;33m\u001b[0m\u001b[1;33m\u001b[0m\u001b[0m\n\u001b[0m\u001b[0;32m    288\u001b[0m \u001b[1;33m\u001b[0m\u001b[0m\n\u001b[0;32m    289\u001b[0m \u001b[1;33m\u001b[0m\u001b[0m\n",
      "\u001b[1;31mFileNotFoundError\u001b[0m: [Errno 2] No such file or directory: 'model_phrases'"
     ]
    }
   ],
   "source": [
    "import numpy as np\n",
    "import sklearn\n",
    "\n",
    "from sklearn.feature_extraction.text import TfidfVectorizer\n",
    "from sklearn.model_selection import train_test_split\n",
    "from sklearn.linear_model import LogisticRegression\n",
    "\n",
    "from gensim.models.phrases import Phrases\n",
    "\n",
    "model_phrases = Phrases.load('model_phrases')"
   ]
  },
  {
   "cell_type": "markdown",
   "metadata": {},
   "source": [
    "Se construye los vectores TfIdf de los titulares, utilizando como términos las phrases detectadas."
   ]
  },
  {
   "cell_type": "code",
   "execution_count": null,
   "metadata": {},
   "outputs": [],
   "source": [
    "from nltk.stem.wordnet import WordNetLemmatizer\n",
    "#1. Encontramos los phrases que ya ha aprendido a detectar en cada titular y seleccionamos los que son términos\n",
    "\n",
    "def unify(l):\n",
    "    term_unified = l\n",
    "    if l == 'mr._trump' or l == 'donald trump':\n",
    "        term_unified = 'trump'\n",
    "    elif l == 'dpt':\n",
    "        term_unified = 'department'\n",
    "    return term_unified\n",
    "\n",
    "def wnlemmatize(t,postag):\n",
    "    lemma = \"\"\n",
    "    #Definición del lematizador\n",
    "    lem = WordNetLemmatizer()\n",
    "    #Si el candidato es monopalabra, se obtiene el lema con el lematizador de WordNet según su PoS\n",
    "    if ' ' not in t:\n",
    "        lemma = lem.lemmatize(t,get_wn_pos(postag[0][1]))\n",
    "    #Si el candidato es multipalabra, obtenemos su lema como si fuera un nombre, aplicando el lematizador de WordNet\n",
    "    else:\n",
    "        lemma = lem.lemmatize(t,'n')\n",
    "    return lemma\n",
    "\n",
    "def get_wn_pos(pos):\n",
    "    if re.match(r'^N',pos):\n",
    "        wn_pos = 'n'\n",
    "    elif re.match(r'^V',pos):\n",
    "        wn_pos = 'v'\n",
    "    else:\n",
    "        wn_pos = 'n' #En inglés, los lemas de términos que no son verbos ni nombres se obtienen como si fueran\n",
    "                        #nombres\n",
    "    return wn_pos\n",
    "\n",
    "def transform_sentence(sentence):\n",
    "    sentence_terms = phrases[word_tokenize(sentence.lower())]\n",
    "    #Despojamos los signos de puntuación de los términos\n",
    "    stripped_candidates = [st.strip('\".,;:-():!?-‘’_') for st in sentence_terms]\n",
    "    #Unificamos los términos\n",
    "    terms_unified = [unify(sc).lstrip(' ') for sc in stripped_candidates] #(ver 3.3)\n",
    "    #Lematizamos los términos con el lematizador de Wordnet\n",
    "    terms_lemmatized_and_unified = [wnlemmatize(ut,nltk.pos_tag(word_tokenize(ut))).replace(' ', '_') \\\n",
    "                                    for ut in terms_unified \\\n",
    "                                    if good_candidate(ut,nltk.pos_tag(word_tokenize(ut))) == True] #(ver 3.3)\n",
    "#     return terms_lemmatized_and_unified\n",
    "    return terms_unified\n",
    "\n",
    "terms_stream = [transform_sentence(dt) for dt in data_headlines]\n",
    "\n",
    "#2. Convertimos la lista de términos de cada titular en un documento y lo añadimos a la colección\n",
    "\n",
    "documents = [\" \".join(ts) for ts in terms_stream]\n",
    "\n",
    "print(documents[:10])\n",
    "\n",
    "#3. Vectorización de los titulares\n",
    "from sklearn.feature_extraction.text import TfidfVectorizer\n",
    "import numpy as np\n",
    "\n",
    "vectorizerNYT = TfidfVectorizer(analyzer= 'word', stop_words=stopwords)\n",
    "X = vectorizerNYT.fit_transform(documents)\n",
    "#Matriz con los vectores\n",
    "MNYT = X.toarray()\n",
    "\n",
    "#Obtenemos los feature names\n",
    "feature_names = np.array(vectorizerNYT.get_feature_names())\n",
    "#print(feature_names)\n",
    "print(MNYT)"
   ]
  },
  {
   "cell_type": "markdown",
   "metadata": {},
   "source": [
    "Se entrena el modelo clasificador utilizando Logistic Regression."
   ]
  },
  {
   "cell_type": "code",
   "execution_count": null,
   "metadata": {},
   "outputs": [],
   "source": [
    "from sklearn.model_selection import train_test_split\n",
    "\n",
    "X_train, X_test, y_train, y_test  = train_test_split(\n",
    "        MNYT, \n",
    "        data_labels,     \n",
    "        train_size=0.80,\n",
    "        random_state=123)"
   ]
  },
  {
   "cell_type": "code",
   "execution_count": null,
   "metadata": {},
   "outputs": [],
   "source": [
    "#2. Importar clasificador\n",
    "from sklearn.linear_model import LogisticRegression\n",
    "\n",
    "#Establecemos el método de clasificación (método logistic regression)\n",
    "classifier = LogisticRegression()\n",
    "#Entrenamiento del clasificador aplicando el método al corpus de entrenamiento\n",
    "log_model = classifier.fit(X=X_train, y=y_train)"
   ]
  },
  {
   "cell_type": "markdown",
   "metadata": {},
   "source": [
    "Tomamos diez titulares actuales de la sección de política del New York Times. Y Comprobamos si el clasificador funciona para estos titulares."
   ]
  },
  {
   "cell_type": "markdown",
   "metadata": {},
   "source": [
    "Utilizamos el modelo entrenado para predecir la categoría TOP o NO TOP de los titulares del New York Times que has escogido. Ver las palabras más informativas para cada clase (TOP y NO TOP)."
   ]
  },
  {
   "cell_type": "code",
   "execution_count": null,
   "metadata": {},
   "outputs": [],
   "source": [
    "y_pred = log_model.predict(X_test)\n",
    "\n",
    "print(\"\\nCLASES TOP/NONTOP DEL CORPUS DE TEST:\\n===============\")\n",
    "\n",
    "print(y_pred)\n",
    "\n",
    "def most_informative_feature_for_binary_classification(vectorizer, classifier, n=10):\n",
    "    class_labels = classifier.classes_\n",
    "    feature_names = vectorizer.get_feature_names()\n",
    "    topn_class1 = sorted(zip(classifier.coef_[0], feature_names))[:n]\n",
    "    topn_class2 = sorted(zip(classifier.coef_[0], feature_names))[-n:]\n",
    "\n",
    "    for coef, feat in topn_class1:\n",
    "        print (class_labels[0], coef, feat)\n",
    "\n",
    "    for coef, feat in reversed(topn_class2):\n",
    "        print (class_labels[1], coef, feat)\n",
    "\n",
    "print(\"\\nFEATURES MÁS INFORMATIVOS EN LOS TITULARES TOP Y NO TOP:\\n===============\")\n",
    "\n",
    "print(most_informative_feature_for_binary_classification(vectorizerNYT, classifier))"
   ]
  }
 ],
 "metadata": {
  "celltoolbar": "Raw Cell Format",
  "kernelspec": {
   "display_name": "Python 3",
   "language": "python",
   "name": "python3"
  },
  "language_info": {
   "codemirror_mode": {
    "name": "ipython",
    "version": 3
   },
   "file_extension": ".py",
   "mimetype": "text/x-python",
   "name": "python",
   "nbconvert_exporter": "python",
   "pygments_lexer": "ipython3",
   "version": "3.8.8"
  }
 },
 "nbformat": 4,
 "nbformat_minor": 2
}
