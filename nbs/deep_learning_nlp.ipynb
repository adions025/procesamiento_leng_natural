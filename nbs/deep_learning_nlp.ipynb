{
 "cells": [
  {
   "cell_type": "markdown",
   "metadata": {},
   "source": [
    "@Author: __Adonis González Godoy__"
   ]
  },
  {
   "cell_type": "markdown",
   "metadata": {},
   "source": [
    "# Deep Learning para el análisis de textos y sentimientos\n",
    "\n",
    "Index:\n",
    "\n",
    "1. **Traducción automática**: con custom embeddings y con embeddings preentrenados.\n",
    "2. **Clasificación de frases**: Aplicación de los conceptos trabajados para la reutilización de la arquitectura de dos modelos.\n",
    "3. **Análisis de sentimientos**: análisis de sentimientos de textos.\n",
    "4. **Análisis de sentimientos por aspectos (AbSA)**: análisis de aspectos en comentarios.\n"
   ]
  },
  {
   "cell_type": "markdown",
   "metadata": {},
   "source": [
    "# PARTE 1"
   ]
  },
  {
   "cell_type": "markdown",
   "metadata": {},
   "source": [
    "En esta primera parte usaremos **KERAS**."
   ]
  },
  {
   "cell_type": "markdown",
   "metadata": {},
   "source": [
    "# 1. Traducción Automática"
   ]
  },
  {
   "cell_type": "markdown",
   "metadata": {},
   "source": [
    "## 1.1 TA con Custom Embeddings "
   ]
  },
  {
   "cell_type": "markdown",
   "metadata": {},
   "source": [
    "El objetivo de este apartado es entrenar un modelo de traducción automática entre inglés y alemán"
   ]
  },
  {
   "cell_type": "code",
   "execution_count": 1,
   "metadata": {},
   "outputs": [],
   "source": [
    "# se carga las librerías necesarias\n",
    "\n",
    "from keras.layers import Dense, LSTM, Embedding, RepeatVector, Flatten\n",
    "from keras.preprocessing.sequence import pad_sequences\n",
    "from sklearn.model_selection import train_test_split\n",
    "from sklearn.metrics import classification_report\n",
    "from keras.models import Sequential, load_model\n",
    "from keras.preprocessing.text import Tokenizer\n",
    "from numpy import array, argmax, random, take\n",
    "from sklearn.metrics import confusion_matrix\n",
    "from keras.callbacks import ModelCheckpoint\n",
    "import matplotlib.pyplot as plt\n",
    "from keras import optimizers\n",
    "import tensorflow as tf\n",
    "import pandas as pd\n",
    "import numpy as np\n",
    "import itertools\n",
    "import pickle\n",
    "import string\n",
    "import re, os\n",
    "\n",
    "\n",
    "import warnings\n",
    "warnings.filterwarnings(\"ignore\")"
   ]
  },
  {
   "cell_type": "code",
   "execution_count": 3,
   "metadata": {},
   "outputs": [],
   "source": [
    "# cargamos los paths necearios \n",
    "ROOT_DIR = os.path.abspath(\"\")\n",
    "data_dir = os.path.join(ROOT_DIR, \"data\")\n",
    "deu_file = os.path.join(data_dir, \"deu.txt\")"
   ]
  },
  {
   "cell_type": "code",
   "execution_count": 3,
   "metadata": {},
   "outputs": [],
   "source": [
    "# function para leer el texto deu.txt\n",
    "def read_text(filename):\n",
    "        file = open(filename, mode='rt', encoding='utf-8')\n",
    "        text = file.read()\n",
    "        file.close()\n",
    "        return text"
   ]
  },
  {
   "cell_type": "code",
   "execution_count": 4,
   "metadata": {},
   "outputs": [],
   "source": [
    "# Convertimos el texto a pares de oraciones aleman-ingles\n",
    "def to_lines(text):\n",
    "    sents = text.strip().split('\\n')\n",
    "#En cada línea, tomar los dos primeros elementos separados por un tabulador. \n",
    "#El primer elemento es la frase en aleman y el segundo elemento es su equivalente al ingles\n",
    "    res = []\n",
    "    for i in sents:\n",
    "        a = []\n",
    "        # se modifica simplemente para tener en la primera posición\n",
    "        # el aleman y en la segunda el ingles.\n",
    "        a.append(i.split('\\t')[:2][1])\n",
    "        a.append(i.split('\\t')[:2][0])\n",
    "        res.append(a)\n",
    "    return res    "
   ]
  },
  {
   "cell_type": "code",
   "execution_count": 5,
   "metadata": {},
   "outputs": [
    {
     "name": "stdout",
     "output_type": "stream",
     "text": [
      "[['Hallo!' 'Hi.']\n",
      " ['Grüß Gott!' 'Hi.']\n",
      " ['Lauf!' 'Run!']\n",
      " ['Potzdonner!' 'Wow!']\n",
      " ['Donnerwetter!' 'Wow!']\n",
      " ['Feuer!' 'Fire!']\n",
      " ['Hilfe!' 'Help!']\n",
      " ['Zu Hülf!' 'Help!']\n",
      " ['Stopp!' 'Stop!']\n",
      " ['Warte!' 'Wait!']\n",
      " ['Mach weiter.' 'Go on.']\n",
      " ['Hallo!' 'Hello!']\n",
      " ['Ich rannte.' 'I ran.']\n",
      " ['Ich verstehe.' 'I see.']\n",
      " ['Aha.' 'I see.']\n",
      " ['Ich probiere es.' 'I try.']\n",
      " ['Ich hab gewonnen!' 'I won!']\n",
      " ['Ich habe gewonnen!' 'I won!']\n",
      " ['Lächeln!' 'Smile.']\n",
      " ['Zum Wohl!' 'Cheers!']]\n"
     ]
    }
   ],
   "source": [
    "# El fichero deu.txt contiene el dataset\n",
    "data = read_text(deu_file)\n",
    "deu_eng = to_lines(data)\n",
    "deu_eng = array(deu_eng)\n",
    "print(deu_eng[:20])"
   ]
  },
  {
   "cell_type": "markdown",
   "metadata": {},
   "source": [
    "Tomamos los primeros 50.000 pares:"
   ]
  },
  {
   "cell_type": "code",
   "execution_count": 6,
   "metadata": {},
   "outputs": [
    {
     "name": "stdout",
     "output_type": "stream",
     "text": [
      "[['Hallo!' 'Hi.']\n",
      " ['Grüß Gott!' 'Hi.']\n",
      " ['Lauf!' 'Run!']\n",
      " ...\n",
      " ['Ich stimme rückhaltlos zu.' 'I wholeheartedly agree.']\n",
      " ['Ich werde dich immer lieben.' 'I will always love you.']\n",
      " ['Um neun bin ich wieder zurück.' 'I will be back by nine.']]\n"
     ]
    }
   ],
   "source": [
    "deu_eng = deu_eng[:50000,:]\n",
    "print(deu_eng)"
   ]
  },
  {
   "cell_type": "markdown",
   "metadata": {},
   "source": [
    "## Preprocesamiento"
   ]
  },
  {
   "cell_type": "markdown",
   "metadata": {},
   "source": [
    "Limpieza de signos de puntuación y conversión de los textos a minúscula"
   ]
  },
  {
   "cell_type": "code",
   "execution_count": 7,
   "metadata": {},
   "outputs": [
    {
     "name": "stdout",
     "output_type": "stream",
     "text": [
      "[['hallo' 'hi']\n",
      " ['grüß gott' 'hi']\n",
      " ['lauf' 'run']\n",
      " ...\n",
      " ['ich stimme rückhaltlos zu' 'i wholeheartedly agree']\n",
      " ['ich werde dich immer lieben' 'i will always love you']\n",
      " ['um neun bin ich wieder zurück' 'i will be back by nine']]\n"
     ]
    }
   ],
   "source": [
    "# Quitamos signos de puntuación\n",
    "deu_eng[:,0] = [s.translate(str.maketrans('', '', string.punctuation)) for s in deu_eng[:,0]]\n",
    "deu_eng[:,1] = [s.translate(str.maketrans('', '', string.punctuation)) for s in deu_eng[:,1]]\n",
    "\n",
    "# Convertimos los textos a minúsculas\n",
    "for i in range(len(deu_eng)):\n",
    "    deu_eng[i,0] = deu_eng[i,0].lower()\n",
    "    deu_eng[i,1] = deu_eng[i,1].lower()\n",
    "print(deu_eng)"
   ]
  },
  {
   "cell_type": "markdown",
   "metadata": {},
   "source": [
    "### Codificación de los datos"
   ]
  },
  {
   "cell_type": "markdown",
   "metadata": {},
   "source": [
    "#### Representación numérica de las palabras (tokenización)"
   ]
  },
  {
   "cell_type": "code",
   "execution_count": 8,
   "metadata": {},
   "outputs": [],
   "source": [
    "# function para la tokenization\n",
    "def tokenization(sentences):\n",
    "    tokenizer = Tokenizer()\n",
    "    tokenizer.fit_on_texts(sentences)\n",
    "    return tokenizer"
   ]
  },
  {
   "cell_type": "code",
   "execution_count": 9,
   "metadata": {},
   "outputs": [],
   "source": [
    "#Tokenizar las frases en alemán\n",
    "eng_tokenizer = tokenization(deu_eng[:, 1])\n",
    "deu_tokenizer = tokenization(deu_eng[:, 0])\n",
    "\n",
    "# Ver el vocabulario del alemán (Diccionario cuyas keys son las palabras y sus valores son sus índices)\n",
    "# print(deu_tokenizer.word_index)"
   ]
  },
  {
   "cell_type": "code",
   "execution_count": 10,
   "metadata": {},
   "outputs": [
    {
     "name": "stdout",
     "output_type": "stream",
     "text": [
      "English Vocabulary Size: 6361\n",
      "Deutch Vocabulary Size: 10597\n"
     ]
    }
   ],
   "source": [
    "#Tokenizar las frases en inglés\n",
    "eng_vocab_size = len(eng_tokenizer.word_index) + 1\n",
    "print('English Vocabulary Size: %d' % eng_vocab_size)\n",
    "deu_vocab_size = len(deu_tokenizer.word_index) + 1\n",
    "print('Deutch Vocabulary Size: %d' % deu_vocab_size)"
   ]
  },
  {
   "cell_type": "markdown",
   "metadata": {},
   "source": [
    "#### Codificación de las secuencias"
   ]
  },
  {
   "cell_type": "code",
   "execution_count": 11,
   "metadata": {},
   "outputs": [],
   "source": [
    "eng_length = 12\n",
    "deu_length = 12"
   ]
  },
  {
   "cell_type": "code",
   "execution_count": 12,
   "metadata": {},
   "outputs": [],
   "source": [
    "def encode_sequences(tokenizer, length, lines):\n",
    "    # Codificar las secuencias con los índices de las palabras\n",
    "    seq = tokenizer.texts_to_sequences(lines)\n",
    "    # Hacer el padding\n",
    "    seq = pad_sequences(seq, maxlen=length, padding='post')\n",
    "    return seq"
   ]
  },
  {
   "cell_type": "code",
   "execution_count": 13,
   "metadata": {},
   "outputs": [],
   "source": [
    "# se divide del dataset, 80% train y 20% test\n",
    "train, test = train_test_split(deu_eng, test_size=0.2, random_state = 12)"
   ]
  },
  {
   "cell_type": "markdown",
   "metadata": {},
   "source": [
    "#### Codificación de las secuencias de los originales y de las traducciones del training"
   ]
  },
  {
   "cell_type": "code",
   "execution_count": 14,
   "metadata": {},
   "outputs": [],
   "source": [
    "# se ha tenido en cuenta que las palabras en ingles estan en la posición 1 y alemán en la 0\n",
    "# ya que se ha realizado el cambio en la función de convertir textos a pares.\n",
    "trainX = encode_sequences(eng_tokenizer, eng_length, train[:, 1])\n",
    "trainY = encode_sequences(deu_tokenizer, deu_length, train[:, 0])"
   ]
  },
  {
   "cell_type": "markdown",
   "metadata": {},
   "source": [
    "#### Codificación de las secuencias de los originales y de las traducciones del test"
   ]
  },
  {
   "cell_type": "code",
   "execution_count": 15,
   "metadata": {},
   "outputs": [],
   "source": [
    "# se ha tenido en cuenta que las palabras en ingles estan en la posición 1 y alemán en la 0\n",
    "# ya que se ha realizado el cambio en la función de convertir textos a pares.\n",
    "testX = encode_sequences(eng_tokenizer, eng_length, test[:, 1])\n",
    "testY = encode_sequences(deu_tokenizer, deu_length, test[:, 0])"
   ]
  },
  {
   "cell_type": "markdown",
   "metadata": {},
   "source": [
    "# Creación del modelo de traducción"
   ]
  },
  {
   "cell_type": "markdown",
   "metadata": {},
   "source": [
    "### Model - include embedding + lstm encoder y decoder"
   ]
  },
  {
   "cell_type": "code",
   "execution_count": 16,
   "metadata": {},
   "outputs": [],
   "source": [
    "def define_model(in_vocab_size, max_text_length, out_timesteps, out_vocab_size):\n",
    "    embedding_vec_length = 300\n",
    "    units = 512\n",
    "    \n",
    "    mt_model = Sequential()\n",
    "    mt_model.add(Embedding(in_vocab_size, \n",
    "                           embedding_vec_length, \n",
    "                           input_length = max_text_length, \n",
    "                           mask_zero=True))\n",
    "    \n",
    "    mt_model.add(LSTM(units))\n",
    "    mt_model.add(RepeatVector(out_timesteps))\n",
    "    mt_model.add(LSTM(units, return_sequences=True))\n",
    "    mt_model.add(Dense(out_vocab_size, activation='softmax', dtype='float32'))\n",
    "    \n",
    "    return mt_model"
   ]
  },
  {
   "cell_type": "markdown",
   "metadata": {},
   "source": [
    "### Funciones para representar las gráficas de accuracy y loss"
   ]
  },
  {
   "cell_type": "code",
   "execution_count": 17,
   "metadata": {},
   "outputs": [],
   "source": [
    "# function para el accuracy del conjunto de train y del de test\n",
    "def plot_accuracy(history):\n",
    "    plt.plot(history.history['accuracy'])\n",
    "    plt.plot(history.history['val_accuracy'])\n",
    "    plt.title('Model accuracy')\n",
    "    plt.ylabel('Accuracy')\n",
    "    plt.xlabel('Epochs')\n",
    "    plt.legend(['Train acc', 'Val acc'], loc='upper right')\n",
    "    plt.show()\n",
    "\n",
    "# function para la pérdida (loss) del conjunto de train y del de test\n",
    "def plot_loss(history):\n",
    "    plt.plot(history.history['loss'])\n",
    "    plt.plot(history.history['val_loss']) \n",
    "    plt.title('Model loss') \n",
    "    plt.ylabel('Loss') \n",
    "    plt.xlabel('Epochs') \n",
    "    plt.legend(['Train loss', 'Val loss'], loc='upper right') \n",
    "    plt.show()"
   ]
  },
  {
   "cell_type": "markdown",
   "metadata": {},
   "source": [
    "## Compilación y optimización del modelo"
   ]
  },
  {
   "cell_type": "code",
   "execution_count": 18,
   "metadata": {},
   "outputs": [],
   "source": [
    "LR = 0.001\n",
    "EPOCHS = 30\n",
    "BATCH_SIZE = 512"
   ]
  },
  {
   "cell_type": "code",
   "execution_count": 19,
   "metadata": {},
   "outputs": [],
   "source": [
    "# esta función se ha ido mejorando a lo largo del la parte 1 de la práctica\n",
    "# permite recibir por parámetro el modelo a compilar y además el optimizador \n",
    "# y la función de perdida, por defecto están definas las que se necesitan para\n",
    "# esta practica. También podría recibir el learning rate aunque por defecto es 1-e2\n",
    "def compile_model(model, optimizer, loss, lr=LR):\n",
    "    if optimizer == 'adam':\n",
    "        opt = optimizers.Adam(lr=lr)\n",
    "    if optimizer == 'rms':\n",
    "        opt = optimizers.RMSprop(lr=lr)\n",
    "    if loss == 'sparse_c_c':\n",
    "        los = 'sparse_categorical_crossentropy'\n",
    "    if loss == 'categorial_c':\n",
    "        los = tf.keras.losses.CategoricalCrossentropy()\n",
    "    \n",
    "    print(f'model compile using {opt, los}')\n",
    "    model.compile(optimizer=opt, loss=los, metrics=['accuracy'])\n",
    "    return model"
   ]
  },
  {
   "cell_type": "code",
   "execution_count": 20,
   "metadata": {},
   "outputs": [],
   "source": [
    "METRIC = \"val_loss\"\n",
    "PATH = './model.h5'\n",
    "\n",
    "# function para crear la callbacks del modelo, permite pasar un filepath nuevo\n",
    "# para cada modelo, por defecto la métrica de monitorización es la val_loss.\n",
    "def create_callbacks(metric = METRIC, path = PATH):\n",
    "    checkpoint = ModelCheckpoint(\n",
    "        filepath=path,\n",
    "        monitor= metric,\n",
    "        mode='max',\n",
    "        save_best_only=True,\n",
    "        verbose=1)\n",
    "    callbacks = [checkpoint]         \n",
    "    return callbacks"
   ]
  },
  {
   "cell_type": "code",
   "execution_count": 21,
   "metadata": {},
   "outputs": [
    {
     "name": "stdout",
     "output_type": "stream",
     "text": [
      "model compile using (<tensorflow.python.keras.optimizer_v2.rmsprop.RMSprop object at 0x00000198213FB7F0>, 'sparse_categorical_crossentropy')\n"
     ]
    }
   ],
   "source": [
    "# creamos el modelo\n",
    "# compilamos el modelo optimizador rms y función de pérdida ->sparse_categorical_crossentropy\n",
    "# creamos la callback para este modelo\n",
    "mt_model = define_model(eng_vocab_size, \n",
    "                        eng_length, \n",
    "                        deu_length, \n",
    "                        deu_vocab_size)\n",
    "mt_model = compile_model(mt_model, 'rms', 'sparse_c_c')\n",
    "callbacks = create_callbacks(path= './model_de_en.h5')"
   ]
  },
  {
   "cell_type": "code",
   "execution_count": 22,
   "metadata": {},
   "outputs": [
    {
     "name": "stdout",
     "output_type": "stream",
     "text": [
      "Epoch 1/30\n",
      "63/63 [==============================] - 12s 111ms/step - loss: 3.9264 - accuracy: 0.6123 - val_loss: 2.2664 - val_accuracy: 0.6772\n",
      "\n",
      "Epoch 00001: val_loss improved from -inf to 2.26641, saving model to .\\model_de_en.h5\n",
      "Epoch 2/30\n",
      "63/63 [==============================] - 5s 81ms/step - loss: 2.1871 - accuracy: 0.6812 - val_loss: 2.2582 - val_accuracy: 0.6856\n",
      "\n",
      "Epoch 00002: val_loss did not improve from 2.26641\n",
      "Epoch 3/30\n",
      "63/63 [==============================] - 5s 81ms/step - loss: 2.0831 - accuracy: 0.6919 - val_loss: 2.0810 - val_accuracy: 0.6951\n",
      "\n",
      "Epoch 00003: val_loss did not improve from 2.26641\n",
      "Epoch 4/30\n",
      "63/63 [==============================] - 5s 82ms/step - loss: 1.9589 - accuracy: 0.7021 - val_loss: 1.9994 - val_accuracy: 0.7070\n",
      "\n",
      "Epoch 00004: val_loss did not improve from 2.26641\n",
      "Epoch 5/30\n",
      "63/63 [==============================] - 5s 81ms/step - loss: 1.8647 - accuracy: 0.7120 - val_loss: 1.9050 - val_accuracy: 0.7170\n",
      "\n",
      "Epoch 00005: val_loss did not improve from 2.26641\n",
      "Epoch 6/30\n",
      "63/63 [==============================] - 5s 81ms/step - loss: 1.7857 - accuracy: 0.7215 - val_loss: 1.8438 - val_accuracy: 0.7248\n",
      "\n",
      "Epoch 00006: val_loss did not improve from 2.26641\n",
      "Epoch 7/30\n",
      "63/63 [==============================] - 5s 81ms/step - loss: 1.7097 - accuracy: 0.7297 - val_loss: 1.7894 - val_accuracy: 0.7327\n",
      "\n",
      "Epoch 00007: val_loss did not improve from 2.26641\n",
      "Epoch 8/30\n",
      "63/63 [==============================] - 5s 86ms/step - loss: 1.6452 - accuracy: 0.7367 - val_loss: 1.7457 - val_accuracy: 0.7364\n",
      "\n",
      "Epoch 00008: val_loss did not improve from 2.26641\n",
      "Epoch 9/30\n",
      "63/63 [==============================] - 5s 85ms/step - loss: 1.5705 - accuracy: 0.7434 - val_loss: 1.6906 - val_accuracy: 0.7440\n",
      "\n",
      "Epoch 00009: val_loss did not improve from 2.26641\n",
      "Epoch 10/30\n",
      "63/63 [==============================] - 5s 84ms/step - loss: 1.5079 - accuracy: 0.7494 - val_loss: 1.6648 - val_accuracy: 0.7477\n",
      "\n",
      "Epoch 00010: val_loss did not improve from 2.26641\n",
      "Epoch 11/30\n",
      "63/63 [==============================] - 5s 87ms/step - loss: 1.4515 - accuracy: 0.7538 - val_loss: 1.6232 - val_accuracy: 0.7513\n",
      "\n",
      "Epoch 00011: val_loss did not improve from 2.26641\n",
      "Epoch 12/30\n",
      "63/63 [==============================] - 5s 84ms/step - loss: 1.3986 - accuracy: 0.7585 - val_loss: 1.5839 - val_accuracy: 0.7564\n",
      "\n",
      "Epoch 00012: val_loss did not improve from 2.26641\n",
      "Epoch 13/30\n",
      "63/63 [==============================] - 5s 83ms/step - loss: 1.3402 - accuracy: 0.7648 - val_loss: 1.5509 - val_accuracy: 0.7611\n",
      "\n",
      "Epoch 00013: val_loss did not improve from 2.26641\n",
      "Epoch 14/30\n",
      "63/63 [==============================] - 5s 85ms/step - loss: 1.2900 - accuracy: 0.7696 - val_loss: 1.5164 - val_accuracy: 0.7642\n",
      "\n",
      "Epoch 00014: val_loss did not improve from 2.26641\n",
      "Epoch 15/30\n",
      "63/63 [==============================] - 5s 85ms/step - loss: 1.2315 - accuracy: 0.7756 - val_loss: 1.5016 - val_accuracy: 0.7673\n",
      "\n",
      "Epoch 00015: val_loss did not improve from 2.26641\n",
      "Epoch 16/30\n",
      "63/63 [==============================] - 5s 85ms/step - loss: 1.1820 - accuracy: 0.7812 - val_loss: 1.4539 - val_accuracy: 0.7720\n",
      "\n",
      "Epoch 00016: val_loss did not improve from 2.26641\n",
      "Epoch 17/30\n",
      "63/63 [==============================] - 5s 84ms/step - loss: 1.1292 - accuracy: 0.7864 - val_loss: 1.4410 - val_accuracy: 0.7757\n",
      "\n",
      "Epoch 00017: val_loss did not improve from 2.26641\n",
      "Epoch 18/30\n",
      "63/63 [==============================] - 5s 79ms/step - loss: 1.0778 - accuracy: 0.7919 - val_loss: 1.4048 - val_accuracy: 0.7789\n",
      "\n",
      "Epoch 00018: val_loss did not improve from 2.26641\n",
      "Epoch 19/30\n",
      "63/63 [==============================] - 5s 84ms/step - loss: 1.0246 - accuracy: 0.7977 - val_loss: 1.3738 - val_accuracy: 0.7843\n",
      "\n",
      "Epoch 00019: val_loss did not improve from 2.26641\n",
      "Epoch 20/30\n",
      "63/63 [==============================] - 5s 83ms/step - loss: 0.9838 - accuracy: 0.8029 - val_loss: 1.3600 - val_accuracy: 0.7849\n",
      "\n",
      "Epoch 00020: val_loss did not improve from 2.26641\n",
      "Epoch 21/30\n",
      "63/63 [==============================] - 5s 82ms/step - loss: 0.9382 - accuracy: 0.8087 - val_loss: 1.3314 - val_accuracy: 0.7885\n",
      "\n",
      "Epoch 00021: val_loss did not improve from 2.26641\n",
      "Epoch 22/30\n",
      "63/63 [==============================] - 5s 81ms/step - loss: 0.9024 - accuracy: 0.8127 - val_loss: 1.3108 - val_accuracy: 0.7917\n",
      "\n",
      "Epoch 00022: val_loss did not improve from 2.26641\n",
      "Epoch 23/30\n",
      "63/63 [==============================] - 5s 79ms/step - loss: 0.8485 - accuracy: 0.8203 - val_loss: 1.2960 - val_accuracy: 0.7910\n",
      "\n",
      "Epoch 00023: val_loss did not improve from 2.26641\n",
      "Epoch 24/30\n",
      "63/63 [==============================] - 5s 80ms/step - loss: 0.8106 - accuracy: 0.8259 - val_loss: 1.2858 - val_accuracy: 0.7943\n",
      "\n",
      "Epoch 00024: val_loss did not improve from 2.26641\n",
      "Epoch 25/30\n",
      "63/63 [==============================] - 5s 80ms/step - loss: 0.7777 - accuracy: 0.8297 - val_loss: 1.2599 - val_accuracy: 0.7984\n",
      "\n",
      "Epoch 00025: val_loss did not improve from 2.26641\n",
      "Epoch 26/30\n",
      "63/63 [==============================] - 5s 81ms/step - loss: 0.7396 - accuracy: 0.8358 - val_loss: 1.2476 - val_accuracy: 0.7981\n",
      "\n",
      "Epoch 00026: val_loss did not improve from 2.26641\n",
      "Epoch 27/30\n",
      "63/63 [==============================] - 5s 87ms/step - loss: 0.7077 - accuracy: 0.8412 - val_loss: 1.2404 - val_accuracy: 0.8011\n",
      "\n",
      "Epoch 00027: val_loss did not improve from 2.26641\n",
      "Epoch 28/30\n",
      "63/63 [==============================] - 6s 88ms/step - loss: 0.6679 - accuracy: 0.8469 - val_loss: 1.2233 - val_accuracy: 0.8031\n",
      "\n",
      "Epoch 00028: val_loss did not improve from 2.26641\n",
      "Epoch 29/30\n",
      "63/63 [==============================] - 5s 80ms/step - loss: 0.6363 - accuracy: 0.8525 - val_loss: 1.2123 - val_accuracy: 0.8043\n",
      "\n",
      "Epoch 00029: val_loss did not improve from 2.26641\n",
      "Epoch 30/30\n",
      "63/63 [==============================] - 5s 80ms/step - loss: 0.6053 - accuracy: 0.8587 - val_loss: 1.2062 - val_accuracy: 0.8046\n",
      "\n",
      "Epoch 00030: val_loss did not improve from 2.26641\n"
     ]
    }
   ],
   "source": [
    "# se entrena el modelo con 30 epoch con batch de 512, splitting 80% train y 20% validacion\n",
    "hist1 = mt_model.fit(trainX, \n",
    "             trainY.reshape(trainY.shape[0], trainY.shape[1], 1),\n",
    "             epochs=EPOCHS, batch_size=BATCH_SIZE, \n",
    "             validation_split = 0.2, \n",
    "             callbacks=callbacks, \n",
    "             verbose=1)"
   ]
  },
  {
   "cell_type": "markdown",
   "metadata": {},
   "source": [
    "# Evaluación y predicción"
   ]
  },
  {
   "cell_type": "code",
   "execution_count": 23,
   "metadata": {},
   "outputs": [
    {
     "data": {
      "image/png": "[encoded data removed]",
      "text/plain": [
       "<Figure size 432x288 with 1 Axes>"
      ]
     },
     "metadata": {
      "needs_background": "light"
     },
     "output_type": "display_data"
    },
    {
     "data": {
      "image/png": "[encoded data removed]",
      "text/plain": [
       "<Figure size 432x288 with 1 Axes>"
      ]
     },
     "metadata": {
      "needs_background": "light"
     },
     "output_type": "display_data"
    }
   ],
   "source": [
    "plot_loss(hist1)\n",
    "plot_accuracy(hist1)"
   ]
  },
  {
   "cell_type": "code",
   "execution_count": null,
   "metadata": {},
   "outputs": [],
   "source": [
    "# load model saved\n",
    "mt_model = load_model('./model_de_en.h5')"
   ]
  },
  {
   "cell_type": "code",
   "execution_count": 24,
   "metadata": {},
   "outputs": [],
   "source": [
    "preds = mt_model.predict_classes(testX[:50].reshape((50,testX.shape[1])))"
   ]
  },
  {
   "cell_type": "markdown",
   "metadata": {},
   "source": [
    "Convertimos las secuencias de números a secuencias de palabras"
   ]
  },
  {
   "cell_type": "code",
   "execution_count": 25,
   "metadata": {},
   "outputs": [],
   "source": [
    "def get_word(n, tokenizer):\n",
    "    for word, index in tokenizer.word_index.items():\n",
    "        if index == n:\n",
    "            return word\n",
    "    return None\n",
    "\n",
    "def get_predictions(preds):\n",
    "    preds_text = []\n",
    "    for i in preds:\n",
    "        temp = []\n",
    "        for j in range(len(i)):\n",
    "#Obtener la palabra que corresponde al índice del vocabulario de la lengua destino\n",
    "            t = get_word(i[j], deu_tokenizer)\n",
    "            if j > 0:\n",
    "                if (t == get_word(i[j-1], deu_tokenizer)) or (t == None):\n",
    "                         temp.append('')\n",
    "                else:\n",
    "                         temp.append(t)\n",
    "            else:\n",
    "                if(t == None):\n",
    "                    temp.append('')\n",
    "                else:\n",
    "                    temp.append(t) \n",
    "\n",
    "        preds_text.append(' '.join(temp))\n",
    "    return preds_text"
   ]
  },
  {
   "cell_type": "code",
   "execution_count": 26,
   "metadata": {},
   "outputs": [
    {
     "data": {
      "text/html": [
       "<div>\n",
       "<style scoped>\n",
       "    .dataframe tbody tr th:only-of-type {\n",
       "        vertical-align: middle;\n",
       "    }\n",
       "\n",
       "    .dataframe tbody tr th {\n",
       "        vertical-align: top;\n",
       "    }\n",
       "\n",
       "    .dataframe thead th {\n",
       "        text-align: right;\n",
       "    }\n",
       "</style>\n",
       "<table border=\"1\" class=\"dataframe\">\n",
       "  <thead>\n",
       "    <tr style=\"text-align: right;\">\n",
       "      <th></th>\n",
       "      <th>actual</th>\n",
       "      <th>predicted</th>\n",
       "    </tr>\n",
       "  </thead>\n",
       "  <tbody>\n",
       "    <tr>\n",
       "      <th>0</th>\n",
       "      <td>you need to wake up</td>\n",
       "      <td>sie musst aufwachen</td>\n",
       "    </tr>\n",
       "    <tr>\n",
       "      <th>23</th>\n",
       "      <td>why does it work</td>\n",
       "      <td>warum macht er</td>\n",
       "    </tr>\n",
       "    <tr>\n",
       "      <th>3</th>\n",
       "      <td>hide the money</td>\n",
       "      <td>das geld die geld</td>\n",
       "    </tr>\n",
       "    <tr>\n",
       "      <th>46</th>\n",
       "      <td>this is very bad</td>\n",
       "      <td>das ist sehr süß</td>\n",
       "    </tr>\n",
       "    <tr>\n",
       "      <th>27</th>\n",
       "      <td>do you have a shoehorn</td>\n",
       "      <td>hast sie einen website</td>\n",
       "    </tr>\n",
       "  </tbody>\n",
       "</table>\n",
       "</div>"
      ],
      "text/plain": [
       "                    actual                       predicted\n",
       "0      you need to wake up    sie musst aufwachen         \n",
       "23        why does it work         warum macht er         \n",
       "3           hide the money       das geld die geld        \n",
       "46        this is very bad        das ist sehr süß        \n",
       "27  do you have a shoehorn  hast sie einen website        "
      ]
     },
     "execution_count": 26,
     "metadata": {},
     "output_type": "execute_result"
    }
   ],
   "source": [
    "pred_df = pd.DataFrame({'actual' : test[:50,1], 'predicted' : get_predictions(preds)})\n",
    "pred_df.sample(5)"
   ]
  },
  {
   "cell_type": "markdown",
   "metadata": {},
   "source": [
    "### Ejemplo de la aplicación del modelo entrenado "
   ]
  },
  {
   "cell_type": "code",
   "execution_count": 28,
   "metadata": {},
   "outputs": [
    {
     "name": "stdout",
     "output_type": "stream",
     "text": [
      "tom habe dich         \n"
     ]
    }
   ],
   "source": [
    "texts = ['Hello im tom']\n",
    "t_tokenizer = tokenization(texts)\n",
    "t_vocab_size = len(t_tokenizer.word_index) + 1\n",
    "vocab_size = len(t_tokenizer.word_index) + 1\n",
    "\n",
    "example = encode_sequences(t_tokenizer, vocab_size, texts)\n",
    "preds_ex = mt_model.predict_classes(example)\n",
    "\n",
    "print(get_predictions(preds_ex)[0])"
   ]
  },
  {
   "cell_type": "markdown",
   "metadata": {},
   "source": [
    "# Training"
   ]
  },
  {
   "cell_type": "markdown",
   "metadata": {},
   "source": [
    "## 1.2 TA con Embeddings preentrenados"
   ]
  },
  {
   "cell_type": "markdown",
   "metadata": {},
   "source": [
    "Repetiremos el puntu anterior cargando en la capa de embedding los pesos de un modelo GloVe entrenado para el inglés."
   ]
  },
  {
   "cell_type": "markdown",
   "metadata": {},
   "source": [
    "Cargamos el siguiente modelo GloVe para el inglés."
   ]
  },
  {
   "cell_type": "code",
   "execution_count": 29,
   "metadata": {},
   "outputs": [],
   "source": [
    "# path del fichero glove\n",
    "glove_file = os.path.join(data_dir, \"glove.42B.300d.txt\")"
   ]
  },
  {
   "cell_type": "code",
   "execution_count": 30,
   "metadata": {},
   "outputs": [],
   "source": [
    "embeddings_index = {}\n",
    "f = open(glove_file, encoding=\"utf8\")\n",
    "for line in f:\n",
    "    values = line.split()\n",
    "    word = values[0]\n",
    "    coefs = np.asarray(values[1:], dtype='float32')\n",
    "    embeddings_index[word] = coefs\n",
    "f.close()\n",
    "print(len(embeddings_index))"
   ]
  },
  {
   "cell_type": "code",
   "execution_count": null,
   "metadata": {},
   "outputs": [],
   "source": [
    "# guardamos el fichero embeddings \n",
    "file_embeddings_index = open(\"file_embeddings_index.pkl\", \"wb\")\n",
    "pickle.dump(embeddings_index, file_embeddings_index)\n",
    "file_embeddings_index.close()"
   ]
  },
  {
   "cell_type": "code",
   "execution_count": 31,
   "metadata": {},
   "outputs": [
    {
     "name": "stdout",
     "output_type": "stream",
     "text": [
      "1917494\n"
     ]
    }
   ],
   "source": [
    "# cargamos el fichero embeddings \n",
    "a_file = open(\"file_embeddings_index.pkl\", \"rb\")\n",
    "embeddings_index = pickle.load(a_file)\n",
    "print(len(embeddings_index))"
   ]
  },
  {
   "cell_type": "markdown",
   "metadata": {},
   "source": [
    "A continuación, debemos construir la matriz de embeddings.\n",
    "\n",
    "Para no cargar todo el vocabulario del modelo, debemos filtrar solo aquellas entradas presentes en el vocabulario del tokenizer que usaremos. Y además, debemos incluir en la matriz vectores corresponidientes a los índices de las entradas (palabras) que no encontremos en el modelo GloVe cargado. Estos vectores se suelen inicializar como 0s o como resultados de una distribución N(0,1),\n"
   ]
  },
  {
   "cell_type": "markdown",
   "metadata": {},
   "source": [
    "Por ejemplo, si nuestro tokenizer se llama `eng_tokenizer` podríamos hacer:"
   ]
  },
  {
   "cell_type": "code",
   "execution_count": 32,
   "metadata": {},
   "outputs": [],
   "source": [
    "embedding_matrix = np.zeros((len(eng_tokenizer.word_index) + 1, 300))\n",
    "for word, i in eng_tokenizer.word_index.items():\n",
    "    embedding_vector = embeddings_index.get(word)\n",
    "    if embedding_vector is not None:\n",
    "        embedding_matrix[i] = embedding_vector"
   ]
  },
  {
   "cell_type": "markdown",
   "metadata": {},
   "source": [
    "Para iniciar una capa de embedding con pesos predefinidos se usa el argumento `weights`. Además, como no queremos que se modifiquen los pesos marcamos el argumento `trainable` como `False`. \n"
   ]
  },
  {
   "cell_type": "code",
   "execution_count": 33,
   "metadata": {},
   "outputs": [],
   "source": [
    "from keras.layers import Embedding\n",
    "\n",
    "embedding_layer = Embedding(len(eng_tokenizer.word_index) + 1,\n",
    "                            300,\n",
    "                            weights=[embedding_matrix],\n",
    "                            input_length=eng_length,\n",
    "                            trainable=False,\n",
    "                            mask_zero=True)\n"
   ]
  },
  {
   "cell_type": "code",
   "execution_count": 34,
   "metadata": {},
   "outputs": [],
   "source": [
    "# se define la función del segundo modelo, esta incorpora la capa embedida\n",
    "def define_model_2(in_vocab_size, out_timesteps, out_vocab_size):\n",
    "    units = 512\n",
    "    mt_model = Sequential()\n",
    "    mt_model.add(embedding_layer)\n",
    "    mt_model.add(LSTM(units))\n",
    "    mt_model.add(RepeatVector(out_timesteps))\n",
    "    mt_model.add(LSTM(units, return_sequences=True))\n",
    "    mt_model.add(Dense(out_vocab_size, activation='softmax', dtype='float32'))\n",
    "    return mt_model"
   ]
  },
  {
   "cell_type": "code",
   "execution_count": 35,
   "metadata": {},
   "outputs": [],
   "source": [
    "# creamos el modelo\n",
    "mt_model_2 = define_model_2(eng_vocab_size, \n",
    "                        deu_length, \n",
    "                        deu_vocab_size)"
   ]
  },
  {
   "cell_type": "code",
   "execution_count": 36,
   "metadata": {},
   "outputs": [
    {
     "name": "stdout",
     "output_type": "stream",
     "text": [
      "model compile using (<tensorflow.python.keras.optimizer_v2.rmsprop.RMSprop object at 0x0000019B6A71A820>, 'sparse_categorical_crossentropy')\n"
     ]
    }
   ],
   "source": [
    "# compilamos el modelo optimizador rms y función de pérdida ->sparse_categorical_crossentropy\n",
    "# creamos la callback para este modelo\n",
    "mt_model_2 = compile_model(mt_model_2, 'rms', 'sparse_c_c')\n",
    "callbacks2 = create_callbacks(path= './model_de_en_2.h5')"
   ]
  },
  {
   "cell_type": "code",
   "execution_count": 37,
   "metadata": {},
   "outputs": [
    {
     "name": "stdout",
     "output_type": "stream",
     "text": [
      "Epoch 1/30\n",
      "63/63 [==============================] - 10s 102ms/step - loss: 3.6056 - accuracy: 0.6116 - val_loss: 2.2540 - val_accuracy: 0.6845\n",
      "\n",
      "Epoch 00001: val_loss improved from -inf to 2.25396, saving model to .\\model_de_en_2.h5\n",
      "Epoch 2/30\n",
      "63/63 [==============================] - 5s 76ms/step - loss: 2.1654 - accuracy: 0.6895 - val_loss: 2.0412 - val_accuracy: 0.7055\n",
      "\n",
      "Epoch 00002: val_loss did not improve from 2.25396\n",
      "Epoch 3/30\n",
      "63/63 [==============================] - 5s 76ms/step - loss: 1.9479 - accuracy: 0.7134 - val_loss: 1.9190 - val_accuracy: 0.7241\n",
      "\n",
      "Epoch 00003: val_loss did not improve from 2.25396\n",
      "Epoch 4/30\n",
      "63/63 [==============================] - 5s 76ms/step - loss: 1.7726 - accuracy: 0.7312 - val_loss: 1.7599 - val_accuracy: 0.7417\n",
      "\n",
      "Epoch 00004: val_loss did not improve from 2.25396\n",
      "Epoch 5/30\n",
      "63/63 [==============================] - 5s 76ms/step - loss: 1.6218 - accuracy: 0.7465 - val_loss: 1.6663 - val_accuracy: 0.7502\n",
      "\n",
      "Epoch 00005: val_loss did not improve from 2.25396\n",
      "Epoch 6/30\n",
      "63/63 [==============================] - 5s 76ms/step - loss: 1.4812 - accuracy: 0.7587 - val_loss: 1.5838 - val_accuracy: 0.7596\n",
      "\n",
      "Epoch 00006: val_loss did not improve from 2.25396\n",
      "Epoch 7/30\n",
      "63/63 [==============================] - 5s 76ms/step - loss: 1.3782 - accuracy: 0.7668 - val_loss: 1.4793 - val_accuracy: 0.7683\n",
      "\n",
      "Epoch 00007: val_loss did not improve from 2.25396\n",
      "Epoch 8/30\n",
      "63/63 [==============================] - 5s 76ms/step - loss: 1.2655 - accuracy: 0.7763 - val_loss: 1.3906 - val_accuracy: 0.7765\n",
      "\n",
      "Epoch 00008: val_loss did not improve from 2.25396\n",
      "Epoch 9/30\n",
      "63/63 [==============================] - 5s 76ms/step - loss: 1.1652 - accuracy: 0.7848 - val_loss: 1.3289 - val_accuracy: 0.7824\n",
      "\n",
      "Epoch 00009: val_loss did not improve from 2.25396\n",
      "Epoch 10/30\n",
      "63/63 [==============================] - 5s 78ms/step - loss: 1.0781 - accuracy: 0.7933 - val_loss: 1.2942 - val_accuracy: 0.7866\n",
      "\n",
      "Epoch 00010: val_loss did not improve from 2.25396\n",
      "Epoch 11/30\n",
      "63/63 [==============================] - 5s 76ms/step - loss: 0.9899 - accuracy: 0.8037 - val_loss: 1.2392 - val_accuracy: 0.7917\n",
      "\n",
      "Epoch 00011: val_loss did not improve from 2.25396\n",
      "Epoch 12/30\n",
      "63/63 [==============================] - 5s 76ms/step - loss: 0.9213 - accuracy: 0.8107 - val_loss: 1.2048 - val_accuracy: 0.7948\n",
      "\n",
      "Epoch 00012: val_loss did not improve from 2.25396\n",
      "Epoch 13/30\n",
      "63/63 [==============================] - 5s 81ms/step - loss: 0.8480 - accuracy: 0.8195 - val_loss: 1.1621 - val_accuracy: 0.8009\n",
      "\n",
      "Epoch 00013: val_loss did not improve from 2.25396\n",
      "Epoch 14/30\n",
      "63/63 [==============================] - 5s 82ms/step - loss: 0.7801 - accuracy: 0.8301 - val_loss: 1.1282 - val_accuracy: 0.8042\n",
      "\n",
      "Epoch 00014: val_loss did not improve from 2.25396\n",
      "Epoch 15/30\n",
      "63/63 [==============================] - 5s 79ms/step - loss: 0.7216 - accuracy: 0.8392 - val_loss: 1.1017 - val_accuracy: 0.8090\n",
      "\n",
      "Epoch 00015: val_loss did not improve from 2.25396\n",
      "Epoch 16/30\n",
      "63/63 [==============================] - 5s 77ms/step - loss: 0.6745 - accuracy: 0.8450 - val_loss: 1.0832 - val_accuracy: 0.8117\n",
      "\n",
      "Epoch 00016: val_loss did not improve from 2.25396\n",
      "Epoch 17/30\n",
      "63/63 [==============================] - 5s 75ms/step - loss: 0.6238 - accuracy: 0.8533 - val_loss: 1.0709 - val_accuracy: 0.8129\n",
      "\n",
      "Epoch 00017: val_loss did not improve from 2.25396\n",
      "Epoch 18/30\n",
      "63/63 [==============================] - 5s 76ms/step - loss: 0.5729 - accuracy: 0.8622 - val_loss: 1.0404 - val_accuracy: 0.8180\n",
      "\n",
      "Epoch 00018: val_loss did not improve from 2.25396\n",
      "Epoch 19/30\n",
      "63/63 [==============================] - 5s 75ms/step - loss: 0.5354 - accuracy: 0.8693 - val_loss: 1.0349 - val_accuracy: 0.8188\n",
      "\n",
      "Epoch 00019: val_loss did not improve from 2.25396\n",
      "Epoch 20/30\n",
      "63/63 [==============================] - 5s 75ms/step - loss: 0.4924 - accuracy: 0.8773 - val_loss: 1.0414 - val_accuracy: 0.8194\n",
      "\n",
      "Epoch 00020: val_loss did not improve from 2.25396\n",
      "Epoch 21/30\n",
      "63/63 [==============================] - 5s 75ms/step - loss: 0.4566 - accuracy: 0.8839 - val_loss: 1.0194 - val_accuracy: 0.8189\n",
      "\n",
      "Epoch 00021: val_loss did not improve from 2.25396\n",
      "Epoch 22/30\n",
      "63/63 [==============================] - 5s 75ms/step - loss: 0.4276 - accuracy: 0.8899 - val_loss: 1.0165 - val_accuracy: 0.8224\n",
      "\n",
      "Epoch 00022: val_loss did not improve from 2.25396\n",
      "Epoch 23/30\n",
      "63/63 [==============================] - 5s 82ms/step - loss: 0.3930 - accuracy: 0.8967 - val_loss: 1.0086 - val_accuracy: 0.8225\n",
      "\n",
      "Epoch 00023: val_loss did not improve from 2.25396\n",
      "Epoch 24/30\n",
      "63/63 [==============================] - 5s 77ms/step - loss: 0.3657 - accuracy: 0.9045 - val_loss: 1.0134 - val_accuracy: 0.8217\n",
      "\n",
      "Epoch 00024: val_loss did not improve from 2.25396\n",
      "Epoch 25/30\n",
      "63/63 [==============================] - 5s 81ms/step - loss: 0.3334 - accuracy: 0.9107 - val_loss: 1.0214 - val_accuracy: 0.8228\n",
      "\n",
      "Epoch 00025: val_loss did not improve from 2.25396\n",
      "Epoch 26/30\n",
      "63/63 [==============================] - 5s 76ms/step - loss: 0.3149 - accuracy: 0.9139 - val_loss: 1.0139 - val_accuracy: 0.8211\n",
      "\n",
      "Epoch 00026: val_loss did not improve from 2.25396\n",
      "Epoch 27/30\n",
      "63/63 [==============================] - 5s 76ms/step - loss: 0.2912 - accuracy: 0.9207 - val_loss: 1.0205 - val_accuracy: 0.8233\n",
      "\n",
      "Epoch 00027: val_loss did not improve from 2.25396\n",
      "Epoch 28/30\n",
      "63/63 [==============================] - 5s 76ms/step - loss: 0.2708 - accuracy: 0.9252 - val_loss: 1.0136 - val_accuracy: 0.8238\n",
      "\n",
      "Epoch 00028: val_loss did not improve from 2.25396\n",
      "Epoch 29/30\n",
      "63/63 [==============================] - 5s 77ms/step - loss: 0.2514 - accuracy: 0.9295 - val_loss: 1.0137 - val_accuracy: 0.8223\n",
      "\n",
      "Epoch 00029: val_loss did not improve from 2.25396\n",
      "Epoch 30/30\n",
      "63/63 [==============================] - 5s 77ms/step - loss: 0.2338 - accuracy: 0.9337 - val_loss: 1.0229 - val_accuracy: 0.8217\n",
      "\n",
      "Epoch 00030: val_loss did not improve from 2.25396\n"
     ]
    }
   ],
   "source": [
    "# se entrena el modelo con 30 epoch con batch de 512, splitting 80% train y 20% validacion\n",
    "hist2 = mt_model_2.fit(trainX, \n",
    "             trainY.reshape(trainY.shape[0], trainY.shape[1], 1),\n",
    "             epochs=EPOCHS, batch_size=BATCH_SIZE, \n",
    "             validation_split = 0.2, \n",
    "             callbacks=callbacks2, \n",
    "             verbose=1)"
   ]
  },
  {
   "cell_type": "code",
   "execution_count": null,
   "metadata": {},
   "outputs": [],
   "source": [
    "# cargamos el modelo guardado el fichero\n",
    "mt_model_2 = load_model('./model_de_en_2.h5')"
   ]
  },
  {
   "cell_type": "code",
   "execution_count": 38,
   "metadata": {},
   "outputs": [],
   "source": [
    "# generamos las predictions\n",
    "preds2 = mt_model_2.predict_classes(testX[:50].reshape((50,testX.shape[1])))"
   ]
  },
  {
   "cell_type": "code",
   "execution_count": 39,
   "metadata": {},
   "outputs": [
    {
     "data": {
      "text/html": [
       "<div>\n",
       "<style scoped>\n",
       "    .dataframe tbody tr th:only-of-type {\n",
       "        vertical-align: middle;\n",
       "    }\n",
       "\n",
       "    .dataframe tbody tr th {\n",
       "        vertical-align: top;\n",
       "    }\n",
       "\n",
       "    .dataframe thead th {\n",
       "        text-align: right;\n",
       "    }\n",
       "</style>\n",
       "<table border=\"1\" class=\"dataframe\">\n",
       "  <thead>\n",
       "    <tr style=\"text-align: right;\">\n",
       "      <th></th>\n",
       "      <th>actual</th>\n",
       "      <th>predicted</th>\n",
       "    </tr>\n",
       "  </thead>\n",
       "  <tbody>\n",
       "    <tr>\n",
       "      <th>16</th>\n",
       "      <td>he hasnt appeared yet</td>\n",
       "      <td>er ist noch nicht</td>\n",
       "    </tr>\n",
       "    <tr>\n",
       "      <th>26</th>\n",
       "      <td>the water is cold</td>\n",
       "      <td>das wasser ist kalt</td>\n",
       "    </tr>\n",
       "    <tr>\n",
       "      <th>34</th>\n",
       "      <td>i am well</td>\n",
       "      <td>ich geht gut</td>\n",
       "    </tr>\n",
       "    <tr>\n",
       "      <th>43</th>\n",
       "      <td>i am ready to die</td>\n",
       "      <td>ich muss vor sterben</td>\n",
       "    </tr>\n",
       "    <tr>\n",
       "      <th>12</th>\n",
       "      <td>lock the door</td>\n",
       "      <td>schließ die tür ab</td>\n",
       "    </tr>\n",
       "  </tbody>\n",
       "</table>\n",
       "</div>"
      ],
      "text/plain": [
       "                   actual                     predicted\n",
       "16  he hasnt appeared yet     er ist noch nicht        \n",
       "26      the water is cold   das wasser ist kalt        \n",
       "34              i am well         ich geht gut         \n",
       "43      i am ready to die  ich muss vor sterben        \n",
       "12          lock the door    schließ die tür ab        "
      ]
     },
     "execution_count": 39,
     "metadata": {},
     "output_type": "execute_result"
    }
   ],
   "source": [
    "pred_df = pd.DataFrame({'actual' : test[:50,1], 'predicted' : get_predictions(preds2)})\n",
    "pred_df.sample(5)"
   ]
  },
  {
   "cell_type": "code",
   "execution_count": 40,
   "metadata": {},
   "outputs": [
    {
     "data": {
      "image/png": "[encoded data removed]",
      "text/plain": [
       "<Figure size 432x288 with 1 Axes>"
      ]
     },
     "metadata": {
      "needs_background": "light"
     },
     "output_type": "display_data"
    },
    {
     "data": {
      "image/png": "[encoded data removed]",
      "text/plain": [
       "<Figure size 432x288 with 1 Axes>"
      ]
     },
     "metadata": {
      "needs_background": "light"
     },
     "output_type": "display_data"
    }
   ],
   "source": [
    "plot_loss(hist2)\n",
    "plot_accuracy(hist2)"
   ]
  },
  {
   "cell_type": "markdown",
   "metadata": {},
   "source": [
    "# 2. Clasificación de frases"
   ]
  },
  {
   "cell_type": "markdown",
   "metadata": {},
   "source": [
    "En este apartado planteamos el uso de las arquitecturas vistas hasta el momento para mejorar los resultados de la tarea de clasificación de opiniones falsas vista anteriormente en la asignatura. "
   ]
  },
  {
   "cell_type": "markdown",
   "metadata": {},
   "source": [
    "Primero cargaremos los datos del fichero de titulares 'OPINIONS-TAGGED-FAKE.csv' con el objetivo de entrenar un modelo que clasifique las opiniones en 'FAKENEG', 'FAKEPOS', 'TRUENEG' y 'TRUEPOS'."
   ]
  },
  {
   "cell_type": "code",
   "execution_count": 4,
   "metadata": {},
   "outputs": [],
   "source": [
    "# se carga los paths\n",
    "datosp3_dir = os.path.join(data_dir, \"datos-PRA3-a\")\n",
    "opinions_fake_file = os.path.join(datosp3_dir, \"OPINIONS-TAGGED-FAKE.csv\")"
   ]
  },
  {
   "cell_type": "code",
   "execution_count": 42,
   "metadata": {},
   "outputs": [],
   "source": [
    "df = pd.read_csv(opinions_fake_file, sep='\\t')\n",
    "\n",
    "data = []\n",
    "data_labels = []\n",
    "\n",
    "opinions = df['OPINION'].tolist()\n",
    "tags = df['TAG'].tolist()\n",
    "\n",
    "for i in range(len(opinions)): \n",
    "    data.append(opinions[i]) \n",
    "    data_labels.append(tags[i])"
   ]
  },
  {
   "cell_type": "code",
   "execution_count": 43,
   "metadata": {},
   "outputs": [
    {
     "data": {
      "text/html": [
       "<div>\n",
       "<style scoped>\n",
       "    .dataframe tbody tr th:only-of-type {\n",
       "        vertical-align: middle;\n",
       "    }\n",
       "\n",
       "    .dataframe tbody tr th {\n",
       "        vertical-align: top;\n",
       "    }\n",
       "\n",
       "    .dataframe thead th {\n",
       "        text-align: right;\n",
       "    }\n",
       "</style>\n",
       "<table border=\"1\" class=\"dataframe\">\n",
       "  <thead>\n",
       "    <tr style=\"text-align: right;\">\n",
       "      <th></th>\n",
       "      <th>OPINION</th>\n",
       "      <th>TAG</th>\n",
       "    </tr>\n",
       "  </thead>\n",
       "  <tbody>\n",
       "    <tr>\n",
       "      <th>0</th>\n",
       "      <td>I recently stayed at the Affina Chicago hotel ...</td>\n",
       "      <td>FAKENEG</td>\n",
       "    </tr>\n",
       "    <tr>\n",
       "      <th>1</th>\n",
       "      <td>I stayed at the Affina Chicago for my annivers...</td>\n",
       "      <td>FAKENEG</td>\n",
       "    </tr>\n",
       "    <tr>\n",
       "      <th>2</th>\n",
       "      <td>If you are looking for a high end hotel on the...</td>\n",
       "      <td>FAKENEG</td>\n",
       "    </tr>\n",
       "    <tr>\n",
       "      <th>3</th>\n",
       "      <td>I just returned from a long weekend in Chicago...</td>\n",
       "      <td>FAKENEG</td>\n",
       "    </tr>\n",
       "    <tr>\n",
       "      <th>4</th>\n",
       "      <td>My wife and I stayed at the Affinia Chicago la...</td>\n",
       "      <td>FAKENEG</td>\n",
       "    </tr>\n",
       "  </tbody>\n",
       "</table>\n",
       "</div>"
      ],
      "text/plain": [
       "                                             OPINION      TAG\n",
       "0  I recently stayed at the Affina Chicago hotel ...  FAKENEG\n",
       "1  I stayed at the Affina Chicago for my annivers...  FAKENEG\n",
       "2  If you are looking for a high end hotel on the...  FAKENEG\n",
       "3  I just returned from a long weekend in Chicago...  FAKENEG\n",
       "4  My wife and I stayed at the Affinia Chicago la...  FAKENEG"
      ]
     },
     "execution_count": 43,
     "metadata": {},
     "output_type": "execute_result"
    }
   ],
   "source": [
    "df.head(5)"
   ]
  },
  {
   "cell_type": "markdown",
   "metadata": {},
   "source": [
    "Preparamos y preprocesamos los datos para el entrenamiento. Usaremos one-hot encoding para las etiquetas."
   ]
  },
  {
   "cell_type": "code",
   "execution_count": 44,
   "metadata": {},
   "outputs": [
    {
     "name": "stdout",
     "output_type": "stream",
     "text": [
      "['FAKENEG' 'FAKENEG' 'FAKENEG' ... 'TRUEPOS' 'TRUEPOS' 'TRUEPOS']\n",
      "[0 0 0 ... 3 3 3]\n",
      "[[1. 0. 0. 0.]\n",
      " [1. 0. 0. 0.]\n",
      " [1. 0. 0. 0.]\n",
      " ...\n",
      " [0. 0. 0. 1.]\n",
      " [0. 0. 0. 1.]\n",
      " [0. 0. 0. 1.]]\n"
     ]
    }
   ],
   "source": [
    "from numpy import array\n",
    "from sklearn.preprocessing import LabelEncoder\n",
    "from sklearn.preprocessing import OneHotEncoder\n",
    "\n",
    "values = array(data_labels)\n",
    "print(values)\n",
    "\n",
    "label_encoder = LabelEncoder()\n",
    "integer_encoded = label_encoder.fit_transform(values)\n",
    "print(integer_encoded)\n",
    "\n",
    "onehot_encoder = OneHotEncoder(sparse=False)\n",
    "integer_encoded = integer_encoded.reshape(len(integer_encoded), 1)\n",
    "onehot_encoded = onehot_encoder.fit_transform(integer_encoded)\n",
    "print(onehot_encoded)\n"
   ]
  },
  {
   "cell_type": "markdown",
   "metadata": {},
   "source": [
    "La idea del modelo de clasificación que queremos implementar es más simple que la del encoder-decoder usado en el apartado 1. \n",
    "\n",
    "El modelo debe consistir solamente en: \n",
    "\n",
    "- una capa embedding con los pesos del modelo GloVe preentrenado para el inglés disponible en el fichero 'glove.42B.300d.txt'\n",
    "- una capa LSTM con un número de units a elegir (por ejemplo, 300)\n",
    "- una capa Dense con dimensión de salida el número de categorías con las que queremos clasificar (en este caso, 4).\n",
    "\n",
    "Además, como loss function `loss` usaremos 'categorical_crossentropy' y como `optimizer`, 'adam'."
   ]
  },
  {
   "cell_type": "code",
   "execution_count": 46,
   "metadata": {},
   "outputs": [],
   "source": [
    "# se intenta mejorar el modelo eliminando las stops words\n",
    "# from nltk.corpus import stopwords\n",
    "# stop = set(stopwords.words('english'))\n",
    "# words = [ch for ch in data if ch not in stop]\n",
    "\n",
    "dataX  = [char for char in data if char not in string.punctuation]\n",
    "dataX = [x.lower() for x in dataX]"
   ]
  },
  {
   "cell_type": "code",
   "execution_count": 47,
   "metadata": {},
   "outputs": [
    {
     "name": "stdout",
     "output_type": "stream",
     "text": [
      "size del vocab  9839\n"
     ]
    }
   ],
   "source": [
    "# se realiza la tokenización\n",
    "data_token = tokenization(dataX)\n",
    "data_size = len(data_token.word_index) +1\n",
    "print(\"size del vocab \", data_size)"
   ]
  },
  {
   "cell_type": "code",
   "execution_count": 48,
   "metadata": {},
   "outputs": [],
   "source": [
    "# se codifica las secuencias\n",
    "X = encode_sequences(data_token, 300, data)"
   ]
  },
  {
   "cell_type": "code",
   "execution_count": 49,
   "metadata": {},
   "outputs": [],
   "source": [
    "# se separa los conjuntos de training y test\n",
    "train_x, test_x, train_y, test_y = train_test_split(X, \n",
    "                                                    onehot_encoded, \n",
    "                                                    test_size=0.2, \n",
    "                                                    random_state=123)"
   ]
  },
  {
   "cell_type": "code",
   "execution_count": 50,
   "metadata": {},
   "outputs": [],
   "source": [
    "embedding_matrix2 = np.zeros((data_size, 300))\n",
    "for word, i in data_token.word_index.items():\n",
    "    embedding_vector = embeddings_index.get(word)\n",
    "    if embedding_vector is not None:\n",
    "        embedding_matrix2[i] = embedding_vector     "
   ]
  },
  {
   "cell_type": "code",
   "execution_count": 51,
   "metadata": {},
   "outputs": [],
   "source": [
    "# function para crear el modelo\n",
    "def define_model_3():\n",
    "    units = 300\n",
    "    output = 4\n",
    "    model = Sequential()\n",
    "    layer = Embedding(data_size, 300, input_length=300, weights=[embedding_matrix2],trainable=False)\n",
    "    model.add(layer)\n",
    "    model.add(LSTM(units, return_sequences=True))\n",
    "    model.add(Flatten())\n",
    "    model.add(Dense(output, activation='softmax'))\n",
    "    return model"
   ]
  },
  {
   "cell_type": "code",
   "execution_count": 53,
   "metadata": {},
   "outputs": [
    {
     "name": "stdout",
     "output_type": "stream",
     "text": [
      "model compile using (<tensorflow.python.keras.optimizer_v2.adam.Adam object at 0x0000019AEF447BE0>, <tensorflow.python.keras.losses.CategoricalCrossentropy object at 0x0000019AEF43AD90>)\n"
     ]
    }
   ],
   "source": [
    "# se crea el modelo, se compila con optimizador adam y loss de categorical_crossentropy\n",
    "# además se guarda el modelo con el nombre model_3.h5\n",
    "model_3 = define_model_3()\n",
    "model_3 = compile_model(model_3, 'adam', 'categorial_c')\n",
    "callbacks3 = create_callbacks(path= './model_3.h5')"
   ]
  },
  {
   "cell_type": "code",
   "execution_count": 54,
   "metadata": {},
   "outputs": [
    {
     "name": "stdout",
     "output_type": "stream",
     "text": [
      "Epoch 1/30\n",
      "2/2 [==============================] - 2s 546ms/step - loss: 3.1320 - accuracy: 0.2578 - val_loss: 2.1421 - val_accuracy: 0.3281\n",
      "\n",
      "Epoch 00001: val_loss improved from -inf to 2.14209, saving model to .\\model_3.h5\n",
      "Epoch 2/30\n",
      "2/2 [==============================] - 0s 215ms/step - loss: 2.2116 - accuracy: 0.3301 - val_loss: 2.1633 - val_accuracy: 0.3398\n",
      "\n",
      "Epoch 00002: val_loss improved from 2.14209 to 2.16328, saving model to .\\model_3.h5\n",
      "Epoch 3/30\n",
      "2/2 [==============================] - 0s 216ms/step - loss: 2.0433 - accuracy: 0.3704 - val_loss: 1.7132 - val_accuracy: 0.3125\n",
      "\n",
      "Epoch 00003: val_loss did not improve from 2.16328\n",
      "Epoch 4/30\n",
      "2/2 [==============================] - 0s 217ms/step - loss: 1.5975 - accuracy: 0.3854 - val_loss: 1.3511 - val_accuracy: 0.4023\n",
      "\n",
      "Epoch 00004: val_loss did not improve from 2.16328\n",
      "Epoch 5/30\n",
      "2/2 [==============================] - 0s 216ms/step - loss: 1.1792 - accuracy: 0.4674 - val_loss: 1.3107 - val_accuracy: 0.4102\n",
      "\n",
      "Epoch 00005: val_loss did not improve from 2.16328\n",
      "Epoch 6/30\n",
      "2/2 [==============================] - 0s 215ms/step - loss: 1.1905 - accuracy: 0.4466 - val_loss: 1.1356 - val_accuracy: 0.4688\n",
      "\n",
      "Epoch 00006: val_loss did not improve from 2.16328\n",
      "Epoch 7/30\n",
      "2/2 [==============================] - 0s 216ms/step - loss: 0.9368 - accuracy: 0.6270 - val_loss: 1.1919 - val_accuracy: 0.5234\n",
      "\n",
      "Epoch 00007: val_loss did not improve from 2.16328\n",
      "Epoch 8/30\n",
      "2/2 [==============================] - 0s 217ms/step - loss: 0.9757 - accuracy: 0.5677 - val_loss: 1.0623 - val_accuracy: 0.5469\n",
      "\n",
      "Epoch 00008: val_loss did not improve from 2.16328\n",
      "Epoch 9/30\n",
      "2/2 [==============================] - 0s 217ms/step - loss: 0.8482 - accuracy: 0.6484 - val_loss: 0.9246 - val_accuracy: 0.6289\n",
      "\n",
      "Epoch 00009: val_loss did not improve from 2.16328\n",
      "Epoch 10/30\n",
      "2/2 [==============================] - 0s 216ms/step - loss: 0.7301 - accuracy: 0.7734 - val_loss: 0.9926 - val_accuracy: 0.5234\n",
      "\n",
      "Epoch 00010: val_loss did not improve from 2.16328\n",
      "Epoch 11/30\n",
      "2/2 [==============================] - 0s 215ms/step - loss: 0.7061 - accuracy: 0.7318 - val_loss: 0.8613 - val_accuracy: 0.6523\n",
      "\n",
      "Epoch 00011: val_loss did not improve from 2.16328\n",
      "Epoch 12/30\n",
      "2/2 [==============================] - 0s 218ms/step - loss: 0.5959 - accuracy: 0.8548 - val_loss: 0.8424 - val_accuracy: 0.6250\n",
      "\n",
      "Epoch 00012: val_loss did not improve from 2.16328\n",
      "Epoch 13/30\n",
      "2/2 [==============================] - 0s 217ms/step - loss: 0.5839 - accuracy: 0.8151 - val_loss: 0.8431 - val_accuracy: 0.6562\n",
      "\n",
      "Epoch 00013: val_loss did not improve from 2.16328\n",
      "Epoch 14/30\n",
      "2/2 [==============================] - 0s 217ms/step - loss: 0.5234 - accuracy: 0.8236 - val_loss: 0.7843 - val_accuracy: 0.6484\n",
      "\n",
      "Epoch 00014: val_loss did not improve from 2.16328\n",
      "Epoch 15/30\n",
      "2/2 [==============================] - 0s 215ms/step - loss: 0.4535 - accuracy: 0.8893 - val_loss: 0.7543 - val_accuracy: 0.6562\n",
      "\n",
      "Epoch 00015: val_loss did not improve from 2.16328\n",
      "Epoch 16/30\n",
      "2/2 [==============================] - 0s 216ms/step - loss: 0.4207 - accuracy: 0.8861 - val_loss: 0.7085 - val_accuracy: 0.6953\n",
      "\n",
      "Epoch 00016: val_loss did not improve from 2.16328\n",
      "Epoch 17/30\n",
      "2/2 [==============================] - 0s 224ms/step - loss: 0.3882 - accuracy: 0.8809 - val_loss: 0.6970 - val_accuracy: 0.7109\n",
      "\n",
      "Epoch 00017: val_loss did not improve from 2.16328\n",
      "Epoch 18/30\n",
      "2/2 [==============================] - 0s 216ms/step - loss: 0.3475 - accuracy: 0.8965 - val_loss: 0.6649 - val_accuracy: 0.7227\n",
      "\n",
      "Epoch 00018: val_loss did not improve from 2.16328\n",
      "Epoch 19/30\n",
      "2/2 [==============================] - 0s 228ms/step - loss: 0.3189 - accuracy: 0.9017 - val_loss: 0.6988 - val_accuracy: 0.7070\n",
      "\n",
      "Epoch 00019: val_loss did not improve from 2.16328\n",
      "Epoch 20/30\n",
      "2/2 [==============================] - 0s 219ms/step - loss: 0.2977 - accuracy: 0.9102 - val_loss: 0.6358 - val_accuracy: 0.7383\n",
      "\n",
      "Epoch 00020: val_loss did not improve from 2.16328\n",
      "Epoch 21/30\n",
      "2/2 [==============================] - 0s 216ms/step - loss: 0.2600 - accuracy: 0.9095 - val_loss: 0.6566 - val_accuracy: 0.7148\n",
      "\n",
      "Epoch 00021: val_loss did not improve from 2.16328\n",
      "Epoch 22/30\n",
      "2/2 [==============================] - 0s 216ms/step - loss: 0.2386 - accuracy: 0.9277 - val_loss: 0.6629 - val_accuracy: 0.7188\n",
      "\n",
      "Epoch 00022: val_loss did not improve from 2.16328\n",
      "Epoch 23/30\n",
      "2/2 [==============================] - 0s 215ms/step - loss: 0.2144 - accuracy: 0.9297 - val_loss: 0.6400 - val_accuracy: 0.7539\n",
      "\n",
      "Epoch 00023: val_loss did not improve from 2.16328\n",
      "Epoch 24/30\n",
      "2/2 [==============================] - 0s 218ms/step - loss: 0.1882 - accuracy: 0.9440 - val_loss: 0.6878 - val_accuracy: 0.7227\n",
      "\n",
      "Epoch 00024: val_loss did not improve from 2.16328\n",
      "Epoch 25/30\n",
      "2/2 [==============================] - 0s 229ms/step - loss: 0.1695 - accuracy: 0.9492 - val_loss: 0.6610 - val_accuracy: 0.7344\n",
      "\n",
      "Epoch 00025: val_loss did not improve from 2.16328\n",
      "Epoch 26/30\n",
      "2/2 [==============================] - 0s 221ms/step - loss: 0.1460 - accuracy: 0.9629 - val_loss: 0.6821 - val_accuracy: 0.7383\n",
      "\n",
      "Epoch 00026: val_loss did not improve from 2.16328\n",
      "Epoch 27/30\n",
      "2/2 [==============================] - 0s 227ms/step - loss: 0.1312 - accuracy: 0.9622 - val_loss: 0.6772 - val_accuracy: 0.7305\n",
      "\n",
      "Epoch 00027: val_loss did not improve from 2.16328\n",
      "Epoch 28/30\n",
      "2/2 [==============================] - 0s 217ms/step - loss: 0.1197 - accuracy: 0.9707 - val_loss: 0.7006 - val_accuracy: 0.7227\n",
      "\n",
      "Epoch 00028: val_loss did not improve from 2.16328\n",
      "Epoch 29/30\n",
      "2/2 [==============================] - 0s 221ms/step - loss: 0.1067 - accuracy: 0.9772 - val_loss: 0.7494 - val_accuracy: 0.7227\n",
      "\n",
      "Epoch 00029: val_loss did not improve from 2.16328\n",
      "Epoch 30/30\n",
      "2/2 [==============================] - 0s 213ms/step - loss: 0.0993 - accuracy: 0.9792 - val_loss: 0.7318 - val_accuracy: 0.7461\n",
      "\n",
      "Epoch 00030: val_loss did not improve from 2.16328\n"
     ]
    }
   ],
   "source": [
    "# se entrena el modelo con 30 epochs, batch de 512\n",
    "hist3 = model_3.fit(train_x, \n",
    "                    train_y,\n",
    "                    epochs=EPOCHS, \n",
    "                    batch_size=BATCH_SIZE, \n",
    "                    validation_split = 0.2, \n",
    "                    callbacks=callbacks3, \n",
    "                    verbose=1)"
   ]
  },
  {
   "cell_type": "markdown",
   "metadata": {},
   "source": [
    "### Resultados:"
   ]
  },
  {
   "cell_type": "markdown",
   "metadata": {},
   "source": [
    "A continuación se muestran los resultados en varias gráficas, la accuracy del conjunto train y del test, la\n",
    "la pérdida (loss) conjunto train y del test y  la matriz de confusión."
   ]
  },
  {
   "cell_type": "code",
   "execution_count": 55,
   "metadata": {},
   "outputs": [
    {
     "data": {
      "image/png": "[encoded data removed]",
      "text/plain": [
       "<Figure size 432x288 with 1 Axes>"
      ]
     },
     "metadata": {
      "needs_background": "light"
     },
     "output_type": "display_data"
    },
    {
     "data": {
      "image/png": "[encoded data removed]",
      "text/plain": [
       "<Figure size 432x288 with 1 Axes>"
      ]
     },
     "metadata": {
      "needs_background": "light"
     },
     "output_type": "display_data"
    }
   ],
   "source": [
    "plot_loss(hist3)\n",
    "plot_accuracy(hist3)"
   ]
  },
  {
   "cell_type": "markdown",
   "metadata": {},
   "source": [
    "En la segunda gráfica, se observa la evolución de la Accuracy vemos que tenemos una Accuracy en el set de training que superar el 80% mientras que la curva del ser de validación a penas logra alcanzar el 75%. \n",
    "\n",
    "El momento importante llega pronto, aproximadamente después del epoch 10 el modelo empieza a presentar Overfitting, dando señales que ya no puede pasar de esta Accuracy con los datos y modelo disponible pero es capaz de clasificar bien con los datos de entrenamiento. En realidad, esta situación se observa perfectamente a partir en la gráfica de Loss cuando las dos líneas empiezan a divergir."
   ]
  },
  {
   "cell_type": "code",
   "execution_count": 58,
   "metadata": {},
   "outputs": [
    {
     "name": "stdout",
     "output_type": "stream",
     "text": [
      "\n",
      " Report:\n",
      "               precision    recall  f1-score   support\n",
      "\n",
      "           0       0.72      0.68      0.70        72\n",
      "           1       0.84      0.78      0.81        81\n",
      "           2       0.71      0.77      0.74        87\n",
      "           3       0.76      0.79      0.77        80\n",
      "\n",
      "    accuracy                           0.76       320\n",
      "   macro avg       0.76      0.75      0.76       320\n",
      "weighted avg       0.76      0.76      0.76       320\n",
      "\n"
     ]
    }
   ],
   "source": [
    "val_pred=model_3.predict(test_x,verbose=0)\n",
    "print(f'\\n Report:\\n {classification_report(test_y.argmax(axis=1), val_pred.argmax(axis=1))}')"
   ]
  },
  {
   "cell_type": "code",
   "execution_count": 59,
   "metadata": {},
   "outputs": [],
   "source": [
    "# función para printar la matriz de confusión\n",
    "# necesita un \n",
    "def plot_cm(cm):\n",
    "    fig = plt.figure(figsize=(15,15))\n",
    "    ax = fig.add_subplot(111)\n",
    "    cax = ax.matshow(cm)\n",
    "\n",
    "    plt.title('Confusion matrix')\n",
    "    fig.colorbar(cax)\n",
    "\n",
    "    for i, j in itertools.product(range(cm.shape[0]), range(cm.shape[1])):\n",
    "        plt.text(j, i, format(cm[i, j],'d'),\n",
    "                 horizontalalignment=\"center\",\n",
    "                 color=\"white\", \n",
    "                 fontsize=12)\n",
    "\n",
    "    ticks = np.arange(len(df['TAG'].unique().tolist()))\n",
    "    plt.xticks(ticks, df['TAG'].unique().tolist(), rotation=90)\n",
    "    plt.yticks(ticks, df['TAG'].unique().tolist())\n",
    "    plt.xlabel('Predicted')\n",
    "    plt.ylabel('True')\n",
    "    plt.show()"
   ]
  },
  {
   "cell_type": "code",
   "execution_count": 60,
   "metadata": {},
   "outputs": [
    {
     "data": {
      "image/png": "[encoded data removed]",
      "text/plain": [
       "<Figure size 1080x1080 with 2 Axes>"
      ]
     },
     "metadata": {
      "needs_background": "light"
     },
     "output_type": "display_data"
    }
   ],
   "source": [
    "cm = confusion_matrix(test_y.argmax(axis=1), val_pred.argmax(axis=1))\n",
    "plot_cm(cm)"
   ]
  },
  {
   "cell_type": "markdown",
   "metadata": {},
   "source": [
    "En la matriz de confusión podemos ver la relación de aciertos y errores del modelo generado, el modelo tiene los pesos en la diagonal, eso es bueno porque muestra la coincidencia, mientras que los valores fuera de la diagonal son las instancias mal clasificadas de cada clase como podemos las principales TRUENEG y FAKEPOS tienen valores más altos y se puede decir que es un error a la no coincidencia."
   ]
  },
  {
   "cell_type": "markdown",
   "metadata": {},
   "source": [
    "\n",
    "Un mejor preprocesado del texto se podría mejorar con otras técnicas como: reemplazar contracciones, I'm -> I am, también se tendría que valorar eliminar las stops words, aunque esta última se utilizó y no logro mejorar los resultados del modelo.\n",
    "\n",
    "Realizar un lematizado, un análisis del vocabulario y de la morfología de la palabra para eliminar únicamente las terminaciones propias, o en otras palabras convertir su forma más genérica podría dar mejores resultados."
   ]
  },
  {
   "cell_type": "markdown",
   "metadata": {},
   "source": [
    "# PARTE 2"
   ]
  },
  {
   "cell_type": "markdown",
   "metadata": {},
   "source": [
    "En esta segunda parte de la práctica se pide resolver los ejercicio con la librería **PYTORCH**."
   ]
  },
  {
   "cell_type": "markdown",
   "metadata": {},
   "source": [
    "# 3. Análisis de sentimientos"
   ]
  },
  {
   "cell_type": "markdown",
   "metadata": {},
   "source": [
    "El objetivo de este apartado es entrenar un modelo de análisis de sentimientos para un dataset de comentarios. El dataset consistirá en el campo `Short` del data frame del fichero 'tripadvisor_data.csv' y el sentimiento vendrá dado por el campo `Opinion`."
   ]
  },
  {
   "cell_type": "code",
   "execution_count": 5,
   "metadata": {},
   "outputs": [],
   "source": [
    "# liberias necesarias\n",
    "from torchtext import data\n",
    "import torch, gc\n",
    "from torchtext.legacy import data\n",
    "import torch.optim as optim\n",
    "import torch.nn as nn\n",
    "import time\n",
    "import tez"
   ]
  },
  {
   "cell_type": "code",
   "execution_count": 6,
   "metadata": {},
   "outputs": [],
   "source": [
    "gc.collect()\n",
    "torch.cuda.empty_cache()"
   ]
  },
  {
   "cell_type": "code",
   "execution_count": 7,
   "metadata": {},
   "outputs": [],
   "source": [
    "tripadvisor_file = os.path.join(datosp3_dir, \"tripadvisor_data.csv\")"
   ]
  },
  {
   "cell_type": "code",
   "execution_count": 8,
   "metadata": {},
   "outputs": [
    {
     "data": {
      "text/html": [
       "<div>\n",
       "<style scoped>\n",
       "    .dataframe tbody tr th:only-of-type {\n",
       "        vertical-align: middle;\n",
       "    }\n",
       "\n",
       "    .dataframe tbody tr th {\n",
       "        vertical-align: top;\n",
       "    }\n",
       "\n",
       "    .dataframe thead th {\n",
       "        text-align: right;\n",
       "    }\n",
       "</style>\n",
       "<table border=\"1\" class=\"dataframe\">\n",
       "  <thead>\n",
       "    <tr style=\"text-align: right;\">\n",
       "      <th></th>\n",
       "      <th>Short</th>\n",
       "      <th>Long</th>\n",
       "      <th>Class</th>\n",
       "      <th>Opinion</th>\n",
       "    </tr>\n",
       "  </thead>\n",
       "  <tbody>\n",
       "    <tr>\n",
       "      <th>0</th>\n",
       "      <td>“Very nice atmosphere”</td>\n",
       "      <td>We were together with some friends at the Anew...</td>\n",
       "      <td>family</td>\n",
       "      <td>POS</td>\n",
       "    </tr>\n",
       "    <tr>\n",
       "      <th>1</th>\n",
       "      <td>“Very nice food, great atmosphere, feels like ...</td>\n",
       "      <td>Martin and his staff are truely great! They ma...</td>\n",
       "      <td>family</td>\n",
       "      <td>POS</td>\n",
       "    </tr>\n",
       "    <tr>\n",
       "      <th>2</th>\n",
       "      <td>“Best Hotel on the Planet”</td>\n",
       "      <td>We have stayed at the Excelsior on numerous oc...</td>\n",
       "      <td>family</td>\n",
       "      <td>POS</td>\n",
       "    </tr>\n",
       "    <tr>\n",
       "      <th>3</th>\n",
       "      <td>“What a vacation should be”</td>\n",
       "      <td>Having four days free in Milan, we decided to ...</td>\n",
       "      <td>friends</td>\n",
       "      <td>POS</td>\n",
       "    </tr>\n",
       "    <tr>\n",
       "      <th>4</th>\n",
       "      <td>“Excellent stay”</td>\n",
       "      <td>In all aspects an excellent stay. Professional...</td>\n",
       "      <td>couple</td>\n",
       "      <td>POS</td>\n",
       "    </tr>\n",
       "  </tbody>\n",
       "</table>\n",
       "</div>"
      ],
      "text/plain": [
       "                                               Short  \\\n",
       "0                             “Very nice atmosphere”   \n",
       "1  “Very nice food, great atmosphere, feels like ...   \n",
       "2                         “Best Hotel on the Planet”   \n",
       "3                        “What a vacation should be”   \n",
       "4                                   “Excellent stay”   \n",
       "\n",
       "                                                Long    Class Opinion  \n",
       "0  We were together with some friends at the Anew...   family     POS  \n",
       "1  Martin and his staff are truely great! They ma...   family     POS  \n",
       "2  We have stayed at the Excelsior on numerous oc...   family     POS  \n",
       "3  Having four days free in Milan, we decided to ...  friends     POS  \n",
       "4  In all aspects an excellent stay. Professional...   couple     POS  "
      ]
     },
     "execution_count": 8,
     "metadata": {},
     "output_type": "execute_result"
    }
   ],
   "source": [
    "df = pd.read_csv(tripadvisor_file)\n",
    "df.head()"
   ]
  },
  {
   "cell_type": "markdown",
   "metadata": {},
   "source": [
    "A continuación adaptaremos el dataset para codificar las opiniones 1 POS 0 NEG."
   ]
  },
  {
   "cell_type": "code",
   "execution_count": 9,
   "metadata": {},
   "outputs": [
    {
     "data": {
      "text/plain": [
       "array(['POS', 'NEG'], dtype=object)"
      ]
     },
     "execution_count": 9,
     "metadata": {},
     "output_type": "execute_result"
    }
   ],
   "source": [
    "df.Opinion.unique()"
   ]
  },
  {
   "cell_type": "code",
   "execution_count": 10,
   "metadata": {},
   "outputs": [],
   "source": [
    "df['Opinion'] = pd.Categorical(df.Opinion)\n",
    "df['OpinionCodes'] = df[\"Opinion\"].cat.codes"
   ]
  },
  {
   "cell_type": "code",
   "execution_count": 11,
   "metadata": {},
   "outputs": [
    {
     "data": {
      "text/html": [
       "<div>\n",
       "<style scoped>\n",
       "    .dataframe tbody tr th:only-of-type {\n",
       "        vertical-align: middle;\n",
       "    }\n",
       "\n",
       "    .dataframe tbody tr th {\n",
       "        vertical-align: top;\n",
       "    }\n",
       "\n",
       "    .dataframe thead th {\n",
       "        text-align: right;\n",
       "    }\n",
       "</style>\n",
       "<table border=\"1\" class=\"dataframe\">\n",
       "  <thead>\n",
       "    <tr style=\"text-align: right;\">\n",
       "      <th></th>\n",
       "      <th>Short</th>\n",
       "      <th>Long</th>\n",
       "      <th>Class</th>\n",
       "      <th>Opinion</th>\n",
       "      <th>OpinionCodes</th>\n",
       "    </tr>\n",
       "  </thead>\n",
       "  <tbody>\n",
       "    <tr>\n",
       "      <th>0</th>\n",
       "      <td>“Very nice atmosphere”</td>\n",
       "      <td>We were together with some friends at the Anew...</td>\n",
       "      <td>family</td>\n",
       "      <td>POS</td>\n",
       "      <td>1</td>\n",
       "    </tr>\n",
       "    <tr>\n",
       "      <th>1</th>\n",
       "      <td>“Very nice food, great atmosphere, feels like ...</td>\n",
       "      <td>Martin and his staff are truely great! They ma...</td>\n",
       "      <td>family</td>\n",
       "      <td>POS</td>\n",
       "      <td>1</td>\n",
       "    </tr>\n",
       "  </tbody>\n",
       "</table>\n",
       "</div>"
      ],
      "text/plain": [
       "                                               Short  \\\n",
       "0                             “Very nice atmosphere”   \n",
       "1  “Very nice food, great atmosphere, feels like ...   \n",
       "\n",
       "                                                Long   Class Opinion  \\\n",
       "0  We were together with some friends at the Anew...  family     POS   \n",
       "1  Martin and his staff are truely great! They ma...  family     POS   \n",
       "\n",
       "   OpinionCodes  \n",
       "0             1  \n",
       "1             1  "
      ]
     },
     "execution_count": 11,
     "metadata": {},
     "output_type": "execute_result"
    }
   ],
   "source": [
    "df[df['OpinionCodes'] == 1].head(2)"
   ]
  },
  {
   "cell_type": "code",
   "execution_count": 12,
   "metadata": {},
   "outputs": [
    {
     "data": {
      "text/html": [
       "<div>\n",
       "<style scoped>\n",
       "    .dataframe tbody tr th:only-of-type {\n",
       "        vertical-align: middle;\n",
       "    }\n",
       "\n",
       "    .dataframe tbody tr th {\n",
       "        vertical-align: top;\n",
       "    }\n",
       "\n",
       "    .dataframe thead th {\n",
       "        text-align: right;\n",
       "    }\n",
       "</style>\n",
       "<table border=\"1\" class=\"dataframe\">\n",
       "  <thead>\n",
       "    <tr style=\"text-align: right;\">\n",
       "      <th></th>\n",
       "      <th>Short</th>\n",
       "      <th>Long</th>\n",
       "      <th>Class</th>\n",
       "      <th>Opinion</th>\n",
       "      <th>OpinionCodes</th>\n",
       "    </tr>\n",
       "  </thead>\n",
       "  <tbody>\n",
       "    <tr>\n",
       "      <th>15</th>\n",
       "      <td>“Good hotel but nothing special”</td>\n",
       "      <td>Nice suite! Spa was good except for the arroga...</td>\n",
       "      <td>couple</td>\n",
       "      <td>NEG</td>\n",
       "      <td>0</td>\n",
       "    </tr>\n",
       "    <tr>\n",
       "      <th>19</th>\n",
       "      <td>“Great Lindenhof!”</td>\n",
       "      <td>I have stayed at Lindenhof Hotel for five nigh...</td>\n",
       "      <td>family</td>\n",
       "      <td>NEG</td>\n",
       "      <td>0</td>\n",
       "    </tr>\n",
       "  </tbody>\n",
       "</table>\n",
       "</div>"
      ],
      "text/plain": [
       "                               Short  \\\n",
       "15  “Good hotel but nothing special”   \n",
       "19                “Great Lindenhof!”   \n",
       "\n",
       "                                                 Long   Class Opinion  \\\n",
       "15  Nice suite! Spa was good except for the arroga...  couple     NEG   \n",
       "19  I have stayed at Lindenhof Hotel for five nigh...  family     NEG   \n",
       "\n",
       "    OpinionCodes  \n",
       "15             0  \n",
       "19             0  "
      ]
     },
     "execution_count": 12,
     "metadata": {},
     "output_type": "execute_result"
    }
   ],
   "source": [
    "df[df['OpinionCodes'] == 0].head(2)"
   ]
  },
  {
   "cell_type": "code",
   "execution_count": 13,
   "metadata": {},
   "outputs": [],
   "source": [
    "df[\"Opinion\"] = df[\"Opinion\"].cat.codes\n",
    "df = df.drop(['Long', 'Class', 'OpinionCodes'], axis=1)"
   ]
  },
  {
   "cell_type": "code",
   "execution_count": 14,
   "metadata": {},
   "outputs": [
    {
     "data": {
      "text/html": [
       "<div>\n",
       "<style scoped>\n",
       "    .dataframe tbody tr th:only-of-type {\n",
       "        vertical-align: middle;\n",
       "    }\n",
       "\n",
       "    .dataframe tbody tr th {\n",
       "        vertical-align: top;\n",
       "    }\n",
       "\n",
       "    .dataframe thead th {\n",
       "        text-align: right;\n",
       "    }\n",
       "</style>\n",
       "<table border=\"1\" class=\"dataframe\">\n",
       "  <thead>\n",
       "    <tr style=\"text-align: right;\">\n",
       "      <th></th>\n",
       "      <th>Short</th>\n",
       "      <th>Opinion</th>\n",
       "    </tr>\n",
       "  </thead>\n",
       "  <tbody>\n",
       "    <tr>\n",
       "      <th>0</th>\n",
       "      <td>“Very nice atmosphere”</td>\n",
       "      <td>1</td>\n",
       "    </tr>\n",
       "    <tr>\n",
       "      <th>1</th>\n",
       "      <td>“Very nice food, great atmosphere, feels like ...</td>\n",
       "      <td>1</td>\n",
       "    </tr>\n",
       "    <tr>\n",
       "      <th>2</th>\n",
       "      <td>“Best Hotel on the Planet”</td>\n",
       "      <td>1</td>\n",
       "    </tr>\n",
       "    <tr>\n",
       "      <th>3</th>\n",
       "      <td>“What a vacation should be”</td>\n",
       "      <td>1</td>\n",
       "    </tr>\n",
       "    <tr>\n",
       "      <th>4</th>\n",
       "      <td>“Excellent stay”</td>\n",
       "      <td>1</td>\n",
       "    </tr>\n",
       "  </tbody>\n",
       "</table>\n",
       "</div>"
      ],
      "text/plain": [
       "                                               Short  Opinion\n",
       "0                             “Very nice atmosphere”        1\n",
       "1  “Very nice food, great atmosphere, feels like ...        1\n",
       "2                         “Best Hotel on the Planet”        1\n",
       "3                        “What a vacation should be”        1\n",
       "4                                   “Excellent stay”        1"
      ]
     },
     "execution_count": 14,
     "metadata": {},
     "output_type": "execute_result"
    }
   ],
   "source": [
    "df.head(5)"
   ]
  },
  {
   "cell_type": "code",
   "execution_count": 15,
   "metadata": {},
   "outputs": [],
   "source": [
    "df.to_csv('tripAdvisorPre.csv', index=False)"
   ]
  },
  {
   "cell_type": "markdown",
   "metadata": {},
   "source": [
    "En la tabla anterior podemos ver que solo nos quedamos con las dos columnas short y opinión del dataframe"
   ]
  },
  {
   "cell_type": "code",
   "execution_count": 16,
   "metadata": {},
   "outputs": [],
   "source": [
    "import numpy as np\n",
    "from transformers import BertModel\n",
    "from transformers import BertTokenizer\n",
    "from transformers import TFBertModel\n",
    "from transformers import AdamW, get_linear_schedule_with_warmup\n",
    "import transformers"
   ]
  },
  {
   "cell_type": "code",
   "execution_count": 17,
   "metadata": {},
   "outputs": [],
   "source": [
    "TEXT = data.Field(tokenize = 'spacy', include_lengths = True)\n",
    "LABEL = data.LabelField(dtype = torch.float)"
   ]
  },
  {
   "cell_type": "code",
   "execution_count": 18,
   "metadata": {},
   "outputs": [],
   "source": [
    "bert = transformers.BertModel.from_pretrained('bert-base-uncased')\n",
    "tokenizer = transformers.BertTokenizer.from_pretrained(\"bert-base-uncased\")"
   ]
  },
  {
   "cell_type": "code",
   "execution_count": 19,
   "metadata": {},
   "outputs": [],
   "source": [
    "def tokenize_and_cut(sentence):\n",
    "    maxlen = tokenizer.max_model_input_sizes['bert-base-uncased']\n",
    "    tokens = tokenizer.tokenize(sentence) \n",
    "    tokens = tokens[:maxlen-2]\n",
    "    return tokens\n",
    "\n",
    "\n",
    "TEXT = data.Field(batch_first = True,\n",
    "                  use_vocab = False,\n",
    "                  tokenize = tokenize_and_cut,\n",
    "                  preprocessing = tokenizer.convert_tokens_to_ids,\n",
    "                  init_token = tokenizer.cls_token_id,\n",
    "                  eos_token = tokenizer.sep_token_id,\n",
    "                  pad_token = tokenizer.pad_token_id,\n",
    "                  unk_token = tokenizer.unk_token_id)\n",
    "\n",
    "LABEL = data.LabelField(dtype = torch.float)"
   ]
  },
  {
   "cell_type": "code",
   "execution_count": 20,
   "metadata": {},
   "outputs": [],
   "source": [
    "fields = [('text', TEXT), ('label', LABEL)]\n",
    "\n",
    "train_data = data.TabularDataset(path = 'tripAdvisorPre.csv',\n",
    "                                        format = 'csv',\n",
    "                                        fields = fields,\n",
    "                                        skip_header = True)\n",
    "\n",
    "train_data, valid_data, test_data = train_data.split(split_ratio = [0.6, 0.2, 0.2], \n",
    "                                                     random_state = random.seed(1234))"
   ]
  },
  {
   "cell_type": "code",
   "execution_count": 21,
   "metadata": {},
   "outputs": [
    {
     "name": "stdout",
     "output_type": "stream",
     "text": [
      "{'text': [1523, 1037, 6919, 2173, 2000, 2994, 1524], 'label': '1'}\n"
     ]
    }
   ],
   "source": [
    "print(vars(train_data.examples[0]))"
   ]
  },
  {
   "cell_type": "code",
   "execution_count": 22,
   "metadata": {},
   "outputs": [
    {
     "data": {
      "text/plain": [
       "Counter({'1': 720, '0': 157})"
      ]
     },
     "execution_count": 22,
     "metadata": {},
     "output_type": "execute_result"
    }
   ],
   "source": [
    "LABEL.build_vocab(train_data)\n",
    "LABEL.vocab.freqs"
   ]
  },
  {
   "cell_type": "markdown",
   "metadata": {},
   "source": [
    "Definimos un `BucketIterator` para cada set de la siguiente manera:"
   ]
  },
  {
   "cell_type": "code",
   "execution_count": 23,
   "metadata": {},
   "outputs": [
    {
     "name": "stdout",
     "output_type": "stream",
     "text": [
      "cuda\n"
     ]
    }
   ],
   "source": [
    "BATCH_SIZE = 64\n",
    "\n",
    "device = torch.device('cuda' if torch.cuda.is_available() else 'cpu')\n",
    "print(device)\n",
    "train_iterator, valid_iterator, test_iterator = data.BucketIterator.splits(\n",
    "    (train_data, valid_data, test_data), \n",
    "    batch_size = BATCH_SIZE, \n",
    "    sort_key = lambda x: len(x.text),\n",
    "    sort_within_batch = False,\n",
    "    device = device)"
   ]
  },
  {
   "cell_type": "code",
   "execution_count": 24,
   "metadata": {},
   "outputs": [],
   "source": [
    "HIDDEN_DIM = 256\n",
    "OUTPUT_DIM = 1\n",
    "N_LAYERS = 2\n",
    "BIDIRECTIONAL = True\n",
    "DROPOUT = 0.25"
   ]
  },
  {
   "cell_type": "code",
   "execution_count": 25,
   "metadata": {},
   "outputs": [],
   "source": [
    "class BERT_classifier(nn.Module):\n",
    "    def __init__(self,bert,hidden_dim,output_dim,n_layers,bidirectional,dropout):\n",
    "        super().__init__()\n",
    "        self.bert = bert\n",
    "        embedding_dim = bert.config.to_dict()['hidden_size']\n",
    "        self.rnn = nn.GRU(embedding_dim,\n",
    "                          hidden_dim,\n",
    "                          num_layers = n_layers,\n",
    "                          bidirectional = bidirectional,\n",
    "                          batch_first = True,\n",
    "                          dropout = 0 if n_layers < 2 else dropout)\n",
    "        \n",
    "        self.out = nn.Linear(hidden_dim * 2 if bidirectional else hidden_dim, output_dim)\n",
    "        self.dropout = nn.Dropout(dropout)\n",
    "        \n",
    "    def forward(self, text):\n",
    "        with torch.no_grad(): # así congelamos los parámetros de BERT durante el entrenamiento\n",
    "            embedded = bert(text)[0]        \n",
    "        _, hidden = self.rnn(embedded)\n",
    "        if self.rnn.bidirectional:\n",
    "            hidden = self.dropout(torch.cat((hidden[-2,:,:], hidden[-1,:,:]), dim = 1))\n",
    "        else:\n",
    "            hidden = self.dropout(hidden[-1,:,:])         \n",
    "        output = self.out(hidden) \n",
    "        return output\n"
   ]
  },
  {
   "cell_type": "code",
   "execution_count": 26,
   "metadata": {},
   "outputs": [],
   "source": [
    "# construimos el modelo\n",
    "model = BERT_classifier(bert,HIDDEN_DIM,OUTPUT_DIM,N_LAYERS,BIDIRECTIONAL,DROPOUT)   "
   ]
  },
  {
   "cell_type": "code",
   "execution_count": 27,
   "metadata": {},
   "outputs": [
    {
     "name": "stdout",
     "output_type": "stream",
     "text": [
      "El modelo tiene 112,241,409 parámetros\n"
     ]
    }
   ],
   "source": [
    "#Número de parámetros\n",
    "def count_parameters(model):\n",
    "    return sum(p.numel() for p in model.parameters() if p.requires_grad)\n",
    "\n",
    "print(f'El modelo tiene {count_parameters(model):,} parámetros')"
   ]
  },
  {
   "cell_type": "markdown",
   "metadata": {},
   "source": [
    "Como vemos, son muchos paámetros, ya que incluyen todos los del modelo BERT. En este caso lo que haremos es marcar en el forward pass que la parte de bert no queremos que se entrene"
   ]
  },
  {
   "cell_type": "code",
   "execution_count": 28,
   "metadata": {},
   "outputs": [],
   "source": [
    "def epoch_time(start_time, end_time):\n",
    "    elapsed_time = end_time - start_time\n",
    "    elapsed_mins = int(elapsed_time / 60)\n",
    "    elapsed_secs = int(elapsed_time - (elapsed_mins * 60))\n",
    "    return elapsed_mins, elapsed_secs"
   ]
  },
  {
   "cell_type": "code",
   "execution_count": 29,
   "metadata": {},
   "outputs": [],
   "source": [
    "def binary_accuracy(preds, y):\n",
    "    rounded_preds = torch.round(torch.sigmoid(preds))\n",
    "    corrections = (rounded_preds == y).float()\n",
    "    acc = corrections.sum() / len(corrections)\n",
    "    return acc"
   ]
  },
  {
   "cell_type": "markdown",
   "metadata": {},
   "source": [
    "Se define las funciones train y evaluate, con el el campo text."
   ]
  },
  {
   "cell_type": "code",
   "execution_count": 30,
   "metadata": {},
   "outputs": [],
   "source": [
    "def train(model, iterator, optimizer, criterion):\n",
    "    epoch_loss = 0\n",
    "    epoch_acc = 0\n",
    "    model.train()\n",
    "    for batch in iterator:\n",
    "        optimizer.zero_grad()\n",
    "        predictions = model(batch.text).squeeze(1)\n",
    "        loss = criterion(predictions, batch.label)\n",
    "        acc = binary_accuracy(predictions, batch.label)\n",
    "        loss.backward()\n",
    "        optimizer.step()\n",
    "        epoch_loss += loss.item()\n",
    "        epoch_acc += acc.item()\n",
    "    return epoch_loss / len(iterator), epoch_acc / len(iterator)\n",
    "\n",
    "\n",
    "def evaluate(model, iterator, criterion):\n",
    "    epoch_loss = 0\n",
    "    epoch_acc = 0\n",
    "    model.eval()\n",
    "    with torch.no_grad():\n",
    "        for batch in iterator:\n",
    "            predictions = model(batch.text).squeeze(1)\n",
    "            loss = criterion(predictions, batch.label)\n",
    "            acc = binary_accuracy(predictions, batch.label)\n",
    "            epoch_loss += loss.item()\n",
    "            epoch_acc += acc.item()\n",
    "    return epoch_loss / len(iterator), epoch_acc / len(iterator)\n",
    "\n",
    "\n",
    "\n",
    "criterion = nn.BCEWithLogitsLoss()\n",
    "optimizer = optim.Adam(model.parameters())\n",
    "\n",
    "model = model.to(device)\n",
    "criterion = criterion.to(device)"
   ]
  },
  {
   "cell_type": "markdown",
   "metadata": {},
   "source": [
    "#### Entrenamiento del modelo"
   ]
  },
  {
   "cell_type": "code",
   "execution_count": 31,
   "metadata": {},
   "outputs": [
    {
     "name": "stdout",
     "output_type": "stream",
     "text": [
      "Epoch: 01 | Epoch Time: 0m 1s\n",
      "\tTrain Loss: 0.502 | Train Acc: 77.02%\n",
      "\t Val. Loss: 0.450 |  Val. Acc: 81.04%\n",
      "Epoch: 02 | Epoch Time: 0m 0s\n",
      "\tTrain Loss: 0.405 | Train Acc: 82.93%\n",
      "\t Val. Loss: 0.376 |  Val. Acc: 84.03%\n",
      "Epoch: 03 | Epoch Time: 0m 0s\n",
      "\tTrain Loss: 0.312 | Train Acc: 88.20%\n",
      "\t Val. Loss: 0.418 |  Val. Acc: 81.28%\n",
      "Epoch: 04 | Epoch Time: 0m 0s\n",
      "\tTrain Loss: 0.258 | Train Acc: 90.60%\n",
      "\t Val. Loss: 0.412 |  Val. Acc: 85.52%\n",
      "Epoch: 05 | Epoch Time: 0m 0s\n",
      "\tTrain Loss: 0.251 | Train Acc: 90.55%\n",
      "\t Val. Loss: 0.378 |  Val. Acc: 88.02%\n"
     ]
    }
   ],
   "source": [
    "N_EPOCHS = 5\n",
    "\n",
    "def train_model(model):\n",
    "    best_valid_loss = float('inf')\n",
    "    for epoch in range(N_EPOCHS):\n",
    "        start_time = time.time()\n",
    "        train_loss, train_acc = train(model, train_iterator, optimizer, criterion)\n",
    "        valid_loss, valid_acc = evaluate(model, valid_iterator, criterion)\n",
    "        end_time = time.time()\n",
    "        epoch_mins, epoch_secs = epoch_time(start_time, end_time)\n",
    "        if valid_loss < best_valid_loss:\n",
    "            best_valid_loss = valid_loss\n",
    "            torch.save(model.state_dict(), 'tut6-model.pt')\n",
    "        print(f'Epoch: {epoch+1:02} | Epoch Time: {epoch_mins}m {epoch_secs}s')\n",
    "        print(f'\\tTrain Loss: {train_loss:.3f} | Train Acc: {train_acc*100:.2f}%')\n",
    "        print(f'\\t Val. Loss: {valid_loss:.3f} |  Val. Acc: {valid_acc*100:.2f}%')\n",
    "\n",
    "train_model(model)"
   ]
  },
  {
   "cell_type": "code",
   "execution_count": 32,
   "metadata": {},
   "outputs": [],
   "source": [
    "#modificamos la función para que devuelva las predicciones\n",
    "def evaluate_last(model, iterator, criterion):\n",
    "    predictions_all = []\n",
    "    labels_all = []\n",
    "    \n",
    "    model.eval()  # deshabilita dropout y batch normalization\n",
    "    \n",
    "    with torch.no_grad(): # para no calcular los gradientes durante las computaciones\n",
    "    \n",
    "        for batch in iterator:\n",
    "            predictions = model(batch.text).squeeze(1) \n",
    "            predictions_all +=  torch.round(torch.sigmoid(predictions)).flatten().cpu().numpy().tolist()\n",
    "            labels_all += batch.label.flatten().cpu().numpy().tolist()\n",
    "        \n",
    "    return predictions_all, labels_all"
   ]
  },
  {
   "cell_type": "code",
   "execution_count": 33,
   "metadata": {},
   "outputs": [
    {
     "name": "stdout",
     "output_type": "stream",
     "text": [
      "\n",
      " Report:\n",
      "               precision    recall  f1-score   support\n",
      "\n",
      "         0.0       0.90      0.92      0.91       236\n",
      "         1.0       0.65      0.59      0.62        56\n",
      "\n",
      "    accuracy                           0.86       292\n",
      "   macro avg       0.78      0.76      0.77       292\n",
      "weighted avg       0.86      0.86      0.86       292\n",
      "\n"
     ]
    }
   ],
   "source": [
    "predictions, labels = evaluate_last(model, test_iterator, criterion)\n",
    "print(f'\\n Report:\\n {classification_report(labels, predictions, labels = [0.0,1.0])}')"
   ]
  },
  {
   "cell_type": "markdown",
   "metadata": {},
   "source": [
    "Se ha logrado obtener una F1 score de 86%, podemo ver que la mejor etiqueta que clasifca el modelo es NEGATIVA (POS = 1, NEG = 0) con un 90 de presición y la POS con un 65, en general los resultados del modelo son buenos.\n",
    "En este caso se ha obtado por conseguir una accuracy alta usando el modelo con los embbeddings de BERT con tres capas. BERT, GRU y una capa completamente conectada."
   ]
  },
  {
   "cell_type": "markdown",
   "metadata": {},
   "source": [
    "## Clasificación binaria de textos"
   ]
  },
  {
   "cell_type": "code",
   "execution_count": 34,
   "metadata": {},
   "outputs": [
    {
     "data": {
      "text/html": [
       "<div>\n",
       "<style scoped>\n",
       "    .dataframe tbody tr th:only-of-type {\n",
       "        vertical-align: middle;\n",
       "    }\n",
       "\n",
       "    .dataframe tbody tr th {\n",
       "        vertical-align: top;\n",
       "    }\n",
       "\n",
       "    .dataframe thead th {\n",
       "        text-align: right;\n",
       "    }\n",
       "</style>\n",
       "<table border=\"1\" class=\"dataframe\">\n",
       "  <thead>\n",
       "    <tr style=\"text-align: right;\">\n",
       "      <th></th>\n",
       "      <th>Id</th>\n",
       "      <th>Headline</th>\n",
       "      <th>Tag</th>\n",
       "    </tr>\n",
       "  </thead>\n",
       "  <tbody>\n",
       "    <tr>\n",
       "      <th>0</th>\n",
       "      <td>5a974697410cf7000162e8a4</td>\n",
       "      <td>Virtual Coins, Real Resources</td>\n",
       "      <td>NONTOP</td>\n",
       "    </tr>\n",
       "    <tr>\n",
       "      <th>1</th>\n",
       "      <td>5a974be7410cf7000162e8af</td>\n",
       "      <td>U.S. Advances Military Plans for North Korea</td>\n",
       "      <td>NONTOP</td>\n",
       "    </tr>\n",
       "    <tr>\n",
       "      <th>2</th>\n",
       "      <td>5a9752a2410cf7000162e8ba</td>\n",
       "      <td>Mr. Trump and the ‘Very Bad Judge’</td>\n",
       "      <td>TOP</td>\n",
       "    </tr>\n",
       "    <tr>\n",
       "      <th>3</th>\n",
       "      <td>5a975310410cf7000162e8bd</td>\n",
       "      <td>To Erase Dissent, China Bans Pooh Bear and ‘N’</td>\n",
       "      <td>NONTOP</td>\n",
       "    </tr>\n",
       "    <tr>\n",
       "      <th>4</th>\n",
       "      <td>5a975406410cf7000162e8c3</td>\n",
       "      <td>Loans Flowed to Kushner Cos. After Visits to t...</td>\n",
       "      <td>TOP</td>\n",
       "    </tr>\n",
       "  </tbody>\n",
       "</table>\n",
       "</div>"
      ],
      "text/plain": [
       "                         Id  \\\n",
       "0  5a974697410cf7000162e8a4   \n",
       "1  5a974be7410cf7000162e8af   \n",
       "2  5a9752a2410cf7000162e8ba   \n",
       "3  5a975310410cf7000162e8bd   \n",
       "4  5a975406410cf7000162e8c3   \n",
       "\n",
       "                                            Headline     Tag  \n",
       "0                      Virtual Coins, Real Resources  NONTOP  \n",
       "1       U.S. Advances Military Plans for North Korea  NONTOP  \n",
       "2                 Mr. Trump and the ‘Very Bad Judge’     TOP  \n",
       "3     To Erase Dissent, China Bans Pooh Bear and ‘N’  NONTOP  \n",
       "4  Loans Flowed to Kushner Cos. After Visits to t...     TOP  "
      ]
     },
     "execution_count": 34,
     "metadata": {},
     "output_type": "execute_result"
    }
   ],
   "source": [
    "# cargamos los paths\n",
    "comments_file = os.path.join(datosp3_dir, \"NYT-Comment-Headlines.csv\")\n",
    "df = pd.read_csv(comments_file)\n",
    "df.head()"
   ]
  },
  {
   "cell_type": "code",
   "execution_count": 35,
   "metadata": {},
   "outputs": [
    {
     "data": {
      "text/plain": [
       "array(['NONTOP', 'TOP'], dtype=object)"
      ]
     },
     "execution_count": 35,
     "metadata": {},
     "output_type": "execute_result"
    }
   ],
   "source": [
    "df.Tag.unique()"
   ]
  },
  {
   "cell_type": "code",
   "execution_count": 36,
   "metadata": {},
   "outputs": [],
   "source": [
    "df['Tag'] = pd.Categorical(df.Tag)\n",
    "df['Tag'] = df[\"Tag\"].cat.codes"
   ]
  },
  {
   "cell_type": "code",
   "execution_count": 37,
   "metadata": {},
   "outputs": [
    {
     "data": {
      "text/html": [
       "<div>\n",
       "<style scoped>\n",
       "    .dataframe tbody tr th:only-of-type {\n",
       "        vertical-align: middle;\n",
       "    }\n",
       "\n",
       "    .dataframe tbody tr th {\n",
       "        vertical-align: top;\n",
       "    }\n",
       "\n",
       "    .dataframe thead th {\n",
       "        text-align: right;\n",
       "    }\n",
       "</style>\n",
       "<table border=\"1\" class=\"dataframe\">\n",
       "  <thead>\n",
       "    <tr style=\"text-align: right;\">\n",
       "      <th></th>\n",
       "      <th>Headline</th>\n",
       "      <th>Tag</th>\n",
       "    </tr>\n",
       "  </thead>\n",
       "  <tbody>\n",
       "    <tr>\n",
       "      <th>0</th>\n",
       "      <td>Virtual Coins, Real Resources</td>\n",
       "      <td>0</td>\n",
       "    </tr>\n",
       "    <tr>\n",
       "      <th>1</th>\n",
       "      <td>U.S. Advances Military Plans for North Korea</td>\n",
       "      <td>0</td>\n",
       "    </tr>\n",
       "    <tr>\n",
       "      <th>2</th>\n",
       "      <td>Mr. Trump and the ‘Very Bad Judge’</td>\n",
       "      <td>1</td>\n",
       "    </tr>\n",
       "    <tr>\n",
       "      <th>3</th>\n",
       "      <td>To Erase Dissent, China Bans Pooh Bear and ‘N’</td>\n",
       "      <td>0</td>\n",
       "    </tr>\n",
       "    <tr>\n",
       "      <th>4</th>\n",
       "      <td>Loans Flowed to Kushner Cos. After Visits to t...</td>\n",
       "      <td>1</td>\n",
       "    </tr>\n",
       "  </tbody>\n",
       "</table>\n",
       "</div>"
      ],
      "text/plain": [
       "                                            Headline  Tag\n",
       "0                      Virtual Coins, Real Resources    0\n",
       "1       U.S. Advances Military Plans for North Korea    0\n",
       "2                 Mr. Trump and the ‘Very Bad Judge’    1\n",
       "3     To Erase Dissent, China Bans Pooh Bear and ‘N’    0\n",
       "4  Loans Flowed to Kushner Cos. After Visits to t...    1"
      ]
     },
     "execution_count": 37,
     "metadata": {},
     "output_type": "execute_result"
    }
   ],
   "source": [
    "df = df.drop(['Id'], axis=1)\n",
    "df.head()"
   ]
  },
  {
   "cell_type": "code",
   "execution_count": 38,
   "metadata": {},
   "outputs": [],
   "source": [
    "df.to_csv('comments_filePre.csv', index=False)"
   ]
  },
  {
   "cell_type": "code",
   "execution_count": 39,
   "metadata": {},
   "outputs": [],
   "source": [
    "TEXT = data.Field(batch_first = True,\n",
    "                  use_vocab = False,\n",
    "                  tokenize = tokenize_and_cut,\n",
    "                  preprocessing = tokenizer.convert_tokens_to_ids,\n",
    "                  init_token = tokenizer.cls_token_id,\n",
    "                  eos_token = tokenizer.sep_token_id,\n",
    "                  pad_token = tokenizer.pad_token_id,\n",
    "                  unk_token = tokenizer.unk_token_id)\n",
    "\n",
    "LABEL = data.LabelField(dtype = torch.float)"
   ]
  },
  {
   "cell_type": "code",
   "execution_count": 40,
   "metadata": {},
   "outputs": [
    {
     "data": {
      "text/plain": [
       "Counter({'0': 583, '1': 248})"
      ]
     },
     "execution_count": 40,
     "metadata": {},
     "output_type": "execute_result"
    }
   ],
   "source": [
    "fields = [('text', TEXT), ('label', LABEL)]\n",
    "\n",
    "train_data = data.TabularDataset(path = 'comments_filePre.csv',\n",
    "                                        format = 'csv',\n",
    "                                        fields = fields,\n",
    "                                        skip_header = True)\n",
    "\n",
    "train_data, valid_data, test_data = train_data.split(split_ratio = [0.6, 0.2, 0.2], \n",
    "                                                     random_state = random.seed(1234))\n",
    "\n",
    "LABEL.build_vocab(train_data)\n",
    "LABEL.vocab.freqs"
   ]
  },
  {
   "cell_type": "code",
   "execution_count": 41,
   "metadata": {},
   "outputs": [],
   "source": [
    "BATCH_SIZE = 64\n",
    "\n",
    "device = torch.device('cuda' if torch.cuda.is_available() else 'cpu')\n",
    "\n",
    "train_iterator, valid_iterator, test_iterator = data.BucketIterator.splits(\n",
    "    (train_data, valid_data, test_data), \n",
    "    batch_size = BATCH_SIZE, \n",
    "    sort_key = lambda x: len(x.text),\n",
    "    sort_within_batch = False,\n",
    "    device = device)"
   ]
  },
  {
   "cell_type": "code",
   "execution_count": 42,
   "metadata": {},
   "outputs": [
    {
     "name": "stdout",
     "output_type": "stream",
     "text": [
      "Epoch: 01 | Epoch Time: 0m 0s\n",
      "\tTrain Loss: 0.691 | Train Acc: 53.92%\n",
      "\t Val. Loss: 0.715 |  Val. Acc: 36.65%\n",
      "Epoch: 02 | Epoch Time: 0m 0s\n",
      "\tTrain Loss: 0.692 | Train Acc: 52.82%\n",
      "\t Val. Loss: 0.715 |  Val. Acc: 36.65%\n",
      "Epoch: 03 | Epoch Time: 0m 0s\n",
      "\tTrain Loss: 0.689 | Train Acc: 54.63%\n",
      "\t Val. Loss: 0.715 |  Val. Acc: 36.65%\n",
      "Epoch: 04 | Epoch Time: 0m 0s\n",
      "\tTrain Loss: 0.689 | Train Acc: 54.04%\n",
      "\t Val. Loss: 0.715 |  Val. Acc: 36.65%\n",
      "Epoch: 05 | Epoch Time: 0m 0s\n",
      "\tTrain Loss: 0.691 | Train Acc: 54.04%\n",
      "\t Val. Loss: 0.715 |  Val. Acc: 36.65%\n"
     ]
    }
   ],
   "source": [
    "model2 = BERT_classifier(bert,HIDDEN_DIM,OUTPUT_DIM,N_LAYERS,BIDIRECTIONAL,DROPOUT)   \n",
    "\n",
    "criterion = nn.BCEWithLogitsLoss()\n",
    "optimizer = optim.Adam(model.parameters())\n",
    "\n",
    "model2 = model2.to(device)\n",
    "criterion = criterion.to(device)\n",
    "\n",
    "train_model(model2)"
   ]
  },
  {
   "cell_type": "code",
   "execution_count": 43,
   "metadata": {},
   "outputs": [
    {
     "name": "stdout",
     "output_type": "stream",
     "text": [
      "\n",
      " Report:\n",
      "               precision    recall  f1-score   support\n",
      "\n",
      "         0.0       0.75      0.06      0.11       193\n",
      "         1.0       0.31      0.95      0.46        84\n",
      "\n",
      "    accuracy                           0.33       277\n",
      "   macro avg       0.53      0.51      0.29       277\n",
      "weighted avg       0.62      0.33      0.22       277\n",
      "\n"
     ]
    }
   ],
   "source": [
    "predictions2, labels = evaluate_last(model2, test_iterator, criterion)\n",
    "print(f'\\n Report:\\n {classification_report(labels, predictions2, labels = [0.0,1.0])}')"
   ]
  },
  {
   "cell_type": "markdown",
   "metadata": {},
   "source": [
    "La accuracy del actual modelo supera el 50% y clasifica mejor los non top que los top con casi un 75% de precisión  contra un 31% de los titulares top."
   ]
  },
  {
   "cell_type": "markdown",
   "metadata": {},
   "source": [
    "# 4. Análisis de sentimientos por aspectos"
   ]
  },
  {
   "cell_type": "markdown",
   "metadata": {},
   "source": [
    "Primero cargamos los datos a analizar."
   ]
  },
  {
   "cell_type": "code",
   "execution_count": null,
   "metadata": {},
   "outputs": [],
   "source": [
    "import pandas as pd\n",
    "\n",
    "tripadvisor_data = pd.read_csv('tripadvisor_data.csv')"
   ]
  },
  {
   "cell_type": "markdown",
   "metadata": {},
   "source": [
    "A continuación cargamos un modelo de análisis de sentimientos por aspectos de Targeted AbSA.\n",
    "La etiqueta 0 corresponde a negativo, 1, a neutro y 2, a positivo."
   ]
  },
  {
   "cell_type": "code",
   "execution_count": null,
   "metadata": {},
   "outputs": [],
   "source": [
    "from transformers import BertModel\n",
    "import torch\n",
    "import torch.nn as nn\n",
    "\n",
    "BERT_DIM = 768\n",
    "DROPOUT = 0.1\n",
    "POLARITIES_DIM = 3\n",
    "\n",
    "bert = BertModel.from_pretrained('bert-base-uncased')\n",
    "\n",
    "\n",
    "class BERT_absa(nn.Module):\n",
    "    def __init__(self, bert, dropout, bert_dim, polarities_dim):\n",
    "        super(BERT_absa, self).__init__()\n",
    "        self.bert = bert\n",
    "        self.dropout = nn.Dropout(dropout)\n",
    "        self.dense = nn.Linear(bert_dim, polarities_dim)\n",
    "\n",
    "    def forward(self, inputs):\n",
    "        text_bert_indices, bert_segments_ids = inputs[0], inputs[1]\n",
    "        _, pooled_output = self.bert(text_bert_indices, bert_segments_ids)\n",
    "        pooled_output = self.dropout(pooled_output)\n",
    "        logits = self.dense(pooled_output)\n",
    "        return logits\n",
    "    \n",
    "model = BERT_absa(bert, DROPOUT, BERT_DIM, POLARITIES_DIM)\n",
    "\n",
    "\n",
    "model.load_state_dict(torch.load('bert_absa'))\n",
    "model.eval()"
   ]
  }
 ],
 "metadata": {
  "kernelspec": {
   "display_name": "Python 3",
   "language": "python",
   "name": "python3"
  },
  "language_info": {
   "codemirror_mode": {
    "name": "ipython",
    "version": 3
   },
   "file_extension": ".py",
   "mimetype": "text/x-python",
   "name": "python",
   "nbconvert_exporter": "python",
   "pygments_lexer": "ipython3",
   "version": "3.8.8"
  }
 },
 "nbformat": 4,
 "nbformat_minor": 2
}
